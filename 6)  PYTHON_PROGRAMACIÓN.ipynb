{
 "cells": [
  {
   "cell_type": "markdown",
   "metadata": {},
   "source": [
    "# <center><span style=color:red>ELEMENTOS DEL PROGRAMA</span></center>\n",
    "\n",
    "En IPython Notebook no es necesario separar cada línea de codigo por ningún signo de puntuación, por ejemplo con un **;** como  en JavaScript. Sin embargo,sí es muy importante respetar el **sangrado** (identado) que el propio lenguaje incluye en la sintaxis de las funciones.Esta característica propia de Python facilita la legibilidad y limpieza del código, por lo que puede ser una ayuda para los estudiantes.\n",
    "\n",
    "Sintaxis y ejercicios en español: http://www.mclibre.org/consultar/python\n",
    "\n",
    "Sintaxis con turtle(español): https://opentechschool.github.io/python-beginners/es_CL/index.html\n",
    "\n",
    "Ejercicios (inglés): http://www.practicepython.org/"
   ]
  },
  {
   "cell_type": "markdown",
   "metadata": {},
   "source": [
    "### 1) LAS VARIABLES\n",
    "\n",
    "Teoría y práctica con edición online (inglés): https://www.tutorialspoint.com/python/python_variable_types.htm\n",
    "\n",
    "Teoría y edición online (inglés): http://interactivepython.org/runestone/static/pythonds/Introduction/GettingStartedwithData.html\n",
    "\n",
    "Python es  un  lenguaje  **dinámicamente  tipado**,  lo  que  significa  que  las variables  pueden  cambiar  de  tipo  en  distintos momentos  sin  necesidad  de ser previamente **declaradas**. Las variables  son identificadas con un  nombre, que  debe  obligatoriamente comenzar  por  una  letra  y en el que  se hace  la distinción entre mayúsculas y minúsculas,  y son definidas mediante el operador de asignación  **=**. Algunas palabras no pueden usarse  porque están reservadas como instrucciones del propio código fuente.\n",
    "Específicamente, el  primer carácter de  un  identificador ha  de  ser  cualquier carácter considerado como  letra en **Unicode**. También es posible  usar  el guión  bajo  (o underscore)  **_**  y para **identificar** variables siempre se usan letras en minúsculas. \n",
    "\n",
    "```python\n",
    "a = 2   # define un entero\n",
    "b = 5.  # define un número real\n",
    "c = 3+1j   # define un número complejo\n",
    "d = complex(3,2)  # define un número complejo\n",
    "# Nótese también que la asignación  de una  variable no produce  ninguna  salida. Para hacerlo usaremos print()\n",
    "print(type(a), type(b), type(c))\n",
    "\n",
    "```\n",
    "### 2) TIPOS DE DATOS\n",
    "\n",
    "http://www.pythondiario.com/2014/12/tipos-de-datos-en-python.html"
   ]
  },
  {
   "cell_type": "code",
   "execution_count": 1,
   "metadata": {},
   "outputs": [
    {
     "name": "stdout",
     "output_type": "stream",
     "text": [
      "HOLA MUNDO\n"
     ]
    }
   ],
   "source": [
    "x=\"HOLA MUNDO\"\n",
    "print (x)"
   ]
  },
  {
   "cell_type": "code",
   "execution_count": 2,
   "metadata": {},
   "outputs": [
    {
     "data": {
      "text/plain": [
       "\"'HOLA MUNDO'\""
      ]
     },
     "execution_count": 2,
     "metadata": {},
     "output_type": "execute_result"
    }
   ],
   "source": [
    "repr(x)    # otra forma de representar, en vez de  con print"
   ]
  },
  {
   "cell_type": "code",
   "execution_count": 3,
   "metadata": {},
   "outputs": [
    {
     "data": {
      "text/plain": [
       "'HOLA MUNDO'"
      ]
     },
     "execution_count": 3,
     "metadata": {},
     "output_type": "execute_result"
    }
   ],
   "source": [
    "str(x)"
   ]
  },
  {
   "cell_type": "markdown",
   "metadata": {},
   "source": [
    "### 3) NÚMEROS Y SUS OPERADORES\n",
    "https://www.tutorialspoint.com/python/python_basic_operators.htm\n",
    "http://www.mclibre.org/consultar/python/lecciones/python-operaciones-matematicas.html\n",
    "\n",
    "Los operadores aritméticos habituales en Python son: **+ (suma),  - (resta), *\n",
    "(multiplicación), / (división),  ** (potenciación)**, que también se puede realizar con la función **pow(), // (división entera)**, que da la parte  entera  de la división entre dos números,  y el operador   **% (módulo)**,  que proporciona  el resto  de la división entre  dos números.\n",
    "```python\n",
    "a = 5\n",
    "b = 3\n",
    "print(a//b)\n",
    "1\n",
    "c = 5. \n",
    "d = 3.\n",
    "print(c//d)\n",
    "1.0\n",
    "# como número  real.  Esto  se debe a que el resultado se expresa en el mismo tipo que los datos con los que se opera\n",
    "print(c % d)\n",
    "print(int(a) % int(b))\n",
    "2.0\n",
    "2\n",
    "# Nótese el uso de la función de conversión a entero  int.\n",
    "```\n",
    "\n",
    "Finalmente, cuando  Python opera con números  de distinto tipo, realiza la operación transformando todos los números involucrados  al mismo tipo, según una jerarquía de tipos que va de enteros  a reales y luego a complejos\n",
    "```python\n",
    "a = 3.\n",
    "b = 2+3j\n",
    "c = a+b # suma de real y complejo\n",
    "print(c)\n",
    "print(type(c))\n",
    "(5+3j)\n",
    "# Existen  también operadores  aumentados   de  asignación  cuyo  significado permite  abreviar  expresiones \n",
    "a = a + b\n",
    "a += b\n",
    "```"
   ]
  },
  {
   "cell_type": "markdown",
   "metadata": {},
   "source": [
    "### 4) BOOLEANOS Y OPERADORES\n",
    "\n",
    "En Python disponemos de las **variables booleanas True y False** y la función bool que convierte un valor a booleano, siempre y cuando tenga sentido tal conversión. En Python, al igual que en C, cualquier número distinto de 0 es verdadero, mientras que 0, 0.0 y 0j son falsos. Además, la variable None y las listas, cadenas, diccionarios, conjuntos o tuplas vacías son falsas; el resto son verdaderas.\n",
    "```python\n",
    "a = []\n",
    "b = 1,\n",
    "c = 'a'\n",
    "print(bool(a))\n",
    "print(bool(b))\n",
    "print(bool(c))\n",
    "False\n",
    "True\n",
    "True\n",
    "```\n",
    "Por otro lado, hay que tener en cuenta que la clase bool es una subclase de los números enteros, lo que explica el siguiente comortamiento:\n",
    "```python\n",
    "a = True\n",
    "a + a\n",
    "2\n",
    "```\n",
    "Los **operadores de comparación** en Python son ***== (igual), != (distinto), >(mayor que), >= (mayor o igual que), < (menor que) y <= (menor o igual que)** ,y los **operadores lógicos** son **and, or y not**, que pueden ser aplicados a datos que no sean expresiones booleanas. Por ejemplo:\n",
    "```python\n",
    "a = 5\n",
    "b = 'y'\n",
    "print(a and b)\n",
    "print(b and a)\n",
    "print(a or b)\n",
    "y\n",
    "5\n",
    "5\n",
    "```"
   ]
  },
  {
   "cell_type": "markdown",
   "metadata": {},
   "source": [
    "### 5) LAS CADENAS (STRINGS)\n",
    "https://docs.python.org/3/tutorial/introduction.html\n",
    "\n",
    "```python\n",
    "a = \"Hola\"\n",
    "b = 'mundo'\n",
    "print(a)\n",
    "print(b)\n",
    "print(type(a))\n",
    "Hola\n",
    "mundo\n",
    "<class 'str'>\n",
    "a = \"Esto es una 'string'\"\n",
    "print(a)\n",
    "Esto es una ´string´\n",
    "# Si  queremos  construir cadenas  con  más  de  una  línea  usamos  la  triple comilla \"\"\":\n",
    "a = \"\"\"Esto es un cadena \n",
    "muy larga que tiene \n",
    "muchas líneas\"\"\"\n",
    "print(a)\n",
    "Esto es un   cadena\n",
    "muy  larga  que tiene \n",
    "muchas  líneas\n",
    "```"
   ]
  },
  {
   "cell_type": "code",
   "execution_count": 4,
   "metadata": {},
   "outputs": [
    {
     "name": "stdout",
     "output_type": "stream",
     "text": [
      "hola\n",
      " mundo\n"
     ]
    }
   ],
   "source": [
    "print (\"hola\\n mundo\")"
   ]
  },
  {
   "cell_type": "code",
   "execution_count": 5,
   "metadata": {},
   "outputs": [
    {
     "name": "stdout",
     "output_type": "stream",
     "text": [
      "hola\b mundo\n"
     ]
    }
   ],
   "source": [
    "print (\"hola\\b mundo\")"
   ]
  },
  {
   "cell_type": "code",
   "execution_count": 6,
   "metadata": {},
   "outputs": [
    {
     "name": "stdout",
     "output_type": "stream",
     "text": [
      "hola\t mundo\n"
     ]
    }
   ],
   "source": [
    "print (\"hola\\t mundo\")"
   ]
  },
  {
   "cell_type": "code",
   "execution_count": 9,
   "metadata": {},
   "outputs": [
    {
     "name": "stdout",
     "output_type": "stream",
     "text": [
      "hola\r",
      " mundo\n"
     ]
    }
   ],
   "source": [
    "print (\"hola\\r mundo\")"
   ]
  },
  {
   "cell_type": "code",
   "execution_count": 11,
   "metadata": {},
   "outputs": [
    {
     "name": "stdout",
     "output_type": "stream",
     "text": [
      "hola\\n mundo\n"
     ]
    }
   ],
   "source": [
    "print (r\"hola\\n mundo\")  # precediendo con r  de raw la cadena se obvian las sencuencias de escape de cadenas"
   ]
  },
  {
   "cell_type": "code",
   "execution_count": 12,
   "metadata": {},
   "outputs": [
    {
     "data": {
      "text/plain": [
       "'ababab'"
      ]
     },
     "execution_count": 12,
     "metadata": {},
     "output_type": "execute_result"
    }
   ],
   "source": [
    "(\"a\"+\"b\")*3  #las cadenas se pueden concatenar (+), repetir (*), y contar con len()"
   ]
  },
  {
   "cell_type": "code",
   "execution_count": 13,
   "metadata": {},
   "outputs": [
    {
     "data": {
      "text/plain": [
       "6"
      ]
     },
     "execution_count": 13,
     "metadata": {},
     "output_type": "execute_result"
    }
   ],
   "source": [
    "len(_12)"
   ]
  },
  {
   "cell_type": "code",
   "execution_count": 32,
   "metadata": {},
   "outputs": [
    {
     "data": {
      "text/plain": [
       "' ESTO ES UNA CADENA'"
      ]
     },
     "execution_count": 32,
     "metadata": {},
     "output_type": "execute_result"
    }
   ],
   "source": [
    "a=\" esto es una cadena\"\n",
    "a.upper()  # trabajamos la cadena  como un  objeto con sus métodos asociados (en este caso conversión a mayúsculas)"
   ]
  },
  {
   "cell_type": "code",
   "execution_count": 39,
   "metadata": {},
   "outputs": [
    {
     "data": {
      "text/plain": [
       "'           esto es una cadena           '"
      ]
     },
     "execution_count": 39,
     "metadata": {},
     "output_type": "execute_result"
    }
   ],
   "source": [
    "a=\" esto es una cadena\"\n",
    "a.center(40)  # devuelve la cadena centrada y con una determinada longitud"
   ]
  },
  {
   "cell_type": "code",
   "execution_count": 51,
   "metadata": {},
   "outputs": [
    {
     "data": {
      "text/plain": [
       "False"
      ]
     },
     "execution_count": 51,
     "metadata": {},
     "output_type": "execute_result"
    }
   ],
   "source": [
    "a= \"hola mundo\"\n",
    "a.isalnum() # devuelve cierto si la cadena sólo tiene letras y dígitos"
   ]
  },
  {
   "cell_type": "code",
   "execution_count": 53,
   "metadata": {},
   "outputs": [
    {
     "data": {
      "text/plain": [
       "False"
      ]
     },
     "execution_count": 53,
     "metadata": {},
     "output_type": "execute_result"
    }
   ],
   "source": [
    "a.isalpha() # devuelve cierto si la cadena sólo tiene letras y dígitos (ojo, el  espacio  no se considera letra)"
   ]
  },
  {
   "cell_type": "code",
   "execution_count": 45,
   "metadata": {},
   "outputs": [
    {
     "data": {
      "text/plain": [
       "False"
      ]
     },
     "execution_count": 45,
     "metadata": {},
     "output_type": "execute_result"
    }
   ],
   "source": [
    "a.isdigit() # devuelve cierto si la cadena sólo tiene letras y dígitos"
   ]
  },
  {
   "cell_type": "code",
   "execution_count": 46,
   "metadata": {},
   "outputs": [
    {
     "data": {
      "text/plain": [
       "True"
      ]
     },
     "execution_count": 46,
     "metadata": {},
     "output_type": "execute_result"
    }
   ],
   "source": [
    "a.islower() # devuelve cierto si la cadena sólo contiene minúsculas"
   ]
  },
  {
   "cell_type": "code",
   "execution_count": 56,
   "metadata": {},
   "outputs": [
    {
     "data": {
      "text/plain": [
       "'holo mundo'"
      ]
     },
     "execution_count": 56,
     "metadata": {},
     "output_type": "execute_result"
    }
   ],
   "source": [
    "a=\"hola mundo\"\n",
    "a.replace(\"a\",\"o\")"
   ]
  },
  {
   "cell_type": "code",
   "execution_count": 63,
   "metadata": {},
   "outputs": [
    {
     "data": {
      "text/plain": [
       "['hola', 'mundo']"
      ]
     },
     "execution_count": 63,
     "metadata": {},
     "output_type": "execute_result"
    }
   ],
   "source": [
    "a.split() # devuelve una lista con las palabras que contiene la cadena"
   ]
  },
  {
   "cell_type": "markdown",
   "metadata": {},
   "source": [
    "Un operador muy utilizado con las cadenas para dar distintos formatos en la impresión es `%`. Van en una secuencia doble,  la primera vez indica el formato  de impresión y la segunda el valor de la variable con la que se trabaja su representación."
   ]
  },
  {
   "cell_type": "code",
   "execution_count": 15,
   "metadata": {},
   "outputs": [
    {
     "data": {
      "text/plain": [
       "'El resultado es 10'"
      ]
     },
     "execution_count": 15,
     "metadata": {},
     "output_type": "execute_result"
    }
   ],
   "source": [
    "a=10\n",
    "\"El resultado es %d\" %a      # representamos el contenido de `a`en formato  decimal"
   ]
  },
  {
   "cell_type": "code",
   "execution_count": 16,
   "metadata": {},
   "outputs": [
    {
     "data": {
      "text/plain": [
       "'3-6'"
      ]
     },
     "execution_count": 16,
     "metadata": {},
     "output_type": "execute_result"
    }
   ],
   "source": [
    "\"%d-%d\" %(3,6)  "
   ]
  },
  {
   "cell_type": "code",
   "execution_count": 17,
   "metadata": {},
   "outputs": [
    {
     "data": {
      "text/plain": [
       "'123 en hexadecimal es 7b'"
      ]
     },
     "execution_count": 17,
     "metadata": {},
     "output_type": "execute_result"
    }
   ],
   "source": [
    "\"%d en hexadecimal es %x\" %(123,123)"
   ]
  },
  {
   "cell_type": "code",
   "execution_count": 30,
   "metadata": {},
   "outputs": [
    {
     "data": {
      "text/plain": [
       "'3.400000'"
      ]
     },
     "execution_count": 30,
     "metadata": {},
     "output_type": "execute_result"
    }
   ],
   "source": [
    "\"%f\" %3.4  #una cadena en el que vamos  a representar el varlor  de una varible en formato flotante"
   ]
  },
  {
   "cell_type": "code",
   "execution_count": 31,
   "metadata": {},
   "outputs": [
    {
     "data": {
      "text/plain": [
       "'3.400000e+00'"
      ]
     },
     "execution_count": 31,
     "metadata": {},
     "output_type": "execute_result"
    }
   ],
   "source": [
    "\"%e\" %3.4  #una cadena en el que vamos  a representar el varlor  de una varible en formato flotante"
   ]
  },
  {
   "cell_type": "code",
   "execution_count": null,
   "metadata": {},
   "outputs": [],
   "source": []
  },
  {
   "cell_type": "markdown",
   "metadata": {},
   "source": [
    "### 6) LAS LISTAS\n",
    "https://docs.python.org/3/tutorial/introduction.html\n",
    "\n",
    "Las listas son colecciones de datos  de cualquier  tipo que están  indexadas. Nótese que no es lo mismo una lista de un elemento  que el elemento sólo.\n",
    "\n",
    "```a = [ 1, 2., 3+1j, [3,0] ]\n",
    "type(a)```\n",
    "\n",
    "Como podemos ver, hemos definido una lista encerrando sus elementos (de  tipos diversos) entre  corchetes  y separándolos por comas. Podemos  acceder a cada uno de los elementos de la lista escribiendo el nombre de la lista y el índice del elemento entre  corchetes,  teniendo  en cuenta  que el primer  elemento tiene índice 0 y por tanto el segundo corresponde  al índice 1\n",
    "\n",
    "```\n",
    "print(a[1])\n",
    "1\n",
    "print(a[4])\n",
    "error fuera de rango```\n",
    "\n",
    "Las listas son objetos, así que pueden invocar métodos sobre ellas. Podemos  consultar los métodos a los que tenemos acceso en una lista usando la función de autocompletado. \n",
    "\n",
    "En particular, si todos los elementos de una lista son comparables, podemos ordenarlas usando la función sorted o el método sort:\n",
    "\n",
    "```x = [1, 2, -3, 5, -1, 6, 1, 3, -4]\n",
    "x.sort()\n",
    "print(x)\n",
    "[4, 3, 1, 1, 1, 2, 3, 5, 6]\n",
    "x = list('AbraCadaBra ')\n",
    "sorted(x)\n",
    "['A', 'B', 'C', 'a', 'a', 'a', 'a', 'b', 'd', 'r', 'r']\n",
    "```\n",
    "\n",
    "Nótese que la función crea una nueva lista mientras que el método la modifica. Tanto la función como el método admiten un parémetro opcional `key` que debe ser una función, y que es llamada para cada uno de los elementos de la lista, realizándose la ordenación sobre la transformación de dicha lista. Por ejemplo,podemos usar la función abs (valor absoluto):\n",
    "\n",
    "`x = [1, 2, -3, 5, -1, 6, 1, 3, -4]\n",
    "x.sort(key=abs)\n",
    "print(x)\n",
    "[1, 1, 1, 2, 3, 3, 4, 5, 6]\n",
    "También se puede ordenar en sentido inverso con el parámetro reverse.\n",
    "x = list('AbraCadaBra ')\n",
    "sorted(x,key=str.lower ,reverse=True)\n",
    "['r', 'r', 'd', 'C', 'b', 'B', 'A', 'a', 'a', 'a', 'a']\n",
    "`\n",
    "\n",
    "Aquí usamos el método `lower` que actúa sobre cadenas, escribiéndolas en minúsculas.Pasamos el argumento `str.lower` al parámetro `key` pues es la forma de escribir un método (de la clase string) como una función. Dicho de otro modo, si s es una cadena, s.lower() y str.lower(s) hacen lo mismo.\n",
    "\n"
   ]
  },
  {
   "cell_type": "code",
   "execution_count": 66,
   "metadata": {},
   "outputs": [
    {
     "data": {
      "text/plain": [
       "list"
      ]
     },
     "execution_count": 66,
     "metadata": {},
     "output_type": "execute_result"
    }
   ],
   "source": [
    "v = [ 1, 2., 3+1j, [3,0] ]\n",
    "type(a)"
   ]
  },
  {
   "cell_type": "code",
   "execution_count": 64,
   "metadata": {},
   "outputs": [
    {
     "name": "stdout",
     "output_type": "stream",
     "text": [
      "-1\n",
      "[1, 2, 3, 1, 2, 3, 1, 2, 3]\n",
      "[1, 2, 3, 10, 20, 30]\n",
      "[7, 6, 5]\n",
      "[8, 6, 4]\n"
     ]
    }
   ],
   "source": [
    "a = [25, 33, 1, 15, 33] \n",
    "a.append(0) # agrega 0 al final \n",
    "a.insert(3,-1) # inserta -1 en la posición 3\n",
    "a.reverse() # invierte el orden\n",
    "a.pop() # elimina el último elemento y lo devuelve\n",
    "print(a.pop(3)) # elimina el elemento de índice 3\n",
    "a.extend([10,20,30])  # añade elementos a la lista\n",
    "a = [1,2,3]\n",
    "b = [10,20,30] \n",
    "print(a*3) \n",
    "print(a+b)\n",
    "a = [9, 8, 7, 6, 5, 4, 3, 2, 1, 0]\n",
    "print(a[2:5])  # accedemos a los elementos 2,3,4\n",
    "print(a[1:7:2]) # desde 1 hasta 6, de 2 en 2"
   ]
  },
  {
   "cell_type": "code",
   "execution_count": 68,
   "metadata": {},
   "outputs": [
    {
     "data": {
      "text/plain": [
       "[3, 4]"
      ]
     },
     "execution_count": 68,
     "metadata": {},
     "output_type": "execute_result"
    }
   ],
   "source": [
    "a=[1,2,3,4,5]\n",
    "a[2:4]"
   ]
  },
  {
   "cell_type": "markdown",
   "metadata": {},
   "source": [
    "Las listas al igual que ocurre con las cadenas,pueden operarse con +,* y len()"
   ]
  },
  {
   "cell_type": "code",
   "execution_count": 73,
   "metadata": {},
   "outputs": [
    {
     "name": "stdout",
     "output_type": "stream",
     "text": [
      "[1, 2, 3, 4, 5, 1, 2, 3, 4, 5, 1, 2, 3, 4, 5]\n",
      "5\n"
     ]
    }
   ],
   "source": [
    "print (a*3)\n",
    "print (len(a))"
   ]
  },
  {
   "cell_type": "code",
   "execution_count": 75,
   "metadata": {},
   "outputs": [
    {
     "data": {
      "text/plain": [
       "[[1, 2], [1, 2, 3]]"
      ]
     },
     "execution_count": 75,
     "metadata": {},
     "output_type": "execute_result"
    }
   ],
   "source": [
    "s=[1,2]\n",
    "a=[s,s+[3]]\n",
    "a"
   ]
  },
  {
   "cell_type": "code",
   "execution_count": 76,
   "metadata": {},
   "outputs": [
    {
     "data": {
      "text/plain": [
       "[[1, 2], [1, 2, [1, 2, 3]]]"
      ]
     },
     "execution_count": 76,
     "metadata": {},
     "output_type": "execute_result"
    }
   ],
   "source": [
    "a[1][2]=[1,2,3]\n",
    "a"
   ]
  },
  {
   "cell_type": "code",
   "execution_count": 77,
   "metadata": {},
   "outputs": [
    {
     "data": {
      "text/plain": [
       "[[1, 2], [[[], [2, 3]], 2, [1, 2, 3]]]"
      ]
     },
     "execution_count": 77,
     "metadata": {},
     "output_type": "execute_result"
    }
   ],
   "source": [
    "a[1][0]=[[],[2,3]]\n",
    "a"
   ]
  },
  {
   "cell_type": "code",
   "execution_count": 79,
   "metadata": {},
   "outputs": [
    {
     "data": {
      "text/plain": [
       "[1, [...]]"
      ]
     },
     "execution_count": 79,
     "metadata": {},
     "output_type": "execute_result"
    }
   ],
   "source": [
    "# a diferencia  de otros lenguajes,python permite este tipo de listas que se autocontengan\n",
    "a=[1,2]\n",
    "a[1]=a\n",
    "a"
   ]
  },
  {
   "cell_type": "markdown",
   "metadata": {},
   "source": [
    "EJERCICIO: Convierte la lista a=[1,[2,[3,4]]] en una nueva lista a=[1,[2,[3,4],[6,7],5]"
   ]
  },
  {
   "cell_type": "markdown",
   "metadata": {},
   "source": [
    "#### DICCIONARIOS\n",
    "En algunas ocasiones es interesante disponer de listas que no estén indexa-\n",
    "das por números naturales, sino por cualquier otro elemento (strings habitual- mente, o cualquier tipo de dato inmutable). Python dispone de los diccionarios para  manejar  este tipo de contenedores\n",
    "\n",
    "colores = {'r': 'rojo', 'g': 'verde', 'b': 'azul'}\n",
    "\n",
    "type(colores)\n",
    "\n",
    "dict\n",
    "\n",
    "\n",
    "print(colores['r'])\n",
    "\n",
    "rojo\n",
    "\n",
    "colores['k'] = 'negro' # añadimos un nuevo elemento\n",
    "\n",
    "Observar  que el orden  dentro  de los elementos  del diccionario  es irrelevante pues la indexación  no es numerada, y además  no se puede predecir\n",
    "\n",
    "Alternativamente,  podemos  usar  la función  dict actuando sobre  una  se- cuencia de pares para  definir un diccionario:\n",
    "\n",
    "colores = dict([['k','negro'], ['r','rojo'], ['b','azul'], ['g','verde']])\n",
    "\n",
    "El  objeto  que  se  usa  como  índice  se  denomina  clave.  Podemos  pensar entonces  en un diccionario  como un conjunto  no ordenado  de pares,  clave: valor donde  cada  clave  ha  de  ser  única  (para   ese  diccionario).   Podemos acceder a ellas usando  los métodos  adecuados:\n",
    "\n",
    "\n",
    "print(colores.keys())  # claves\n",
    "\n",
    "dict_keys(['r', 'k', 'g', 'b'])\n",
    "\n",
    "\n",
    "print(colores.values())  # valores\n",
    "\n",
    "dict_values(['rojo', 'negro', 'verde', 'azul'])\n",
    "\n",
    "\n",
    "####  LAS TUPLAS\n",
    "Otro de los tipos de datos  principales  en Python son las tuplas. Las tuplas son un tipo  de dato  similar  a las listas  (es decir,  una  colección indexada  de datos)  pero que no pueden  alterarse una vez definidas (son inmutables):\n",
    "\n",
    "a = (1,2.,3+1j,\"hola\")\n",
    "\n",
    "type(a)\n",
    "\n",
    "tuple\n",
    "\n",
    "print(a[2])\n",
    "\n",
    "3+1j\n"
   ]
  },
  {
   "cell_type": "markdown",
   "metadata": {},
   "source": [
    "### ENTRADA DE DATOS"
   ]
  },
  {
   "cell_type": "code",
   "execution_count": 5,
   "metadata": {},
   "outputs": [
    {
     "name": "stdout",
     "output_type": "stream",
     "text": [
      "Introduce una temperatura en ºC:10\n",
      "La temperatura en ºF es: 50.0\n"
     ]
    }
   ],
   "source": [
    "inp = input('Introduce una temperatura en ºC:')\n",
    "cel = float(inp)\n",
    "fahr = (cel * 9.0) / 5.0 + 32.0\n",
    "print (\"La temperatura en ºF es:\",fahr)"
   ]
  },
  {
   "cell_type": "code",
   "execution_count": 1,
   "metadata": {},
   "outputs": [
    {
     "name": "stdout",
     "output_type": "stream",
     "text": [
      "Ingresa el año en curso: 1970\n",
      "Nombre de la persona: LLL\n",
      "Año de nacimiento: 1800\n",
      "LLL cumple 170 años en el 1970\n"
     ]
    }
   ],
   "source": [
    "# FUNCIÓN QUE DICE CUANTOS AÑOS TIENES. Escribir un pequeño programa donde:\n",
    "#- Se ingresa el año en curso.\n",
    "#- Se calcula cuántos años cumplirán durante el año en curso.\n",
    "#- Se imprime en pantalla.\n",
    "def main():\n",
    "    a= input (\"Ingresa el año en curso: \")\n",
    "    nombre = input (\"Nombre de la persona: \")\n",
    "    n = input (\"Año de nacimiento: \")\n",
    "    d= int(a) - int(n)\n",
    "    print  (nombre, \"cumple\", d, \"años en el\", a)\n",
    "main()\n"
   ]
  }
 ],
 "metadata": {
  "kernelspec": {
   "display_name": "Python 3",
   "language": "python",
   "name": "python3"
  },
  "language_info": {
   "codemirror_mode": {
    "name": "ipython",
    "version": 3
   },
   "file_extension": ".py",
   "mimetype": "text/x-python",
   "name": "python",
   "nbconvert_exporter": "python",
   "pygments_lexer": "ipython3",
   "version": "3.6.5"
  }
 },
 "nbformat": 4,
 "nbformat_minor": 2
}
