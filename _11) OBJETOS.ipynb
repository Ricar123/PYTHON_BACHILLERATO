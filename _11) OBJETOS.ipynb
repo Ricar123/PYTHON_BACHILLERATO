{
 "cells": [
  {
   "cell_type": "markdown",
   "metadata": {},
   "source": [
    "### OBJETOS (POO)\n",
    "\n",
    "#### LAS CLASES\n",
    "Python sigue el paradigma de la **Programación Orientada a Objetos** (POO). En realidad, todo en Python es un objeto. Podemos entender un objeto como un tipo especial de variable en la que no sólo se almacena un valor, o conjunto de valores, sino para el que tenemos disponible también una serie de características y de funciones concretas, que dependerán del objeto en cuestión. \n",
    "\n",
    "Las clases se definen con la palabra clave **class**, seguida del nombre de la clase y, si hereda de otra clase, el nombre de esta. Las clases son  un conjunto de objetos que poseen propiedades comunes. \n",
    "\n",
    "Los objetos de una clase  poseen **métodos y atributos**. En una clase un \"método\" equivale a una \"función\", y un \"atributo\" equivale a una \"variable\". Todo objeto declarado debe tener como mínimo un método (definido como `_init_`  y un atributo `self`)\n",
    "\n",
    "\"__init__\" es un método especial que se ejecuta al instanciar la clase, se usa generalmente para inicializar atributos y ejecutar los métodos necesarios. Al igual que todos los métodos en Python, debe tener al menos un parámetro, generalmente se utiliza `self`. El resto de parámetros serán los que se indiquen al **instanciar** la clase.\n",
    "\n",
    "#### INSTANCIAR UN OBJETO\n",
    "Basicamente instanciar un objeto es sinonimo de \"crearlo\". Cuando lo defines indicas sus propiedades, sus metodos... es un objeto \"ideal\" (una variable tambien es un objeto)... Cuando lo **instancias** pasa a ser \"real\".\n",
    "\n",
    "Por ejemplo... un objeto llamado **form** (perteneciente al conjunto  de tipos de formularios o class formularios) es la definicion de un formulario... sabemos las propiedades y metodos que tiene. Es un objeto \"ideal\"... abstracto. Pero si \"creas\" un formulario llamado **form_contabilidad**... estamos hablando de un formulario ESPECIFICO. Es **una instancia de la clase generica form**. Has \"instanciado\" un objeto que tiene un espacio de memoria... que tiene propiedades con valores \"concretos\" y con metodos que se comportan de una determinada manera basado en la clase form. La clase es genérica y los objetos se instancian  para hacerlos  específicos.\n",
    "\n",
    "\n",
    "\n",
    "##### EJEMPLO :\n",
    "\n",
    "OBJETOS---->de las clases: ANIMADOS-->ANIMALES-->PRIMATES-->PERSONAS\n",
    "ANIMALES-->REPTILES--->TORTUGAS\n",
    "o podemos tener también:\n",
    "OBJETOS---->de las clases: INANIMADOS-->VEHÍCULOS-->COCHES\n",
    "\n",
    "...cada uno de ellos con sus CARACTERÍSTICAS+ACCIONES asociadas y las de rango inferior HEREDARÁN todas estas características y acciones de su familia superior.:\n",
    "\n",
    "```PYTHON\n",
    "class Objetos:   # definimos una clase\n",
    "     pass\n",
    "\n",
    "class Inanimados(Objetos): # subclase que hereda de otra clase\n",
    "     pass\n",
    "\n",
    "class Animados(Objetos):  #  subclase que hereda de otra clase\n",
    "     pass\n",
    "     \n",
    "class Edificios(Inanimados):   #subclase\n",
    "     pass\n",
    "     \n",
    "Las funciones declaradas como clases deben contar como mínimo con un \"parámetro\" que solemos llamarlo \"self\", \n",
    "\n",
    "class Animales(Animados)\n",
    "    def mover(self):\n",
    "        pass    # como mínimo debemos poner una instruccion en el bloque, aunque como  en estes caso sea neutra\n",
    "    def comer(self):\n",
    "        pass\n",
    "        \n",
    "class Reptiles(Animales):\n",
    "    def sangrefría(self)\n",
    "        pass\n",
    "        \n",
    "class Tortugas(Reptiles):\n",
    "     def ponehuevos(self):\n",
    "         pass\n",
    "         \n",
    "eric=Totuga()   # eric hereda todas las propiedades de Tortugas y de Reptiles y por tanto...\n",
    "eric.ponehuevos()\n",
    "eric.sangrefría()\n",
    "\n",
    "terry=Tortuga() # y la POO nos permite generar nuevos objetos de la misma clase, dos tortugas distintas\n",
    "\n",
    "eric.mover()\n",
    "terry.comer() #dos tortugas haciendo cosas distintas\n",
    "```"
   ]
  },
  {
   "cell_type": "markdown",
   "metadata": {},
   "source": [
    " Otro ejemplo de objetos y clases:\n",
    "  Podemos  entender una `clase`como un registro cuyas  `instancias`, además  de los campos habituales (con sus datos, listas,  etc.) pueden  tener campos que a su vez son **funciones**.. \n",
    "  Por ejemplo, podríamos  tener un **objeto** llamado \"coche\" del  tipo \"vehículo\". Este objeto \"coche\" tendría un campo que  podríamos llamar \"posición\" y podría tener también dos métodos (funciones) que las podríamos  llamar \"mover_a\" \"inicar\".\n",
    "  Lo  primero  es crear una instancia de la clase \"vehículo\". Después aplicamos los métodos sobre el coche para cambiar su posición. Podemos imaginar que al aplicar un método sobre un objeto, el método \"sabe\" sobre qué  objeto se está aplicando. Esto  se  hace pasando al método un  parámetro adicional: el propio objeto. \n",
    "  ```python\n",
    "    class vehiculo:     # primero definimos la clase con los mínimos parámetros\n",
    "        def __init__(self):\n",
    "            self.posición()     # este es un ejemplo para entender clase/objeto pero está incompleto en sus funciones\n",
    "\n",
    "    coche_rojo=vehiculo()       # instanciamos el objeto asociado a la clase que lo llamaremos \"coche_rojo\"\n",
    "    print coche_rojo.posición()\n",
    "    coche_rojo.mover_a(10)\n",
    "    coche_rojo.mover_a(40)\n",
    "    coche_rojo.iniciar()\n",
    "    print coche_rojo.posición()\n",
    "    ```\n",
    "  "
   ]
  },
  {
   "cell_type": "code",
   "execution_count": 3,
   "metadata": {},
   "outputs": [],
   "source": [
    "# dir(s)   \n",
    "# nos dá una lista de todos los métodos disponibles del objeto \"s\" que acaba de HEREDAR de la clase string\n",
    "# es decir, es como  si hicieramos dir(str)"
   ]
  },
  {
   "cell_type": "code",
   "execution_count": 2,
   "metadata": {},
   "outputs": [],
   "source": [
    "class Persona(object):\n",
    "    def __init__(self, nombre, edad):\n",
    "        self.nombre = nombre # Un atributo cualquiera\n",
    "        self.edad = edad # Otro atributo cualquiera\n",
    "    def mostrar_edad(self): # Es necesario que, al menos, tenga un parámetro, generalmente: \"self\"\n",
    "         print (self.edad) # mostrando un atributo\n",
    "    def modificar_edad(self, edad): # Modificando Edad\n",
    "        if edad < 0 or edad > 150: # Se comprueba que la edad no sea menor de 0 (algo imposible), ni mayor de 150 (algo realmente difícil)\n",
    "            return False\n",
    "        else: # Si está en el rango 0-150, entonces se modifica la variable\n",
    "            self.edad = edad # Se modifica la edad\n",
    "\n"
   ]
  },
  {
   "cell_type": "code",
   "execution_count": 3,
   "metadata": {},
   "outputs": [
    {
     "name": "stdout",
     "output_type": "stream",
     "text": [
      "20\n",
      "21\n"
     ]
    }
   ],
   "source": [
    "p = Persona(\"Alicia\", 20) # Instanciar la clase, como se puede ver, no se especifica el valor de \"self\"\n",
    "p.nombre # La variable \"nombre\" del objeto sí es accesible desde fuera\n",
    "\n",
    "p.nombre = \"Andrea\" # Y por tanto, se puede cambiar su contenido\n",
    "p.nombre\n",
    "\n",
    "p.mostrar_edad() # Se llama a un método de la clase\n",
    "\n",
    "p.modificar_edad(21) # Es posible cambiar la edad usando el método específico que hemos hecho para hacerlo de forma controlada\n",
    "p.mostrar_edad()\n"
   ]
  },
  {
   "cell_type": "code",
   "execution_count": null,
   "metadata": {},
   "outputs": [],
   "source": []
  }
 ],
 "metadata": {
  "kernelspec": {
   "display_name": "Python 3",
   "language": "python",
   "name": "python3"
  },
  "language_info": {
   "codemirror_mode": {
    "name": "ipython",
    "version": 3
   },
   "file_extension": ".py",
   "mimetype": "text/x-python",
   "name": "python",
   "nbconvert_exporter": "python",
   "pygments_lexer": "ipython3",
   "version": "3.6.5"
  }
 },
 "nbformat": 4,
 "nbformat_minor": 2
}
