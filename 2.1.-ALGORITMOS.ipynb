{
 "cells": [
  {
   "cell_type": "markdown",
   "metadata": {},
   "source": [
    "## ALGORITMOS\n",
    "La palabra algoritmo tiene origen en el nombre de un matemático persa del siglo IX: Abu Ja‘far Mohammed ibn Mûsâ Al-Khowârizm (que significa «Mohammed, padre de Ja‘far, hijo de Moisés, nacido en Khowârizm»). Al-Khowârizm escribió tratados de aritmética y álgebra. Gracias a los textos de Al-Khowârizm se introdujo el sistema de numeración hindú en el mundo árabe y, más tarde, en Occidente.\n",
    " \n",
    "- Freir un huevo. https://www.youtube.com/watch?v=WxBqCZw40Yc\n",
    "\n",
    "En una receta de cocina hemos de dejar bien claro con qué ingredientes contamos y cuál es el\n",
    "resultado final. En un algoritmo hemos de precisar cuáles son los datos del problema (datos de\n",
    "entrada) y qué resultado vamos a producir (datos de salida).\n",
    "Para que la receta esté completa, deberíamos especificar con absoluta precisión cada uno de\n",
    "los pasos que conducen a la realización del objetivo y, además, cada uno de ellos debería ser\n",
    "realizable en tiempo finito.\n",
    "No basta con decir más o menos cómo alcanzar el objetivo: hay que decir exactamente cómo\n",
    "se debe ejecutar cada paso y, además, cada paso debe ser realizable en tiempo finito. Esta\n",
    "nueva receta corrige algunos de los problemas de la anterior, pero presenta otros de distinta\n",
    "naturaleza:\n",
    "\n",
    "- Ingredientes: 10 cc. de aceite de oliva, un huevo de gallina y una pizca de sal.\n",
    "\n",
    "- Método:\n",
    "\n",
    "- 1) poner aceite en una sartén,\n",
    "- 2) sintonizar una emisora musical en la radio,\n",
    "- 3) encender el fuego a medio gas,\n",
    "- 4) echar una partida al solitario,\n",
    "- 5) calentar el aceite hasta que humee ligeramente,\n",
    "- 6) coger un huevo,\n",
    "- 7) romper la cáscara,\n",
    "- 8) verter el contenido del huevo en la sartén,\n",
    "- 9) aderezar con sal,\n",
    "- 10) esperar a que tenga buen aspecto.\n",
    "\n",
    "- Presentación: depositar el huevo frito, sin aceite, en un plato.\n",
    "Hay una consideración adicional que hemos de hacer, aunque en principio parezca una\n",
    "obviedad: todo algoritmo bien construido debe finalizar tras la ejecución de un número finito de\n",
    "pasos\n",
    "\n",
    "Los algoritmos en los que estaremos interesados son aquellos que describen procedimientos de cálculo ejecutables\n",
    "en un ordenador. Ello limitará el ámbito de nuestro estudio a la manipulación y realización de cálculos sobre datos (numéricos, de texto, etc.). Un algoritmo debe poseer las siguientes características:\n",
    "\n",
    "- 1) DATOS DE ENTRADA.\n",
    "- 2) DATOS DE SALIDA, como resultado.\n",
    "- 3) PASOS PERFECTAMENTE DEFINIDOS, sin la menor ambigüedad.\n",
    "- 4) PASOS FINITOS, es decir, cada paso debe poder finaliza.\n",
    "- 5) DEBE SER LO MÁS EFECTIVO POSIBLE (tiempo y recursos determinados proporcionaldos por un computador).\n",
    "\n",
    "Ejemplo algoritmo de Euclides para obtener el Mcd: https://www.youtube.com/watch?v=-JJwjPgcipk\n",
    "\n",
    "EJERCICIOS: \n",
    "- Diseña un programa que calcule la media de cinco números depositados en las posiciones de memoria que van de la 10 a la 14 y que deje el resultado en la dirección de memoria 15. Recuerda que la media de cinco números \u001f1, \u001f2, \u001f3, \u001f4 y \u001f5 es:\n",
    "\n",
    "\n",
    "\\begin{equation} \n",
    "\\overline{x}=\n",
    "\\frac{\\sum_{i=1}^{5}{x_i}}{5} \n",
    "\\end{equation}\n"
   ]
  },
  {
   "cell_type": "code",
   "execution_count": null,
   "metadata": {},
   "outputs": [],
   "source": []
  },
  {
   "cell_type": "code",
   "execution_count": null,
   "metadata": {},
   "outputs": [],
   "source": []
  }
 ],
 "metadata": {
  "kernelspec": {
   "display_name": "Python 3",
   "language": "python",
   "name": "python3"
  },
  "language_info": {
   "codemirror_mode": {
    "name": "ipython",
    "version": 3
   },
   "file_extension": ".py",
   "mimetype": "text/x-python",
   "name": "python",
   "nbconvert_exporter": "python",
   "pygments_lexer": "ipython3",
   "version": "3.6.5"
  }
 },
 "nbformat": 4,
 "nbformat_minor": 2
}
