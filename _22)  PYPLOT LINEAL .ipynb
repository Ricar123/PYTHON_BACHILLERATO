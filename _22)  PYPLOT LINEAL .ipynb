{
 "cells": [
  {
   "cell_type": "markdown",
   "metadata": {},
   "source": [
    "# Linear Regression Code and Example"
   ]
  },
  {
   "cell_type": "markdown",
   "metadata": {},
   "source": [
    "In this notebook, we present some basic ideas of numpy, matplotlib, and statsmodels.  First, import pylab."
   ]
  },
  {
   "cell_type": "code",
   "execution_count": 5,
   "metadata": {},
   "outputs": [
    {
     "name": "stdout",
     "output_type": "stream",
     "text": [
      "Populating the interactive namespace from numpy and matplotlib\n"
     ]
    }
   ],
   "source": [
    "%pylab inline"
   ]
  },
  {
   "cell_type": "markdown",
   "metadata": {},
   "source": [
    "The pylab command above inputs lots of numpy stuff.  We don't have to \"from numpy import *\". It also means plots appear in place (not in a separate pop-up window.)"
   ]
  },
  {
   "cell_type": "code",
   "execution_count": 4,
   "metadata": {},
   "outputs": [
    {
     "data": {
      "text/plain": [
       "[<matplotlib.lines.Line2D at 0x8a04748>]"
      ]
     },
     "execution_count": 4,
     "metadata": {},
     "output_type": "execute_result"
    },
    {
     "data": {
      "image/png": "[encoded data removed]",
      "text/plain": [
       "<Figure size 432x288 with 1 Axes>"
      ]
     },
     "metadata": {},
     "output_type": "display_data"
    }
   ],
   "source": [
    "#some junk just to show numpy and pylab are loaded\n",
    "%pylab inline\n",
    "a = arange(10)\n",
    "plot(a,a**2)"
   ]
  },
  {
   "cell_type": "code",
   "execution_count": 7,
   "metadata": {},
   "outputs": [
    {
     "data": {
      "image/png": "[encoded data removed]",
      "text/plain": [
       "<Figure size 432x288 with 1 Axes>"
      ]
     },
     "metadata": {},
     "output_type": "display_data"
    }
   ],
   "source": [
    "from matplotlib.pyplot import *\n",
    "# import matplotlib.pyplot as plt\n",
    "def pow(array,exp): return [x**exp for x in array]\n",
    "\n",
    "x = [1, 2, 3, 4]\n",
    "\n",
    "plot(x, x, 'r^', x, pow(x,2), 'gs', x, pow(x, 3), 'bo')\n",
    "show()"
   ]
  },
  {
   "cell_type": "markdown",
   "metadata": {},
   "source": [
    "## NYC Temperatures"
   ]
  },
  {
   "cell_type": "code",
   "execution_count": 4,
   "metadata": {},
   "outputs": [
    {
     "data": {
      "text/plain": [
       "[<matplotlib.lines.Line2D at 0x10aacf510>]"
      ]
     },
     "execution_count": 4,
     "metadata": {},
     "output_type": "execute_result"
    },
    {
     "data": {
      "image/png": "[encoded data removed]",
      "text/plain": [
       "<matplotlib.figure.Figure at 0x10aad2090>"
      ]
     },
     "metadata": {},
     "output_type": "display_data"
    }
   ],
   "source": [
    "#NYC temperatures are from weather.com. Do Google search 'average temperature in new york city'\n",
    "nyc = array([30, 32, 40, 50, 61, 70, 76, 74, 66, 55, 45, 35])\n",
    "plot(nyc)\n",
    "plot(nyc,'*')"
   ]
  },
  {
   "cell_type": "code",
   "execution_count": 5,
   "metadata": {},
   "outputs": [
    {
     "data": {
      "text/plain": [
       "array([[ 1.        ,  0.96592583,  0.25881905],\n",
       "       [ 1.        ,  0.70710678,  0.70710678],\n",
       "       [ 1.        ,  0.25881905,  0.96592583],\n",
       "       [ 1.        , -0.25881905,  0.96592583],\n",
       "       [ 1.        , -0.70710678,  0.70710678],\n",
       "       [ 1.        , -0.96592583,  0.25881905],\n",
       "       [ 1.        , -0.96592583, -0.25881905],\n",
       "       [ 1.        , -0.70710678, -0.70710678],\n",
       "       [ 1.        , -0.25881905, -0.96592583],\n",
       "       [ 1.        ,  0.25881905, -0.96592583],\n",
       "       [ 1.        ,  0.70710678, -0.70710678],\n",
       "       [ 1.        ,  0.96592583, -0.25881905]])"
      ]
     },
     "execution_count": 5,
     "metadata": {},
     "output_type": "execute_result"
    }
   ],
   "source": [
    "y = nyc\n",
    "months = arange(12)+0.5 #offset to middle of each month\n",
    "X = array([ones(12), cos(2*pi*months/12), sin(2*pi*months/12)]).transpose()\n",
    "X"
   ]
  },
  {
   "cell_type": "markdown",
   "metadata": {},
   "source": [
    "## 1. Do It Yourself"
   ]
  },
  {
   "cell_type": "markdown",
   "metadata": {},
   "source": [
    "We present four solutions to the linear regression problem.  The first two solutions are straightforward, but the latter two are better behaved numerically and are generally preferred.\n",
    "\n",
    "The straightforward solution ${\\hat \\beta} = (X^T X)^{-1}X^Ty$ can be calculated fairly easily.  For larger, or tricky, problems QR or SVD methods should be used instead.  The main problem with the straightforward solution is that computing $X^T X$ results in a loss of numerical accuracy (especially for large $X$).  Better is to use the SVD algorithm (numpy.linalg.lstsq) or the QR algorithm (statsmodels.OLS).\n",
    "\n",
    "Recall, to do linear algebra multiplication in numpy we use the *dot* function. $X.T$ is the transpose of $X$ and *inv* calculates the inverse of a square matrix."
   ]
  },
  {
   "cell_type": "code",
   "execution_count": 6,
   "metadata": {},
   "outputs": [
    {
     "data": {
      "text/plain": [
       "array([ 52.83333333, -20.78123086,  -8.52924774])"
      ]
     },
     "execution_count": 6,
     "metadata": {},
     "output_type": "execute_result"
    }
   ],
   "source": [
    "betahat = dot(inv(dot(X.T, X)),dot(X.T,y))\n",
    "betahat"
   ]
  },
  {
   "cell_type": "markdown",
   "metadata": {},
   "source": [
    "## 2. Solve the Normal Equations"
   ]
  },
  {
   "cell_type": "markdown",
   "metadata": {},
   "source": [
    "Slightly better is to use the *numpy.linalg.solve* function to solve the normal equations.  As a general rule, it is better to \"solve\" equations than to compute the inverse and multiply by the inverse (as we did above). I.e., solve the normal equations $(X^T X) {\\hat\\beta} = X^Ty$ for ${\\hat\\beta}$."
   ]
  },
  {
   "cell_type": "code",
   "execution_count": 7,
   "metadata": {},
   "outputs": [
    {
     "data": {
      "text/plain": [
       "array([ 52.83333333, -20.78123086,  -8.52924774])"
      ]
     },
     "execution_count": 7,
     "metadata": {},
     "output_type": "execute_result"
    }
   ],
   "source": [
    "import numpy.linalg as la\n",
    "betahat = la.solve(dot(X.T,X), dot(X.T,y))\n",
    "betahat"
   ]
  },
  {
   "cell_type": "markdown",
   "metadata": {},
   "source": [
    "## 3. Numpy.linalg.lstsq"
   ]
  },
  {
   "cell_type": "markdown",
   "metadata": {},
   "source": [
    "The standard python method to do least squares linear regression is numpy.linalg.lstsq.  It comes with numpy and doesn't need anything else to be installed. It uses the SVD method."
   ]
  },
  {
   "cell_type": "code",
   "execution_count": 8,
   "metadata": {},
   "outputs": [
    {
     "name": "stdout",
     "output_type": "stream",
     "text": [
      "[ 52.83333333 -20.78123086  -8.52924774] [ 4.02092752] 3 [ 3.46410162  2.44948974  2.44948974]\n"
     ]
    }
   ],
   "source": [
    "betahat, resid, rnk, singvals = la.lstsq(X, y)\n",
    "print betahat, resid, rnk, singvals"
   ]
  },
  {
   "cell_type": "markdown",
   "metadata": {},
   "source": [
    "We'll get the same numbers for betahat and resid using statsmodels (below).  Rnk=3=m means X is full rank.  Singular values >> 0 means well behaved numerically.  Be careful when singular values are close to 0.  (We used \"rank\" originally, but it's a numpy function, so we changed to \"rnk\".  Next time we'll change the %pylab statement at the top to avoid this problem.)"
   ]
  },
  {
   "cell_type": "code",
   "execution_count": 3,
   "metadata": {},
   "outputs": [
    {
     "data": {
      "image/png": "[encoded data removed]",
      "text/plain": [
       "<Figure size 432x288 with 1 Axes>"
      ]
     },
     "metadata": {},
     "output_type": "display_data"
    }
   ],
   "source": [
    "import numpy as np\n",
    "\n",
    "x_data = np.arange(-5, 6)\n",
    "y_data = 5 - np.absolute(x_data)\n",
    "\n",
    "plt.plot(x_data, y_data)\n",
    "plt.annotate('máx', xy=(0, 5), xytext=(2, 4.5), arrowprops=dict(facecolor='red', shrink=0.005))\n",
    "plt.show()"
   ]
  },
  {
   "cell_type": "markdown",
   "metadata": {},
   "source": [
    "## 4. Statsmodels"
   ]
  },
  {
   "cell_type": "markdown",
   "metadata": {},
   "source": [
    "There is a newer and bigger linear regression module called \"statsmodels\".  statsmodels contains lots of linear regression code (and lots of other statistical models as well).  But it may not be installed by default.  It depends on your distribution.  \n",
    "\n",
    "model.fit(method='pinv') is the default (pinv=standard definition $(X^TX)^{-1}X^Ty$).  Can also use method='qr'.  There's no great reason to use qr in this simple example (model is small and well behaved numerically), but we'll do it anyway.  All this info can be found in help(sm.OLS)."
   ]
  },
  {
   "cell_type": "code",
   "execution_count": 9,
   "metadata": {},
   "outputs": [
    {
     "name": "stdout",
     "output_type": "stream",
     "text": [
      "[ 52.83333333 -20.78123086  -8.52924774]\n",
      "0.998673690758\n"
     ]
    }
   ],
   "source": [
    "import statsmodels.api as sm\n",
    "model = sm.OLS(y,X)\n",
    "results = model.fit(method='qr')\n",
    "print results.params\n",
    "print results.rsquared"
   ]
  },
  {
   "cell_type": "markdown",
   "metadata": {},
   "source": [
    "Plot the results.  Pretty up the picture a bit."
   ]
  },
  {
   "cell_type": "code",
   "execution_count": 10,
   "metadata": {},
   "outputs": [
    {
     "data": {
      "image/png": "[encoded data removed]",
      "text/plain": [
       "<matplotlib.figure.Figure at 0x10aacf910>"
      ]
     },
     "metadata": {},
     "output_type": "display_data"
    }
   ],
   "source": [
    "a, b, c = results.params\n",
    "dates = linspace(0,12,101) #to produce smooth curve\n",
    "fitted = a + b*cos(2*pi*dates/12) + c*sin(2*pi*dates/12)\n",
    "plot(months,y,'*', dates, fitted)\n",
    "axhline(y=a)\n",
    "xlabel('Months')\n",
    "ylabel('Average Temperature in NYC')\n",
    "savefig('nyc.pdf') #comment out if you don't want to save figure"
   ]
  },
  {
   "cell_type": "code",
   "execution_count": 11,
   "metadata": {},
   "outputs": [
    {
     "name": "stderr",
     "output_type": "stream",
     "text": [
      "/Users/boncelet/Library/Enthought/Canopy_64bit/User/lib/python2.7/site-packages/scipy/stats/stats.py:1293: UserWarning: kurtosistest only valid for n>=20 ... continuing anyway, n=12\n",
      "  int(n))\n"
     ]
    },
    {
     "data": {
      "text/html": [
       "<table class=\"simpletable\">\n",
       "<caption>OLS Regression Results</caption>\n",
       "<tr>\n",
       "  <th>Dep. Variable:</th>            <td>y</td>        <th>  R-squared:         </th> <td>   0.999</td>\n",
       "</tr>\n",
       "<tr>\n",
       "  <th>Model:</th>                   <td>OLS</td>       <th>  Adj. R-squared:    </th> <td>   0.998</td>\n",
       "</tr>\n",
       "<tr>\n",
       "  <th>Method:</th>             <td>Least Squares</td>  <th>  F-statistic:       </th> <td>   3388.</td>\n",
       "</tr>\n",
       "<tr>\n",
       "  <th>Date:</th>             <td>Tue, 29 Apr 2014</td> <th>  Prob (F-statistic):</th> <td>1.13e-13</td>\n",
       "</tr>\n",
       "<tr>\n",
       "  <th>Time:</th>                 <td>16:39:49</td>     <th>  Log-Likelihood:    </th> <td> -10.467</td>\n",
       "</tr>\n",
       "<tr>\n",
       "  <th>No. Observations:</th>      <td>    12</td>      <th>  AIC:               </th> <td>   26.93</td>\n",
       "</tr>\n",
       "<tr>\n",
       "  <th>Df Residuals:</th>          <td>     9</td>      <th>  BIC:               </th> <td>   28.39</td>\n",
       "</tr>\n",
       "<tr>\n",
       "  <th>Df Model:</th>              <td>     2</td>      <th>                     </th>     <td> </td>   \n",
       "</tr>\n",
       "</table>\n",
       "<table class=\"simpletable\">\n",
       "<tr>\n",
       "    <td></td>       <th>coef</th>     <th>std err</th>      <th>t</th>      <th>P>|t|</th> <th>[95.0% Conf. Int.]</th> \n",
       "</tr>\n",
       "<tr>\n",
       "  <th>const</th> <td>   52.8333</td> <td>    0.193</td> <td>  273.815</td> <td> 0.000</td> <td>   52.397    53.270</td>\n",
       "</tr>\n",
       "<tr>\n",
       "  <th>x1</th>    <td>  -20.7812</td> <td>    0.273</td> <td>  -76.156</td> <td> 0.000</td> <td>  -21.399   -20.164</td>\n",
       "</tr>\n",
       "<tr>\n",
       "  <th>x2</th>    <td>   -8.5292</td> <td>    0.273</td> <td>  -31.257</td> <td> 0.000</td> <td>   -9.147    -7.912</td>\n",
       "</tr>\n",
       "</table>\n",
       "<table class=\"simpletable\">\n",
       "<tr>\n",
       "  <th>Omnibus:</th>       <td> 2.901</td> <th>  Durbin-Watson:     </th> <td>   2.090</td>\n",
       "</tr>\n",
       "<tr>\n",
       "  <th>Prob(Omnibus):</th> <td> 0.234</td> <th>  Jarque-Bera (JB):  </th> <td>   1.186</td>\n",
       "</tr>\n",
       "<tr>\n",
       "  <th>Skew:</th>          <td> 0.333</td> <th>  Prob(JB):          </th> <td>   0.553</td>\n",
       "</tr>\n",
       "<tr>\n",
       "  <th>Kurtosis:</th>      <td> 1.612</td> <th>  Cond. No.          </th> <td>    1.41</td>\n",
       "</tr>\n",
       "</table>"
      ],
      "text/plain": [
       "<class 'statsmodels.iolib.summary.Summary'>\n",
       "\"\"\"\n",
       "                            OLS Regression Results                            \n",
       "==============================================================================\n",
       "Dep. Variable:                      y   R-squared:                       0.999\n",
       "Model:                            OLS   Adj. R-squared:                  0.998\n",
       "Method:                 Least Squares   F-statistic:                     3388.\n",
       "Date:                Tue, 29 Apr 2014   Prob (F-statistic):           1.13e-13\n",
       "Time:                        16:39:49   Log-Likelihood:                -10.467\n",
       "No. Observations:                  12   AIC:                             26.93\n",
       "Df Residuals:                       9   BIC:                             28.39\n",
       "Df Model:                           2                                         \n",
       "==============================================================================\n",
       "                 coef    std err          t      P>|t|      [95.0% Conf. Int.]\n",
       "------------------------------------------------------------------------------\n",
       "const         52.8333      0.193    273.815      0.000        52.397    53.270\n",
       "x1           -20.7812      0.273    -76.156      0.000       -21.399   -20.164\n",
       "x2            -8.5292      0.273    -31.257      0.000        -9.147    -7.912\n",
       "==============================================================================\n",
       "Omnibus:                        2.901   Durbin-Watson:                   2.090\n",
       "Prob(Omnibus):                  0.234   Jarque-Bera (JB):                1.186\n",
       "Skew:                           0.333   Prob(JB):                        0.553\n",
       "Kurtosis:                       1.612   Cond. No.                         1.41\n",
       "==============================================================================\n",
       "\"\"\""
      ]
     },
     "execution_count": 11,
     "metadata": {},
     "output_type": "execute_result"
    }
   ],
   "source": [
    "results.summary()"
   ]
  },
  {
   "cell_type": "code",
   "execution_count": 12,
   "metadata": {},
   "outputs": [
    {
     "name": "stdout",
     "output_type": "stream",
     "text": [
      "[-0.55267398 -0.10769515  0.78386566  0.02670901 -0.49679369 -0.69892917\n",
      "  0.88600732  0.44102849 -0.45053233 -0.69337567  0.83012702  0.03226251]\n",
      "4.02092751813\n"
     ]
    }
   ],
   "source": [
    "residuals = y - dot(X,results.params)\n",
    "print residuals\n",
    "print sum(residuals**2)"
   ]
  },
  {
   "cell_type": "markdown",
   "metadata": {},
   "source": [
    "4.02 is the same number la.lstsq returned.\n",
    "\n",
    "Let's see how the standard error for 'const' is determined.  Note, X'X is diagonal, so inverse is also diagonal.  The formula is ${\\widehat{\\sigma^2}}= ||y-{\\hat y}||^2 (X^T X)^{-1}/(n-m)$."
   ]
  },
  {
   "cell_type": "code",
   "execution_count": 13,
   "metadata": {},
   "outputs": [
    {
     "name": "stdout",
     "output_type": "stream",
     "text": [
      "0.192952870808\n"
     ]
    }
   ],
   "source": [
    "d = diag(dot(X.T, X)) #get main diagonal\n",
    "squarederror = sum(residuals**2)\n",
    "stderr = sqrt(squarederror/(d[0]*(12-3)))\n",
    "print stderr"
   ]
  },
  {
   "cell_type": "markdown",
   "metadata": {},
   "source": [
    "# Conclusions"
   ]
  },
  {
   "cell_type": "markdown",
   "metadata": {},
   "source": [
    "For the vast majority of problems, my suggestion is to use Statsmodels with the QR method.  The QR method is fast and accurate (possibly slightly slower than la.solve, but only slightly).  Statsmodels gives lots of additional information as well.\n",
    "\n",
    "The SVD is generally the most accurate method, but it is also the most time consuming.  For almost all problems, the QR method offers the best combination of speed and accuracy. \n",
    "\n",
    "-------\n",
    "Charles Boncelet, 29 April 2014"
   ]
  },
  {
   "cell_type": "code",
   "execution_count": 13,
   "metadata": {},
   "outputs": [],
   "source": []
  }
 ],
 "metadata": {
  "kernelspec": {
   "display_name": "Python 3",
   "language": "python",
   "name": "python3"
  },
  "language_info": {
   "codemirror_mode": {
    "name": "ipython",
    "version": 3
   },
   "file_extension": ".py",
   "mimetype": "text/x-python",
   "name": "python",
   "nbconvert_exporter": "python",
   "pygments_lexer": "ipython3",
   "version": "3.6.5"
  }
 },
 "nbformat": 4,
 "nbformat_minor": 1
}
