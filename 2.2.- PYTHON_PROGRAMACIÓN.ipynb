{
 "cells": [
  {
   "cell_type": "markdown",
   "metadata": {},
   "source": [
    "# <center><span style=color:red>ELEMENTOS DEL PROGRAMA</span></center>\n",
    "\n",
    "En IPython Notebook no es necesario separar cada línea de codigo por ningún signo de puntuación, por ejemplo con un **;** como  en JavaScript. Sin embargo,sí es muy importante respetar el **sangrado** (identado) que el propio lenguaje incluye en la sintaxis de las funciones.Esta característica propia de Python facilita la legibilidad y limpieza del código, por lo que puede ser una ayuda para los estudiantes.\n",
    "\n",
    "Sintaxis y ejercicios en español: http://www.mclibre.org/consultar/python\n",
    "\n",
    "Sintaxis con turtle(español): https://opentechschool.github.io/python-beginners/es_CL/index.html\n",
    "\n",
    "Ejercicios (inglés): http://www.practicepython.org/"
   ]
  },
  {
   "cell_type": "markdown",
   "metadata": {},
   "source": [
    "### 1) LAS VARIABLES\n",
    "\n",
    "Teoría y práctica con edición online (inglés): https://www.tutorialspoint.com/python/python_variable_types.htm\n",
    "\n",
    "Teoría y edición online (inglés): http://interactivepython.org/runestone/static/pythonds/Introduction/GettingStartedwithData.html\n",
    "\n",
    "Python es  un  lenguaje  **dinámicamente  tipado**,  lo  que  significa  que  las variables  pueden  cambiar  de  tipo  en  distintos momentos  sin  necesidad  de ser previamente **declaradas**. Las variables  son identificadas con un  nombre, que  debe  obligatoriamente comenzar  por  una  letra  y en el que  se hace  la distinción entre mayúsculas y minúsculas,  y son definidas mediante el operador de asignación  **=**. Algunas palabras no pueden usarse  porque están reservadas como instrucciones del propio código fuente.\n",
    "Específicamente, el  primer carácter de  un  identificador ha  de  ser  cualquier carácter considerado como  letra en **Unicode**. También es posible  usar  el guión  bajo  (o underscore)  **_**  y para **identificar** variables siempre se usan letras en minúsculas. \n",
    "\n",
    "```python\n",
    "a = 2   # define un entero\n",
    "b = 5.  # define un número real\n",
    "c = 3+1j   # define un número complejo\n",
    "d = complex(3,2)  # define un número complejo\n",
    "# Nótese también que la asignación  de una  variable no produce  ninguna  salida. Para hacerlo usaremos print()\n",
    "print(type(a), type(b), type(c))\n",
    "\n",
    "```\n",
    "### 2) TIPOS DE DATOS\n",
    "\n",
    "http://www.pythondiario.com/2014/12/tipos-de-datos-en-python.html"
   ]
  },
  {
   "cell_type": "code",
   "execution_count": 1,
   "metadata": {},
   "outputs": [
    {
     "name": "stdout",
     "output_type": "stream",
     "text": [
      "HOLA MUNDO\n"
     ]
    }
   ],
   "source": [
    "x=\"HOLA MUNDO\"\n",
    "print (x)"
   ]
  },
  {
   "cell_type": "code",
   "execution_count": 2,
   "metadata": {},
   "outputs": [
    {
     "data": {
      "text/plain": [
       "\"'HOLA MUNDO'\""
      ]
     },
     "execution_count": 2,
     "metadata": {},
     "output_type": "execute_result"
    }
   ],
   "source": [
    "repr(x)    # otra forma de representar, en vez de  con print"
   ]
  },
  {
   "cell_type": "code",
   "execution_count": 3,
   "metadata": {},
   "outputs": [
    {
     "data": {
      "text/plain": [
       "'HOLA MUNDO'"
      ]
     },
     "execution_count": 3,
     "metadata": {},
     "output_type": "execute_result"
    }
   ],
   "source": [
    "str(x)"
   ]
  },
  {
   "cell_type": "markdown",
   "metadata": {},
   "source": [
    "### 3) NÚMEROS Y SUS OPERADORES\n",
    "https://www.tutorialspoint.com/python/python_basic_operators.htm\n",
    "http://www.mclibre.org/consultar/python/lecciones/python-operaciones-matematicas.html\n",
    "\n",
    "Los operadores aritméticos habituales en Python son: **+ (suma),  - (resta), *\n",
    "(multiplicación), / (división),  ** (potenciación)**, que también se puede realizar con la función **pow(), // (división entera)**, que da la parte  entera  de la división entre dos números,  y el operador   **% (módulo)**,  que proporciona  el resto  de la división entre  dos números.\n",
    "```python\n",
    "a = 5\n",
    "b = 3\n",
    "print(a//b)\n",
    "1\n",
    "c = 5. \n",
    "d = 3.\n",
    "print(c//d)\n",
    "1.0\n",
    "# como número  real.  Esto  se debe a que el resultado se expresa en el mismo tipo que los datos con los que se opera\n",
    "print(c % d)\n",
    "print(int(a) % int(b))\n",
    "2.0\n",
    "2\n",
    "# Nótese el uso de la función de conversión a entero  int.\n",
    "```\n",
    "\n",
    "Finalmente, cuando  Python opera con números  de distinto tipo, realiza la operación transformando todos los números involucrados  al mismo tipo, según una jerarquía de tipos que va de enteros  a reales y luego a complejos\n",
    "```python\n",
    "a = 3.\n",
    "b = 2+3j\n",
    "c = a+b # suma de real y complejo\n",
    "print(c)\n",
    "print(type(c))\n",
    "(5+3j)\n",
    "# Existen  también operadores  aumentados   de  asignación  cuyo  significado permite  abreviar  expresiones \n",
    "a = a + b\n",
    "a += b\n",
    "```"
   ]
  },
  {
   "cell_type": "markdown",
   "metadata": {},
   "source": [
    "### 4) BOOLEANOS Y OPERADORES\n",
    "\n",
    "En Python disponemos de las **variables booleanas True y False** y la función bool que convierte un valor a booleano, siempre y cuando tenga sentido tal conversión. En Python, al igual que en C, cualquier número distinto de 0 es verdadero, mientras que 0, 0.0 y 0j son falsos. Además, la variable None y las listas, cadenas, diccionarios, conjuntos o tuplas vacías son falsas; el resto son verdaderas.\n",
    "```python\n",
    "a = []\n",
    "b = 1,\n",
    "c = 'a'\n",
    "print(bool(a))\n",
    "print(bool(b))\n",
    "print(bool(c))\n",
    "False\n",
    "True\n",
    "True\n",
    "```\n",
    "Por otro lado, hay que tener en cuenta que la clase bool es una subclase de los números enteros, lo que explica el siguiente comortamiento:\n",
    "```python\n",
    "a = True\n",
    "a + a\n",
    "2\n",
    "```\n",
    "Los **operadores de comparación** en Python son ***== (igual), != (distinto), >(mayor que), >= (mayor o igual que), < (menor que) y <= (menor o igual que)** ,y los **operadores lógicos** son **and, or y not**, que pueden ser aplicados a datos que no sean expresiones booleanas. Por ejemplo:\n",
    "```python\n",
    "a = 5\n",
    "b = 'y'\n",
    "print(a and b)\n",
    "print(b and a)\n",
    "print(a or b)\n",
    "y\n",
    "5\n",
    "5\n",
    "```"
   ]
  },
  {
   "cell_type": "markdown",
   "metadata": {},
   "source": [
    "### 5) LAS CADENAS (STRINGS)\n",
    "https://docs.python.org/3/tutorial/introduction.html\n",
    "\n",
    "```python\n",
    "a = \"Hola\"\n",
    "b = 'mundo'\n",
    "print(a)\n",
    "print(b)\n",
    "print(type(a))\n",
    "Hola\n",
    "mundo\n",
    "<class 'str'>\n",
    "a = \"Esto es una 'string'\"\n",
    "print(a)\n",
    "Esto es una ´string´\n",
    "# Si  queremos  construir cadenas  con  más  de  una  línea  usamos  la  triple comilla \"\"\":\n",
    "a = \"\"\"Esto es un cadena \n",
    "muy larga que tiene \n",
    "muchas líneas\"\"\"\n",
    "print(a)\n",
    "Esto es un   cadena\n",
    "muy  larga  que tiene \n",
    "muchas  líneas\n",
    "```"
   ]
  },
  {
   "cell_type": "code",
   "execution_count": 4,
   "metadata": {},
   "outputs": [
    {
     "name": "stdout",
     "output_type": "stream",
     "text": [
      "hola\n",
      " mundo\n"
     ]
    }
   ],
   "source": [
    "print (\"hola\\n mundo\")"
   ]
  },
  {
   "cell_type": "code",
   "execution_count": 5,
   "metadata": {},
   "outputs": [
    {
     "name": "stdout",
     "output_type": "stream",
     "text": [
      "hola\b mundo\n"
     ]
    }
   ],
   "source": [
    "print (\"hola\\b mundo\")"
   ]
  },
  {
   "cell_type": "code",
   "execution_count": 6,
   "metadata": {},
   "outputs": [
    {
     "name": "stdout",
     "output_type": "stream",
     "text": [
      "hola\t mundo\n"
     ]
    }
   ],
   "source": [
    "print (\"hola\\t mundo\")"
   ]
  },
  {
   "cell_type": "code",
   "execution_count": 9,
   "metadata": {},
   "outputs": [
    {
     "name": "stdout",
     "output_type": "stream",
     "text": [
      "hola\r",
      " mundo\n"
     ]
    }
   ],
   "source": [
    "print (\"hola\\r mundo\")"
   ]
  },
  {
   "cell_type": "code",
   "execution_count": 11,
   "metadata": {},
   "outputs": [
    {
     "name": "stdout",
     "output_type": "stream",
     "text": [
      "hola\\n mundo\n"
     ]
    }
   ],
   "source": [
    "print (r\"hola\\n mundo\")  # precediendo con r  de raw la cadena se obvian las sencuencias de escape de cadenas"
   ]
  },
  {
   "cell_type": "code",
   "execution_count": 12,
   "metadata": {},
   "outputs": [
    {
     "data": {
      "text/plain": [
       "'ababab'"
      ]
     },
     "execution_count": 12,
     "metadata": {},
     "output_type": "execute_result"
    }
   ],
   "source": [
    "(\"a\"+\"b\")*3  #las cadenas se pueden concatenar (+), repetir (*), y contar con len()"
   ]
  },
  {
   "cell_type": "code",
   "execution_count": 13,
   "metadata": {},
   "outputs": [
    {
     "data": {
      "text/plain": [
       "6"
      ]
     },
     "execution_count": 13,
     "metadata": {},
     "output_type": "execute_result"
    }
   ],
   "source": [
    "len(_12)"
   ]
  },
  {
   "cell_type": "code",
   "execution_count": 32,
   "metadata": {},
   "outputs": [
    {
     "data": {
      "text/plain": [
       "' ESTO ES UNA CADENA'"
      ]
     },
     "execution_count": 32,
     "metadata": {},
     "output_type": "execute_result"
    }
   ],
   "source": [
    "a=\" esto es una cadena\"\n",
    "a.upper()  # trabajamos la cadena  como un  objeto con sus métodos asociados (en este caso conversión a mayúsculas)"
   ]
  },
  {
   "cell_type": "code",
   "execution_count": 39,
   "metadata": {},
   "outputs": [
    {
     "data": {
      "text/plain": [
       "'           esto es una cadena           '"
      ]
     },
     "execution_count": 39,
     "metadata": {},
     "output_type": "execute_result"
    }
   ],
   "source": [
    "a=\" esto es una cadena\"\n",
    "a.center(40)  # devuelve la cadena centrada y con una determinada longitud"
   ]
  },
  {
   "cell_type": "code",
   "execution_count": 51,
   "metadata": {},
   "outputs": [
    {
     "data": {
      "text/plain": [
       "False"
      ]
     },
     "execution_count": 51,
     "metadata": {},
     "output_type": "execute_result"
    }
   ],
   "source": [
    "a= \"hola mundo\"\n",
    "a.isalnum() # devuelve cierto si la cadena sólo tiene letras y dígitos"
   ]
  },
  {
   "cell_type": "code",
   "execution_count": 53,
   "metadata": {},
   "outputs": [
    {
     "data": {
      "text/plain": [
       "False"
      ]
     },
     "execution_count": 53,
     "metadata": {},
     "output_type": "execute_result"
    }
   ],
   "source": [
    "a.isalpha() # devuelve cierto si la cadena sólo tiene letras y dígitos (ojo, el  espacio  no se considera letra)"
   ]
  },
  {
   "cell_type": "code",
   "execution_count": 45,
   "metadata": {},
   "outputs": [
    {
     "data": {
      "text/plain": [
       "False"
      ]
     },
     "execution_count": 45,
     "metadata": {},
     "output_type": "execute_result"
    }
   ],
   "source": [
    "a.isdigit() # devuelve cierto si la cadena sólo tiene letras y dígitos"
   ]
  },
  {
   "cell_type": "code",
   "execution_count": 46,
   "metadata": {},
   "outputs": [
    {
     "data": {
      "text/plain": [
       "True"
      ]
     },
     "execution_count": 46,
     "metadata": {},
     "output_type": "execute_result"
    }
   ],
   "source": [
    "a.islower() # devuelve cierto si la cadena sólo contiene minúsculas"
   ]
  },
  {
   "cell_type": "code",
   "execution_count": 56,
   "metadata": {},
   "outputs": [
    {
     "data": {
      "text/plain": [
       "'holo mundo'"
      ]
     },
     "execution_count": 56,
     "metadata": {},
     "output_type": "execute_result"
    }
   ],
   "source": [
    "a=\"hola mundo\"\n",
    "a.replace(\"a\",\"o\")"
   ]
  },
  {
   "cell_type": "code",
   "execution_count": 63,
   "metadata": {},
   "outputs": [
    {
     "data": {
      "text/plain": [
       "['hola', 'mundo']"
      ]
     },
     "execution_count": 63,
     "metadata": {},
     "output_type": "execute_result"
    }
   ],
   "source": [
    "a.split() # devuelve una lista con las palabras que contiene la cadena"
   ]
  },
  {
   "cell_type": "markdown",
   "metadata": {},
   "source": [
    "Un operador muy utilizado con las cadenas para dar distintos formatos en la impresión es `%`. Van en una secuencia doble,  la primera vez indica el formato  de impresión y la segunda el valor de la variable con la que se trabaja su representación."
   ]
  },
  {
   "cell_type": "code",
   "execution_count": 15,
   "metadata": {},
   "outputs": [
    {
     "data": {
      "text/plain": [
       "'El resultado es 10'"
      ]
     },
     "execution_count": 15,
     "metadata": {},
     "output_type": "execute_result"
    }
   ],
   "source": [
    "a=10\n",
    "\"El resultado es %d\" %a      # representamos el contenido de `a`en formato  decimal"
   ]
  },
  {
   "cell_type": "code",
   "execution_count": 16,
   "metadata": {},
   "outputs": [
    {
     "data": {
      "text/plain": [
       "'3-6'"
      ]
     },
     "execution_count": 16,
     "metadata": {},
     "output_type": "execute_result"
    }
   ],
   "source": [
    "\"%d-%d\" %(3,6)  "
   ]
  },
  {
   "cell_type": "code",
   "execution_count": 17,
   "metadata": {},
   "outputs": [
    {
     "data": {
      "text/plain": [
       "'123 en hexadecimal es 7b'"
      ]
     },
     "execution_count": 17,
     "metadata": {},
     "output_type": "execute_result"
    }
   ],
   "source": [
    "\"%d en hexadecimal es %x\" %(123,123)"
   ]
  },
  {
   "cell_type": "code",
   "execution_count": 30,
   "metadata": {},
   "outputs": [
    {
     "data": {
      "text/plain": [
       "'3.400000'"
      ]
     },
     "execution_count": 30,
     "metadata": {},
     "output_type": "execute_result"
    }
   ],
   "source": [
    "\"%f\" %3.4  #una cadena en el que vamos  a representar el varlor  de una varible en formato flotante"
   ]
  },
  {
   "cell_type": "code",
   "execution_count": 31,
   "metadata": {},
   "outputs": [
    {
     "data": {
      "text/plain": [
       "'3.400000e+00'"
      ]
     },
     "execution_count": 31,
     "metadata": {},
     "output_type": "execute_result"
    }
   ],
   "source": [
    "\"%e\" %3.4  #una cadena en el que vamos  a representar el varlor  de una varible en formato flotante"
   ]
  },
  {
   "cell_type": "code",
   "execution_count": null,
   "metadata": {},
   "outputs": [],
   "source": []
  },
  {
   "cell_type": "markdown",
   "metadata": {},
   "source": [
    "### 6) LAS LISTAS\n",
    "https://docs.python.org/3/tutorial/introduction.html\n",
    "\n",
    "Las listas son colecciones de datos  de cualquier  tipo que están  indexadas. Nótese que no es lo mismo una lista de un elemento  que el elemento sólo.\n",
    "\n",
    "```a = [ 1, 2., 3+1j, [3,0] ]\n",
    "type(a)```\n",
    "\n",
    "Como podemos ver, hemos definido una lista encerrando sus elementos (de  tipos diversos) entre  corchetes  y separándolos por comas. Podemos  acceder a cada uno de los elementos de la lista escribiendo el nombre de la lista y el índice del elemento entre  corchetes,  teniendo  en cuenta  que el primer  elemento tiene índice 0 y por tanto el segundo corresponde  al índice 1\n",
    "\n",
    "```\n",
    "print(a[1])\n",
    "1\n",
    "print(a[4])\n",
    "error fuera de rango```\n",
    "\n",
    "Las listas son objetos, así que pueden invocar métodos sobre ellas. Podemos  consultar los métodos a los que tenemos acceso en una lista usando la función de autocompletado. \n",
    "\n",
    "En particular, si todos los elementos de una lista son comparables, podemos ordenarlas usando la función sorted o el método sort:\n",
    "\n",
    "```x = [1, 2, -3, 5, -1, 6, 1, 3, -4]\n",
    "x.sort()\n",
    "print(x)\n",
    "[4, 3, 1, 1, 1, 2, 3, 5, 6]\n",
    "x = list('AbraCadaBra ')\n",
    "sorted(x)\n",
    "['A', 'B', 'C', 'a', 'a', 'a', 'a', 'b', 'd', 'r', 'r']\n",
    "```\n",
    "\n",
    "Nótese que la función crea una nueva lista mientras que el método la modifica. Tanto la función como el método admiten un parémetro opcional `key` que debe ser una función, y que es llamada para cada uno de los elementos de la lista, realizándose la ordenación sobre la transformación de dicha lista. Por ejemplo,podemos usar la función abs (valor absoluto):\n",
    "\n",
    "`x = [1, 2, -3, 5, -1, 6, 1, 3, -4]\n",
    "x.sort(key=abs)\n",
    "print(x)\n",
    "[1, 1, 1, 2, 3, 3, 4, 5, 6]\n",
    "También se puede ordenar en sentido inverso con el parámetro reverse.\n",
    "x = list('AbraCadaBra ')\n",
    "sorted(x,key=str.lower ,reverse=True)\n",
    "['r', 'r', 'd', 'C', 'b', 'B', 'A', 'a', 'a', 'a', 'a']\n",
    "`\n",
    "\n",
    "Aquí usamos el método `lower` que actúa sobre cadenas, escribiéndolas en minúsculas.Pasamos el argumento `str.lower` al parámetro `key` pues es la forma de escribir un método (de la clase string) como una función. Dicho de otro modo, si s es una cadena, s.lower() y str.lower(s) hacen lo mismo.\n",
    "\n"
   ]
  },
  {
   "cell_type": "code",
   "execution_count": 66,
   "metadata": {},
   "outputs": [
    {
     "data": {
      "text/plain": [
       "list"
      ]
     },
     "execution_count": 66,
     "metadata": {},
     "output_type": "execute_result"
    }
   ],
   "source": [
    "v = [ 1, 2., 3+1j, [3,0] ]\n",
    "type(a)"
   ]
  },
  {
   "cell_type": "code",
   "execution_count": 64,
   "metadata": {},
   "outputs": [
    {
     "name": "stdout",
     "output_type": "stream",
     "text": [
      "-1\n",
      "[1, 2, 3, 1, 2, 3, 1, 2, 3]\n",
      "[1, 2, 3, 10, 20, 30]\n",
      "[7, 6, 5]\n",
      "[8, 6, 4]\n"
     ]
    }
   ],
   "source": [
    "a = [25, 33, 1, 15, 33] \n",
    "a.append(0) # agrega 0 al final \n",
    "a.insert(3,-1) # inserta -1 en la posición 3\n",
    "a.reverse() # invierte el orden\n",
    "a.pop() # elimina el último elemento y lo devuelve\n",
    "print(a.pop(3)) # elimina el elemento de índice 3\n",
    "a.extend([10,20,30])  # añade elementos a la lista\n",
    "a = [1,2,3]\n",
    "b = [10,20,30] \n",
    "print(a*3) \n",
    "print(a+b)\n",
    "a = [9, 8, 7, 6, 5, 4, 3, 2, 1, 0]\n",
    "print(a[2:5])  # accedemos a los elementos 2,3,4\n",
    "print(a[1:7:2]) # desde 1 hasta 6, de 2 en 2"
   ]
  },
  {
   "cell_type": "code",
   "execution_count": 68,
   "metadata": {},
   "outputs": [
    {
     "data": {
      "text/plain": [
       "[3, 4]"
      ]
     },
     "execution_count": 68,
     "metadata": {},
     "output_type": "execute_result"
    }
   ],
   "source": [
    "a=[1,2,3,4,5]\n",
    "a[2:4]"
   ]
  },
  {
   "cell_type": "markdown",
   "metadata": {},
   "source": [
    "Las listas al igual que ocurre con las cadenas,pueden operarse con +,* y len()"
   ]
  },
  {
   "cell_type": "code",
   "execution_count": 73,
   "metadata": {},
   "outputs": [
    {
     "name": "stdout",
     "output_type": "stream",
     "text": [
      "[1, 2, 3, 4, 5, 1, 2, 3, 4, 5, 1, 2, 3, 4, 5]\n",
      "5\n"
     ]
    }
   ],
   "source": [
    "print (a*3)\n",
    "print (len(a))"
   ]
  },
  {
   "cell_type": "code",
   "execution_count": 75,
   "metadata": {},
   "outputs": [
    {
     "data": {
      "text/plain": [
       "[[1, 2], [1, 2, 3]]"
      ]
     },
     "execution_count": 75,
     "metadata": {},
     "output_type": "execute_result"
    }
   ],
   "source": [
    "s=[1,2]\n",
    "a=[s,s+[3]]\n",
    "a"
   ]
  },
  {
   "cell_type": "code",
   "execution_count": 76,
   "metadata": {},
   "outputs": [
    {
     "data": {
      "text/plain": [
       "[[1, 2], [1, 2, [1, 2, 3]]]"
      ]
     },
     "execution_count": 76,
     "metadata": {},
     "output_type": "execute_result"
    }
   ],
   "source": [
    "a[1][2]=[1,2,3]\n",
    "a"
   ]
  },
  {
   "cell_type": "code",
   "execution_count": 77,
   "metadata": {},
   "outputs": [
    {
     "data": {
      "text/plain": [
       "[[1, 2], [[[], [2, 3]], 2, [1, 2, 3]]]"
      ]
     },
     "execution_count": 77,
     "metadata": {},
     "output_type": "execute_result"
    }
   ],
   "source": [
    "a[1][0]=[[],[2,3]]\n",
    "a"
   ]
  },
  {
   "cell_type": "code",
   "execution_count": 79,
   "metadata": {},
   "outputs": [
    {
     "data": {
      "text/plain": [
       "[1, [...]]"
      ]
     },
     "execution_count": 79,
     "metadata": {},
     "output_type": "execute_result"
    }
   ],
   "source": [
    "# a diferencia  de otros lenguajes,python permite este tipo de listas que se autocontengan\n",
    "a=[1,2]\n",
    "a[1]=a\n",
    "a"
   ]
  },
  {
   "cell_type": "markdown",
   "metadata": {},
   "source": [
    "EJERCICIO: Convierte la lista a=[1,[2,[3,4]]] en una nueva lista a=[1,[2,[3,4],[6,7],5]"
   ]
  },
  {
   "cell_type": "markdown",
   "metadata": {},
   "source": [
    "#### DICCIONARIOS\n",
    "En algunas ocasiones es interesante disponer de listas que no estén indexa-\n",
    "das por números naturales, sino por cualquier otro elemento (strings habitual- mente, o cualquier tipo de dato inmutable). Python dispone de los diccionarios para  manejar  este tipo de contenedores\n",
    "\n",
    "colores = {'r': 'rojo', 'g': 'verde', 'b': 'azul'}\n",
    "\n",
    "type(colores)\n",
    "\n",
    "dict\n",
    "\n",
    "\n",
    "print(colores['r'])\n",
    "\n",
    "rojo\n",
    "\n",
    "colores['k'] = 'negro' # añadimos un nuevo elemento\n",
    "\n",
    "Observar  que el orden  dentro  de los elementos  del diccionario  es irrelevante pues la indexación  no es numerada, y además  no se puede predecir\n",
    "\n",
    "Alternativamente,  podemos  usar  la función  dict actuando sobre  una  se- cuencia de pares para  definir un diccionario:\n",
    "\n",
    "colores = dict([['k','negro'], ['r','rojo'], ['b','azul'], ['g','verde']])\n",
    "\n",
    "El  objeto  que  se  usa  como  índice  se  denomina  clave.  Podemos  pensar entonces  en un diccionario  como un conjunto  no ordenado  de pares,  clave: valor donde  cada  clave  ha  de  ser  única  (para   ese  diccionario).   Podemos acceder a ellas usando  los métodos  adecuados:\n",
    "\n",
    "\n",
    "print(colores.keys())  # claves\n",
    "\n",
    "dict_keys(['r', 'k', 'g', 'b'])\n",
    "\n",
    "\n",
    "print(colores.values())  # valores\n",
    "\n",
    "dict_values(['rojo', 'negro', 'verde', 'azul'])\n",
    "\n",
    "\n",
    "####  LAS TUPLAS\n",
    "Otro de los tipos de datos  principales  en Python son las tuplas. Las tuplas son un tipo  de dato  similar  a las listas  (es decir,  una  colección indexada  de datos)  pero que no pueden  alterarse una vez definidas (son inmutables):\n",
    "\n",
    "a = (1,2.,3+1j,\"hola\")\n",
    "\n",
    "type(a)\n",
    "\n",
    "tuple\n",
    "\n",
    "print(a[2])\n",
    "\n",
    "3+1j\n"
   ]
  },
  {
   "cell_type": "markdown",
   "metadata": {},
   "source": [
    "### ENTRADA DE DATOS"
   ]
  },
  {
   "cell_type": "code",
   "execution_count": 5,
   "metadata": {},
   "outputs": [
    {
     "name": "stdout",
     "output_type": "stream",
     "text": [
      "Introduce una temperatura en ºC:10\n",
      "La temperatura en ºF es: 50.0\n"
     ]
    }
   ],
   "source": [
    "inp = input('Introduce una temperatura en ºC:')\n",
    "cel = float(inp)\n",
    "fahr = (cel * 9.0) / 5.0 + 32.0\n",
    "print (\"La temperatura en ºF es:\",fahr)"
   ]
  },
  {
   "cell_type": "code",
   "execution_count": 1,
   "metadata": {},
   "outputs": [
    {
     "name": "stdout",
     "output_type": "stream",
     "text": [
      "Ingresa el año en curso: 1970\n",
      "Nombre de la persona: LLL\n",
      "Año de nacimiento: 1800\n",
      "LLL cumple 170 años en el 1970\n"
     ]
    }
   ],
   "source": [
    "# FUNCIÓN QUE DICE CUANTOS AÑOS TIENES. Escribir un pequeño programa donde:\n",
    "#- Se ingresa el año en curso.\n",
    "#- Se calcula cuántos años cumplirán durante el año en curso.\n",
    "#- Se imprime en pantalla.\n",
    "def main():\n",
    "    a= input (\"Ingresa el año en curso: \")\n",
    "    nombre = input (\"Nombre de la persona: \")\n",
    "    n = input (\"Año de nacimiento: \")\n",
    "    d= int(a) - int(n)\n",
    "    print  (nombre, \"cumple\", d, \"años en el\", a)\n",
    "main()\n"
   ]
  },
  {
   "cell_type": "markdown",
   "metadata": {},
   "source": [
    "# CONDICIONALES CON IF  (la identación)\n",
    "\n",
    "[Python for Developers](http://ricardoduarte.github.io/python-for-developers/#content)\n",
    "\n",
    "Syntax:\n",
    "\n",
    "`\n",
    "    if <condition>:\n",
    "        <code block>\n",
    "    elif <condition>:\n",
    "        <code block>\n",
    "    elif <condition>:\n",
    "        <code block>\n",
    "    else:\n",
    "        <code block>\n",
    "`\n",
    "\n",
    "Where:\n",
    "\n",
    "- `<condition>: sentence that can be evaluated as true or false.`\n",
    "- `<code block>: sequence of command lines.`\n",
    "- The clauses elif and else are optional and several elifs for the if may be used but only one else at the end.\n",
    "Parentheses are only required to avoid ambiguity. \n",
    "\n",
    "\n",
    "\n",
    "http://www.mclibre.org/consultar/python/lecciones/python-if-else.html\n",
    "\n",
    "Una sentencia condicional (if) ejecuta su **bloque** de código interno sólo si se cumple cierta condición. Se define usando la palabra clave **if** seguida de la condición, y el bloque de código. Condiciones adicionales, si las hay, se introducen usando **elif** seguida de la condición y su bloque de código. Todas las condiciones se evalúan secuencialmente hasta encontrar la primera que sea verdadera, y su bloque de código asociado es el único que se ejecuta. Opcionalmente, puede haber un bloque final (la palabra clave **else** seguida de un bloque de código) que se ejecuta sólo cuando todas las condiciones fueron falsas. \n",
    "En Python es muy importante **la identación**, es deicr el sangrado, para que pueda funcionar el programa. Con la sentencia If de debe definir después de los `:` el \"bloque\" de sentencias que se deben ejecutar si se cumple la condición y este bloque queda definido después de los `:`y la identación o sangrado de cada una de estas instrucciones. \n",
    "\n",
    "\n",
    "```python\n",
    ">>> lenguaje = \"Python\"\n",
    ">>> if lenguaje == \"C\": # lenguaje no es \"C\", por lo que este bloque se obviará y evaluará la siguiente condición\n",
    "        print \"Lenguaje de programación: C\"\n",
    "    elif lenguaje == \"Python\": # Se pueden añadir tantos bloques \"elif\" como se quiera\n",
    "        print \"Lenguaje de programación: Python\"\n",
    "    else: # En caso de que ninguna de las anteriores condiciones fuera cierta, se ejecutaría este bloque\n",
    "        print \"Lenguaje de programación: indefinido\"\n",
    "```\n",
    "\n",
    "\n"
   ]
  },
  {
   "cell_type": "code",
   "execution_count": 13,
   "metadata": {},
   "outputs": [
    {
     "name": "stdout",
     "output_type": "stream",
     "text": [
      "Normal\n"
     ]
    }
   ],
   "source": [
    "temp = 23 # temperature value used to test\n",
    "\n",
    "if temp < 0:\n",
    "    print ('Freezing...')\n",
    "elif 0 <= temp <= 20:\n",
    "    print ('Cold')\n",
    "elif 21 <= temp <= 25:\n",
    "    print ('Normal')\n",
    "elif 26 <= temp <= 35:\n",
    "    print ('Hot')\n",
    "else:\n",
    "    print ('Very Hot!')"
   ]
  },
  {
   "cell_type": "code",
   "execution_count": 24,
   "metadata": {},
   "outputs": [
    {
     "name": "stdout",
     "output_type": "stream",
     "text": [
      "La variable j es positiva\n"
     ]
    }
   ],
   "source": [
    "if j>0:\n",
    "    print('La variable j es positiva')\n",
    "else:\n",
    "    print('La variable j es negativa o cero')"
   ]
  },
  {
   "cell_type": "code",
   "execution_count": 24,
   "metadata": {},
   "outputs": [
    {
     "name": "stdout",
     "output_type": "stream",
     "text": [
      "Puedes pasar, está en verde\n"
     ]
    }
   ],
   "source": [
    "verde=True  # ojo con la primera letra de True que debe ser mayúscula.\n",
    "if verde:\n",
    "    print(\"Puedes pasar, está en verde\")\n",
    "else:\n",
    "    print(\"Espera, no puedes pasar. No está en verde.\") "
   ]
  },
  {
   "cell_type": "code",
   "execution_count": 28,
   "metadata": {},
   "outputs": [
    {
     "name": "stdout",
     "output_type": "stream",
     "text": [
      "Puedes pasar, está en verde.\n"
     ]
    }
   ],
   "source": [
    "color=\"verde\"    #con un sólo \"=\" hacemos asignación\n",
    "if color==\"verde\":   # con doble \"==\" hacemos comparación de igualdad\n",
    "    print(\"Puedes pasar, está en verde.\")  #ojo  con el if,elif,else que van en minúscualas y con sus sangrías\n",
    "elif color==\"amarillo\":\n",
    "    print(\"Pasa con precaucion, está en amarillo\")\n",
    "else:\n",
    "    print(\"Espera, no  está  en verde\")"
   ]
  },
  {
   "cell_type": "code",
   "execution_count": 23,
   "metadata": {},
   "outputs": [
    {
     "name": "stdout",
     "output_type": "stream",
     "text": [
      "Escriba un número positivo: 2\n",
      "Ha escrito el número 2\n"
     ]
    }
   ],
   "source": [
    "# CONDICIONALES introducir  un número positivo siempre\n",
    "numero = int(input(\"Escriba un número positivo: \"))\n",
    "if numero < 0:\n",
    "    print(\"¡Le he dicho que escriba un número positivo!\")\n",
    "print(f\"Ha escrito el número {numero}\")"
   ]
  },
  {
   "cell_type": "code",
   "execution_count": 24,
   "metadata": {},
   "outputs": [
    {
     "name": "stdout",
     "output_type": "stream",
     "text": [
      "¿Cuántos años tiene? 20\n",
      "Es usted mayor de edad\n",
      "¡Hasta la próxima!\n"
     ]
    }
   ],
   "source": [
    "# CONDICIONALES averiguar si es mayor de edad\n",
    "edad = int(input(\"¿Cuántos años tiene? \"))\n",
    "if edad < 18:\n",
    "    print(\"Es usted menor de edad\")\n",
    "else:\n",
    "    print(\"Es usted mayor de edad\")\n",
    "print(\"¡Hasta la próxima!\")"
   ]
  },
  {
   "cell_type": "code",
   "execution_count": 29,
   "metadata": {},
   "outputs": [
    {
     "name": "stdout",
     "output_type": "stream",
     "text": [
      "Escriba un número: 2\n",
      "2 es impar\n"
     ]
    }
   ],
   "source": [
    "# CONDICIONALES: número par o impar\n",
    "numero = int(input(\"Escriba un número: \"))\n",
    "if numero % 2== 0:\n",
    "    print(f\"{numero} es impar\")\n",
    "else:\n",
    "    print(f\"{numero} es par\")"
   ]
  },
  {
   "cell_type": "code",
   "execution_count": 25,
   "metadata": {},
   "outputs": [
    {
     "name": "stdout",
     "output_type": "stream",
     "text": [
      "Piense un número de 1 a 4.\n",
      "Conteste S (sí) o N (no) a mis preguntas.\n",
      "¿El número pensado es mayor que 2? N\n",
      "¿El número pensado es mayor que 1? N\n",
      "El número pensado es 1.\n",
      "¡Hasta la próxima!\n"
     ]
    }
   ],
   "source": [
    "# CONDICIONALES ANIDADOS: adivinar un número  entre 1 y 4\n",
    "print(\"Piense un número de 1 a 4.\")\n",
    "print(\"Conteste S (sí) o N (no) a mis preguntas.\")\n",
    "primera = input(\"¿El número pensado es mayor que 2? \")\n",
    "if primera == \"S\":\n",
    "    segunda = input(\"¿El número pensado es mayor que 3? \")\n",
    "    if segunda == \"S\":\n",
    "        print(\"El número pensado es 4.\")\n",
    "    else:\n",
    "        print(\"El número pensado es 3\")\n",
    "else:\n",
    "    segunda = input(\"¿El número pensado es mayor que 1? \")\n",
    "    if segunda == \"S\":\n",
    "        print(\"El número pensado es 2.\")\n",
    "    else:\n",
    "        print(\"El número pensado es 1.\")\n",
    "print(\"¡Hasta la próxima!\")"
   ]
  },
  {
   "cell_type": "code",
   "execution_count": 26,
   "metadata": {},
   "outputs": [
    {
     "name": "stdout",
     "output_type": "stream",
     "text": [
      "¿Cuántos años tiene? -20\n",
      "No se puede tener una edad negativa\n"
     ]
    }
   ],
   "source": [
    "#CONDICIONALES CON ELIF: decir si es mayor de edad\n",
    "edad = int(input(\"¿Cuántos años tiene? \"))\n",
    "if edad >= 18:\n",
    "    print(\"Es usted mayor de edad\")\n",
    "elif edad < 0:\n",
    "    print(\"No se puede tener una edad negativa\")\n",
    "else:\n",
    "    print(\"Es usted menor de edad\")"
   ]
  },
  {
   "cell_type": "code",
   "execution_count": 27,
   "metadata": {},
   "outputs": [
    {
     "name": "stdout",
     "output_type": "stream",
     "text": [
      "Escriba un número: 5\n",
      "5 no es múltiplo de dos\n"
     ]
    }
   ],
   "source": [
    "# CONDICIONALES CON ELIF: número múltiplo de 2 y de 4.\n",
    "numero = int(input(\"Escriba un número: \"))\n",
    "if numero % 2 == 0 and numero % 4 != 0:\n",
    "    print(f\"{numero} es múltiplo de dos\")\n",
    "elif numero % 4 == 0:\n",
    "    print(f\"{numero} es múltiplo de cuatro y de dos\")\n",
    "else:\n",
    "    print(f\"{numero} no es múltiplo de dos\")"
   ]
  },
  {
   "cell_type": "code",
   "execution_count": null,
   "metadata": {},
   "outputs": [],
   "source": [
    "# CONDICIONALES CON ELIF: número múltiplo  de 2 y 4 reordenando los condicionales\n",
    "numero = int(input(\"Escriba un número: \"))\n",
    "if numero % 4 == 0:\n",
    "    print(f\"{numero} es múltiplo de cuatro y de dos\")\n",
    "elif numero % 2 == 0:\n",
    "    print(f\"{numero} es múltiplo de dos\")\n",
    "else:\n",
    "    print(f\"{numero} no es múltiplo de dos\")"
   ]
  },
  {
   "cell_type": "code",
   "execution_count": null,
   "metadata": {},
   "outputs": [],
   "source": [
    "# JUEGO DE PALABRAS QUE RIMAN\n",
    "# Escribe un programa que pida dos palabras y diga si riman o no. \n",
    "# Si coinciden las tres últimas letras tiene que decir que riman. \n",
    "# Si coinciden sólo las dos últimas tiene que decir que riman un poco y si no, que no riman.\n",
    "uno = raw_input (\"Dime la primera palabra: \")\n",
    "print \"\"\n",
    "dos = raw_input (\"Dime la segunda palabra: \")\n",
    "print \"\"\n",
    "\n",
    "if len(uno) < 3 or len(dos) < 3:\n",
    " print \"Las palabras tienen menos de 3 letras\"\n",
    " print \"\"\n",
    "elif uno[-3:] == dos[-3:]:\n",
    " print \"Riman\"\n",
    " print \"\"\n",
    "elif uno[-2:] == dos[-2:]:\n",
    " print \"Riman un poco\"\n",
    " print \"\"\n",
    "else:\n",
    " print \"No riman\"\n",
    " print \"\"\n"
   ]
  },
  {
   "cell_type": "code",
   "execution_count": null,
   "metadata": {},
   "outputs": [],
   "source": [
    "# AÑO BISIESTO\n",
    "# Escriba una función es_bisiesto() que determine si un año determinado es un año bisiesto.\n",
    "# Un año bisiesto es divisible por 4, pero no por 100. También es divisible por 400.\n",
    "def es_bisiesto():\n",
    "    print \"Comprueba años bisiestos\"\n",
    "    a = input (\"Escriba un años y le dire si es bisiesto: \")\n",
    "    if a % 4 == 0 and (not(a % 100 == 0)):\n",
    "        print \"El año\", a, \"es un año bisiesto porque es multiplo de 4\"\n",
    "    elif a % 400 == 0:\n",
    "        print \"El año\", a, \"es un año bisiesto porque es multiplo de 400\"\n",
    "    else:\n",
    "        print \"El año\", a, \"no es bisiesto\"\n"
   ]
  },
  {
   "cell_type": "code",
   "execution_count": null,
   "metadata": {},
   "outputs": [],
   "source": [
    "# FUNCIÓN PARA VER SI UNA LETRA INTRODUCIDA ES UNA VOCAL.\n",
    "# Escribir una función que tome un carácter y devuelva True si es una vocal, de lo contrario devuelve False\n",
    "def es_vocal (x):\n",
    "    if x == \"a\" or x == \"e\" or x == \"i\" or x == \"o\" or x == \"u\":\n",
    "        return True\n",
    "    elif x == \"A\" or x == \"E\" or x == \"I\" or x == \"O\" or x == \"U\":\n",
    "        return True\n",
    "    else:\n",
    "        return False\n",
    "\n"
   ]
  },
  {
   "cell_type": "markdown",
   "metadata": {},
   "source": [
    "[Python for Developers](http://ricardoduarte.github.io/python-for-developers/#content)\n",
    "===================================\n",
    "\n",
    "\n",
    "Bucles (Loops)\n",
    "=============================\n",
    "_____________________________\n",
    "\n",
    "Los bucles (Loops) son estructuras de repetición,  generalmente usadas para procesar una colección de datos,  como líneas de un fichero o registros d euna base de datos que deben ser procesadas bajo el mismo  bloque de códigos.\n",
    "\n",
    "For\n",
    "---\n",
    "Es la instrucción que se usa para indicar una estructura de  repetición. Sus argumentos son dinámicos y secuenciales  bajo el nombre de ITERACIÓN. Las iteraciones son estructuas que permiten  iterar, por ej. acceder a los valores de una colección de elementos secuencialmente. \n",
    "\n",
    "![Loop Example](bpyfd_diags3.png)\n",
    "\n",
    "During the execution of a *for* loop, the reference points to an element in the sequence. At each iteration, the reference is updated, in order for the *for* code block to process the corresponding element.\n",
    "\n",
    "The clause *break* stops the loop and *continue* passes it to the next iteration. The code inside the `else` is executed at the end of the loop, except if the loop has been interrupted by *break*.\n",
    "\n",
    "Syntax:\n",
    "\n",
    "    for <reference> in <sequence>:\n",
    "        <code block>\n",
    "        continue\n",
    "        break\n",
    "    else:\n",
    "        <code block>\n",
    "            \n",
    "Example:"
   ]
  },
  {
   "cell_type": "code",
   "execution_count": 9,
   "metadata": {},
   "outputs": [
    {
     "name": "stdout",
     "output_type": "stream",
     "text": [
      "4950\n"
     ]
    }
   ],
   "source": [
    "# Sum 0 to 99\n",
    "s = 0\n",
    "for x in range(1, 100):\n",
    "    s = s + x\n",
    "print (s)"
   ]
  },
  {
   "cell_type": "markdown",
   "metadata": {},
   "source": [
    "### BUCLES CON FOR ( la iteración) :\n",
    "\n",
    "http://www.pythondiario.com/search?q=for\n",
    "\n",
    "El bucle recorre un **objeto iterable**, como una lista, una tupla o un generador, y por cada elemento del iterable ejecuta el **bloque** de código interno. Se define con la palabra clave **for** seguida de un nombre de **variable**, seguido de **in**, seguido del **iterable**, y finalmente el **bloque de código interno**. En cada **iteración**, el elemento siguiente del iterable se asigna al nombre de variable especificado: \n",
    "\n",
    "```python\n",
    ">>> lista = [\"a\", \"b\", \"c\"]\n",
    ">>> for i in lista: # Iteramos sobre una lista, que es iterable\n",
    "        print (i)\n",
    "...\n",
    "a\n",
    "b\n",
    "c\n",
    "...\n",
    ">>> cadena = \"abcdef\"\n",
    ">>> for i in cadena: # Iteramos sobre una cadena, que también es iterable\n",
    "        print (i,end=\",\") # Añadiendo una coma al final hacemos que no introduzca un salto de línea, sino un espacio\n",
    "...\n",
    "a b c d e f\n",
    "\n",
    "```"
   ]
  },
  {
   "cell_type": "code",
   "execution_count": 7,
   "metadata": {},
   "outputs": [
    {
     "name": "stdout",
     "output_type": "stream",
     "text": [
      "1,2,3,4,5,6,7,8,9,"
     ]
    }
   ],
   "source": [
    "for contador in range(1,10):\n",
    "    print(contador,end=\",\")"
   ]
  },
  {
   "cell_type": "markdown",
   "metadata": {},
   "source": [
    "La función `range()`\n",
    " Si  se necesita iterar sobre una secuencia de números, es apropiado utilizar la función integrada range() que genera una lista conteniendo progresiones aritméticas:"
   ]
  },
  {
   "cell_type": "code",
   "execution_count": 4,
   "metadata": {},
   "outputs": [
    {
     "data": {
      "text/plain": [
       "range(0, 10)"
      ]
     },
     "execution_count": 4,
     "metadata": {},
     "output_type": "execute_result"
    }
   ],
   "source": [
    "range(10)   #lista de números en progresión aritmética"
   ]
  },
  {
   "cell_type": "code",
   "execution_count": 98,
   "metadata": {},
   "outputs": [
    {
     "name": "stdout",
     "output_type": "stream",
     "text": [
      "El cubo de 1 es 1.\n",
      "El cubo de 2 es 8.\n",
      "El cubo de 3 es 27.\n",
      "El cubo de 4 es 64.\n",
      "El cubo de 5 es 125.\n"
     ]
    }
   ],
   "source": [
    "for  n in range(1,6):\n",
    "    print (\"El cubo de %d es %d.\" % (n, n**3))\n"
   ]
  },
  {
   "cell_type": "markdown",
   "metadata": {},
   "source": [
    "Para iterar sobre índices de una lista,  se pueden combinar `range()` y  `len()` así (aunque en la mayoria  de los casos se utiliza la función `enumerate()`):"
   ]
  },
  {
   "cell_type": "code",
   "execution_count": 6,
   "metadata": {},
   "outputs": [
    {
     "name": "stdout",
     "output_type": "stream",
     "text": [
      "1 María\n",
      "2 Juan\n",
      "3 Manolo\n",
      "4 Raquel\n"
     ]
    }
   ],
   "source": [
    "a=[\"María\", \"Juan\", \"Manolo\",\"Raquel\"]\n",
    "for i in  range(len(a)):\n",
    "    print (i+1,a[i])"
   ]
  },
  {
   "cell_type": "code",
   "execution_count": 9,
   "metadata": {},
   "outputs": [
    {
     "name": "stdout",
     "output_type": "stream",
     "text": [
      "Pick up the stack\n",
      "Pick up the steck\n",
      "Pick up the stick\n",
      "Pick up the stock\n",
      "Pick up the stuck\n"
     ]
    }
   ],
   "source": [
    "for  x in ['a', 'e', 'i', 'o', 'u']:    \n",
    "    word  =  \"st\" + x + \"ck\"\n",
    "    print  (\"Pick up the\", word)\n"
   ]
  },
  {
   "cell_type": "code",
   "execution_count": 27,
   "metadata": {},
   "outputs": [
    {
     "name": "stdout",
     "output_type": "stream",
     "text": [
      "1^3=1\n",
      "2^3=8\n",
      "3^3=27\n",
      "4^3=64\n",
      "5^3=125\n"
     ]
    }
   ],
   "source": [
    "for  n in range(1,6):\n",
    "        print (\"%d^3=%d\" %(n, n**3))\n"
   ]
  },
  {
   "cell_type": "code",
   "execution_count": 18,
   "metadata": {},
   "outputs": [
    {
     "name": "stdout",
     "output_type": "stream",
     "text": [
      "1,2,3,4,5,6,7,8,9,10,"
     ]
    }
   ],
   "source": [
    "#FOR lista de números\n",
    "for i in range(1,11):\n",
    "    print(i,end=\",\")"
   ]
  },
  {
   "cell_type": "markdown",
   "metadata": {},
   "source": [
    "## Distintas formas de representación con distintos formatos:"
   ]
  },
  {
   "cell_type": "code",
   "execution_count": 4,
   "metadata": {},
   "outputs": [
    {
     "name": "stdout",
     "output_type": "stream",
     "text": [
      "1 1 1\n",
      "2 4 8\n",
      "3 9 27\n",
      "4 16 64\n",
      "5 25 125\n",
      "6 36 216\n",
      "7 49 343\n",
      "8 64 512\n",
      "9 81 729\n",
      "10 100 1000\n"
     ]
    }
   ],
   "source": [
    "for x in range(1,11):\n",
    "     print (x,x*x,x*x*x)"
   ]
  },
  {
   "cell_type": "code",
   "execution_count": 24,
   "metadata": {},
   "outputs": [
    {
     "name": "stdout",
     "output_type": "stream",
     "text": [
      "   1    1    1\n",
      "   2    4    8\n",
      "   3    9   27\n",
      "   4   16   64\n",
      "   5   25  125\n",
      "   6   36  216\n",
      "   7   49  343\n",
      "   8   64  512\n",
      "   9   81  729\n",
      "  10  100 1000\n"
     ]
    }
   ],
   "source": [
    "for x in range(1,11):\n",
    "     print (\"%4d %4d %4d\" %(x,x*x,x*x*x))\n",
    "       "
   ]
  },
  {
   "cell_type": "code",
   "execution_count": 29,
   "metadata": {},
   "outputs": [
    {
     "name": "stdout",
     "output_type": "stream",
     "text": [
      "   1    1    1\n",
      "   2    4    8\n",
      "   3    9   27\n",
      "   4   16   64\n",
      "   5   25  125\n",
      "   6   36  216\n",
      "   7   49  343\n",
      "   8   64  512\n",
      "   9   81  729\n",
      "  10  100 1000\n"
     ]
    }
   ],
   "source": [
    "for x in range(1,11):\n",
    "     print (repr(x).rjust(4),(repr(x*x).rjust(4)),repr(x*x*x).rjust(4))"
   ]
  },
  {
   "cell_type": "code",
   "execution_count": null,
   "metadata": {},
   "outputs": [],
   "source": [
    "For x in range(1,11):\n",
    "     print (repr(x),rjust(2), )"
   ]
  },
  {
   "cell_type": "code",
   "execution_count": 8,
   "metadata": {},
   "outputs": [
    {
     "name": "stdout",
     "output_type": "stream",
     "text": [
      "78.5398105\n"
     ]
    }
   ],
   "source": [
    "# Calcula el área de una circunferencia.\n",
    "radio = 5\n",
    "area = 3.14159242 * radio ** 2\n",
    "print(area)"
   ]
  },
  {
   "cell_type": "code",
   "execution_count": 6,
   "metadata": {},
   "outputs": [
    {
     "name": "stdout",
     "output_type": "stream",
     "text": [
      "9,8,7,6,5,4,3,2,1,0,....Hasta la vista, Baby.\n"
     ]
    }
   ],
   "source": [
    "# FOR \"sayonara baby!!!\"\"\n",
    "num=10\n",
    "for i in range(1,num+1):\n",
    "     print(num-i,end=\",\")\n",
    "print(\"....Hasta la vista, Baby.\")  #un poco de humor"
   ]
  },
  {
   "cell_type": "code",
   "execution_count": 2,
   "metadata": {},
   "outputs": [
    {
     "name": "stdout",
     "output_type": "stream",
     "text": [
      "contando en 2 en 2:  1\n",
      "contando en 2 en 2:  3\n",
      "contando en 2 en 2:  5\n",
      "contando en 2 en 2:  7\n",
      "contando en 2 en 2:  9\n"
     ]
    }
   ],
   "source": [
    "for j in range(1,11,2):  #range tambien se puede usar de una forma no consecutiva\n",
    "    print(\"contando en 2 en 2: \",j)"
   ]
  },
  {
   "cell_type": "code",
   "execution_count": 14,
   "metadata": {},
   "outputs": [
    {
     "name": "stdout",
     "output_type": "stream",
     "text": [
      "10,9,8,7,6,5,4,3,2,1,"
     ]
    }
   ],
   "source": [
    "for num in range(10,0,-1):\n",
    "    print(num,end=\",\")"
   ]
  },
  {
   "cell_type": "markdown",
   "metadata": {},
   "source": [
    "En  ocasiones, queremos saber tanto el elemento como su índice asociado sobre el que estamos iterando. Para ello usaremos **enumerate**"
   ]
  },
  {
   "cell_type": "code",
   "execution_count": 107,
   "metadata": {},
   "outputs": [
    {
     "name": "stdout",
     "output_type": "stream",
     "text": [
      "0 -  H\n",
      "1 -  O\n",
      "2 -  L\n",
      "3 -  A\n"
     ]
    }
   ],
   "source": [
    "a=\"HOLA\"\n",
    "for posición,letra in enumerate(a):\n",
    "    print (posición,\"- \",letra)"
   ]
  },
  {
   "cell_type": "markdown",
   "metadata": {},
   "source": [
    "En python se puede salir del bucle `for` mediante la sentencia `break` y pasar a la iteración  siguiente con la sentencia `continue`"
   ]
  },
  {
   "cell_type": "code",
   "execution_count": 109,
   "metadata": {},
   "outputs": [
    {
     "name": "stdout",
     "output_type": "stream",
     "text": [
      "1,2,3,4,"
     ]
    }
   ],
   "source": [
    "a=[1,2,3,4,0,3,5]\n",
    "for i in a:\n",
    "    if i==0:\n",
    "        break\n",
    "    print (i,end=\",\") \n",
    "    "
   ]
  },
  {
   "cell_type": "code",
   "execution_count": 110,
   "metadata": {},
   "outputs": [
    {
     "name": "stdout",
     "output_type": "stream",
     "text": [
      "1,2,3,4,3,5,"
     ]
    }
   ],
   "source": [
    "a=[1,2,3,4,0,3,5]\n",
    "for i in a:\n",
    "    if i==0:\n",
    "        continue\n",
    "    print (i,end=\",\") \n",
    "    "
   ]
  },
  {
   "cell_type": "markdown",
   "metadata": {},
   "source": [
    "EJERCICIO: Escribe un programa que utilice un bucle para crear una lista de números del 1 al 100 y luego la muestre."
   ]
  },
  {
   "cell_type": "markdown",
   "metadata": {},
   "source": [
    "EJERCICIO: Escribe un programa que a partir de una tupla cualquiera, obtenga una lista con todos sus elementos."
   ]
  },
  {
   "cell_type": "markdown",
   "metadata": {},
   "source": [
    "EJERCICIO: Escribe un programa que represente los números múltiplos de 7 entre el 1 y el 1000. Utiliza range(1001) dentro  del bucle for con los if necesarios.  Después haz lo mismo empleando  un  range con tres parámetros."
   ]
  },
  {
   "cell_type": "markdown",
   "metadata": {},
   "source": [
    "El lazo for no solo permite la sentencia range, puede iterar sobre una sencuencia de elementos, nombrando por ejemplo: una cadena de caracteres, funciones, listas, etc. For también permite continue y break."
   ]
  },
  {
   "cell_type": "code",
   "execution_count": 99,
   "metadata": {},
   "outputs": [
    {
     "name": "stdout",
     "output_type": "stream",
     "text": [
      "Letra: J\n",
      "Letra: U\n",
      "Letra: N\n",
      "i\n",
      "Letra: O\n",
      "Letra: R\n"
     ]
    }
   ],
   "source": [
    "for letter in \"JUNIOR\":\n",
    "    if letter==\"I\":\n",
    "        print(\"i\")\n",
    "    else:\n",
    "        print(\"Letra:\", letter)"
   ]
  },
  {
   "cell_type": "code",
   "execution_count": 14,
   "metadata": {},
   "outputs": [
    {
     "name": "stdout",
     "output_type": "stream",
     "text": [
      "1 1\n",
      "2 1\n",
      "3 1\n",
      "4 1\n"
     ]
    }
   ],
   "source": [
    "# FOR pareja de números\n",
    "for i in range(1,5):\n",
    "    for j in range(1,2):\n",
    "        print(i,j)"
   ]
  },
  {
   "cell_type": "code",
   "execution_count": 12,
   "metadata": {},
   "outputs": [
    {
     "name": "stdout",
     "output_type": "stream",
     "text": [
      "19\n"
     ]
    }
   ],
   "source": [
    "# FUNCIÓN MÁXIMO DE DOS NÚMEROS. \n",
    "# Definir una función max() que tome como argumento dos números y devuelva el mayor de ellos. \n",
    "# Es cierto que python tiene una función max() incorporada, pero hacerla nosotros mismos es un muy buen ejercicio.\n",
    "\n",
    "def max (n1, n2):\n",
    "    if n1 < n2:\n",
    "        print (n2)\n",
    "    elif n2 < n1:\n",
    "        print (n1)\n",
    "    else:\n",
    "        print (\"Son iguales\")\n",
    "max(3,19)\n",
    "\n",
    "#Aclaro que uso el print para llamar a la función de la manera max(8, 5).También se puede usar return.\n"
   ]
  },
  {
   "cell_type": "code",
   "execution_count": 11,
   "metadata": {},
   "outputs": [
    {
     "name": "stdout",
     "output_type": "stream",
     "text": [
      "55\n"
     ]
    }
   ],
   "source": [
    "# FUNCIÓN MÁXIMO DE TRES NÚMEROS. \n",
    "# Definir una función max_de_tres(), que tome tres números como argumentos y devuelva el mayor de ellos.\n",
    "def max(n1,n2,n3):\n",
    "    if n1>n2 and n1>n3:\n",
    "        print (n1)\n",
    "    elif n2>n1 and n2>n3:\n",
    "        print (n2)\n",
    "    elif n3 > n1 and n3>n2:\n",
    "        print (n3)\n",
    "    else:\n",
    "        print (\"Son iguales\")\n",
    "max(23,3,55)\n",
    "\n",
    "#Otra vez uso el print en ves del return. \n",
    "#Dependiendo para que lo necesitemos se usa uno u el otro. \n",
    "#En este caso solo quiero mostrar por pantalla cual es el mayor de los 3 números.\n"
   ]
  },
  {
   "cell_type": "code",
   "execution_count": 10,
   "metadata": {},
   "outputs": [
    {
     "data": {
      "text/plain": [
       "6"
      ]
     },
     "execution_count": 10,
     "metadata": {},
     "output_type": "execute_result"
    }
   ],
   "source": [
    "# FUNCIÓN LONGITUD DE UNA CADENA DE DATOS\n",
    "# Definir una función que calcule la longitud de una lista o una cadena dada.\n",
    "# Es cierto que python tiene la función len() incorporada, pero hacer su algoritmo resulta un buen  ejercicio.\n",
    "def largo_cadena (lista):\n",
    "    cont = 0\n",
    "    for i in lista:\n",
    "        cont += 1\n",
    "    return cont\n",
    "largo_cadena(\"toledo\")\n",
    "\n",
    "# En este ejercicio utilizo return en vez de print. \n",
    "#Para ver el resultado tendríamos que llamar la función de la manera: \n",
    "# print largo_cadena ([1,2,3,4]) o print largo_cadena (\"hola\")\n"
   ]
  },
  {
   "cell_type": "code",
   "execution_count": 9,
   "metadata": {},
   "outputs": [
    {
     "data": {
      "text/plain": [
       "True"
      ]
     },
     "execution_count": 9,
     "metadata": {},
     "output_type": "execute_result"
    }
   ],
   "source": [
    "# COMPARANDO DOS LISTAS con FOR\n",
    "# Definir una función superposicion() que tome dos listas y devuelva True si tienen al menos 1 miembro en común\n",
    "# o devuelva False de lo contrario. Escribir la función usando el bucle for anidado.\n",
    "def superposicion (lista1, lista2):\n",
    "    for i in lista1:\n",
    "        for x in lista2:\n",
    "            if i == x:\n",
    "                return True\n",
    "    return False\n",
    "superposicion([1,2,3,],[3,4,5])"
   ]
  },
  {
   "cell_type": "code",
   "execution_count": 15,
   "metadata": {},
   "outputs": [
    {
     "data": {
      "text/plain": [
       "7"
      ]
     },
     "execution_count": 15,
     "metadata": {},
     "output_type": "execute_result"
    }
   ],
   "source": [
    "# MÁXIMO DE UN  LISTA con FUNCIÓN y con FOR.  \n",
    "# Escribir una función max_in_list() que tome una lista de números y devuelva el mas grande.\n",
    "#La función max() ya viene incorporada en python, pero vamos a diseñar un algoritmo\n",
    "def max_in_lista(lista):\n",
    "    inicio = 0\n",
    "    for i in lista:\n",
    "        if i > inicio:   #cuidado  con la tabulación despues de dos puntos\n",
    "            inicio = i   #aquí también requiere sangrado por ir después de dos puntos\n",
    "    return inicio\n",
    "max_in_lista([1,3,5,3,2,7,2])\n"
   ]
  },
  {
   "cell_type": "code",
   "execution_count": 19,
   "metadata": {},
   "outputs": [
    {
     "data": {
      "text/plain": [
       "'listados'"
      ]
     },
     "execution_count": 19,
     "metadata": {},
     "output_type": "execute_result"
    }
   ],
   "source": [
    "#LA PALABRA MÁS LARGA\n",
    "#Escribir una función mas_larga() que tome una lista de palabras y devuelva la más larga. \n",
    "def mas_larga(lista):\n",
    "    mas_larga = \"\"\n",
    "    for i in lista:\n",
    "        if len(i) > len(mas_larga):\n",
    "            mas_larga = i\n",
    "    return mas_larga\n",
    "mas_larga([\"casa\",\"comida\",\"listados\"])"
   ]
  },
  {
   "cell_type": "code",
   "execution_count": 20,
   "metadata": {},
   "outputs": [
    {
     "name": "stdout",
     "output_type": "stream",
     "text": [
      "comida\n"
     ]
    }
   ],
   "source": [
    "#PALABRAS CON MÁS DE UN CARÁCTER\n",
    "# Escribir una función filtrar_palabras() que tome una lista de palabras y un entero n,\n",
    "# y devuelva las palabras que tengan más de n caracteres.\n",
    "def filtrar_palabras(lista, n):\n",
    "    for i in lista:\n",
    "        if len(i) > n:\n",
    "            print (i)\n",
    "filtrar_palabras([\"casa\",\"comida\",\"hogar\"],5)\n"
   ]
  },
  {
   "cell_type": "code",
   "execution_count": 28,
   "metadata": {},
   "outputs": [
    {
     "name": "stdout",
     "output_type": "stream",
     "text": [
      "La cadena tiene 2 mayuscula/s\n"
     ]
    }
   ],
   "source": [
    "#CUENTA EL NÚMERO DE MAYÚSCULAS\n",
    "# Escribir un programa que le diga al usuario que ingrese una cadena.\n",
    "#El programa tiene que evaluar la cadena y decir cuántas letras mayúsculas tiene.\n",
    "def c_mayusculas (cadena):\n",
    "    cont = 0\n",
    "    for i in cadena:\n",
    "        if i != i.lower(): #Recordar que lower() convierte una cadena en minúsculas\n",
    "            cont += 1\n",
    "    print  (\"La cadena tiene\", cont, \"mayuscula/s\")\n",
    "c_mayusculas(\"Holas, Sofía: ¿que  tal estás?\")"
   ]
  },
  {
   "cell_type": "code",
   "execution_count": 14,
   "metadata": {},
   "outputs": [
    {
     "name": "stdout",
     "output_type": "stream",
     "text": [
      "3 es un número primo\n",
      "4 No es primo porque es igual a 2 * 2\n",
      "5 es un número primo\n",
      "5 es un número primo\n",
      "5 es un número primo\n",
      "6 No es primo porque es igual a 2 * 3\n",
      "7 es un número primo\n",
      "7 es un número primo\n",
      "7 es un número primo\n",
      "7 es un número primo\n",
      "7 es un número primo\n",
      "8 No es primo porque es igual a 2 * 4\n",
      "9 es un número primo\n",
      "9 No es primo porque es igual a 3 * 3\n"
     ]
    }
   ],
   "source": [
    "# númereros primos  hasta el 10\n",
    "for  numero in  range(2,10):\n",
    "    for x in range(2,numero):\n",
    "        if numero % x==0:\n",
    "            print (numero,\"No es primo porque es igual a: \", x, \"*\", int(numero/x))\n",
    "            break\n",
    "        else:\n",
    "            print (numero, \"es un número primo\")"
   ]
  },
  {
   "cell_type": "markdown",
   "metadata": {},
   "source": [
    "# BUCLES CON WHILE\n",
    "\n",
    "http://www.pythondiario.com/search?q=while\n",
    "\n",
    "http://infohost.nmt.edu/tcc/help/pubs/lang/pytut/while-stmt.html\n",
    "\n",
    "The code block inside the while loop is repeated while the loop condition is evaluated as true.Syntax:\n",
    "\n",
    "`\n",
    "while <condition>:\n",
    "    <code block>\n",
    "    continue\n",
    "    break\n",
    "else:\n",
    "    <code block>\n",
    "`\n",
    "\n",
    "The while loop is appropriate when there is no way to determine how many iterations will occur and there is a sequence to follow.\n",
    "\n",
    "El bucle **while** evalúa una condición y, si es verdadera, ejecuta el **bloque de código interno**. Continúa evaluando y ejecutando mientras la condición sea verdadera. Se define con la palabra clave while seguida de la condición, y a continuación el bloque de código interno: \n",
    "```python\n",
    ">>> numero = 0\n",
    ">>> while numero < 10:\n",
    "        print numero,\n",
    "        numero += 1  #un buen programador modificará las variables de control al finalizar el ciclo while\n",
    "...\n",
    "0 1 2 3 4 5 6 7 8 9\n",
    "```"
   ]
  },
  {
   "cell_type": "code",
   "execution_count": 10,
   "metadata": {},
   "outputs": [
    {
     "name": "stdout",
     "output_type": "stream",
     "text": [
      "4950\n"
     ]
    }
   ],
   "source": [
    "# Sum 0 to 99\n",
    "s = 0\n",
    "x = 1\n",
    "\n",
    "while x < 100:\n",
    "    s = s + x\n",
    "    x = x + 1\n",
    "print (s)"
   ]
  },
  {
   "cell_type": "code",
   "execution_count": 29,
   "metadata": {},
   "outputs": [
    {
     "name": "stdout",
     "output_type": "stream",
     "text": [
      "La variable j todav\u0013\u0010a es negativa\n",
      "La variable j todav\u0013\u0010a es negativa\n",
      "La variable j todav\u0013\u0010a es negativa\n",
      "La variable j todav\u0013\u0010a es negativa\n",
      "La variable j todav\u0013\u0010a es negativa\n"
     ]
    }
   ],
   "source": [
    "j=-5\n",
    "while j<0:\n",
    "    print('La variable j todav\u0013\u0010a es negativa')\n",
    "    j=j+1"
   ]
  },
  {
   "cell_type": "code",
   "execution_count": 29,
   "metadata": {},
   "outputs": [
    {
     "name": "stdout",
     "output_type": "stream",
     "text": [
      "1,2,3,4,5,6,7,8,9,10,"
     ]
    }
   ],
   "source": [
    "count=1\n",
    "while count<=10:\n",
    "    print(count,end=\",\")\n",
    "    count+=1"
   ]
  },
  {
   "cell_type": "code",
   "execution_count": 38,
   "metadata": {},
   "outputs": [
    {
     "name": "stdout",
     "output_type": "stream",
     "text": [
      "1, 2, 4, 8, 16, 32, 64, "
     ]
    }
   ],
   "source": [
    "i = 1\n",
    "while i < 100:\n",
    "     print (i,end=\", \")\n",
    "     i = i * 2\n"
   ]
  },
  {
   "cell_type": "code",
   "execution_count": 17,
   "metadata": {},
   "outputs": [
    {
     "name": "stdout",
     "output_type": "stream",
     "text": [
      "## Calcule su promedio##\n",
      "Ingrese número: 10\n",
      "Ingrese número : 2\n",
      "Ingrese número : 5\n",
      "Ingrese número : 4\n",
      "Ingrese número : 5\n",
      "Ingrese número : 4\n",
      "Ingrese número : -1\n",
      "\n",
      "El promedio de  6 números es:  5.0\n"
     ]
    }
   ],
   "source": [
    "## WHILE promedio de varios números introducidos hasta meter -1\n",
    "print(\"## Calcule su promedio##\")\n",
    "suma=0;cont=0;prom=0\n",
    "num=int(input(\"Ingrese número: \"))\n",
    "while num!=-1:\n",
    "    suma+=num\n",
    "    cont+=1\n",
    "    num=int(input(\"Ingrese número : \"))\n",
    "prom=suma/cont\n",
    "print(\"\\nEl promedio de \", cont,\"números es: \", prom)"
   ]
  },
  {
   "cell_type": "markdown",
   "metadata": {},
   "source": [
    "### FUNCIONES\n",
    "\n",
    "http://infohost.nmt.edu/tcc/help/pubs/lang/pytut/def.html\n",
    "\n",
    "Python permite definir  funciones con una sintánxis muy sencilla, tras la palabra reservada `def`se escribe el nombre de la función, después entre paréntesis el nombre de los parámetros y luego dos puntos. Las líneas que se escriban a continuación formarán el `bloque`de la función que deberá ir  obligatoriamente  sangrada (mejor con `TAB`) "
   ]
  },
  {
   "cell_type": "code",
   "execution_count": 113,
   "metadata": {},
   "outputs": [],
   "source": [
    "def fun(x):\n",
    "    if(x>0):\n",
    "        return print(\"El número  es mayor que 0\")\n",
    "    else:\n",
    "        return print(\"El número es igual a 0\")"
   ]
  },
  {
   "cell_type": "code",
   "execution_count": 114,
   "metadata": {},
   "outputs": [
    {
     "name": "stdout",
     "output_type": "stream",
     "text": [
      "El número  es mayor que 0\n"
     ]
    }
   ],
   "source": [
    "fun(5)"
   ]
  },
  {
   "cell_type": "code",
   "execution_count": 5,
   "metadata": {},
   "outputs": [],
   "source": [
    "def frutería(kilos_Frutas, tipo_Fruta):   #ojo con las mayúsculas\n",
    "    print (\"Hoy tenemos %d kilos de %s recién cogidas.\" % (kilos_Frutas, tipo_Fruta))\n"
   ]
  },
  {
   "cell_type": "code",
   "execution_count": 6,
   "metadata": {},
   "outputs": [
    {
     "name": "stdout",
     "output_type": "stream",
     "text": [
      "Hoy tenemos 20 kilos de peras recién cogidas.\n"
     ]
    }
   ],
   "source": [
    "frutería(20,\"peras\")"
   ]
  },
  {
   "cell_type": "code",
   "execution_count": 15,
   "metadata": {},
   "outputs": [],
   "source": [
    "# una función con retorno de un valor concreto\n",
    "def al_cuadrado(x):\n",
    "    \"\"\" \n",
    "        Esta función devuelve el cuadrado de un número (información obtenida con shift+tab sobre la instrucción)\n",
    "        Parámetros:\n",
    "        ===================\n",
    "        x int\n",
    "        \n",
    "        return x**2\n",
    "    \"\"\"\n",
    "    return (x**2)\n"
   ]
  },
  {
   "cell_type": "code",
   "execution_count": 13,
   "metadata": {},
   "outputs": [
    {
     "data": {
      "text/plain": [
       "400"
      ]
     },
     "execution_count": 13,
     "metadata": {},
     "output_type": "execute_result"
    }
   ],
   "source": [
    "al_cuadrado(20)"
   ]
  },
  {
   "cell_type": "code",
   "execution_count": 14,
   "metadata": {},
   "outputs": [],
   "source": [
    "al_cuadrado?"
   ]
  },
  {
   "cell_type": "code",
   "execution_count": 128,
   "metadata": {},
   "outputs": [],
   "source": [
    "def suma(x, y = 2):\n",
    "    return x + y # Retornar la suma del valor de la variable \"x\" y el valor de \"y\"\n"
   ]
  },
  {
   "cell_type": "code",
   "execution_count": 129,
   "metadata": {},
   "outputs": [
    {
     "data": {
      "text/plain": [
       "12"
      ]
     },
     "execution_count": 129,
     "metadata": {},
     "output_type": "execute_result"
    }
   ],
   "source": [
    "suma(10)"
   ]
  },
  {
   "cell_type": "code",
   "execution_count": 130,
   "metadata": {},
   "outputs": [
    {
     "data": {
      "text/plain": [
       "30"
      ]
     },
     "execution_count": 130,
     "metadata": {},
     "output_type": "execute_result"
    }
   ],
   "source": [
    "suma(10,20) #ahora el valor de y se ver forzado a cambiar de valor"
   ]
  },
  {
   "cell_type": "markdown",
   "metadata": {},
   "source": [
    "Otra forma de escribir una función en Python es utilizando la instrucción `lambda` en vez de `def`. Esta otra forma es más escueta pero menos utilizada:"
   ]
  },
  {
   "cell_type": "code",
   "execution_count": null,
   "metadata": {},
   "outputs": [],
   "source": [
    "suma = lambda x, y: x + y"
   ]
  },
  {
   "cell_type": "code",
   "execution_count": 131,
   "metadata": {},
   "outputs": [
    {
     "data": {
      "text/plain": [
       "30"
      ]
     },
     "execution_count": 131,
     "metadata": {},
     "output_type": "execute_result"
    }
   ],
   "source": [
    "suma(10,20)"
   ]
  },
  {
   "cell_type": "code",
   "execution_count": 1,
   "metadata": {},
   "outputs": [],
   "source": [
    "def factorial(x):\n",
    "    assert x >= 0 and x % 1 == 0, \"x debe ser un entero mayor o igual a 0.\"\n",
    "    if x == 0:\n",
    "        return 1\n",
    "    else:\n",
    "        return x * factorial(x - 1)"
   ]
  },
  {
   "cell_type": "code",
   "execution_count": 2,
   "metadata": {},
   "outputs": [
    {
     "data": {
      "text/plain": [
       "3628800"
      ]
     },
     "execution_count": 2,
     "metadata": {},
     "output_type": "execute_result"
    }
   ],
   "source": [
    "factorial(10)"
   ]
  },
  {
   "cell_type": "markdown",
   "metadata": {},
   "source": [
    "Algunas funciones predefinidas:"
   ]
  },
  {
   "cell_type": "code",
   "execution_count": 116,
   "metadata": {},
   "outputs": [
    {
     "data": {
      "text/plain": [
       "10"
      ]
     },
     "execution_count": 116,
     "metadata": {},
     "output_type": "execute_result"
    }
   ],
   "source": [
    "x=-10\n",
    "x=abs(x)\n",
    "x"
   ]
  },
  {
   "cell_type": "code",
   "execution_count": 117,
   "metadata": {},
   "outputs": [
    {
     "data": {
      "text/plain": [
       "10.0"
      ]
     },
     "execution_count": 117,
     "metadata": {},
     "output_type": "execute_result"
    }
   ],
   "source": [
    "float(x)"
   ]
  },
  {
   "cell_type": "code",
   "execution_count": 119,
   "metadata": {},
   "outputs": [
    {
     "data": {
      "text/plain": [
       "7"
      ]
     },
     "execution_count": 119,
     "metadata": {},
     "output_type": "execute_result"
    }
   ],
   "source": [
    "a=[5,2,3,4,7]\n",
    "max(a)"
   ]
  },
  {
   "cell_type": "code",
   "execution_count": 121,
   "metadata": {},
   "outputs": [
    {
     "data": {
      "text/plain": [
       "97"
      ]
     },
     "execution_count": 121,
     "metadata": {},
     "output_type": "execute_result"
    }
   ],
   "source": [
    "ord(\"a\")  #devuelve el código ASCII del carácter"
   ]
  },
  {
   "cell_type": "code",
   "execution_count": 122,
   "metadata": {},
   "outputs": [
    {
     "data": {
      "text/plain": [
       "8"
      ]
     },
     "execution_count": 122,
     "metadata": {},
     "output_type": "execute_result"
    }
   ],
   "source": [
    "pow(2,3)"
   ]
  },
  {
   "cell_type": "code",
   "execution_count": 15,
   "metadata": {},
   "outputs": [],
   "source": [
    "from math import *  # importamos el métdo raiz del objeto math\n",
    "def  hipotenusa(x,y):\n",
    "    h=sqrt(x**2+y**2)\n",
    "    return h   "
   ]
  },
  {
   "cell_type": "code",
   "execution_count": 16,
   "metadata": {},
   "outputs": [
    {
     "data": {
      "text/plain": [
       "5.830951894845301"
      ]
     },
     "execution_count": 16,
     "metadata": {},
     "output_type": "execute_result"
    }
   ],
   "source": [
    "hipotenusa(3,5)"
   ]
  },
  {
   "cell_type": "code",
   "execution_count": 14,
   "metadata": {},
   "outputs": [
    {
     "data": {
      "text/plain": [
       "5.830951894845301"
      ]
     },
     "execution_count": 14,
     "metadata": {},
     "output_type": "execute_result"
    }
   ],
   "source": [
    "from math import *   # en  este caso podemos obtener la función hipotenusa del objeto math\n",
    "hypot(3,5)"
   ]
  },
  {
   "cell_type": "code",
   "execution_count": null,
   "metadata": {},
   "outputs": [],
   "source": []
  }
 ],
 "metadata": {
  "kernelspec": {
   "display_name": "Python 3",
   "language": "python",
   "name": "python3"
  },
  "language_info": {
   "codemirror_mode": {
    "name": "ipython",
    "version": 3
   },
   "file_extension": ".py",
   "mimetype": "text/x-python",
   "name": "python",
   "nbconvert_exporter": "python",
   "pygments_lexer": "ipython3",
   "version": "3.6.5"
  }
 },
 "nbformat": 4,
 "nbformat_minor": 2
}
