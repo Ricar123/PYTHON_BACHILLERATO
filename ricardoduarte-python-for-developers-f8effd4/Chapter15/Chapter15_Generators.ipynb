{
 "metadata": {
  "name": ""
 },
 "nbformat": 3,
 "nbformat_minor": 0,
 "worksheets": [
  {
   "cells": [
    {
     "cell_type": "markdown",
     "metadata": {},
     "source": [
      "[Python for Developers](http://ricardoduarte.github.io/python-for-developers/#content)\n",
      "===================================\n",
      "First Edition\n",
      "-----------------------------------\n",
      "\n",
      "Chapter 15: Generators\n",
      "=============================\n",
      "_____________________________\n",
      "Functions generally follow the conventional process flow, return values and quit. Generators work similarly, but remember the state of the processing between calls, staying in memory and returning the next item expected when activated.\n",
      "\n",
      "Generators have several advantages over conventional functions:\n",
      "\n",
      "+ *Lazy Evaluation*: generators are only processed when it is really needed, saving processing resources. \n",
      "+ They reduce the need to create lists.\n",
      "+ They allow working with unlimited sequences of elements.\n",
      "\n",
      "Generators are usually called through a *for* loop. The syntax is similar to the traditional function, but with the *yield* instruction substituting for *return*. In each new iteraction, *yield* returns the next value.\n",
      "\n",
      "Exemplo:"
     ]
    },
    {
     "cell_type": "code",
     "collapsed": false,
     "input": [
      "def gen_pares():\n",
      "    \"\"\"\n",
      "    Generates even numbers from 0 to 20\n",
      "    \"\"\"\n",
      "    i = 0\n",
      "\n",
      "    while i <= 20:\n",
      "        yield i\n",
      "        i += 2\n",
      "\n",
      "# Shows each number and goes to the next\n",
      "for n in gen_pares():\n",
      "    print n"
     ],
     "language": "python",
     "metadata": {},
     "outputs": [
      {
       "output_type": "stream",
       "stream": "stdout",
       "text": [
        "0\n",
        "2\n",
        "4\n",
        "6\n",
        "8\n",
        "10\n",
        "12\n",
        "14\n",
        "16\n",
        "18\n",
        "20\n"
       ]
      }
     ],
     "prompt_number": 4
    },
    {
     "cell_type": "markdown",
     "metadata": {},
     "source": [
      "Another example:"
     ]
    },
    {
     "cell_type": "code",
     "collapsed": false,
     "input": [
      "import os\n",
      "\n",
      "# Finds files recursively\n",
      "def find(path='.'):\n",
      "\n",
      "    for item in os.listdir(path):\n",
      "        fn = os.path.normpath(os.path.join(path, item))\n",
      "\n",
      "        if os.path.isdir(fn):\n",
      "\n",
      "            for f in find(fn):\n",
      "                yield f\n",
      "\n",
      "        else:\n",
      "            yield fn\n",
      "\n",
      "# At each interaction, the generator yeld a new file name\n",
      "for fn in find():\n",
      "    print fn"
     ],
     "language": "python",
     "metadata": {},
     "outputs": [
      {
       "output_type": "stream",
       "stream": "stdout",
       "text": [
        ".ipynb_checkpoints/Chapter15_Generators-checkpoint.ipynb\n",
        "Chapter15_Generators.ipynb\n"
       ]
      }
     ],
     "prompt_number": 2
    },
    {
     "cell_type": "markdown",
     "metadata": {},
     "source": [
      "There are many generators that are built in to the lanaguage, like <span class=\"note\" title=\"The xrange() generator can replace the range() function most of the times and has the same syntax, while spending less memory.\">xrange()</span>. Moreover, in the module *itertools*, many useful generators are defined.\n",
      "\n",
      "To convert the output of a generator into a list:\n",
      "\n",
      "    alist = list(generator())\n",
      "\n",
      "That way, all the items will be generated at once."
     ]
    },
    {
     "cell_type": "code",
     "collapsed": false,
     "input": [],
     "language": "python",
     "metadata": {},
     "outputs": [
      {
       "html": [
        "<style>\n",
        "    @font-face {\n",
        "        font-family: \"Computer Modern\";\n",
        "        src: url('http://mirrors.ctan.org/fonts/cm-unicode/fonts/otf/cmunss.otf');\n",
        "    }\n",
        "    div.cell{\n",
        "        width:800px;\n",
        "        margin-left:16% !important;\n",
        "        margin-right:auto;\n",
        "    }\n",
        "    h1 {\n",
        "        font-family: Helvetica, serif;\n",
        "    }\n",
        "    h4{\n",
        "        margin-top:12px;\n",
        "        margin-bottom: 3px;\n",
        "       }\n",
        "    div.text_cell_render{\n",
        "        font-family: Computer Modern, \"Helvetica Neue\", Arial, Helvetica, Geneva, sans-serif;\n",
        "        line-height: 145%;\n",
        "        font-size: 130%;\n",
        "        width:800px;\n",
        "        margin-left:auto;\n",
        "        margin-right:auto;\n",
        "    }\n",
        "    .CodeMirror{\n",
        "            font-family: \"Source Code Pro\", source-code-pro,Consolas, monospace;\n",
        "    }\n",
        "    .note{\n",
        "            border-bottom: 1px black dotted;\n",
        "    }\n",
        "    .prompt{\n",
        "        display: None;\n",
        "    }\n",
        "    .text_cell_render h5 {\n",
        "        font-weight: 300;\n",
        "        font-size: 16pt;\n",
        "        color: #4057A1;\n",
        "        font-style: italic;\n",
        "        margin-bottom: .5em;\n",
        "        margin-top: 0.5em;\n",
        "        display: block;\n",
        "    }\n",
        "    \n",
        "    .warning{\n",
        "        color: rgb( 240, 20, 20 )\n",
        "        }  \n",
        "</style>\n",
        "<script>\n",
        "    MathJax.Hub.Config({\n",
        "                        TeX: {\n",
        "                           extensions: [\"AMSmath.js\"]\n",
        "                           },\n",
        "                tex2jax: {\n",
        "                    inlineMath: [ ['$','$'], [\"\\\\(\",\"\\\\)\"] ],\n",
        "                    displayMath: [ ['$$','$$'], [\"\\\\[\",\"\\\\]\"] ]\n",
        "                },\n",
        "                displayAlign: 'center', // Change this to 'center' to center equations.\n",
        "                \"HTML-CSS\": {\n",
        "                    styles: {'.MathJax_Display': {\"margin\": 4}}\n",
        "                }\n",
        "        });\n",
        "</script>"
       ],
       "output_type": "pyout",
       "prompt_number": 1,
       "text": [
        "<IPython.core.display.HTML at 0x50f8f98>"
       ]
      }
     ],
     "prompt_number": 1
    }
   ],
   "metadata": {}
  }
 ]
}
