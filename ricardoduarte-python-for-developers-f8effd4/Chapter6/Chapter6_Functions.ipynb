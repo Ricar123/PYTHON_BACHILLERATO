{
 "cells": [
  {
   "cell_type": "markdown",
   "metadata": {},
   "source": [
    "[Python for Developers](http://ricardoduarte.github.io/python-for-developers/#content)\n",
    "===================================\n",
    "First Edition\n",
    "-----------------------------------\n",
    "\n",
    "Chapter 6: Functions\n",
    "=============================\n",
    "_____________________________\n",
    "Functions are blocks of code identified by a name, which can receive predetermined parameters.\n",
    "\n",
    "In Python, functions:\n",
    "\n",
    "+ Can return objects or not.\n",
    "+ Accept *Doc Strings*.\n",
    "+ Accept optional parameters (with *defaults* ). If no parameter is passed, it will be equal to the *default* defined in the function.\n",
    "+ Accepts parameters to be passed by name. In this case, the order in which the parameters were passed does not matter.\n",
    "+ Have their own namespace (local scope), and therefore may obscure definitions of global scope.\n",
    "+ Can have their properties changed (usually by decorators).\n",
    "\n",
    "*Doc Strings* are strings that are attached to a Python structure. In functions, *Doc strings* are placed within the body of the function, usually at the beginning. The goal of *Doc Strings* is to be used as documentation for this structure.\n",
    "\n",
    "Syntax:\n",
    "\n",
    "    def func(parameter1, parameter2=default_value):\n",
    "        \"\"\"\n",
    "        Doc String\n",
    "        \"\"\"\n",
    "        <code block>\n",
    "        return value\n",
    "\n",
    "The parameters with *default* value must be declared after the ones without *default* value.\n",
    "\n",
    "Example (factorial with recursion):"
   ]
  },
  {
   "cell_type": "code",
   "execution_count": 2,
   "metadata": {},
   "outputs": [
    {
     "name": "stdout",
     "output_type": "stream",
     "text": [
      "120\n"
     ]
    }
   ],
   "source": [
    "# Fatorial implemented with recursion\n",
    "\n",
    "def factorial(num):\n",
    "\n",
    "    if num <= 1:\n",
    "        return 1\n",
    "    else:\n",
    "        return(num * factorial(num - 1))\n",
    "\n",
    "# Testing factorial()\n",
    "print factorial(5)"
   ]
  },
  {
   "cell_type": "markdown",
   "metadata": {},
   "source": [
    "Example (factorial without recursion):"
   ]
  },
  {
   "cell_type": "code",
   "execution_count": 3,
   "metadata": {},
   "outputs": [
    {
     "name": "stdout",
     "output_type": "stream",
     "text": [
      "1 -> 1\n",
      "2 -> 2\n",
      "3 -> 6\n",
      "4 -> 24\n",
      "5 -> 120\n"
     ]
    }
   ],
   "source": [
    "def fatorial(n):\n",
    "\n",
    "    n = n if n > 1 else 1\n",
    "    j = 1\n",
    "    for i in range(1, n + 1):\n",
    "        j = j * i\n",
    "    return j\n",
    "\n",
    "# Testing...\n",
    "for i in range(1, 6):\n",
    "    print i, '->', fatorial(i)"
   ]
  },
  {
   "cell_type": "markdown",
   "metadata": {},
   "source": [
    "Example (Fibonacci series with recursion):"
   ]
  },
  {
   "cell_type": "code",
   "execution_count": 4,
   "metadata": {},
   "outputs": [
    {
     "name": "stdout",
     "output_type": "stream",
     "text": [
      "1 => 1\n",
      "2 => 2\n",
      "3 => 3\n",
      "4 => 5\n",
      "5 => 8\n"
     ]
    }
   ],
   "source": [
    "def fib(n):\n",
    "    \"\"\"Fibonacci:\n",
    "    fib(n) = fib(n - 1) + fib(n - 2) se n > 1\n",
    "    fib(n) = 1 se n <= 1\n",
    "    \"\"\"\n",
    "    if n > 1:\n",
    "        return fib(n - 1) + fib(n - 2)\n",
    "    else:\n",
    "        return 1\n",
    "\n",
    "# Show Fibonacci from 1 to 5\n",
    "for i in [1, 2, 3, 4, 5]:\n",
    "    print i, '=>', fib(i)"
   ]
  },
  {
   "cell_type": "markdown",
   "metadata": {},
   "source": [
    "Example (Fibonacci series without recursion):"
   ]
  },
  {
   "cell_type": "code",
   "execution_count": 5,
   "metadata": {},
   "outputs": [
    {
     "name": "stdout",
     "output_type": "stream",
     "text": [
      "1 => 1\n",
      "2 => 2\n",
      "3 => 3\n",
      "4 => 5\n",
      "5 => 8\n"
     ]
    }
   ],
   "source": [
    "def fib(n):\n",
    "    \"\"\"Fibonacci:\n",
    "    fib(n) = fib(n - 1) + fib(n - 2) se n > 1\n",
    "    fib(n) = 1 se n <= 1\n",
    "    \"\"\"\n",
    "    \n",
    "    # the first two values\n",
    "    l = [1, 1]\n",
    "    \n",
    "    # Calculating the others\n",
    "    for i in range(2, n + 1):\n",
    "        l.append(l[i -1] + l[i - 2])\n",
    "        \n",
    "    return l[n]\n",
    "\n",
    "# Show Fibonacci from 1 to 5\n",
    "for i in [1, 2, 3, 4, 5]:\n",
    "    print i, '=>', fib(i)"
   ]
  },
  {
   "cell_type": "markdown",
   "metadata": {},
   "source": [
    "Example (RGB conversion):"
   ]
  },
  {
   "cell_type": "code",
   "execution_count": 6,
   "metadata": {},
   "outputs": [
    {
     "name": "stdout",
     "output_type": "stream",
     "text": [
      "#c8c8ff\n",
      "#ffc8c8\n",
      "(200, 200, 255)\n"
     ]
    }
   ],
   "source": [
    "def rgb_html(r=0, g=0, b=0):\n",
    "    \"\"\"Converts R, G, B to #RRGGBB\"\"\"\n",
    "\n",
    "    return '#%02x%02x%02x' % (r, g, b)\n",
    "\n",
    "def html_rgb(color='#000000'):\n",
    "    \"\"\"Converts #RRGGBB em R, G, B\"\"\"\n",
    "\n",
    "    if color.startswith('#'): color = color[1:]\n",
    "\n",
    "    r = int(color[:2], 16)\n",
    "    g = int(color[2:4], 16)\n",
    "    b = int(color[4:], 16)\n",
    "\n",
    "    return r, g, b # a sequence\n",
    "\n",
    "print rgb_html(200, 200, 255)\n",
    "print rgb_html(b=200, g=200, r=255) # what's happened? \n",
    "print html_rgb('#c8c8ff')"
   ]
  },
  {
   "cell_type": "markdown",
   "metadata": {},
   "source": [
    "Observations:\n",
    "\n",
    "+ The  arguments with default value must come last, after the non-default arguments.\n",
    "+ The default value for a parameter is calculated when the function is defined.\n",
    "+ The arguments passed without an identifier are received by the function in the form of a list.\n",
    "+ The arguments passed to the function with an identifier are received in the form of a dictionary.\n",
    "+ The parameters passed to the function with an identifier should come at the end of the parameter list.\n",
    "\n",
    "Example of how to get all parameters:"
   ]
  },
  {
   "cell_type": "code",
   "execution_count": 7,
   "metadata": {},
   "outputs": [
    {
     "name": "stdout",
     "output_type": "stream",
     "text": [
      "('weigh', 10)\n",
      "{'unit': 'k'}\n"
     ]
    }
   ],
   "source": [
    "# *args - arguments without name (list)\n",
    "# **kargs - arguments with name (ditcionary)\n",
    "\n",
    "def func(*args, **kargs):\n",
    "    print args\n",
    "    print kargs\n",
    "\n",
    "func('weigh', 10, unit='k')"
   ]
  },
  {
   "cell_type": "markdown",
   "metadata": {},
   "source": [
    "In the example, `kargs` will receive the named arguments and `args` will receive the others.\n",
    "\n",
    "The interpreter has some *builtin* functions defined, including `sorted()`, which orders sequences, and `cmp()`, which makes comparisons between two arguments and returns -1 if the first element is greater, 0 (zero) if they are equal, or 1 if the latter is higher. This function is used by the routine of ordering, a behavior that can be modified.\n",
    "\n",
    "Example:"
   ]
  },
  {
   "cell_type": "code",
   "execution_count": 8,
   "metadata": {},
   "outputs": [
    {
     "name": "stdout",
     "output_type": "stream",
     "text": [
      "List: [(4, 3), (5, 1), (7, 2), (9, 0)]\n",
      "Ordered: [(9, 0), (5, 1), (7, 2), (4, 3)]\n"
     ]
    }
   ],
   "source": [
    "data = [(4, 3), (5, 1), (7, 2), (9, 0)]\n",
    "\n",
    "# Comparing by the last element\n",
    "def _cmp(x, y):\n",
    "    return cmp(x[-1], y[-1])\n",
    "\n",
    "print 'List:', data\n",
    "\n",
    "# Ordering using  _cmp()\n",
    "print 'Ordered:', sorted(data, _cmp)"
   ]
  },
  {
   "cell_type": "markdown",
   "metadata": {},
   "source": [
    "Python also has a *builtin* function `eval()`, which evaluates code (source or object) and returns the value.\n",
    "\n",
    "Example:"
   ]
  },
  {
   "cell_type": "code",
   "execution_count": 9,
   "metadata": {},
   "outputs": [
    {
     "name": "stdout",
     "output_type": "stream",
     "text": [
      "9.3\n"
     ]
    }
   ],
   "source": [
    "print eval('12. / 2 + 3.3')"
   ]
  },
  {
   "cell_type": "markdown",
   "metadata": {},
   "source": [
    "With that it's possible to mount code to be passed to the interpreter during the execution of a program. This feature should be used with caution because code assembled from system inputs open up security holes."
   ]
  },
  {
   "cell_type": "code",
   "execution_count": 1,
   "metadata": {},
   "outputs": [
    {
     "data": {
      "text/html": [
       "<style>\n",
       "    @font-face {\n",
       "        font-family: \"Computer Modern\";\n",
       "        src: url('http://mirrors.ctan.org/fonts/cm-unicode/fonts/otf/cmunss.otf');\n",
       "    }\n",
       "    div.cell{\n",
       "        width:800px;\n",
       "        margin-left:16% !important;\n",
       "        margin-right:auto;\n",
       "    }\n",
       "    h1 {\n",
       "        font-family: Helvetica, serif;\n",
       "    }\n",
       "    h4{\n",
       "        margin-top:12px;\n",
       "        margin-bottom: 3px;\n",
       "       }\n",
       "    div.text_cell_render{\n",
       "        font-family: Computer Modern, \"Helvetica Neue\", Arial, Helvetica, Geneva, sans-serif;\n",
       "        line-height: 145%;\n",
       "        font-size: 130%;\n",
       "        width:800px;\n",
       "        margin-left:auto;\n",
       "        margin-right:auto;\n",
       "    }\n",
       "    .CodeMirror{\n",
       "            font-family: \"Source Code Pro\", source-code-pro,Consolas, monospace;\n",
       "    }\n",
       "    .note{\n",
       "            border-bottom: 1px black dotted;\n",
       "    }\n",
       "    .prompt{\n",
       "        display: None;\n",
       "    }\n",
       "    .text_cell_render h5 {\n",
       "        font-weight: 300;\n",
       "        font-size: 16pt;\n",
       "        color: #4057A1;\n",
       "        font-style: italic;\n",
       "        margin-bottom: .5em;\n",
       "        margin-top: 0.5em;\n",
       "        display: block;\n",
       "    }\n",
       "    \n",
       "    .warning{\n",
       "        color: rgb( 240, 20, 20 )\n",
       "        }  \n",
       "</style>\n",
       "<script>\n",
       "    MathJax.Hub.Config({\n",
       "                        TeX: {\n",
       "                           extensions: [\"AMSmath.js\"]\n",
       "                           },\n",
       "                tex2jax: {\n",
       "                    inlineMath: [ ['$','$'], [\"\\\\(\",\"\\\\)\"] ],\n",
       "                    displayMath: [ ['$$','$$'], [\"\\\\[\",\"\\\\]\"] ]\n",
       "                },\n",
       "                displayAlign: 'center', // Change this to 'center' to center equations.\n",
       "                \"HTML-CSS\": {\n",
       "                    styles: {'.MathJax_Display': {\"margin\": 4}}\n",
       "                }\n",
       "        });\n",
       "</script>"
      ],
      "text/plain": [
       "<IPython.core.display.HTML at 0x50f8f98>"
      ]
     },
     "execution_count": 1,
     "metadata": {},
     "output_type": "execute_result"
    }
   ],
   "source": []
  }
 ],
 "metadata": {
  "kernelspec": {
   "display_name": "Python 3",
   "language": "python",
   "name": "python3"
  },
  "language_info": {
   "codemirror_mode": {
    "name": "ipython",
    "version": 3
   },
   "file_extension": ".py",
   "mimetype": "text/x-python",
   "name": "python",
   "nbconvert_exporter": "python",
   "pygments_lexer": "ipython3",
   "version": "3.7.0"
  }
 },
 "nbformat": 4,
 "nbformat_minor": 1
}
