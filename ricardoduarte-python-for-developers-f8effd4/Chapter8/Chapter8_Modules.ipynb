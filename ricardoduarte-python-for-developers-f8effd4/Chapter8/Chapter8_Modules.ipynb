{
 "metadata": {
  "name": ""
 },
 "nbformat": 3,
 "nbformat_minor": 0,
 "worksheets": [
  {
   "cells": [
    {
     "cell_type": "markdown",
     "metadata": {},
     "source": [
      "[Python for Developers](http://ricardoduarte.github.io/python-for-developers/#content)\n",
      "===================================\n",
      "First Edition\n",
      "-----------------------------------\n",
      "\n",
      "Chapter 8: Modules\n",
      "=============================\n",
      "_____________________________\n",
      "For Python, modules are source files that can be imported into a program. They can contain any Python structure and run when <span class=\"note\" title=\"If it is necessary to run the module again during the execution of the application, it will have to be loaded again with the reload () function.\">imported</span>. They are compiled when first imported and stored in a file (with the extension \".pyc\" or \".pyo\"), have their own *namespaces*  and support *Doc Strings*. They are singleton objects (only one instance is loaded into memory, which is available globally for the program).\n",
      "\n",
      "![Modules](files/bpyfd_diags6.png)\n",
      "\n",
      "The modules are located by the interpreter through the list of folders `PYTHONPATH` (sys.path), which usually includes the current directory first.\n",
      "\n",
      "The modules are loaded with the `import` statement. Thus, when using a module structure, it is necessary to identify the module. This is called absolute import."
     ]
    },
    {
     "cell_type": "code",
     "collapsed": false,
     "input": [
      "import os\n",
      "print os.name"
     ],
     "language": "python",
     "metadata": {},
     "outputs": [
      {
       "output_type": "stream",
       "stream": "stdout",
       "text": [
        "posix\n"
       ]
      }
     ],
     "prompt_number": 1
    },
    {
     "cell_type": "markdown",
     "metadata": {},
     "source": [
      "You can also import modules with relative form:"
     ]
    },
    {
     "cell_type": "code",
     "collapsed": false,
     "input": [
      "from os import name\n",
      "print name"
     ],
     "language": "python",
     "metadata": {},
     "outputs": [
      {
       "output_type": "stream",
       "stream": "stdout",
       "text": [
        "posix\n"
       ]
      }
     ],
     "prompt_number": 2
    },
    {
     "cell_type": "markdown",
     "metadata": {},
     "source": [
      "To avoid problems such as variable obfuscation, the absolute import is considered a better programming practice than the relative import.\n",
      "\n",
      "Example of module:"
     ]
    },
    {
     "cell_type": "code",
     "collapsed": false,
     "input": [
      "# File calc.py\n",
      "\n",
      "# Function defined in module\n",
      "def average(list):\n",
      "\n",
      "    return float(sum(list)) / len(list)"
     ],
     "language": "python",
     "metadata": {},
     "outputs": []
    },
    {
     "cell_type": "markdown",
     "metadata": {},
     "source": [
      "Example of module usage:"
     ]
    },
    {
     "cell_type": "code",
     "collapsed": false,
     "input": [
      "# Imports calc module\n",
      "import calc\n",
      "\n",
      "l = [23, 54, 31, 77, 12, 34]\n",
      "\n",
      "# Calls the function defined in calc\n",
      "print calc.average(l)"
     ],
     "language": "python",
     "metadata": {},
     "outputs": [
      {
       "output_type": "stream",
       "stream": "stdout",
       "text": [
        "38.5\n"
       ]
      }
     ],
     "prompt_number": 4
    },
    {
     "cell_type": "markdown",
     "metadata": {},
     "source": [
      "The main module of a program has the variable `__name__` equals to `__main__`, thus it is possible to test if the main module:"
     ]
    },
    {
     "cell_type": "code",
     "collapsed": false,
     "input": [
      "if __name__ == \"__main__\":\n",
      "    # Code here will only be run \n",
      "    # if it is the main module\n",
      "    # and not when it is imported by another program\n",
      "    pass"
     ],
     "language": "python",
     "metadata": {},
     "outputs": [],
     "prompt_number": 6
    },
    {
     "cell_type": "markdown",
     "metadata": {},
     "source": [
      "That way it is easy to turn a program into a module.\n",
      "\n",
      "Another module example:"
     ]
    },
    {
     "cell_type": "code",
     "collapsed": false,
     "input": [
      "\"\"\"\n",
      "modutils => utility routines for modules\n",
      "\"\"\"\n",
      "\n",
      "import os.path\n",
      "import sys\n",
      "import glob\n",
      "\n",
      "def find(txt):\n",
      "    \"\"\"find modules with name containing the parameter\n",
      "    \"\"\"\n",
      "\n",
      "    resp = []\n",
      "\n",
      "    for path in sys.path:\n",
      "        mods = glob.glob('%s/*.py' % path)\n",
      "\n",
      "        for mod in mods:\n",
      "            if txt in os.path.basename(mod):\n",
      "                resp.append(mod)\n",
      "\n",
      "    return resp"
     ],
     "language": "python",
     "metadata": {},
     "outputs": []
    },
    {
     "cell_type": "markdown",
     "metadata": {},
     "source": [
      "Example module use:"
     ]
    },
    {
     "cell_type": "code",
     "collapsed": false,
     "input": [
      "from os.path import getsize, getmtime\n",
      "from time import localtime, asctime\n",
      "\n",
      "import modutils\n",
      "\n",
      "mods = modutils.find('xml')\n",
      "\n",
      "for mod in mods:\n",
      "\n",
      "    tm = asctime(localtime(getmtime(mod)))\n",
      "    kb = getsize(mod) / 1024\n",
      "    print '%s: (%d kbytes, %s)' % (mod, kb, tm)"
     ],
     "language": "python",
     "metadata": {},
     "outputs": [
      {
       "output_type": "stream",
       "stream": "stdout",
       "text": [
        "/usr/lib/python2.7/xmlrpclib.py: (50 kbytes, Fri Apr 19 16:20:45 2013)\n",
        "/usr/lib/python2.7/xmllib.py: (34 kbytes, Fri Apr 19 16:20:45 2013)\n",
        "/usr/lib/python2.7/dist-packages/libxml2.py: (335 kbytes, Wed May  1 14:19:10 2013)\n",
        "/usr/lib/python2.7/dist-packages/drv_libxml2.py: (14 kbytes, Wed May  1 14:19:10 2013)\n"
       ]
      }
     ],
     "prompt_number": 7
    },
    {
     "cell_type": "markdown",
     "metadata": {},
     "source": [
      "Splitting programs into modules makes it easy to reuse and locate faults in the code."
     ]
    },
    {
     "cell_type": "code",
     "collapsed": false,
     "input": [],
     "language": "python",
     "metadata": {},
     "outputs": [
      {
       "html": [
        "<style>\n",
        "    @font-face {\n",
        "        font-family: \"Computer Modern\";\n",
        "        src: url('http://mirrors.ctan.org/fonts/cm-unicode/fonts/otf/cmunss.otf');\n",
        "    }\n",
        "    div.cell{\n",
        "        width:800px;\n",
        "        margin-left:16% !important;\n",
        "        margin-right:auto;\n",
        "    }\n",
        "    h1 {\n",
        "        font-family: Helvetica, serif;\n",
        "    }\n",
        "    h4{\n",
        "        margin-top:12px;\n",
        "        margin-bottom: 3px;\n",
        "       }\n",
        "    div.text_cell_render{\n",
        "        font-family: Computer Modern, \"Helvetica Neue\", Arial, Helvetica, Geneva, sans-serif;\n",
        "        line-height: 145%;\n",
        "        font-size: 130%;\n",
        "        width:800px;\n",
        "        margin-left:auto;\n",
        "        margin-right:auto;\n",
        "    }\n",
        "    .CodeMirror{\n",
        "            font-family: \"Source Code Pro\", source-code-pro,Consolas, monospace;\n",
        "    }\n",
        "    .note{\n",
        "            border-bottom: 1px black dotted;\n",
        "    }\n",
        "    .prompt{\n",
        "        display: None;\n",
        "    }\n",
        "    .text_cell_render h5 {\n",
        "        font-weight: 300;\n",
        "        font-size: 16pt;\n",
        "        color: #4057A1;\n",
        "        font-style: italic;\n",
        "        margin-bottom: .5em;\n",
        "        margin-top: 0.5em;\n",
        "        display: block;\n",
        "    }\n",
        "    \n",
        "    .warning{\n",
        "        color: rgb( 240, 20, 20 )\n",
        "        }  \n",
        "</style>\n",
        "<script>\n",
        "    MathJax.Hub.Config({\n",
        "                        TeX: {\n",
        "                           extensions: [\"AMSmath.js\"]\n",
        "                           },\n",
        "                tex2jax: {\n",
        "                    inlineMath: [ ['$','$'], [\"\\\\(\",\"\\\\)\"] ],\n",
        "                    displayMath: [ ['$$','$$'], [\"\\\\[\",\"\\\\]\"] ]\n",
        "                },\n",
        "                displayAlign: 'center', // Change this to 'center' to center equations.\n",
        "                \"HTML-CSS\": {\n",
        "                    styles: {'.MathJax_Display': {\"margin\": 4}}\n",
        "                }\n",
        "        });\n",
        "</script>"
       ],
       "output_type": "pyout",
       "prompt_number": 1,
       "text": [
        "<IPython.core.display.HTML at 0x50f8f98>"
       ]
      }
     ],
     "prompt_number": 1
    }
   ],
   "metadata": {}
  }
 ]
}