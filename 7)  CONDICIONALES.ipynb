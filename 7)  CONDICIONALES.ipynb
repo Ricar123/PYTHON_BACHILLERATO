{
 "cells": [
  {
   "cell_type": "markdown",
   "metadata": {},
   "source": [
    "# CONDICIONALES CON IF  (la identación)\n",
    "\n",
    "[Python for Developers](http://ricardoduarte.github.io/python-for-developers/#content)\n",
    "\n",
    "Syntax:\n",
    "\n",
    "`\n",
    "    if <condition>:\n",
    "        <code block>\n",
    "    elif <condition>:\n",
    "        <code block>\n",
    "    elif <condition>:\n",
    "        <code block>\n",
    "    else:\n",
    "        <code block>\n",
    "`\n",
    "\n",
    "Where:\n",
    "\n",
    "- `<condition>: sentence that can be evaluated as true or false.`\n",
    "- `<code block>: sequence of command lines.`\n",
    "- The clauses elif and else are optional and several elifs for the if may be used but only one else at the end.\n",
    "Parentheses are only required to avoid ambiguity. \n",
    "\n",
    "\n",
    "\n",
    "http://www.mclibre.org/consultar/python/lecciones/python-if-else.html\n",
    "\n",
    "Una sentencia condicional (if) ejecuta su **bloque** de código interno sólo si se cumple cierta condición. Se define usando la palabra clave **if** seguida de la condición, y el bloque de código. Condiciones adicionales, si las hay, se introducen usando **elif** seguida de la condición y su bloque de código. Todas las condiciones se evalúan secuencialmente hasta encontrar la primera que sea verdadera, y su bloque de código asociado es el único que se ejecuta. Opcionalmente, puede haber un bloque final (la palabra clave **else** seguida de un bloque de código) que se ejecuta sólo cuando todas las condiciones fueron falsas. \n",
    "En Python es muy importante **la identación**, es deicr el sangrado, para que pueda funcionar el programa. Con la sentencia If de debe definir después de los `:` el \"bloque\" de sentencias que se deben ejecutar si se cumple la condición y este bloque queda definido después de los `:`y la identación o sangrado de cada una de estas instrucciones. \n",
    "\n",
    "\n",
    "```python\n",
    ">>> lenguaje = \"Python\"\n",
    ">>> if lenguaje == \"C\": # lenguaje no es \"C\", por lo que este bloque se obviará y evaluará la siguiente condición\n",
    "        print \"Lenguaje de programación: C\"\n",
    "    elif lenguaje == \"Python\": # Se pueden añadir tantos bloques \"elif\" como se quiera\n",
    "        print \"Lenguaje de programación: Python\"\n",
    "    else: # En caso de que ninguna de las anteriores condiciones fuera cierta, se ejecutaría este bloque\n",
    "        print \"Lenguaje de programación: indefinido\"\n",
    "```\n",
    "\n",
    "\n"
   ]
  },
  {
   "cell_type": "code",
   "execution_count": 13,
   "metadata": {},
   "outputs": [
    {
     "name": "stdout",
     "output_type": "stream",
     "text": [
      "Normal\n"
     ]
    }
   ],
   "source": [
    "temp = 23 # temperature value used to test\n",
    "\n",
    "if temp < 0:\n",
    "    print ('Freezing...')\n",
    "elif 0 <= temp <= 20:\n",
    "    print ('Cold')\n",
    "elif 21 <= temp <= 25:\n",
    "    print ('Normal')\n",
    "elif 26 <= temp <= 35:\n",
    "    print ('Hot')\n",
    "else:\n",
    "    print ('Very Hot!')"
   ]
  },
  {
   "cell_type": "code",
   "execution_count": 24,
   "metadata": {},
   "outputs": [
    {
     "name": "stdout",
     "output_type": "stream",
     "text": [
      "La variable j es positiva\n"
     ]
    }
   ],
   "source": [
    "if j>0:\n",
    "    print('La variable j es positiva')\n",
    "else:\n",
    "    print('La variable j es negativa o cero')"
   ]
  },
  {
   "cell_type": "code",
   "execution_count": 24,
   "metadata": {},
   "outputs": [
    {
     "name": "stdout",
     "output_type": "stream",
     "text": [
      "Puedes pasar, está en verde\n"
     ]
    }
   ],
   "source": [
    "verde=True  # ojo con la primera letra de True que debe ser mayúscula.\n",
    "if verde:\n",
    "    print(\"Puedes pasar, está en verde\")\n",
    "else:\n",
    "    print(\"Espera, no puedes pasar. No está en verde.\") "
   ]
  },
  {
   "cell_type": "code",
   "execution_count": 28,
   "metadata": {},
   "outputs": [
    {
     "name": "stdout",
     "output_type": "stream",
     "text": [
      "Puedes pasar, está en verde.\n"
     ]
    }
   ],
   "source": [
    "color=\"verde\"    #con un sólo \"=\" hacemos asignación\n",
    "if color==\"verde\":   # con doble \"==\" hacemos comparación de igualdad\n",
    "    print(\"Puedes pasar, está en verde.\")  #ojo  con el if,elif,else que van en minúscualas y con sus sangrías\n",
    "elif color==\"amarillo\":\n",
    "    print(\"Pasa con precaucion, está en amarillo\")\n",
    "else:\n",
    "    print(\"Espera, no  está  en verde\")"
   ]
  },
  {
   "cell_type": "code",
   "execution_count": 23,
   "metadata": {},
   "outputs": [
    {
     "name": "stdout",
     "output_type": "stream",
     "text": [
      "Escriba un número positivo: 2\n",
      "Ha escrito el número 2\n"
     ]
    }
   ],
   "source": [
    "# CONDICIONALES introducir  un número positivo siempre\n",
    "numero = int(input(\"Escriba un número positivo: \"))\n",
    "if numero < 0:\n",
    "    print(\"¡Le he dicho que escriba un número positivo!\")\n",
    "print(f\"Ha escrito el número {numero}\")"
   ]
  },
  {
   "cell_type": "code",
   "execution_count": 24,
   "metadata": {},
   "outputs": [
    {
     "name": "stdout",
     "output_type": "stream",
     "text": [
      "¿Cuántos años tiene? 20\n",
      "Es usted mayor de edad\n",
      "¡Hasta la próxima!\n"
     ]
    }
   ],
   "source": [
    "# CONDICIONALES averiguar si es mayor de edad\n",
    "edad = int(input(\"¿Cuántos años tiene? \"))\n",
    "if edad < 18:\n",
    "    print(\"Es usted menor de edad\")\n",
    "else:\n",
    "    print(\"Es usted mayor de edad\")\n",
    "print(\"¡Hasta la próxima!\")"
   ]
  },
  {
   "cell_type": "code",
   "execution_count": 29,
   "metadata": {},
   "outputs": [
    {
     "name": "stdout",
     "output_type": "stream",
     "text": [
      "Escriba un número: 2\n",
      "2 es impar\n"
     ]
    }
   ],
   "source": [
    "# CONDICIONALES: número par o impar\n",
    "numero = int(input(\"Escriba un número: \"))\n",
    "if numero % 2== 0:\n",
    "    print(f\"{numero} es impar\")\n",
    "else:\n",
    "    print(f\"{numero} es par\")"
   ]
  },
  {
   "cell_type": "code",
   "execution_count": 25,
   "metadata": {},
   "outputs": [
    {
     "name": "stdout",
     "output_type": "stream",
     "text": [
      "Piense un número de 1 a 4.\n",
      "Conteste S (sí) o N (no) a mis preguntas.\n",
      "¿El número pensado es mayor que 2? N\n",
      "¿El número pensado es mayor que 1? N\n",
      "El número pensado es 1.\n",
      "¡Hasta la próxima!\n"
     ]
    }
   ],
   "source": [
    "# CONDICIONALES ANIDADOS: adivinar un número  entre 1 y 4\n",
    "print(\"Piense un número de 1 a 4.\")\n",
    "print(\"Conteste S (sí) o N (no) a mis preguntas.\")\n",
    "primera = input(\"¿El número pensado es mayor que 2? \")\n",
    "if primera == \"S\":\n",
    "    segunda = input(\"¿El número pensado es mayor que 3? \")\n",
    "    if segunda == \"S\":\n",
    "        print(\"El número pensado es 4.\")\n",
    "    else:\n",
    "        print(\"El número pensado es 3\")\n",
    "else:\n",
    "    segunda = input(\"¿El número pensado es mayor que 1? \")\n",
    "    if segunda == \"S\":\n",
    "        print(\"El número pensado es 2.\")\n",
    "    else:\n",
    "        print(\"El número pensado es 1.\")\n",
    "print(\"¡Hasta la próxima!\")"
   ]
  },
  {
   "cell_type": "code",
   "execution_count": 26,
   "metadata": {},
   "outputs": [
    {
     "name": "stdout",
     "output_type": "stream",
     "text": [
      "¿Cuántos años tiene? -20\n",
      "No se puede tener una edad negativa\n"
     ]
    }
   ],
   "source": [
    "#CONDICIONALES CON ELIF: decir si es mayor de edad\n",
    "edad = int(input(\"¿Cuántos años tiene? \"))\n",
    "if edad >= 18:\n",
    "    print(\"Es usted mayor de edad\")\n",
    "elif edad < 0:\n",
    "    print(\"No se puede tener una edad negativa\")\n",
    "else:\n",
    "    print(\"Es usted menor de edad\")"
   ]
  },
  {
   "cell_type": "code",
   "execution_count": 27,
   "metadata": {},
   "outputs": [
    {
     "name": "stdout",
     "output_type": "stream",
     "text": [
      "Escriba un número: 5\n",
      "5 no es múltiplo de dos\n"
     ]
    }
   ],
   "source": [
    "# CONDICIONALES CON ELIF: número múltiplo de 2 y de 4.\n",
    "numero = int(input(\"Escriba un número: \"))\n",
    "if numero % 2 == 0 and numero % 4 != 0:\n",
    "    print(f\"{numero} es múltiplo de dos\")\n",
    "elif numero % 4 == 0:\n",
    "    print(f\"{numero} es múltiplo de cuatro y de dos\")\n",
    "else:\n",
    "    print(f\"{numero} no es múltiplo de dos\")"
   ]
  },
  {
   "cell_type": "code",
   "execution_count": null,
   "metadata": {},
   "outputs": [],
   "source": [
    "# CONDICIONALES CON ELIF: número múltiplo  de 2 y 4 reordenando los condicionales\n",
    "numero = int(input(\"Escriba un número: \"))\n",
    "if numero % 4 == 0:\n",
    "    print(f\"{numero} es múltiplo de cuatro y de dos\")\n",
    "elif numero % 2 == 0:\n",
    "    print(f\"{numero} es múltiplo de dos\")\n",
    "else:\n",
    "    print(f\"{numero} no es múltiplo de dos\")"
   ]
  },
  {
   "cell_type": "code",
   "execution_count": null,
   "metadata": {},
   "outputs": [],
   "source": [
    "# JUEGO DE PALABRAS QUE RIMAN\n",
    "# Escribe un programa que pida dos palabras y diga si riman o no. \n",
    "# Si coinciden las tres últimas letras tiene que decir que riman. \n",
    "# Si coinciden sólo las dos últimas tiene que decir que riman un poco y si no, que no riman.\n",
    "uno = raw_input (\"Dime la primera palabra: \")\n",
    "print \"\"\n",
    "dos = raw_input (\"Dime la segunda palabra: \")\n",
    "print \"\"\n",
    "\n",
    "if len(uno) < 3 or len(dos) < 3:\n",
    " print \"Las palabras tienen menos de 3 letras\"\n",
    " print \"\"\n",
    "elif uno[-3:] == dos[-3:]:\n",
    " print \"Riman\"\n",
    " print \"\"\n",
    "elif uno[-2:] == dos[-2:]:\n",
    " print \"Riman un poco\"\n",
    " print \"\"\n",
    "else:\n",
    " print \"No riman\"\n",
    " print \"\"\n"
   ]
  },
  {
   "cell_type": "code",
   "execution_count": null,
   "metadata": {},
   "outputs": [],
   "source": [
    "# AÑO BISIESTO\n",
    "# Escriba una función es_bisiesto() que determine si un año determinado es un año bisiesto.\n",
    "# Un año bisiesto es divisible por 4, pero no por 100. También es divisible por 400.\n",
    "def es_bisiesto():\n",
    "    print \"Comprueba años bisiestos\"\n",
    "    a = input (\"Escriba un años y le dire si es bisiesto: \")\n",
    "    if a % 4 == 0 and (not(a % 100 == 0)):\n",
    "        print \"El año\", a, \"es un año bisiesto porque es multiplo de 4\"\n",
    "    elif a % 400 == 0:\n",
    "        print \"El año\", a, \"es un año bisiesto porque es multiplo de 400\"\n",
    "    else:\n",
    "        print \"El año\", a, \"no es bisiesto\"\n"
   ]
  },
  {
   "cell_type": "code",
   "execution_count": null,
   "metadata": {},
   "outputs": [],
   "source": [
    "# FUNCIÓN PARA VER SI UNA LETRA INTRODUCIDA ES UNA VOCAL.\n",
    "# Escribir una función que tome un carácter y devuelva True si es una vocal, de lo contrario devuelve False\n",
    "def es_vocal (x):\n",
    "    if x == \"a\" or x == \"e\" or x == \"i\" or x == \"o\" or x == \"u\":\n",
    "        return True\n",
    "    elif x == \"A\" or x == \"E\" or x == \"I\" or x == \"O\" or x == \"U\":\n",
    "        return True\n",
    "    else:\n",
    "        return False\n",
    "\n"
   ]
  }
 ],
 "metadata": {
  "kernelspec": {
   "display_name": "Python 3",
   "language": "python",
   "name": "python3"
  },
  "language_info": {
   "codemirror_mode": {
    "name": "ipython",
    "version": 3
   },
   "file_extension": ".py",
   "mimetype": "text/x-python",
   "name": "python",
   "nbconvert_exporter": "python",
   "pygments_lexer": "ipython3",
   "version": "3.6.5"
  }
 },
 "nbformat": 4,
 "nbformat_minor": 2
}
