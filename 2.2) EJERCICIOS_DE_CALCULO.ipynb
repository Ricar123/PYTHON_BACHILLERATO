{
 "cells": [
  {
   "cell_type": "code",
   "execution_count": 1,
   "metadata": {},
   "outputs": [
    {
     "name": "stdout",
     "output_type": "stream",
     "text": [
      "Enter Celsius Temperature:10\n",
      "50.0\n"
     ]
    }
   ],
   "source": [
    "#CALCULAR gracos Celsius de  Farenheit \n",
    "inp = input('Enter Celsius Temperature:')\n",
    "cel = float(inp)\n",
    "fahr = (cel * 9.0) / 5.0 + 32.0\n",
    "print (fahr)"
   ]
  },
  {
   "cell_type": "code",
   "execution_count": null,
   "metadata": {},
   "outputs": [],
   "source": []
  },
  {
   "cell_type": "code",
   "execution_count": 4,
   "metadata": {},
   "outputs": [
    {
     "data": {
      "text/plain": [
       "12"
      ]
     },
     "execution_count": 4,
     "metadata": {},
     "output_type": "execute_result"
    }
   ],
   "source": [
    "# PASAR DE BINARIO A DECIMAL con LISTAS Y FUNCION\n",
    "# Construir un pequeño programa que convierta números binarios en enteros.\n",
    "def a_decimal(numeroBin):\n",
    "    numeroBin = str(numeroBin)  #conversion en cadena\n",
    "    decimal = 0\n",
    "    exp = len (numeroBin) -1\n",
    "    for i in numeroBin:\n",
    "        decimal += (int(i) * 2**(exp))    #conversion de i en entero\n",
    "        exp = exp - 1\n",
    "    return decimal\n",
    "a_decimal(1100)"
   ]
  },
  {
   "cell_type": "code",
   "execution_count": 5,
   "metadata": {},
   "outputs": [
    {
     "data": {
      "text/plain": [
       "7"
      ]
     },
     "execution_count": 5,
     "metadata": {},
     "output_type": "execute_result"
    }
   ],
   "source": [
    "a_decimal(15)"
   ]
  },
  {
   "cell_type": "code",
   "execution_count": 6,
   "metadata": {},
   "outputs": [
    {
     "name": "stdout",
     "output_type": "stream",
     "text": [
      "Hay 5 numeros mayores a 20\n"
     ]
    }
   ],
   "source": [
    "#TUPLA DE EDADES\n",
    "#Definir una tupla con 5 edades de personas.\n",
    "#Imprimir la cantidad de personas con edades superiores a 20.\n",
    "#Puedes variar el ejercicio para que sea el usuario quien ingrese las edades.\n",
    "\n",
    "def mayora20 (tup):\n",
    "    cont = 0\n",
    "    for i in tup:\n",
    "        if i > 20:\n",
    "            cont += 1\n",
    "    print (\"Hay\", cont, \"numeros mayores a 20\")\n",
    "mayora20([23,34,23,45,21,12,13])\n"
   ]
  },
  {
   "cell_type": "code",
   "execution_count": null,
   "metadata": {},
   "outputs": [],
   "source": [
    "# FUNCION dice cuantos años tiene\n",
    "def main():\n",
    "    a= input (\"Ingresa el año en curso: \")\n",
    "    nombre = input (\"Nombre de la persona: \")\n",
    "    n = input (\"Año de nacimiento: \")\n",
    "    d= int(a) - int(n)\n",
    "    print  (nombre, \"cumple\", d, \"años en el\", a)\n",
    "main()"
   ]
  },
  {
   "cell_type": "code",
   "execution_count": null,
   "metadata": {},
   "outputs": [],
   "source": [
    "# LISTAS Y FUNCION  representación letra a letra  de una cadena\n",
    "def procedimiento(lista):\n",
    "    for i in lista:\n",
    "        #print (i,\"\\n\")\n",
    "        print (i,\"_\",\"\\n\")\n",
    "procedimiento(\"hola\")"
   ]
  },
  {
   "cell_type": "code",
   "execution_count": null,
   "metadata": {},
   "outputs": [],
   "source": [
    "# LISTAS Y FUNCIÓN máximo  de dos  números\n",
    "def max (n1, n2):\n",
    "    if n1 < n2:\n",
    "        print (n2)\n",
    "    elif n2 < n1:\n",
    "        print (n1)\n",
    "    else:\n",
    "        print (\"Son iguales\")\n",
    "max(3,19)"
   ]
  },
  {
   "cell_type": "code",
   "execution_count": null,
   "metadata": {},
   "outputs": [],
   "source": [
    "# LISTASY FUNCIÓN máximo de  tres números\n",
    "def max(n1,n2,n3):\n",
    "    if n1>n2 and n1>n3:\n",
    "        print (n1)\n",
    "    elif n2>n1 and n2>n3:\n",
    "        print (n2)\n",
    "    elif n3 > n1 and n3>n2:\n",
    "        print (n3)\n",
    "    else:\n",
    "        print (\"Son iguales\")\n",
    "max(23,3,55)"
   ]
  },
  {
   "cell_type": "code",
   "execution_count": null,
   "metadata": {},
   "outputs": [],
   "source": [
    "# lISTAS Y FUNCIÓN longitud  de una cadena\n",
    "def largo_cadena (lista):\n",
    "    cont = 0\n",
    "    for i in lista:\n",
    "        cont += 1\n",
    "    return cont\n",
    "largo_cadena(\"toledo\")"
   ]
  },
  {
   "cell_type": "code",
   "execution_count": null,
   "metadata": {},
   "outputs": [],
   "source": [
    "# LISTAS Y FUNCIÓN es una vocal\n",
    "def es_vocal (x):\n",
    "    if x == \"a\" or x == \"e\" or x == \"i\" or x == \"o\" or x == \"u\":\n",
    "        return True\n",
    "    elif x == \"A\" or x == \"E\" or x == \"I\" or x == \"O\" or x == \"U\":\n",
    "        return True\n",
    "    else:\n",
    "        return False\n",
    "es_vocal(\"A\")"
   ]
  },
  {
   "cell_type": "code",
   "execution_count": null,
   "metadata": {},
   "outputs": [],
   "source": [
    "# LISTAS y FUNCIÓN suma y multiplicación\n",
    "def suma (lista):\n",
    "    s = 0\n",
    "    for i in lista:\n",
    "        s += i\n",
    "    return s\n",
    "def multiplica (lista):\n",
    "    m = 1\n",
    "    for i in lista:\n",
    "        m *= i\n",
    "    return m\n",
    "suma([1,3]) \n",
    "multiplica([2,4,3,4,5])"
   ]
  },
  {
   "cell_type": "code",
   "execution_count": null,
   "metadata": {},
   "outputs": [],
   "source": [
    "# CONTAR VOCALES EN UNA PALABRA\n",
    "# Crear una función contar_vocales(), que reciba una palabra y cuente cuantas letras \"a\" tiene, cuantas letras \"e\"\n",
    "# tiene y así hasta completar todas las vocales.\n",
    "# Se puede hacer que el usuario sea quien elija la palabra.\n",
    "def contar_vocales(cadena):\n",
    "    cadena = cadena.lower()\n",
    "    vocales = \"aeiou\"\n",
    "    for x in vocales:  # x será una variable tipo letra/vocal que irá avanzando  una a una\n",
    "        contador = 0\n",
    "        for i in cadena:\n",
    "            if i == x:\n",
    "                contador += 1\n",
    "        print (\"Hay\",contador, x)\n",
    "contar_vocales(\"Hola,  ¿que tal estas?\")\n"
   ]
  },
  {
   "cell_type": "code",
   "execution_count": null,
   "metadata": {},
   "outputs": [],
   "source": [
    "# ESCRITA LA FRASE  AL REVÉS\n",
    "# Definir una función inversa() que calcule la inversión de una cadena. \n",
    "# Por ejemplo la cadena \"estoy probando\" debería devolver la cadena \"odnaborp yotse\"\n",
    "def inversa (cadena):\n",
    "    invertida = \"\"\n",
    "    cont = len(cadena)\n",
    "    indice = -1\n",
    "    while cont >= 1:\n",
    "        invertida += cadena[indice]\n",
    "        indice = indice + (-1)\n",
    "        cont -= 1\n",
    "    return invertida\n",
    "\n",
    "# Bueno reconozco que di muchas vueltas para resolver la palabra invertida. \n",
    "#Quizá ustedes tengan una solución mas simple para los que recién se están iniciando.\n",
    "#Cualquier cosa dejan un comentario y explico como funciona.\n"
   ]
  },
  {
   "cell_type": "code",
   "execution_count": null,
   "metadata": {},
   "outputs": [],
   "source": [
    "# LISTAS Y FUNCIÓN ver si es UN PALÍNDROMO\n",
    "# Definir una función es_palindromo() que reconoce palíndromos \n",
    "# es decir, palabras que tienen el mismo aspecto escritas invertidas),\n",
    "# ejemplo: es_palindromo (\"radar\") tendría que devolver True.\n",
    "def inversa (cadena):\n",
    "    invertida = \"\"\n",
    "    cont = len(cadena)\n",
    "    indice = -1\n",
    "    while cont >= 1:\n",
    "        invertida += cadena[indice]\n",
    "        indice = indice + (-1)\n",
    "        cont -= 1\n",
    "    return invertida\n",
    "def es_palindromo (cadena):\n",
    "    palabra_invertida = inversa (cadena)\n",
    "    indice = 0\n",
    "    cont = 0\n",
    "    for i in range (len(cadena)):\n",
    "        if palabra_invertida[indice] == cadena[indice]:\n",
    "            indice += 1\n",
    "            cont += 1\n",
    "        else:\n",
    "            print (\"No es palindromo\")\n",
    "            break\n",
    "\n",
    "    if cont == len(cadena): #Si el contador = a la cantidad de letras de la cadena\n",
    "        print (\"Es palindromo\") # es porque recorrió todo el ciclo for y todas las\n",
    "                                            # letras son iguales\n",
    "es_palindromo(\"radar\")"
   ]
  },
  {
   "cell_type": "code",
   "execution_count": null,
   "metadata": {},
   "outputs": [],
   "source": [
    "es_palindromo(\"mama\")"
   ]
  },
  {
   "cell_type": "code",
   "execution_count": null,
   "metadata": {},
   "outputs": [],
   "source": [
    "# LISTAS Y FUNCIÓN superposición, detecta un elemento común de una  lista\n",
    "def superposicion (lista1, lista2):\n",
    "    for i in lista1:\n",
    "        for x in lista2:\n",
    "            if i == x:\n",
    "                return True\n",
    "    return False\n",
    "superposicion([2,4,5],[4,7,9])"
   ]
  },
  {
   "cell_type": "code",
   "execution_count": null,
   "metadata": {},
   "outputs": [],
   "source": [
    "# LISTAS Y FUNCIÓN máximo de una lista de números\n",
    "#def max_in_list(lista):\n",
    "#    return max (lista) \n",
    "#La función max() ya viene incorporada en python, pero vamos a diseñar un algoritmo\n",
    "def max_in_lista(lista):\n",
    "    inicio = 0\n",
    "    for i in lista:\n",
    "        if i > inicio:   #cuidado  con la tabulación despues de dos puntos\n",
    "            inicio = i   #aquí también requiere sangrado por ir después de dos puntos\n",
    "    return inicio\n",
    "max_in_lista([1,3,5,3,2,7,2])"
   ]
  },
  {
   "cell_type": "code",
   "execution_count": null,
   "metadata": {},
   "outputs": [],
   "source": [
    "# LISTAS Y FUNCIÓN la palabra más larga\n",
    "def mas_larga(lista):\n",
    "    mas_larga = \"\"\n",
    "    for i in lista:\n",
    "        if len(i) > len(mas_larga):\n",
    "            mas_larga = i\n",
    "    return mas_larga\n",
    "mas_larga([\"casa\",\"cocina\",\"estómago\",\"cosa\"])"
   ]
  },
  {
   "cell_type": "code",
   "execution_count": null,
   "metadata": {},
   "outputs": [],
   "source": [
    "# LISAS Y FUNCION saca las palabas que tengan más  de x letras.\n",
    "def filtrar_palabras(lista, n):\n",
    "    for i in lista:\n",
    "        if len(i) > n:\n",
    "            print (i)\n",
    "filtrar_palabras([\"casa\",\"comida\",\"hogar\"],5)"
   ]
  },
  {
   "cell_type": "code",
   "execution_count": null,
   "metadata": {},
   "outputs": [],
   "source": [
    "# LISTAS Y FUNCION cuenta número de mayúsculas en una frase\n",
    "def c_mayusculas (cadena):\n",
    "    cont = 0\n",
    "    for i in cadena:\n",
    "        if i!= i.lower(): #Recordar que lower() convierte una cadena en minúsculas\n",
    "            cont += 1\n",
    "    print (\"La cadena tiene\", cont, \"mayuscula/s\")\n",
    "c_mayusculas(\"HOLA, que tal estás Sofía\")"
   ]
  },
  {
   "cell_type": "code",
   "execution_count": null,
   "metadata": {},
   "outputs": [],
   "source": [
    "# FUNCION y CONDICIONALES si  un año es bisiesto\n",
    "def es_bisiesto():    #si  es divisible por 4 o  400 pero no por 100.\n",
    "    print (\"Comprueba años bisiestos\")\n",
    "    a = input (\"Escriba un años y le dire si es bisiesto: \")\n",
    "    a=int(a)\n",
    "    if (a % 4) == 0   and (not(a % 100 == 0)):\n",
    "        print (\"El año\", a, \"es un año bisiesto porque es multiplo de 4\")\n",
    "    elif a % 400 == 0:\n",
    "        print (\"El año\", a, \"es un año bisiesto porque es multiplo de 400\")\n",
    "    else:\n",
    "        print (\"El año\", a, \"no es bisiesto\")\n",
    "es_bisiesto()"
   ]
  },
  {
   "cell_type": "code",
   "execution_count": null,
   "metadata": {},
   "outputs": [],
   "source": [
    "# FUNCIÓN calcular el interés de un capital a unos determinados años\n",
    "def main():\n",
    " euros = input (\"Cuantos euros: \")\n",
    " euros=float(euros)\n",
    " interes = input (\"Cuanto interes: \")\n",
    " interes = float(interes)\n",
    " anos = input (\"Cantidad de años: \")\n",
    " anos=float(anos)\n",
    " print (\"\")\n",
    " resultado = calculo(euros,interes,anos)\n",
    " print (\"Cuando pasen\", anos, u\"años, con un\", interes, u\"de interes, usted habrá generado\", resultado, \"dolares.\")\n",
    "\n",
    "def calculo(dinero,i,n):\n",
    " x =float(dinero*((1 + i/100)**n))\n",
    " return (int(x))\n",
    "\n",
    "main()"
   ]
  },
  {
   "cell_type": "code",
   "execution_count": null,
   "metadata": {},
   "outputs": [],
   "source": [
    "# CONDICIONALES decir si  dos palabras riman\n",
    "uno = input(\"Dime la primera palabra: \")\n",
    "print (\"\")\n",
    "dos = input(\"Dime la segunda palabra: \")\n",
    "print (\"\")\n",
    "\n",
    "if len(uno) < 3 or len(dos) < 3:\n",
    " print (\"Las palabras tienen menos de 3 letras\")\n",
    " print (\"\")\n",
    "elif uno[-3:] == dos[-3:]:\n",
    " print (\"Riman\")\n",
    " print (\"\")\n",
    "elif uno[-2:] == dos[-2:]:\n",
    " print (\"Riman un poco\")\n",
    " print (\"\")\n",
    "else:\n",
    " print (\"No riman\")\n",
    " print (\"\")\n"
   ]
  },
  {
   "cell_type": "code",
   "execution_count": 7,
   "metadata": {},
   "outputs": [],
   "source": [
    "def busqueda_binaria(array, valor):\n",
    "    ary = array\n",
    "    a = 0\n",
    "    b = len(array)\n",
    "    \n",
    "    while a < b:\n",
    "        m = (a + b) // 2\n",
    "\n",
    "        if array[m] == valor:\n",
    "            return m\n",
    "        elif array[m] < valor:\n",
    "            a = m + 1\n",
    "        else:\n",
    "            b = m\n",
    "            \n",
    "    return None\n",
    "\n",
    "x1 = [0,1,2,3,4,5,6,7]\n",
    "x2 = [1,4,8,12,41]\n",
    "x3 = [0,1,2,4,8,16,32]"
   ]
  },
  {
   "cell_type": "code",
   "execution_count": 9,
   "metadata": {},
   "outputs": [
    {
     "data": {
      "text/plain": [
       "2"
      ]
     },
     "execution_count": 9,
     "metadata": {},
     "output_type": "execute_result"
    }
   ],
   "source": [
    "busqueda_binaria(x2,8)"
   ]
  },
  {
   "cell_type": "code",
   "execution_count": 11,
   "metadata": {},
   "outputs": [
    {
     "name": "stdout",
     "output_type": "stream",
     "text": [
      "#c8c8ff\n",
      "#ffc8c8\n",
      "(200, 200, 255)\n"
     ]
    }
   ],
   "source": [
    "# conversión colores\n",
    "def rgb_html(r=0, g=0, b=0):\n",
    "    \"\"\"Converts R, G, B to #RRGGBB\"\"\"\n",
    "\n",
    "    return '#%02x%02x%02x' % (r, g, b)\n",
    "\n",
    "def html_rgb(color='#000000'):\n",
    "    \"\"\"Converts #RRGGBB em R, G, B\"\"\"\n",
    "\n",
    "    if color.startswith('#'): color = color[1:]\n",
    "\n",
    "    r = int(color[:2], 16)\n",
    "    g = int(color[2:4], 16)\n",
    "    b = int(color[4:], 16)\n",
    "\n",
    "    return r, g, b # a sequence\n",
    "\n",
    "print (rgb_html(200, 200, 255))\n",
    "print (rgb_html(b=200, g=200, r=255)) # what's happened? \n",
    "print (html_rgb('#c8c8ff'))"
   ]
  },
  {
   "cell_type": "code",
   "execution_count": null,
   "metadata": {},
   "outputs": [],
   "source": []
  }
 ],
 "metadata": {
  "kernelspec": {
   "display_name": "Python 3",
   "language": "python",
   "name": "python3"
  },
  "language_info": {
   "codemirror_mode": {
    "name": "ipython",
    "version": 3
   },
   "file_extension": ".py",
   "mimetype": "text/x-python",
   "name": "python",
   "nbconvert_exporter": "python",
   "pygments_lexer": "ipython3",
   "version": "3.7.0"
  }
 },
 "nbformat": 4,
 "nbformat_minor": 2
}
