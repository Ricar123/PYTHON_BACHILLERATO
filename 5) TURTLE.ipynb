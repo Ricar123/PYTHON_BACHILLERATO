{
 "cells": [
  {
   "cell_type": "markdown",
   "metadata": {},
   "source": [
    "## TURTLE\n",
    "TODAS LAS INSTRUCCIONES TURTLE: https://docs.python.org/3/library/turtle.html#turtle.bgcolor\n",
    "\n",
    "EJERCICIOS ONLINE: http://interactivepython.org/runestone/static/thinkcspy/PythonTurtle/toctree.html  \n",
    "\n",
    "COLORES HEXADECIMALES: https://www.w3schools.com/colors/colors_names.asp\n",
    "\n",
    "HORA DEL CÓDIGO: https://hourofpython.com/una-introduccion-visual-a-python/index.html\n"
   ]
  },
  {
   "cell_type": "code",
   "execution_count": 8,
   "metadata": {},
   "outputs": [],
   "source": [
    "import turtle  #MÓDULO O LIBRERÍA necesario cargarlo para trabajar con este OBJETO.\n",
    "turtle.forward(100)\n",
    "turtle.exitonclick()  # recuerda cerrar siempre el objeto gráfico turtle para que no entre en bucle"
   ]
  },
  {
   "cell_type": "code",
   "execution_count": 10,
   "metadata": {},
   "outputs": [],
   "source": [
    "from turtle import * #de esta otra forma importamos TODAS sus instrucciones y sus llamadas son más fáciles \n",
    "forward(100)\n",
    "exitonclick()  # recuerda cerrar siempre el objeto gráfico turtle para que no entre en bucle"
   ]
  },
  {
   "cell_type": "code",
   "execution_count": 1,
   "metadata": {},
   "outputs": [],
   "source": [
    "# Diseñamos todos los parámetros que contiene una ventana de este OBJETO LLAMADO TORTUGA\n",
    "import turtle \n",
    "turtle.setup(600, 400, 0, 0)\n",
    "turtle.title(\"MI PRIMERA VENTANA DE TURTLE\")\n",
    "turtle.goto(100,100)\n",
    "turtle.bgcolor(\"lightgreen\")\n",
    "turtle.exitonclick()  #necesario para que no entre en buble y podamos salir del lienzo"
   ]
  },
  {
   "cell_type": "code",
   "execution_count": 4,
   "metadata": {},
   "outputs": [],
   "source": [
    "import turtle #BUCLE para UNA LÍNEA DISCONTÍNUA\n",
    "for i in [1,2,3,4,5,6,7,8,9,10]:   #también se puede usar range(10)\n",
    "    turtle.forward(15)\n",
    "    turtle.penup()\n",
    "    turtle.forward(5)\n",
    "    turtle.pendown()\n",
    "turtle.exitonclick()"
   ]
  },
  {
   "cell_type": "code",
   "execution_count": 16,
   "metadata": {},
   "outputs": [],
   "source": [
    "# dibujar UN CUADRADO PASO A PASO (método poco eficiente)\n",
    "from turtle import *\n",
    "turtle.speed(1)  #PODEMOS DEFINER LA RAPIDEZ COMO SE DIBUJA\n",
    "\n",
    "forward(50)\n",
    "left(90)\n",
    "forward(50)\n",
    "left(90)\n",
    "forward(50)\n",
    "left(90)\n",
    "forward(50)\n",
    "left(90)\n",
    "\n",
    "exitonclick()"
   ]
  },
  {
   "cell_type": "code",
   "execution_count": 3,
   "metadata": {},
   "outputs": [],
   "source": [
    "import turtle #dibujar UN CUADRADO USANDO UN BUCLE (método más eficaz)\n",
    "for i in range(4):\n",
    "    turtle.forward(100)\n",
    "    turtle.left(360/4)\n",
    "\n",
    "turtle.exitonclick()"
   ]
  },
  {
   "cell_type": "code",
   "execution_count": 10,
   "metadata": {},
   "outputs": [
    {
     "name": "stdout",
     "output_type": "stream",
     "text": [
      "Lado del cuadrado=50\n"
     ]
    }
   ],
   "source": [
    "# UN CUADRADO, esta vez DEF una función con todos sus parámetros inventados\n",
    "import turtle\n",
    "turtle.setup(400,400)\n",
    "perico=turtle.Turtle() #nos inventamos un nombre nuevo para el objeto tortuga\n",
    "perico.shape(\"turtle\")  # a  \"perico\" le damos esta forma\n",
    "\n",
    "def cuadrado(lado,color,x,y):  # con DEF definimos una función que la llamamos cuadrado\n",
    "        perico.color(\"black\")\n",
    "        perico.pensize(3)\n",
    "        perico.fillcolor(color)\n",
    "        perico.penup()\n",
    "        perico.goto(x,y)\n",
    "        perico.pendown()\n",
    "        perico.begin_fill()\n",
    "        for i in range(4):\n",
    "            perico.forward(lado)\n",
    "            perico.left(90)\n",
    "        perico.end_fill()\n",
    "\n",
    "lado = int(input(\"Lado del cuadrado=\"))\n",
    "color=\"red\"\n",
    "x=-25\n",
    "y=-25\n",
    "perico.speed(1)\n",
    "cuadrado(lado,color,x,y)\n",
    "\n",
    "turtle.exitonclick()"
   ]
  },
  {
   "cell_type": "code",
   "execution_count": 8,
   "metadata": {},
   "outputs": [],
   "source": [
    "# Dibujamos un CUADRADO USANDO UN BUCLE Y CON DISTINTOS COLORES. \n",
    "# Con este script podemos ver como hay varias formas de hacer un mismo programa.\n",
    "import turtle         \n",
    "turtle.pensize(3)\n",
    "for i in [\"yellow\", \"red\", \"purple\", \"blue\"]:\n",
    "   turtle.color(i)\n",
    "   turtle.forward(50)\n",
    "   turtle.left(90)\n",
    "\n",
    "turtle.exitonclick()"
   ]
  },
  {
   "cell_type": "code",
   "execution_count": 12,
   "metadata": {},
   "outputs": [],
   "source": [
    "import turtle #dibujar UN HEXÁGONO \n",
    "\n",
    "for i in range(6):\n",
    "    turtle.forward(100)\n",
    "    turtle.left(360/6)\n",
    "\n",
    "turtle.exitonclick()"
   ]
  },
  {
   "cell_type": "code",
   "execution_count": 14,
   "metadata": {},
   "outputs": [],
   "source": [
    "# Dibujo de un PANAL DE HEXÁGONOS\n",
    "import turtle\n",
    "turtle.speed(50)\n",
    "def hexagon():\n",
    "  for _ in range(6):\n",
    "      turtle.forward(50)\n",
    "      turtle.left(60)\n",
    "\n",
    "for _ in range (6):\n",
    "    hexagon()\n",
    "    turtle.forward(50)\n",
    "    turtle.right(60)\n",
    "    \n",
    "turtle.exitonclick()"
   ]
  },
  {
   "cell_type": "code",
   "execution_count": 19,
   "metadata": {},
   "outputs": [],
   "source": [
    "import turtle # UNA ESTRELLA DE CUADRADOS\n",
    "import random           \n",
    "turtle.bgcolor(\"lightgreen\")\n",
    "turtle.pensize(3)\n",
    "turtle.speed(10000)\n",
    "\n",
    "def cuadrado():  # definimos una función llamaa cuadrado\n",
    "    for i in range(0,4): \n",
    "        turtle.forward(50)\n",
    "        turtle.left(90) \n",
    "\n",
    "def estrella():   # definimos una función llamada estrella\n",
    "    for i in range(0,25):\n",
    "        color= random.choice([\"red\",\"green\",\"blue\",\"pink\",\"gray\"])\n",
    "        turtle.color(color)\n",
    "        cuadrado()     # hacemos una llamada a esta función \n",
    "        turtle.left(15)\n",
    "        \n",
    "def rosa():\n",
    "    for i in range(1,10):\n",
    "        turtle.forward(100)\n",
    "        turtle.left(30)\n",
    "        estrella()\n",
    "        \n",
    "rosa()\n",
    "\n",
    "turtle.exitonclick()"
   ]
  },
  {
   "cell_type": "code",
   "execution_count": 11,
   "metadata": {},
   "outputs": [],
   "source": [
    "import turtle # UNA LÍNEA SIN DESPLAZAR, USANDO UNA FUNCIÓN. \n",
    "\n",
    "def linea_sin_desplazar(pos):  #defino una función para mover sin desplazamiento\n",
    "    turtle.forward(pos)\n",
    "    turtle.backward(pos)\n",
    "linea_sin_desplazar(150)\n",
    "    \n",
    "turtle.exitonclick()"
   ]
  },
  {
   "cell_type": "code",
   "execution_count": 17,
   "metadata": {},
   "outputs": [],
   "source": [
    "import turtle # dibujo de RADIOS DE UNA ESTRELLA USANDO FUNCIONES. \n",
    "def linea_sin_desplazar(pos):  #defino una función para mover sin desplazamiento\n",
    "    turtle.forward(pos)\n",
    "    turtle.backward(pos)\n",
    "\n",
    "def estrella_brazo():\n",
    "    linea_sin_desplazar(100)\n",
    "    turtle.right(360 / 5)\n",
    "\n",
    "for _ in range(5):\n",
    "    estrella_brazo()\n",
    "    \n",
    "turtle.exitonclick()"
   ]
  },
  {
   "cell_type": "code",
   "execution_count": 26,
   "metadata": {},
   "outputs": [],
   "source": [
    "# VARIAS FORMAS USANDO OBJETOS DE UNA CLASE.\n",
    "import turtle\n",
    "turtle.setup(600, 400, 0, 0)  \n",
    "turtle.title(\"MI PRIMERA VENTANA DE TURTLE\")\n",
    "turtle.bgcolor(\"lightgreen\")\n",
    "\n",
    "# creamos nueva INSTANCIA (objeto) de la clase Turtle con sus métodos y atributos.\n",
    "perico = turtle.Turtle()   \n",
    "perico.color(\"red\")   # este sería un atributo (o propiedad) del objeto \"perico\"\n",
    "perico.pensize(5)\n",
    "\n",
    "calisto= turtle.Turtle() #creamos otro objeto tortuga2 de la clase general turtle\n",
    "calisto.color(\"blue\")\n",
    "calisto.pensize(3)\n",
    "\n",
    "perico.forward(80)   # este sería un método del objeto \"perico\"              \n",
    "perico.left(120)\n",
    "perico.forward(80)\n",
    "perico.left(120)\n",
    "perico.forward(80)\n",
    "perico.left(120)                   \n",
    "perico.right(180)                  \n",
    "perico.forward(80)                 \n",
    "\n",
    "calisto.forward(50)                 \n",
    "calisto.left(90)\n",
    "calisto.forward(50)\n",
    "calisto.left(90)\n",
    "calisto.forward(50)\n",
    "calisto.left(90)\n",
    "calisto.forward(50)\n",
    "calisto.left(90)\n",
    "\n",
    "\n",
    "turtle.exitonclick()  #necesario para que no entre en buble y podamos salir del lienzo"
   ]
  },
  {
   "cell_type": "code",
   "execution_count": 21,
   "metadata": {},
   "outputs": [
    {
     "name": "stdout",
     "output_type": "stream",
     "text": [
      "[5, 7, 9, 11, 13, 15, 17, 19, 21, 23, 25, 27, 29, 31, 33, 35, 37, 39, 41, 43, 45, 47, 49, 51, 53, 55, 57, 59, 61, 63, 65, 67, 69]\n"
     ]
    }
   ],
   "source": [
    "# ESPIRAL CON DIBUJITOS\n",
    "import turtle\n",
    "turtle.setup(600, 400, 0, 0)\n",
    "turtle.title(\"ESPIRAL DE TORTUGUITAS AZULES\")\n",
    "turtle.bgcolor(\"lightgreen\")\n",
    "\n",
    "juanito= turtle.Turtle()\n",
    "juanito.color(\"blue\")\n",
    "juanito.shape(\"turtle\")\n",
    "juanito.speed(500)\n",
    "juanito.penup()                     # para no dejar trazo de rastro\n",
    "\n",
    "for distancia in range(5,90, 2):    # start with size = 5 and grow by 2\n",
    "    juanito.stamp()                # leave an impression on the canvas\n",
    "    juanito.forward(distancia)          # move tortuga along\n",
    "    juanito.right(24)              # and turn her\n",
    "\n",
    "print(list(range(5,70,2)))\n",
    "turtle.exitonclick()"
   ]
  },
  {
   "cell_type": "code",
   "execution_count": null,
   "metadata": {},
   "outputs": [],
   "source": [
    "# DIBUJA UNA ESPIRAL\n",
    "import turtle\n",
    "turtle.speed(500)\n",
    "\n",
    "def dibuja_espiral(recorrido):\n",
    "    original_xcor = turtle.xcor()  #coordenada x respecto centro (0,0)\n",
    "    original_ycor = turtle.ycor()  #coordenada y respecto centro (0,0)\n",
    "    distancia = 1\n",
    "    while True:\n",
    "        turtle.forward(distancia)\n",
    "        turtle.left(10)\n",
    "        distancia += 0.1\n",
    "        if turtle.distance(original_xcor, original_ycor) > recorrido:\n",
    "            break\n",
    "dibuja_espiral(200)         \n",
    "exitonclick()"
   ]
  },
  {
   "cell_type": "code",
   "execution_count": 47,
   "metadata": {},
   "outputs": [],
   "source": [
    "# Iteración con el ratón\n",
    "import turtle\n",
    "turtle.hideturtle()\n",
    "turtle.speed(5000)\n",
    "\n",
    "def punto(x, y):\n",
    "    turtle.penup()\n",
    "    turtle.goto(x, y)\n",
    "    turtle.pendown()\n",
    "    turtle.dot(10, \"black\")\n",
    "    \n",
    "def circulo(x,y):\n",
    "    turtle.penup()\n",
    "    turtle.pensize(3)\n",
    "    turtle.fillcolor(\"green\")\n",
    "    turtle.goto(x,y)\n",
    "    turtle.pendown()\n",
    "    turtle.begin_fill()\n",
    "    turtle.circle(30)\n",
    "    turtle.end_fill()\n",
    "    \n",
    "turtle.onscreenclick(circulo)\n",
    "turtle.mainloop()\n"
   ]
  },
  {
   "cell_type": "code",
   "execution_count": 49,
   "metadata": {},
   "outputs": [
    {
     "ename": "Terminator",
     "evalue": "",
     "output_type": "error",
     "traceback": [
      "\u001b[1;31m---------------------------------------------------------------------------\u001b[0m",
      "\u001b[1;31mTerminator\u001b[0m                                Traceback (most recent call last)",
      "\u001b[1;32m<ipython-input-49-9189dcab4b8d>\u001b[0m in \u001b[0;36m<module>\u001b[1;34m()\u001b[0m\n\u001b[0;32m     12\u001b[0m     \u001b[0mturtle\u001b[0m\u001b[1;33m.\u001b[0m\u001b[0montimer\u001b[0m\u001b[1;33m(\u001b[0m\u001b[0mpunto\u001b[0m\u001b[1;33m(\u001b[0m\u001b[1;33m)\u001b[0m\u001b[1;33m,\u001b[0m \u001b[1;36m1000\u001b[0m\u001b[1;33m)\u001b[0m\u001b[1;33m\u001b[0m\u001b[0m\n\u001b[0;32m     13\u001b[0m \u001b[1;33m\u001b[0m\u001b[0m\n\u001b[1;32m---> 14\u001b[1;33m \u001b[0mturtle\u001b[0m\u001b[1;33m.\u001b[0m\u001b[0monscreenclick\u001b[0m\u001b[1;33m(\u001b[0m\u001b[0mpunto\u001b[0m\u001b[1;33m(\u001b[0m\u001b[1;33m)\u001b[0m\u001b[1;33m)\u001b[0m\u001b[1;33m\u001b[0m\u001b[0m\n\u001b[0m\u001b[0;32m     15\u001b[0m \u001b[0mturtle\u001b[0m\u001b[1;33m.\u001b[0m\u001b[0mmainloop\u001b[0m\u001b[1;33m(\u001b[0m\u001b[1;33m)\u001b[0m\u001b[1;33m\u001b[0m\u001b[0m\n",
      "\u001b[1;32m<ipython-input-49-9189dcab4b8d>\u001b[0m in \u001b[0;36mpunto\u001b[1;34m()\u001b[0m\n\u001b[0;32m     10\u001b[0m     \u001b[0mturtle\u001b[0m\u001b[1;33m.\u001b[0m\u001b[0mgoto\u001b[0m\u001b[1;33m(\u001b[0m\u001b[0mrandint\u001b[0m\u001b[1;33m(\u001b[0m\u001b[1;33m-\u001b[0m\u001b[1;36m225\u001b[0m\u001b[1;33m,\u001b[0m \u001b[1;36m225\u001b[0m\u001b[1;33m)\u001b[0m\u001b[1;33m,\u001b[0m \u001b[0mrandint\u001b[0m\u001b[1;33m(\u001b[0m\u001b[1;33m-\u001b[0m\u001b[1;36m100\u001b[0m\u001b[1;33m,\u001b[0m \u001b[1;36m100\u001b[0m\u001b[1;33m)\u001b[0m\u001b[1;33m)\u001b[0m\u001b[1;33m\u001b[0m\u001b[0m\n\u001b[0;32m     11\u001b[0m     \u001b[0mturtle\u001b[0m\u001b[1;33m.\u001b[0m\u001b[0mdot\u001b[0m\u001b[1;33m(\u001b[0m\u001b[1;36m10\u001b[0m\u001b[1;33m,\u001b[0m \u001b[1;34m\"black\"\u001b[0m\u001b[1;33m)\u001b[0m\u001b[1;33m\u001b[0m\u001b[0m\n\u001b[1;32m---> 12\u001b[1;33m     \u001b[0mturtle\u001b[0m\u001b[1;33m.\u001b[0m\u001b[0montimer\u001b[0m\u001b[1;33m(\u001b[0m\u001b[0mpunto\u001b[0m\u001b[1;33m(\u001b[0m\u001b[1;33m)\u001b[0m\u001b[1;33m,\u001b[0m \u001b[1;36m1000\u001b[0m\u001b[1;33m)\u001b[0m\u001b[1;33m\u001b[0m\u001b[0m\n\u001b[0m\u001b[0;32m     13\u001b[0m \u001b[1;33m\u001b[0m\u001b[0m\n\u001b[0;32m     14\u001b[0m \u001b[0mturtle\u001b[0m\u001b[1;33m.\u001b[0m\u001b[0monscreenclick\u001b[0m\u001b[1;33m(\u001b[0m\u001b[0mpunto\u001b[0m\u001b[1;33m(\u001b[0m\u001b[1;33m)\u001b[0m\u001b[1;33m)\u001b[0m\u001b[1;33m\u001b[0m\u001b[0m\n",
      "\u001b[1;32m<ipython-input-49-9189dcab4b8d>\u001b[0m in \u001b[0;36mpunto\u001b[1;34m()\u001b[0m\n\u001b[0;32m     10\u001b[0m     \u001b[0mturtle\u001b[0m\u001b[1;33m.\u001b[0m\u001b[0mgoto\u001b[0m\u001b[1;33m(\u001b[0m\u001b[0mrandint\u001b[0m\u001b[1;33m(\u001b[0m\u001b[1;33m-\u001b[0m\u001b[1;36m225\u001b[0m\u001b[1;33m,\u001b[0m \u001b[1;36m225\u001b[0m\u001b[1;33m)\u001b[0m\u001b[1;33m,\u001b[0m \u001b[0mrandint\u001b[0m\u001b[1;33m(\u001b[0m\u001b[1;33m-\u001b[0m\u001b[1;36m100\u001b[0m\u001b[1;33m,\u001b[0m \u001b[1;36m100\u001b[0m\u001b[1;33m)\u001b[0m\u001b[1;33m)\u001b[0m\u001b[1;33m\u001b[0m\u001b[0m\n\u001b[0;32m     11\u001b[0m     \u001b[0mturtle\u001b[0m\u001b[1;33m.\u001b[0m\u001b[0mdot\u001b[0m\u001b[1;33m(\u001b[0m\u001b[1;36m10\u001b[0m\u001b[1;33m,\u001b[0m \u001b[1;34m\"black\"\u001b[0m\u001b[1;33m)\u001b[0m\u001b[1;33m\u001b[0m\u001b[0m\n\u001b[1;32m---> 12\u001b[1;33m     \u001b[0mturtle\u001b[0m\u001b[1;33m.\u001b[0m\u001b[0montimer\u001b[0m\u001b[1;33m(\u001b[0m\u001b[0mpunto\u001b[0m\u001b[1;33m(\u001b[0m\u001b[1;33m)\u001b[0m\u001b[1;33m,\u001b[0m \u001b[1;36m1000\u001b[0m\u001b[1;33m)\u001b[0m\u001b[1;33m\u001b[0m\u001b[0m\n\u001b[0m\u001b[0;32m     13\u001b[0m \u001b[1;33m\u001b[0m\u001b[0m\n\u001b[0;32m     14\u001b[0m \u001b[0mturtle\u001b[0m\u001b[1;33m.\u001b[0m\u001b[0monscreenclick\u001b[0m\u001b[1;33m(\u001b[0m\u001b[0mpunto\u001b[0m\u001b[1;33m(\u001b[0m\u001b[1;33m)\u001b[0m\u001b[1;33m)\u001b[0m\u001b[1;33m\u001b[0m\u001b[0m\n",
      "\u001b[1;32m<ipython-input-49-9189dcab4b8d>\u001b[0m in \u001b[0;36mpunto\u001b[1;34m()\u001b[0m\n\u001b[0;32m     10\u001b[0m     \u001b[0mturtle\u001b[0m\u001b[1;33m.\u001b[0m\u001b[0mgoto\u001b[0m\u001b[1;33m(\u001b[0m\u001b[0mrandint\u001b[0m\u001b[1;33m(\u001b[0m\u001b[1;33m-\u001b[0m\u001b[1;36m225\u001b[0m\u001b[1;33m,\u001b[0m \u001b[1;36m225\u001b[0m\u001b[1;33m)\u001b[0m\u001b[1;33m,\u001b[0m \u001b[0mrandint\u001b[0m\u001b[1;33m(\u001b[0m\u001b[1;33m-\u001b[0m\u001b[1;36m100\u001b[0m\u001b[1;33m,\u001b[0m \u001b[1;36m100\u001b[0m\u001b[1;33m)\u001b[0m\u001b[1;33m)\u001b[0m\u001b[1;33m\u001b[0m\u001b[0m\n\u001b[0;32m     11\u001b[0m     \u001b[0mturtle\u001b[0m\u001b[1;33m.\u001b[0m\u001b[0mdot\u001b[0m\u001b[1;33m(\u001b[0m\u001b[1;36m10\u001b[0m\u001b[1;33m,\u001b[0m \u001b[1;34m\"black\"\u001b[0m\u001b[1;33m)\u001b[0m\u001b[1;33m\u001b[0m\u001b[0m\n\u001b[1;32m---> 12\u001b[1;33m     \u001b[0mturtle\u001b[0m\u001b[1;33m.\u001b[0m\u001b[0montimer\u001b[0m\u001b[1;33m(\u001b[0m\u001b[0mpunto\u001b[0m\u001b[1;33m(\u001b[0m\u001b[1;33m)\u001b[0m\u001b[1;33m,\u001b[0m \u001b[1;36m1000\u001b[0m\u001b[1;33m)\u001b[0m\u001b[1;33m\u001b[0m\u001b[0m\n\u001b[0m\u001b[0;32m     13\u001b[0m \u001b[1;33m\u001b[0m\u001b[0m\n\u001b[0;32m     14\u001b[0m \u001b[0mturtle\u001b[0m\u001b[1;33m.\u001b[0m\u001b[0monscreenclick\u001b[0m\u001b[1;33m(\u001b[0m\u001b[0mpunto\u001b[0m\u001b[1;33m(\u001b[0m\u001b[1;33m)\u001b[0m\u001b[1;33m)\u001b[0m\u001b[1;33m\u001b[0m\u001b[0m\n",
      "\u001b[1;32m<ipython-input-49-9189dcab4b8d>\u001b[0m in \u001b[0;36mpunto\u001b[1;34m()\u001b[0m\n\u001b[0;32m     10\u001b[0m     \u001b[0mturtle\u001b[0m\u001b[1;33m.\u001b[0m\u001b[0mgoto\u001b[0m\u001b[1;33m(\u001b[0m\u001b[0mrandint\u001b[0m\u001b[1;33m(\u001b[0m\u001b[1;33m-\u001b[0m\u001b[1;36m225\u001b[0m\u001b[1;33m,\u001b[0m \u001b[1;36m225\u001b[0m\u001b[1;33m)\u001b[0m\u001b[1;33m,\u001b[0m \u001b[0mrandint\u001b[0m\u001b[1;33m(\u001b[0m\u001b[1;33m-\u001b[0m\u001b[1;36m100\u001b[0m\u001b[1;33m,\u001b[0m \u001b[1;36m100\u001b[0m\u001b[1;33m)\u001b[0m\u001b[1;33m)\u001b[0m\u001b[1;33m\u001b[0m\u001b[0m\n\u001b[0;32m     11\u001b[0m     \u001b[0mturtle\u001b[0m\u001b[1;33m.\u001b[0m\u001b[0mdot\u001b[0m\u001b[1;33m(\u001b[0m\u001b[1;36m10\u001b[0m\u001b[1;33m,\u001b[0m \u001b[1;34m\"black\"\u001b[0m\u001b[1;33m)\u001b[0m\u001b[1;33m\u001b[0m\u001b[0m\n\u001b[1;32m---> 12\u001b[1;33m     \u001b[0mturtle\u001b[0m\u001b[1;33m.\u001b[0m\u001b[0montimer\u001b[0m\u001b[1;33m(\u001b[0m\u001b[0mpunto\u001b[0m\u001b[1;33m(\u001b[0m\u001b[1;33m)\u001b[0m\u001b[1;33m,\u001b[0m \u001b[1;36m1000\u001b[0m\u001b[1;33m)\u001b[0m\u001b[1;33m\u001b[0m\u001b[0m\n\u001b[0m\u001b[0;32m     13\u001b[0m \u001b[1;33m\u001b[0m\u001b[0m\n\u001b[0;32m     14\u001b[0m \u001b[0mturtle\u001b[0m\u001b[1;33m.\u001b[0m\u001b[0monscreenclick\u001b[0m\u001b[1;33m(\u001b[0m\u001b[0mpunto\u001b[0m\u001b[1;33m(\u001b[0m\u001b[1;33m)\u001b[0m\u001b[1;33m)\u001b[0m\u001b[1;33m\u001b[0m\u001b[0m\n",
      "\u001b[1;32m<ipython-input-49-9189dcab4b8d>\u001b[0m in \u001b[0;36mpunto\u001b[1;34m()\u001b[0m\n\u001b[0;32m      8\u001b[0m \u001b[1;32mdef\u001b[0m \u001b[0mpunto\u001b[0m\u001b[1;33m(\u001b[0m\u001b[1;33m)\u001b[0m\u001b[1;33m:\u001b[0m\u001b[1;33m\u001b[0m\u001b[0m\n\u001b[0;32m      9\u001b[0m     \u001b[1;32mglobal\u001b[0m \u001b[0mrandint\u001b[0m\u001b[1;33m\u001b[0m\u001b[0m\n\u001b[1;32m---> 10\u001b[1;33m     \u001b[0mturtle\u001b[0m\u001b[1;33m.\u001b[0m\u001b[0mgoto\u001b[0m\u001b[1;33m(\u001b[0m\u001b[0mrandint\u001b[0m\u001b[1;33m(\u001b[0m\u001b[1;33m-\u001b[0m\u001b[1;36m225\u001b[0m\u001b[1;33m,\u001b[0m \u001b[1;36m225\u001b[0m\u001b[1;33m)\u001b[0m\u001b[1;33m,\u001b[0m \u001b[0mrandint\u001b[0m\u001b[1;33m(\u001b[0m\u001b[1;33m-\u001b[0m\u001b[1;36m100\u001b[0m\u001b[1;33m,\u001b[0m \u001b[1;36m100\u001b[0m\u001b[1;33m)\u001b[0m\u001b[1;33m)\u001b[0m\u001b[1;33m\u001b[0m\u001b[0m\n\u001b[0m\u001b[0;32m     11\u001b[0m     \u001b[0mturtle\u001b[0m\u001b[1;33m.\u001b[0m\u001b[0mdot\u001b[0m\u001b[1;33m(\u001b[0m\u001b[1;36m10\u001b[0m\u001b[1;33m,\u001b[0m \u001b[1;34m\"black\"\u001b[0m\u001b[1;33m)\u001b[0m\u001b[1;33m\u001b[0m\u001b[0m\n\u001b[0;32m     12\u001b[0m     \u001b[0mturtle\u001b[0m\u001b[1;33m.\u001b[0m\u001b[0montimer\u001b[0m\u001b[1;33m(\u001b[0m\u001b[0mpunto\u001b[0m\u001b[1;33m(\u001b[0m\u001b[1;33m)\u001b[0m\u001b[1;33m,\u001b[0m \u001b[1;36m1000\u001b[0m\u001b[1;33m)\u001b[0m\u001b[1;33m\u001b[0m\u001b[0m\n",
      "\u001b[1;32mC:\\Users\\RICARDO\\Desktop\\WinPython\\python-3.6.5.amd64\\lib\\turtle.py\u001b[0m in \u001b[0;36mgoto\u001b[1;34m(x, y)\u001b[0m\n",
      "\u001b[1;32mC:\\Users\\RICARDO\\Desktop\\WinPython\\python-3.6.5.amd64\\lib\\turtle.py\u001b[0m in \u001b[0;36mgoto\u001b[1;34m(self, x, y)\u001b[0m\n\u001b[0;32m   1774\u001b[0m             \u001b[0mself\u001b[0m\u001b[1;33m.\u001b[0m\u001b[0m_goto\u001b[0m\u001b[1;33m(\u001b[0m\u001b[0mVec2D\u001b[0m\u001b[1;33m(\u001b[0m\u001b[1;33m*\u001b[0m\u001b[0mx\u001b[0m\u001b[1;33m)\u001b[0m\u001b[1;33m)\u001b[0m\u001b[1;33m\u001b[0m\u001b[0m\n\u001b[0;32m   1775\u001b[0m         \u001b[1;32melse\u001b[0m\u001b[1;33m:\u001b[0m\u001b[1;33m\u001b[0m\u001b[0m\n\u001b[1;32m-> 1776\u001b[1;33m             \u001b[0mself\u001b[0m\u001b[1;33m.\u001b[0m\u001b[0m_goto\u001b[0m\u001b[1;33m(\u001b[0m\u001b[0mVec2D\u001b[0m\u001b[1;33m(\u001b[0m\u001b[0mx\u001b[0m\u001b[1;33m,\u001b[0m \u001b[0my\u001b[0m\u001b[1;33m)\u001b[0m\u001b[1;33m)\u001b[0m\u001b[1;33m\u001b[0m\u001b[0m\n\u001b[0m\u001b[0;32m   1777\u001b[0m \u001b[1;33m\u001b[0m\u001b[0m\n\u001b[0;32m   1778\u001b[0m     \u001b[1;32mdef\u001b[0m \u001b[0mhome\u001b[0m\u001b[1;33m(\u001b[0m\u001b[0mself\u001b[0m\u001b[1;33m)\u001b[0m\u001b[1;33m:\u001b[0m\u001b[1;33m\u001b[0m\u001b[0m\n",
      "\u001b[1;32mC:\\Users\\RICARDO\\Desktop\\WinPython\\python-3.6.5.amd64\\lib\\turtle.py\u001b[0m in \u001b[0;36m_goto\u001b[1;34m(self, end)\u001b[0m\n\u001b[0;32m   3177\u001b[0m                                      \u001b[1;33m(\u001b[0m\u001b[0mstart\u001b[0m\u001b[1;33m,\u001b[0m \u001b[0mself\u001b[0m\u001b[1;33m.\u001b[0m\u001b[0m_position\u001b[0m\u001b[1;33m)\u001b[0m\u001b[1;33m,\u001b[0m\u001b[1;33m\u001b[0m\u001b[0m\n\u001b[0;32m   3178\u001b[0m                                      self._pencolor, self._pensize, top)\n\u001b[1;32m-> 3179\u001b[1;33m                 \u001b[0mself\u001b[0m\u001b[1;33m.\u001b[0m\u001b[0m_update\u001b[0m\u001b[1;33m(\u001b[0m\u001b[1;33m)\u001b[0m\u001b[1;33m\u001b[0m\u001b[0m\n\u001b[0m\u001b[0;32m   3180\u001b[0m             \u001b[1;32mif\u001b[0m \u001b[0mself\u001b[0m\u001b[1;33m.\u001b[0m\u001b[0m_drawing\u001b[0m\u001b[1;33m:\u001b[0m\u001b[1;33m\u001b[0m\u001b[0m\n\u001b[0;32m   3181\u001b[0m                 screen._drawline(self.drawingLineItem, ((0, 0), (0, 0)),\n",
      "\u001b[1;32mC:\\Users\\RICARDO\\Desktop\\WinPython\\python-3.6.5.amd64\\lib\\turtle.py\u001b[0m in \u001b[0;36m_update\u001b[1;34m(self)\u001b[0m\n\u001b[0;32m   2658\u001b[0m             \u001b[1;32mreturn\u001b[0m\u001b[1;33m\u001b[0m\u001b[0m\n\u001b[0;32m   2659\u001b[0m         \u001b[1;32melif\u001b[0m \u001b[0mscreen\u001b[0m\u001b[1;33m.\u001b[0m\u001b[0m_tracing\u001b[0m \u001b[1;33m==\u001b[0m \u001b[1;36m1\u001b[0m\u001b[1;33m:\u001b[0m\u001b[1;33m\u001b[0m\u001b[0m\n\u001b[1;32m-> 2660\u001b[1;33m             \u001b[0mself\u001b[0m\u001b[1;33m.\u001b[0m\u001b[0m_update_data\u001b[0m\u001b[1;33m(\u001b[0m\u001b[1;33m)\u001b[0m\u001b[1;33m\u001b[0m\u001b[0m\n\u001b[0m\u001b[0;32m   2661\u001b[0m             \u001b[0mself\u001b[0m\u001b[1;33m.\u001b[0m\u001b[0m_drawturtle\u001b[0m\u001b[1;33m(\u001b[0m\u001b[1;33m)\u001b[0m\u001b[1;33m\u001b[0m\u001b[0m\n\u001b[0;32m   2662\u001b[0m             \u001b[0mscreen\u001b[0m\u001b[1;33m.\u001b[0m\u001b[0m_update\u001b[0m\u001b[1;33m(\u001b[0m\u001b[1;33m)\u001b[0m                  \u001b[1;31m# TurtleScreenBase\u001b[0m\u001b[1;33m\u001b[0m\u001b[0m\n",
      "\u001b[1;32mC:\\Users\\RICARDO\\Desktop\\WinPython\\python-3.6.5.amd64\\lib\\turtle.py\u001b[0m in \u001b[0;36m_update_data\u001b[1;34m(self)\u001b[0m\n\u001b[0;32m   2644\u001b[0m \u001b[1;33m\u001b[0m\u001b[0m\n\u001b[0;32m   2645\u001b[0m     \u001b[1;32mdef\u001b[0m \u001b[0m_update_data\u001b[0m\u001b[1;33m(\u001b[0m\u001b[0mself\u001b[0m\u001b[1;33m)\u001b[0m\u001b[1;33m:\u001b[0m\u001b[1;33m\u001b[0m\u001b[0m\n\u001b[1;32m-> 2646\u001b[1;33m         \u001b[0mself\u001b[0m\u001b[1;33m.\u001b[0m\u001b[0mscreen\u001b[0m\u001b[1;33m.\u001b[0m\u001b[0m_incrementudc\u001b[0m\u001b[1;33m(\u001b[0m\u001b[1;33m)\u001b[0m\u001b[1;33m\u001b[0m\u001b[0m\n\u001b[0m\u001b[0;32m   2647\u001b[0m         \u001b[1;32mif\u001b[0m \u001b[0mself\u001b[0m\u001b[1;33m.\u001b[0m\u001b[0mscreen\u001b[0m\u001b[1;33m.\u001b[0m\u001b[0m_updatecounter\u001b[0m \u001b[1;33m!=\u001b[0m \u001b[1;36m0\u001b[0m\u001b[1;33m:\u001b[0m\u001b[1;33m\u001b[0m\u001b[0m\n\u001b[0;32m   2648\u001b[0m             \u001b[1;32mreturn\u001b[0m\u001b[1;33m\u001b[0m\u001b[0m\n",
      "\u001b[1;32mC:\\Users\\RICARDO\\Desktop\\WinPython\\python-3.6.5.amd64\\lib\\turtle.py\u001b[0m in \u001b[0;36m_incrementudc\u001b[1;34m(self)\u001b[0m\n\u001b[0;32m   1290\u001b[0m         \u001b[1;32mif\u001b[0m \u001b[1;32mnot\u001b[0m \u001b[0mTurtleScreen\u001b[0m\u001b[1;33m.\u001b[0m\u001b[0m_RUNNING\u001b[0m\u001b[1;33m:\u001b[0m\u001b[1;33m\u001b[0m\u001b[0m\n\u001b[0;32m   1291\u001b[0m             \u001b[0mTurtleScreen\u001b[0m\u001b[1;33m.\u001b[0m\u001b[0m_RUNNING\u001b[0m \u001b[1;33m=\u001b[0m \u001b[1;32mTrue\u001b[0m\u001b[1;33m\u001b[0m\u001b[0m\n\u001b[1;32m-> 1292\u001b[1;33m             \u001b[1;32mraise\u001b[0m \u001b[0mTerminator\u001b[0m\u001b[1;33m\u001b[0m\u001b[0m\n\u001b[0m\u001b[0;32m   1293\u001b[0m         \u001b[1;32mif\u001b[0m \u001b[0mself\u001b[0m\u001b[1;33m.\u001b[0m\u001b[0m_tracing\u001b[0m \u001b[1;33m>\u001b[0m \u001b[1;36m0\u001b[0m\u001b[1;33m:\u001b[0m\u001b[1;33m\u001b[0m\u001b[0m\n\u001b[0;32m   1294\u001b[0m             \u001b[0mself\u001b[0m\u001b[1;33m.\u001b[0m\u001b[0m_updatecounter\u001b[0m \u001b[1;33m+=\u001b[0m \u001b[1;36m1\u001b[0m\u001b[1;33m\u001b[0m\u001b[0m\n",
      "\u001b[1;31mTerminator\u001b[0m: "
     ]
    }
   ],
   "source": [
    "# Repetición aleatoria\n",
    "import turtle\n",
    "from random import randint\n",
    "\n",
    "turtle.hideturtle()\n",
    "turtle.penup()\n",
    "\n",
    "def punto():\n",
    "    global randint\n",
    "    turtle.goto(randint(-225, 225), randint(-100, 100))\n",
    "    turtle.dot(10, \"black\")\n",
    "    turtle.ontimer(punto(), 1000)\n",
    "\n",
    "turtle.onscreenclick(punto())\n",
    "turtle.mainloop()"
   ]
  },
  {
   "cell_type": "code",
   "execution_count": 51,
   "metadata": {},
   "outputs": [],
   "source": [
    "# ROSA DE COLOR\n",
    "import turtle \n",
    "turtle.color('red', 'blue')\n",
    "turtle.begin_fill()\n",
    "grados = 0\n",
    "turtle.speed(15)\n",
    "\n",
    "for x in range(1, 40):\n",
    "    for x in range(0, 4):\n",
    "        turtle.forward(80)\n",
    "        turtle.left(90)\n",
    "    turtle.left(grados + 10)\n",
    "turtle.end_fill()\n",
    "\n",
    "turtle.exitonclick()"
   ]
  },
  {
   "cell_type": "code",
   "execution_count": 53,
   "metadata": {},
   "outputs": [
    {
     "ename": "Terminator",
     "evalue": "",
     "output_type": "error",
     "traceback": [
      "\u001b[1;31m---------------------------------------------------------------------------\u001b[0m",
      "\u001b[1;31mTerminator\u001b[0m                                Traceback (most recent call last)",
      "\u001b[1;32m<ipython-input-53-ea3a8860c564>\u001b[0m in \u001b[0;36m<module>\u001b[1;34m()\u001b[0m\n\u001b[0;32m     25\u001b[0m         \u001b[0mdistance\u001b[0m \u001b[1;33m=\u001b[0m \u001b[0mdistance\u001b[0m \u001b[1;33m-\u001b[0m \u001b[1;36m1\u001b[0m\u001b[1;33m\u001b[0m\u001b[0m\n\u001b[0;32m     26\u001b[0m \u001b[1;33m\u001b[0m\u001b[0m\n\u001b[1;32m---> 27\u001b[1;33m \u001b[0mavanza\u001b[0m\u001b[1;33m(\u001b[0m\u001b[1;36m1000\u001b[0m\u001b[1;33m)\u001b[0m\u001b[1;33m\u001b[0m\u001b[0m\n\u001b[0m\u001b[0;32m     28\u001b[0m \u001b[1;33m\u001b[0m\u001b[0m\n\u001b[0;32m     29\u001b[0m \u001b[0mturtle\u001b[0m\u001b[1;33m.\u001b[0m\u001b[0mexitonclick\u001b[0m\u001b[1;33m(\u001b[0m\u001b[1;33m)\u001b[0m\u001b[1;33m\u001b[0m\u001b[0m\n",
      "\u001b[1;32m<ipython-input-53-ea3a8860c564>\u001b[0m in \u001b[0;36mavanza\u001b[1;34m(distance)\u001b[0m\n\u001b[0;32m      7\u001b[0m \u001b[1;32mdef\u001b[0m \u001b[0mavanza\u001b[0m\u001b[1;33m(\u001b[0m\u001b[0mdistance\u001b[0m\u001b[1;33m)\u001b[0m\u001b[1;33m:\u001b[0m\u001b[1;33m\u001b[0m\u001b[0m\n\u001b[0;32m      8\u001b[0m     \u001b[1;32mwhile\u001b[0m \u001b[0mdistance\u001b[0m \u001b[1;33m>\u001b[0m \u001b[1;36m0\u001b[0m\u001b[1;33m:\u001b[0m\u001b[1;33m\u001b[0m\u001b[0m\n\u001b[1;32m----> 9\u001b[1;33m         \u001b[1;32mif\u001b[0m \u001b[0mturtle\u001b[0m\u001b[1;33m.\u001b[0m\u001b[0mdistance\u001b[0m\u001b[1;33m(\u001b[0m\u001b[1;36m0\u001b[0m\u001b[1;33m,\u001b[0m\u001b[1;36m0\u001b[0m\u001b[1;33m)\u001b[0m \u001b[1;33m>\u001b[0m \u001b[1;36m100\u001b[0m\u001b[1;33m:\u001b[0m    \u001b[1;31m#distancia al origen\u001b[0m\u001b[1;33m\u001b[0m\u001b[0m\n\u001b[0m\u001b[0;32m     10\u001b[0m             \u001b[1;32mif\u001b[0m \u001b[0mdistance\u001b[0m \u001b[1;33m>\u001b[0m \u001b[1;36m100\u001b[0m\u001b[1;33m:\u001b[0m\u001b[1;33m\u001b[0m\u001b[0m\n\u001b[0;32m     11\u001b[0m                 \u001b[0mangle\u001b[0m\u001b[1;33m=\u001b[0m\u001b[0mrandom\u001b[0m\u001b[1;33m.\u001b[0m\u001b[0mrandrange\u001b[0m\u001b[1;33m(\u001b[0m\u001b[1;36m120\u001b[0m\u001b[1;33m,\u001b[0m\u001b[1;36m250\u001b[0m\u001b[1;33m,\u001b[0m\u001b[1;36m10\u001b[0m\u001b[1;33m)\u001b[0m\u001b[1;33m\u001b[0m\u001b[0m\n",
      "\u001b[1;32mC:\\Users\\RICARDO\\Desktop\\WinPython\\python-3.6.5.amd64\\lib\\turtle.py\u001b[0m in \u001b[0;36mdistance\u001b[1;34m(x, y)\u001b[0m\n",
      "\u001b[1;31mTerminator\u001b[0m: "
     ]
    }
   ],
   "source": [
    "# MOVIMIENTO EN UNA JAULA\n",
    "# https://opentechschool.github.io/python-beginners/es_CL/conditional_loops.html\n",
    "import turtle\n",
    "import random\n",
    "\n",
    "\n",
    "def avanza(distance):\n",
    "    while distance > 0:\n",
    "        if turtle.distance(0,0) > 100:    #distancia al origen\n",
    "            if distance > 100:\n",
    "                angle=random.randrange(120,250,10) \n",
    "                turtle.left(angle)\n",
    "                turtle.forward(10)\n",
    "        turtle.forward(1)\n",
    "        distance = distance - 1\n",
    "\n",
    "def forward(distance):\n",
    "    while distance > 0:\n",
    "        if (turtle.xcor() > 100\n",
    "            or turtle.xcor() < -100\n",
    "            or turtle.ycor() > 100\n",
    "            or turtle.ycor() < -100):\n",
    "            turtle.setheading(turtle.towards(0,0))\n",
    "        turtle.forward(1)\n",
    "        distance = distance - 1\n",
    "\n",
    "avanza(1000)\n",
    "        \n",
    "turtle.exitonclick()"
   ]
  },
  {
   "cell_type": "markdown",
   "metadata": {},
   "source": [
    "### RECURSIVIDAD. LOS FRACTALES.\n",
    "http://interactivepython.org/runestone/static/pythoned/Recursion/pythondsintro-VisualizacionDeLaRecursividad.html\n",
    "\n",
    "FRACTALES EN LA NATURALEZA:  https://www.youtube.com/watch?v=Z9PU7VmHPgc\n",
    "\n",
    "CURVA DE DRAGON: http://edupython.blogspot.com/search/label/Gr%C3%A1ficas%20de%20tortuga"
   ]
  },
  {
   "cell_type": "code",
   "execution_count": 54,
   "metadata": {},
   "outputs": [],
   "source": [
    "# Recursividad\n",
    "import turtle\n",
    "\n",
    "miTortuga = turtle.Turtle()\n",
    "\n",
    "def dibujarEspiral(miTortuga, longitudLinea):\n",
    "    if longitudLinea > 0:\n",
    "        miTortuga.forward(longitudLinea)\n",
    "        miTortuga.right(90)\n",
    "        dibujarEspiral(miTortuga,longitudLinea-5)\n",
    "\n",
    "dibujarEspiral(miTortuga,100)\n",
    "turtle.exitonclick()"
   ]
  },
  {
   "cell_type": "code",
   "execution_count": 56,
   "metadata": {},
   "outputs": [],
   "source": [
    "# FRACTAL \"ÁRBOL\"\n",
    "import turtle\n",
    "\n",
    "def arbol(longitudRama,t):\n",
    "    if longitudRama > 5:\n",
    "        t.forward(longitudRama)\n",
    "        t.right(20)\n",
    "        arbol(longitudRama-15,t)\n",
    "        t.left(40)\n",
    "        arbol(longitudRama-15,t)\n",
    "        t.right(20)\n",
    "        t.backward(longitudRama)\n",
    "\n",
    "def main():\n",
    "    t = turtle.Turtle()\n",
    "    miVentana = turtle.Screen()\n",
    "    t.left(90)\n",
    "    t.up()\n",
    "    t.backward(100)\n",
    "    t.down()\n",
    "    t.color(\"green\")\n",
    "    arbol(75,t)\n",
    "    miVentana.exitonclick()\n",
    "\n",
    "main()\n"
   ]
  },
  {
   "cell_type": "code",
   "execution_count": null,
   "metadata": {},
   "outputs": [],
   "source": [
    "# Dibujando un CUADRADO CON UNA FUNCIÓN\n",
    "import turtle\n",
    "\n",
    "def cuadrado(x):\n",
    "    for i in range(4):\n",
    "        turtle.forward(x)\n",
    "        turtle.left(90)\n",
    "\n",
    "def dibujo():\n",
    "    for i in range(36):\n",
    "        cuadrado(50)\n",
    "        turtle.forward(15)\n",
    "        turtle.left(10)\n",
    "dibujo()\n",
    "\n",
    "turtle.exitonclick()"
   ]
  },
  {
   "cell_type": "markdown",
   "metadata": {},
   "source": [
    "### Ejercicios \n",
    "\n",
    "http://interactivepython.org/runestone/static/thinkcspy/PythonTurtle/AFewMoreturtleMethodsandObservations.html"
   ]
  }
 ],
 "metadata": {
  "kernelspec": {
   "display_name": "Python 3",
   "language": "python",
   "name": "python3"
  },
  "language_info": {
   "codemirror_mode": {
    "name": "ipython",
    "version": 3
   },
   "file_extension": ".py",
   "mimetype": "text/x-python",
   "name": "python",
   "nbconvert_exporter": "python",
   "pygments_lexer": "ipython3",
   "version": "3.6.5"
  }
 },
 "nbformat": 4,
 "nbformat_minor": 2
}
