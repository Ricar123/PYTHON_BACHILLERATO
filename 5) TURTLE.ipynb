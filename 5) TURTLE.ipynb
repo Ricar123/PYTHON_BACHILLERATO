{
 "cells": [
  {
   "cell_type": "markdown",
   "metadata": {},
   "source": [
    "## TURTLE\n",
    "\n",
    "Python con Turtle: https://opentechschool.github.io/python-beginners/es_CL/simple_drawing.html\n",
    "\n",
    "\n",
    "Glosario de métodos con Turtle: https://docs.python.org/3/library/turtle.html#turtle.bgcolor\n",
    "\n",
    "Dibujos sencillos (TURTLE 1): http://www.mclibre.org/consultar/python/lecciones/python-turtle-1.html\n",
    "\n",
    "Dibujos con texto (TURTLE 2): http://www.mclibre.org/consultar/python/lecciones/python-turtle-2.html\n",
    "\n",
    "Concepto de Objeto y su instancia con Turtle (Inglés): http://interactivepython.org/runestone/static/thinkcspy/PythonTurtle/toctree.html  \n"
   ]
  },
  {
   "cell_type": "code",
   "execution_count": 33,
   "metadata": {},
   "outputs": [],
   "source": [
    "import turtle  #módulo tortuga.\n",
    "\n",
    "turtle.forward(100)\n",
    "\n",
    "turtle.exitonclick()  # recuerda cerrar siempre el objeto gráfico turtle para que no entre en bucle"
   ]
  },
  {
   "cell_type": "code",
   "execution_count": 10,
   "metadata": {},
   "outputs": [],
   "source": [
    "from turtle import *  #con este método importamos TODO de este módulo y luego resulta más fácil escribir.\n",
    "\n",
    "forward(100)\n",
    "\n",
    "exitonclick()  # recuerda cerrar siempre el objeto gráfico turtle para que no entre en bucle"
   ]
  },
  {
   "cell_type": "code",
   "execution_count": 35,
   "metadata": {},
   "outputs": [],
   "source": [
    "# abrimos una ventana y añadimos color\n",
    "from turtle import *\n",
    "\n",
    "setup(600, 400, 0, 0)\n",
    "title(\"MI PRIMERA VENTANA DE TURTLE\")\n",
    "goto(100,100)\n",
    "bgcolor(\"lightgreen\")\n",
    "\n",
    "exitonclick()  #necesario para que no entre en buble y podamos salir del lienzo"
   ]
  },
  {
   "cell_type": "code",
   "execution_count": 4,
   "metadata": {},
   "outputs": [],
   "source": [
    "import turtle #bucle para línea discontínua\n",
    "\n",
    "for i in [1,2,3,4,5,6,7,8,9,10]:   #también se puede usar range(10)\n",
    "    turtle.forward(15)\n",
    "    turtle.penup()\n",
    "    turtle.forward(5)\n",
    "    turtle.pendown()\n",
    "    \n",
    "turtle.exitonclick()"
   ]
  },
  {
   "cell_type": "code",
   "execution_count": 6,
   "metadata": {},
   "outputs": [],
   "source": [
    "# dibujar un cuadrado paso a paso (método poco eficiente)\n",
    "from turtle import *\n",
    "\n",
    "forward(50)\n",
    "left(90)\n",
    "forward(50)\n",
    "left(90)\n",
    "forward(50)\n",
    "left(90)\n",
    "forward(50)\n",
    "left(90)\n",
    "\n",
    "exitonclick()"
   ]
  },
  {
   "cell_type": "code",
   "execution_count": 1,
   "metadata": {},
   "outputs": [],
   "source": [
    "import turtle #dibujar un cuadrado con un bucle (método más eficaz)\n",
    "\n",
    "for i in range(4):\n",
    "    turtle.forward(100)\n",
    "    turtle.left(360/4)\n",
    "\n",
    "turtle.exitonclick()\n",
    "\n"
   ]
  },
  {
   "cell_type": "code",
   "execution_count": 4,
   "metadata": {},
   "outputs": [],
   "source": [
    "import turtle #dibujar un hexágono\n",
    "\n",
    "for i in range(6):\n",
    "    turtle.forward(100)\n",
    "    turtle.left(360/6)\n",
    "\n",
    "turtle.exitonclick()"
   ]
  },
  {
   "cell_type": "code",
   "execution_count": 5,
   "metadata": {},
   "outputs": [
    {
     "ename": "Terminator",
     "evalue": "",
     "output_type": "error",
     "traceback": [
      "\u001b[1;31m---------------------------------------------------------------------------\u001b[0m",
      "\u001b[1;31mTerminator\u001b[0m                                Traceback (most recent call last)",
      "\u001b[1;32m<ipython-input-5-38cf06e3aee5>\u001b[0m in \u001b[0;36m<module>\u001b[1;34m()\u001b[0m\n\u001b[0;32m     25\u001b[0m         \u001b[0mestrella\u001b[0m\u001b[1;33m(\u001b[0m\u001b[1;33m)\u001b[0m\u001b[1;33m\u001b[0m\u001b[0m\n\u001b[0;32m     26\u001b[0m \u001b[1;33m\u001b[0m\u001b[0m\n\u001b[1;32m---> 27\u001b[1;33m \u001b[0mrosa\u001b[0m\u001b[1;33m(\u001b[0m\u001b[1;33m)\u001b[0m\u001b[1;33m\u001b[0m\u001b[0m\n\u001b[0m\u001b[0;32m     28\u001b[0m \u001b[1;33m\u001b[0m\u001b[0m\n\u001b[0;32m     29\u001b[0m \u001b[0mturtle\u001b[0m\u001b[1;33m.\u001b[0m\u001b[0mexitonclick\u001b[0m\u001b[1;33m(\u001b[0m\u001b[1;33m)\u001b[0m\u001b[1;33m\u001b[0m\u001b[0m\n",
      "\u001b[1;32m<ipython-input-5-38cf06e3aee5>\u001b[0m in \u001b[0;36mrosa\u001b[1;34m()\u001b[0m\n\u001b[0;32m     23\u001b[0m         \u001b[0mturtle\u001b[0m\u001b[1;33m.\u001b[0m\u001b[0mforward\u001b[0m\u001b[1;33m(\u001b[0m\u001b[1;36m100\u001b[0m\u001b[1;33m)\u001b[0m\u001b[1;33m\u001b[0m\u001b[0m\n\u001b[0;32m     24\u001b[0m         \u001b[0mturtle\u001b[0m\u001b[1;33m.\u001b[0m\u001b[0mleft\u001b[0m\u001b[1;33m(\u001b[0m\u001b[1;36m20\u001b[0m\u001b[1;33m)\u001b[0m\u001b[1;33m\u001b[0m\u001b[0m\n\u001b[1;32m---> 25\u001b[1;33m         \u001b[0mestrella\u001b[0m\u001b[1;33m(\u001b[0m\u001b[1;33m)\u001b[0m\u001b[1;33m\u001b[0m\u001b[0m\n\u001b[0m\u001b[0;32m     26\u001b[0m \u001b[1;33m\u001b[0m\u001b[0m\n\u001b[0;32m     27\u001b[0m \u001b[0mrosa\u001b[0m\u001b[1;33m(\u001b[0m\u001b[1;33m)\u001b[0m\u001b[1;33m\u001b[0m\u001b[0m\n",
      "\u001b[1;32m<ipython-input-5-38cf06e3aee5>\u001b[0m in \u001b[0;36mestrella\u001b[1;34m()\u001b[0m\n\u001b[0;32m     16\u001b[0m         \u001b[0mcolor\u001b[0m\u001b[1;33m=\u001b[0m \u001b[0mrandom\u001b[0m\u001b[1;33m.\u001b[0m\u001b[0mchoice\u001b[0m\u001b[1;33m(\u001b[0m\u001b[1;33m[\u001b[0m\u001b[1;34m\"red\"\u001b[0m\u001b[1;33m,\u001b[0m\u001b[1;34m\"green\"\u001b[0m\u001b[1;33m,\u001b[0m\u001b[1;34m\"blue\"\u001b[0m\u001b[1;33m,\u001b[0m\u001b[1;34m\"pink\"\u001b[0m\u001b[1;33m,\u001b[0m\u001b[1;34m\"gray\"\u001b[0m\u001b[1;33m]\u001b[0m\u001b[1;33m)\u001b[0m\u001b[1;33m\u001b[0m\u001b[0m\n\u001b[0;32m     17\u001b[0m         \u001b[0mturtle\u001b[0m\u001b[1;33m.\u001b[0m\u001b[0mcolor\u001b[0m\u001b[1;33m(\u001b[0m\u001b[0mcolor\u001b[0m\u001b[1;33m)\u001b[0m\u001b[1;33m\u001b[0m\u001b[0m\n\u001b[1;32m---> 18\u001b[1;33m         \u001b[0mcuadrado\u001b[0m\u001b[1;33m(\u001b[0m\u001b[1;33m)\u001b[0m     \u001b[1;31m# hacemos una llamada a esta función\u001b[0m\u001b[1;33m\u001b[0m\u001b[0m\n\u001b[0m\u001b[0;32m     19\u001b[0m         \u001b[0mturtle\u001b[0m\u001b[1;33m.\u001b[0m\u001b[0mleft\u001b[0m\u001b[1;33m(\u001b[0m\u001b[1;36m15\u001b[0m\u001b[1;33m)\u001b[0m\u001b[1;33m\u001b[0m\u001b[0m\n\u001b[0;32m     20\u001b[0m \u001b[1;33m\u001b[0m\u001b[0m\n",
      "\u001b[1;32m<ipython-input-5-38cf06e3aee5>\u001b[0m in \u001b[0;36mcuadrado\u001b[1;34m()\u001b[0m\n\u001b[0;32m     10\u001b[0m     \u001b[1;32mfor\u001b[0m \u001b[0mi\u001b[0m \u001b[1;32min\u001b[0m \u001b[0mrange\u001b[0m\u001b[1;33m(\u001b[0m\u001b[1;36m0\u001b[0m\u001b[1;33m,\u001b[0m\u001b[1;36m4\u001b[0m\u001b[1;33m)\u001b[0m\u001b[1;33m:\u001b[0m\u001b[1;33m\u001b[0m\u001b[0m\n\u001b[0;32m     11\u001b[0m         \u001b[0mturtle\u001b[0m\u001b[1;33m.\u001b[0m\u001b[0mforward\u001b[0m\u001b[1;33m(\u001b[0m\u001b[1;36m50\u001b[0m\u001b[1;33m)\u001b[0m\u001b[1;33m\u001b[0m\u001b[0m\n\u001b[1;32m---> 12\u001b[1;33m         \u001b[0mturtle\u001b[0m\u001b[1;33m.\u001b[0m\u001b[0mleft\u001b[0m\u001b[1;33m(\u001b[0m\u001b[1;36m90\u001b[0m\u001b[1;33m)\u001b[0m\u001b[1;33m\u001b[0m\u001b[0m\n\u001b[0m\u001b[0;32m     13\u001b[0m \u001b[1;33m\u001b[0m\u001b[0m\n\u001b[0;32m     14\u001b[0m \u001b[1;32mdef\u001b[0m \u001b[0mestrella\u001b[0m\u001b[1;33m(\u001b[0m\u001b[1;33m)\u001b[0m\u001b[1;33m:\u001b[0m   \u001b[1;31m# definimos una función llamada estrella\u001b[0m\u001b[1;33m\u001b[0m\u001b[0m\n",
      "\u001b[1;32mC:\\Users\\RICARDO\\Desktop\\WinPython\\python-3.6.5.amd64\\lib\\turtle.py\u001b[0m in \u001b[0;36mleft\u001b[1;34m(angle)\u001b[0m\n",
      "\u001b[1;31mTerminator\u001b[0m: "
     ]
    }
   ],
   "source": [
    "import turtle # estrella de cuadrados\n",
    "import random\n",
    "\n",
    "              \n",
    "turtle.bgcolor(\"lightgreen\")\n",
    "turtle.pensize(3)\n",
    "\n",
    "\n",
    "def cuadrado():  # definimos una función llamaa cuadrado\n",
    "    for i in range(0,4): \n",
    "        turtle.forward(50)\n",
    "        turtle.left(90) \n",
    "\n",
    "def estrella():   # definimos una función llamada estrella\n",
    "    for i in range(0,25):\n",
    "        color= random.choice([\"red\",\"green\",\"blue\",\"pink\",\"gray\"])\n",
    "        turtle.color(color)\n",
    "        cuadrado()     # hacemos una llamada a esta función \n",
    "        turtle.left(15)\n",
    "        \n",
    "def rosa():\n",
    "    for i in range(1,10):\n",
    "        turtle.forward(100)\n",
    "        turtle.left(30)\n",
    "        estrella()\n",
    "        \n",
    "rosa()\n",
    "\n",
    "turtle.exitonclick()"
   ]
  },
  {
   "cell_type": "code",
   "execution_count": 12,
   "metadata": {},
   "outputs": [
    {
     "ename": "Terminator",
     "evalue": "",
     "output_type": "error",
     "traceback": [
      "\u001b[1;31m---------------------------------------------------------------------------\u001b[0m",
      "\u001b[1;31mTerminator\u001b[0m                                Traceback (most recent call last)",
      "\u001b[1;32m<ipython-input-12-19fdbd356921>\u001b[0m in \u001b[0;36m<module>\u001b[1;34m()\u001b[0m\n\u001b[0;32m      4\u001b[0m     \u001b[0mturtle\u001b[0m\u001b[1;33m.\u001b[0m\u001b[0mforward\u001b[0m\u001b[1;33m(\u001b[0m\u001b[0mpos\u001b[0m\u001b[1;33m)\u001b[0m\u001b[1;33m\u001b[0m\u001b[0m\n\u001b[0;32m      5\u001b[0m     \u001b[0mturtle\u001b[0m\u001b[1;33m.\u001b[0m\u001b[0mbackward\u001b[0m\u001b[1;33m(\u001b[0m\u001b[0mpos\u001b[0m\u001b[1;33m)\u001b[0m\u001b[1;33m\u001b[0m\u001b[0m\n\u001b[1;32m----> 6\u001b[1;33m \u001b[0mlinea_sin_desplazar\u001b[0m\u001b[1;33m(\u001b[0m\u001b[1;36m150\u001b[0m\u001b[1;33m)\u001b[0m\u001b[1;33m\u001b[0m\u001b[0m\n\u001b[0m\u001b[0;32m      7\u001b[0m \u001b[1;33m\u001b[0m\u001b[0m\n\u001b[0;32m      8\u001b[0m \u001b[0mturtle\u001b[0m\u001b[1;33m.\u001b[0m\u001b[0mexitonclick\u001b[0m\u001b[1;33m(\u001b[0m\u001b[1;33m)\u001b[0m\u001b[1;33m\u001b[0m\u001b[0m\n",
      "\u001b[1;32m<ipython-input-12-19fdbd356921>\u001b[0m in \u001b[0;36mlinea_sin_desplazar\u001b[1;34m(pos)\u001b[0m\n\u001b[0;32m      2\u001b[0m \u001b[1;33m\u001b[0m\u001b[0m\n\u001b[0;32m      3\u001b[0m \u001b[1;32mdef\u001b[0m \u001b[0mlinea_sin_desplazar\u001b[0m\u001b[1;33m(\u001b[0m\u001b[0mpos\u001b[0m\u001b[1;33m)\u001b[0m\u001b[1;33m:\u001b[0m  \u001b[1;31m#defino una función para mover sin desplazamiento\u001b[0m\u001b[1;33m\u001b[0m\u001b[0m\n\u001b[1;32m----> 4\u001b[1;33m     \u001b[0mturtle\u001b[0m\u001b[1;33m.\u001b[0m\u001b[0mforward\u001b[0m\u001b[1;33m(\u001b[0m\u001b[0mpos\u001b[0m\u001b[1;33m)\u001b[0m\u001b[1;33m\u001b[0m\u001b[0m\n\u001b[0m\u001b[0;32m      5\u001b[0m     \u001b[0mturtle\u001b[0m\u001b[1;33m.\u001b[0m\u001b[0mbackward\u001b[0m\u001b[1;33m(\u001b[0m\u001b[0mpos\u001b[0m\u001b[1;33m)\u001b[0m\u001b[1;33m\u001b[0m\u001b[0m\n\u001b[0;32m      6\u001b[0m \u001b[0mlinea_sin_desplazar\u001b[0m\u001b[1;33m(\u001b[0m\u001b[1;36m150\u001b[0m\u001b[1;33m)\u001b[0m\u001b[1;33m\u001b[0m\u001b[0m\n",
      "\u001b[1;32mC:\\Users\\RICARDO\\Desktop\\WinPython\\python-3.6.5.amd64\\lib\\turtle.py\u001b[0m in \u001b[0;36mforward\u001b[1;34m(distance)\u001b[0m\n",
      "\u001b[1;31mTerminator\u001b[0m: "
     ]
    }
   ],
   "source": [
    "import turtle # uso de una función\n",
    "\n",
    "def linea_sin_desplazar(pos):  #defino una función para mover sin desplazamiento\n",
    "    turtle.forward(pos)\n",
    "    turtle.backward(pos)\n",
    "linea_sin_desplazar(150)\n",
    "    \n",
    "turtle.exitonclick()"
   ]
  },
  {
   "cell_type": "code",
   "execution_count": 5,
   "metadata": {},
   "outputs": [],
   "source": [
    "import turtle # dibujo de los radios de una estrella usando funciones. \n",
    "def linea_sin_desplazar(pos):  #defino una función para mover sin desplazamiento\n",
    "    turtle.forward(pos)\n",
    "    turtle.backward(pos)\n",
    "\n",
    "def star_arm():\n",
    "    linea_sin_desplazar(100)\n",
    "    turtle.right(360 / 5)\n",
    "\n",
    "for _ in range(5):\n",
    "    star_arm()\n",
    "    \n",
    "turtle.exitonclick()"
   ]
  },
  {
   "cell_type": "code",
   "execution_count": null,
   "metadata": {},
   "outputs": [],
   "source": []
  },
  {
   "cell_type": "code",
   "execution_count": 19,
   "metadata": {},
   "outputs": [],
   "source": [
    "# Dibujamos un CUADRADO con FOR\n",
    "from turtle import *        \n",
    "\n",
    "for i in range(0,4):      # repeat four times\n",
    "    forward(50)\n",
    "    left(90)\n",
    "\n",
    "exitonclick()"
   ]
  },
  {
   "cell_type": "code",
   "execution_count": 17,
   "metadata": {},
   "outputs": [],
   "source": [
    "# Dibujamos un CUADRADO con FOR con distintos colores de líneas\n",
    "from turtle import *        \n",
    "turtle.pensize(3)\n",
    "for i in [\"yellow\", \"red\", \"purple\", \"blue\"]:\n",
    "   color(i)\n",
    "   forward(50)\n",
    "   left(90)\n",
    "\n",
    "exitonclick()"
   ]
  },
  {
   "cell_type": "code",
   "execution_count": 15,
   "metadata": {},
   "outputs": [],
   "source": [
    "# dibujar un rectángulo\n",
    "from turtle import *\n",
    "\n",
    "forward(100)\n",
    "left(90)\n",
    "forward(50)\n",
    "left(90)\n",
    "forward(100)\n",
    "left(90)\n",
    "left(90)\n",
    "\n",
    "exitonclick()"
   ]
  },
  {
   "cell_type": "code",
   "execution_count": 4,
   "metadata": {},
   "outputs": [],
   "source": [
    "# dibujar un cuadrado diseñando objetos\n",
    "from turtle import *\n",
    "\n",
    "for i in range(4):\n",
    "    forward(100)\n",
    "    left(360/4)\n",
    "\n",
    "exitonclick()"
   ]
  },
  {
   "cell_type": "code",
   "execution_count": 21,
   "metadata": {},
   "outputs": [],
   "source": [
    "from turtle import *\n",
    "\n",
    "setup(450, 200, 0, 0)\n",
    "screensize(300, 150)\n",
    "title(\"www.mclibre.org\")\n",
    "hideturtle()\n",
    "\n",
    "pensize(5)\n",
    "fillcolor(\"red\")\n",
    "begin_fill()\n",
    "goto(100, 0)\n",
    "goto(100, 50)\n",
    "goto(0, 50)\n",
    "goto(0, 0)\n",
    "end_fill()\n",
    "\n",
    "exitonclick()"
   ]
  },
  {
   "cell_type": "code",
   "execution_count": 23,
   "metadata": {},
   "outputs": [
    {
     "ename": "Terminator",
     "evalue": "",
     "output_type": "error",
     "traceback": [
      "\u001b[1;31m---------------------------------------------------------------------------\u001b[0m",
      "\u001b[1;31mTerminator\u001b[0m                                Traceback (most recent call last)",
      "\u001b[1;32m<ipython-input-23-7d48eba1d2a6>\u001b[0m in \u001b[0;36m<module>\u001b[1;34m()\u001b[0m\n\u001b[0;32m     11\u001b[0m \u001b[0mdone\u001b[0m\u001b[1;33m(\u001b[0m\u001b[1;33m)\u001b[0m\u001b[1;33m\u001b[0m\u001b[0m\n\u001b[0;32m     12\u001b[0m \u001b[1;33m\u001b[0m\u001b[0m\n\u001b[1;32m---> 13\u001b[1;33m \u001b[0mexitonclick\u001b[0m\u001b[1;33m(\u001b[0m\u001b[1;33m)\u001b[0m\u001b[1;33m\u001b[0m\u001b[0m\n\u001b[0m",
      "\u001b[1;32mC:\\Users\\RICARDO\\Desktop\\WinPython\\python-3.6.5.amd64\\lib\\turtle.py\u001b[0m in \u001b[0;36mexitonclick\u001b[1;34m()\u001b[0m\n",
      "\u001b[1;31mTerminator\u001b[0m: "
     ]
    }
   ],
   "source": [
    "# dibujo de una estrella\n",
    "from turtle import *\n",
    "\n",
    "color('red', 'yellow')\n",
    "begin_fill()\n",
    "while True:\n",
    "    forward(200)\n",
    "    left(170)\n",
    "    if abs(pos()) < 1:\n",
    "        break\n",
    "end_fill()\n",
    "done()\n",
    "\n",
    "exitonclick()"
   ]
  },
  {
   "cell_type": "code",
   "execution_count": 27,
   "metadata": {},
   "outputs": [],
   "source": [
    "# varias formas y varios colores. Y usamos varias clases.\n",
    "from turtle import * \n",
    "\n",
    "turtle.setup(600, 400, 0, 0)  #requiere su prefijo porque es común a muchos módulos\n",
    "title(\"MI PRIMERA VENTANA DE TURTLE\")\n",
    "bgcolor(\"lightgreen\")\n",
    "\n",
    "tortuga_1 = Turtle()   # creamos nuevo objeto llamado tortuga1 y su conjunto de atributos\n",
    "tortuga_1.color(\"red\")\n",
    "tortuga_1.pensize(5)\n",
    "\n",
    "tortuga_2= Turtle() #creamos otro objeto tortuga2 de la clase general turtle\n",
    "tortuga_2.color(\"blue\")\n",
    "tortuga_2.pensize(3)\n",
    "\n",
    "tortuga_1.forward(80)                 \n",
    "tortuga_1.left(120)\n",
    "tortuga_1.forward(80)\n",
    "tortuga_1.left(120)\n",
    "tortuga_1.forward(80)\n",
    "tortuga_1.left(120)                   \n",
    "tortuga_1.right(180)                  \n",
    "tortuga_1.forward(80)                 \n",
    "\n",
    "tortuga_2.forward(50)                 \n",
    "tortuga_2.left(90)\n",
    "tortuga_2.forward(50)\n",
    "tortuga_2.left(90)\n",
    "tortuga_2.forward(50)\n",
    "tortuga_2.left(90)\n",
    "tortuga_2.forward(50)\n",
    "tortuga_2.left(90)\n",
    "\n",
    "\n",
    "exitonclick()  #necesario para que no entre en buble y podamos salir del lienzo"
   ]
  },
  {
   "cell_type": "code",
   "execution_count": 24,
   "metadata": {},
   "outputs": [
    {
     "ename": "Terminator",
     "evalue": "",
     "output_type": "error",
     "traceback": [
      "\u001b[1;31m---------------------------------------------------------------------------\u001b[0m",
      "\u001b[1;31mTerminator\u001b[0m                                Traceback (most recent call last)",
      "\u001b[1;32m<ipython-input-24-a1e4ab97b0c0>\u001b[0m in \u001b[0;36m<module>\u001b[1;34m()\u001b[0m\n\u001b[0;32m     10\u001b[0m         \u001b[1;32mif\u001b[0m \u001b[0mturtle\u001b[0m\u001b[1;33m.\u001b[0m\u001b[0mdistance\u001b[0m\u001b[1;33m(\u001b[0m\u001b[0moriginal_xcor\u001b[0m\u001b[1;33m,\u001b[0m \u001b[0moriginal_ycor\u001b[0m\u001b[1;33m)\u001b[0m \u001b[1;33m>\u001b[0m \u001b[0mradius\u001b[0m\u001b[1;33m:\u001b[0m\u001b[1;33m\u001b[0m\u001b[0m\n\u001b[0;32m     11\u001b[0m             \u001b[1;32mbreak\u001b[0m\u001b[1;33m\u001b[0m\u001b[0m\n\u001b[1;32m---> 12\u001b[1;33m \u001b[0mexitonclick\u001b[0m\u001b[1;33m(\u001b[0m\u001b[1;33m)\u001b[0m\u001b[1;33m\u001b[0m\u001b[0m\n\u001b[0m",
      "\u001b[1;32mC:\\Users\\RICARDO\\Desktop\\WinPython\\python-3.6.5.amd64\\lib\\turtle.py\u001b[0m in \u001b[0;36mexitonclick\u001b[1;34m()\u001b[0m\n",
      "\u001b[1;31mTerminator\u001b[0m: "
     ]
    }
   ],
   "source": [
    "import turtle\n",
    "\n",
    "def draw_spiral(radius):\n",
    "    original_xcor = turtle.xcor()\n",
    "    original_ycor = turtle.ycor()\n",
    "    speed = 1\n",
    "    while True:\n",
    "        turtle.forward(speed)\n",
    "        turtle.left(10)\n",
    "        speed += 0.1\n",
    "        if turtle.distance(original_xcor, original_ycor) > radius:\n",
    "            break\n",
    "            \n",
    "exitonclick()"
   ]
  },
  {
   "cell_type": "code",
   "execution_count": 25,
   "metadata": {},
   "outputs": [],
   "source": [
    "draw_spiral(100)"
   ]
  },
  {
   "cell_type": "code",
   "execution_count": 13,
   "metadata": {},
   "outputs": [
    {
     "name": "stdout",
     "output_type": "stream",
     "text": [
      "[5, 7, 9, 11, 13, 15, 17, 19, 21, 23, 25, 27, 29, 31, 33, 35, 37, 39, 41, 43, 45, 47, 49, 51, 53, 55, 57, 59, 61, 63, 65, 67, 69]\n"
     ]
    }
   ],
   "source": [
    "from turtle import *\n",
    "\n",
    "\n",
    "setup(600, 400, 0, 0)\n",
    "title(\"ESPIRAL DE TORTUGUITAS AZULES\")\n",
    "bgcolor(\"lightgreen\")\n",
    "\n",
    "tortuga_1= turtle.Turtle()\n",
    "tortuga_1.color(\"blue\")\n",
    "tortuga_1.shape(\"turtle\")\n",
    "\n",
    "tortuga_1.up()                     # this is new\n",
    "for size in range(5,70, 2):    # start with size = 5 and grow by 2\n",
    "    tortuga_1.stamp()                # leave an impression on the canvas\n",
    "    tortuga_1.forward(size)          # move tortuga along\n",
    "    tortuga_1.right(24)              # and turn her\n",
    "\n",
    "print(list(range(5,70,2)))\n",
    "exitonclick()"
   ]
  },
  {
   "cell_type": "markdown",
   "metadata": {},
   "source": [
    "### Ejercicios \n",
    "\n",
    "http://interactivepython.org/runestone/static/thinkcspy/PythonTurtle/AFewMoreturtleMethodsandObservations.html"
   ]
  },
  {
   "cell_type": "code",
   "execution_count": 1,
   "metadata": {},
   "outputs": [],
   "source": [
    "# draw a hexagon\n",
    "import turtle\n",
    "\n",
    "wn = turtle.Screen()\n",
    "dijkstra = turtle.Turtle()\n",
    "\n",
    "for i in range(6):\n",
    "    dijkstra.forward(100)\n",
    "    dijkstra.left(360/6)\n",
    "\n",
    "wn.exitonclick()"
   ]
  },
  {
   "cell_type": "code",
   "execution_count": null,
   "metadata": {},
   "outputs": [],
   "source": []
  }
 ],
 "metadata": {
  "kernelspec": {
   "display_name": "Python 3",
   "language": "python",
   "name": "python3"
  },
  "language_info": {
   "codemirror_mode": {
    "name": "ipython",
    "version": 3
   },
   "file_extension": ".py",
   "mimetype": "text/x-python",
   "name": "python",
   "nbconvert_exporter": "python",
   "pygments_lexer": "ipython3",
   "version": "3.6.5"
  }
 },
 "nbformat": 4,
 "nbformat_minor": 2
}
