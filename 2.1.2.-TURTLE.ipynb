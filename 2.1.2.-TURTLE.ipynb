{
 "cells": [
  {
   "cell_type": "markdown",
   "metadata": {},
   "source": [
    "## TURTLE\n",
    "\n",
    "Python con Turtle: https://opentechschool.github.io/python-beginners/es_CL/simple_drawing.html\n",
    "\n",
    "\n",
    "Glosario de métodos con Turtle: https://docs.python.org/3/library/turtle.html#turtle.bgcolor\n",
    "\n",
    "Dibujos sencillos (TURTLE 1): http://www.mclibre.org/consultar/python/lecciones/python-turtle-1.html\n",
    "\n",
    "Dibujos con texto (TURTLE 2): http://www.mclibre.org/consultar/python/lecciones/python-turtle-2.html\n",
    "\n",
    "Concepto de Objeto y su instancia con Turtle (Inglés): http://interactivepython.org/runestone/static/thinkcspy/PythonTurtle/toctree.html  \n"
   ]
  },
  {
   "cell_type": "code",
   "execution_count": 1,
   "metadata": {},
   "outputs": [],
   "source": [
    "import turtle\n",
    "\n",
    "turtle.shape(\"turtle\")\n",
    "turtle.forward(25)\n",
    "\n",
    "turtle.exitonclick()  # recuerda cerrar siempre el objeto gráfico turtle para que no entre en bucle"
   ]
  },
  {
   "cell_type": "code",
   "execution_count": 5,
   "metadata": {},
   "outputs": [],
   "source": [
    "import turtle\n",
    "\n",
    "turtle.setup(600, 400, 0, 0)\n",
    "turtle.title(\"MI PRIMERA VENTANA DE TURTLE\")\n",
    "turtle.goto(100,100)\n",
    "turtle.bgcolor(\"lightgreen\")\n",
    "\n",
    "turtle.exitonclick()  #necesario para que no entre en buble y podamos salir del lienzo"
   ]
  },
  {
   "cell_type": "code",
   "execution_count": 5,
   "metadata": {},
   "outputs": [],
   "source": [
    "import turtle\n",
    "\n",
    "for i in range(10):\n",
    "    turtle.forward(15)\n",
    "    turtle.penup()\n",
    "    turtle.forward(5)\n",
    "    turtle.pendown()\n",
    "    \n",
    "turtle.exitonclick()"
   ]
  },
  {
   "cell_type": "code",
   "execution_count": 16,
   "metadata": {},
   "outputs": [],
   "source": [
    "import turtle\n",
    "\n",
    "def linea_sin_desplazar(pos):  #defino una función para mover sin desplazamiento\n",
    "    turtle.forward(pos)\n",
    "    turtle.backward(pos)\n",
    "linea_sin_desplazar(150)\n",
    "    \n",
    "turtle.exitonclick()"
   ]
  },
  {
   "cell_type": "code",
   "execution_count": 21,
   "metadata": {},
   "outputs": [],
   "source": [
    "import turtle\n",
    "def linea_sin_desplazar(pos):  #defino una función para mover sin desplazamiento\n",
    "    turtle.forward(pos)\n",
    "    turtle.backward(pos)\n",
    "\n",
    "def star_arm():\n",
    "    linea_sin_desplazar(100)\n",
    "    turtle.right(360 / 5)\n",
    "\n",
    "for _ in range(5):\n",
    "    star_arm()\n",
    "    \n",
    "turtle.exitonclick()"
   ]
  },
  {
   "cell_type": "code",
   "execution_count": 9,
   "metadata": {},
   "outputs": [],
   "source": [
    "import turtle\n",
    "\n",
    "turtle.setup(600, 400, 0, 0)\n",
    "turtle.title(\"MI PRIMERA VENTANA DE TURTLE\")\n",
    "turtle.bgcolor(\"lightgreen\")\n",
    "\n",
    "tortuga_1 = turtle.Turtle()   # creamos nuevo objeto llamado tortuga1 y su conjunto de atributos\n",
    "tortuga_1.color(\"hotpink\")\n",
    "tortuga_1.pensize(5)\n",
    "\n",
    "tortuga_2=turtle.Turtle() #creamos tortuba2\n",
    "tortuga_2.color(\"blue\")\n",
    "tortuga_2.pensize(1)\n",
    "\n",
    "tortuga_1.forward(80)                 \n",
    "tortuga_1.left(120)\n",
    "tortuga_1.forward(80)\n",
    "tortuga_1.left(120)\n",
    "tortuga_1.forward(80)\n",
    "tortuga_1.left(120)                   \n",
    "tortuga_1.right(180)                  \n",
    "tortuga_1.forward(80)                 \n",
    "\n",
    "tortuga_2.forward(50)                 \n",
    "tortuga_2.left(90)\n",
    "tortuga_2.forward(50)\n",
    "tortuga_2.left(90)\n",
    "tortuga_2.forward(50)\n",
    "tortuga_2.left(90)\n",
    "tortuga_2.forward(50)\n",
    "tortuga_2.left(90)\n",
    "\n",
    "\n",
    "\n",
    "\n",
    "turtle.exitonclick()  #necesario para que no entre en buble y podamos salir del lienzo"
   ]
  },
  {
   "cell_type": "code",
   "execution_count": 23,
   "metadata": {},
   "outputs": [],
   "source": [
    "from turtle import *\n",
    "\n",
    "setup(600,400,0,0)\n",
    "title(\"MI PRIMERA VENTANA CON TURTLE\")\n",
    "goto(100,100)\n",
    "\n",
    "exitonclick()"
   ]
  },
  {
   "cell_type": "code",
   "execution_count": 18,
   "metadata": {},
   "outputs": [
    {
     "ename": "Terminator",
     "evalue": "",
     "output_type": "error",
     "traceback": [
      "\u001b[1;31m---------------------------------------------------------------------------\u001b[0m",
      "\u001b[1;31mTerminator\u001b[0m                                Traceback (most recent call last)",
      "\u001b[1;32m<ipython-input-18-1b31ac834d5b>\u001b[0m in \u001b[0;36m<module>\u001b[1;34m()\u001b[0m\n\u001b[0;32m      2\u001b[0m \u001b[1;32mfrom\u001b[0m \u001b[0mturtle\u001b[0m \u001b[1;32mimport\u001b[0m \u001b[1;33m*\u001b[0m\u001b[1;33m\u001b[0m\u001b[0m\n\u001b[0;32m      3\u001b[0m \u001b[1;33m\u001b[0m\u001b[0m\n\u001b[1;32m----> 4\u001b[1;33m \u001b[0mforward\u001b[0m\u001b[1;33m(\u001b[0m\u001b[1;36m50\u001b[0m\u001b[1;33m)\u001b[0m\u001b[1;33m\u001b[0m\u001b[0m\n\u001b[0m\u001b[0;32m      5\u001b[0m \u001b[0mleft\u001b[0m\u001b[1;33m(\u001b[0m\u001b[1;36m90\u001b[0m\u001b[1;33m)\u001b[0m\u001b[1;33m\u001b[0m\u001b[0m\n\u001b[0;32m      6\u001b[0m \u001b[0mforward\u001b[0m\u001b[1;33m(\u001b[0m\u001b[1;36m50\u001b[0m\u001b[1;33m)\u001b[0m\u001b[1;33m\u001b[0m\u001b[0m\n",
      "\u001b[1;32mC:\\Users\\RICARDO\\Desktop\\WinPython\\python-3.6.5.amd64\\lib\\turtle.py\u001b[0m in \u001b[0;36mforward\u001b[1;34m(distance)\u001b[0m\n",
      "\u001b[1;31mTerminator\u001b[0m: "
     ]
    }
   ],
   "source": [
    "# dibujar un cuadrado\n",
    "from turtle import *\n",
    "\n",
    "forward(50)\n",
    "left(90)\n",
    "forward(50)\n",
    "left(90)\n",
    "forward(50)\n",
    "left(90)\n",
    "forward(50)\n",
    "left(90)\n",
    "\n",
    "exitonclick()"
   ]
  },
  {
   "cell_type": "code",
   "execution_count": 19,
   "metadata": {},
   "outputs": [],
   "source": [
    "# Dibujamos un CUADRADO con FOR\n",
    "from turtle import *        \n",
    "\n",
    "for i in range(0,4):      # repeat four times\n",
    "    forward(50)\n",
    "    left(90)\n",
    "\n",
    "exitonclick()"
   ]
  },
  {
   "cell_type": "code",
   "execution_count": 17,
   "metadata": {},
   "outputs": [],
   "source": [
    "# Dibujamos un CUADRADO con FOR con distintos colores de líneas\n",
    "from turtle import *        \n",
    "turtle.pensize(3)\n",
    "for i in [\"yellow\", \"red\", \"purple\", \"blue\"]:\n",
    "   color(i)\n",
    "   forward(50)\n",
    "   left(90)\n",
    "\n",
    "exitonclick()"
   ]
  },
  {
   "cell_type": "code",
   "execution_count": 15,
   "metadata": {},
   "outputs": [],
   "source": [
    "# dibujar un rectángulo\n",
    "from turtle import *\n",
    "\n",
    "forward(100)\n",
    "left(90)\n",
    "forward(50)\n",
    "left(90)\n",
    "forward(100)\n",
    "left(90)\n",
    "left(90)\n",
    "\n",
    "exitonclick()"
   ]
  },
  {
   "cell_type": "code",
   "execution_count": 21,
   "metadata": {},
   "outputs": [],
   "source": [
    "from turtle import *\n",
    "\n",
    "setup(450, 200, 0, 0)\n",
    "screensize(300, 150)\n",
    "title(\"www.mclibre.org\")\n",
    "hideturtle()\n",
    "\n",
    "pensize(5)\n",
    "fillcolor(\"red\")\n",
    "begin_fill()\n",
    "goto(100, 0)\n",
    "goto(100, 50)\n",
    "goto(0, 50)\n",
    "goto(0, 0)\n",
    "end_fill()\n",
    "\n",
    "exitonclick()"
   ]
  },
  {
   "cell_type": "code",
   "execution_count": 23,
   "metadata": {},
   "outputs": [
    {
     "ename": "Terminator",
     "evalue": "",
     "output_type": "error",
     "traceback": [
      "\u001b[1;31m---------------------------------------------------------------------------\u001b[0m",
      "\u001b[1;31mTerminator\u001b[0m                                Traceback (most recent call last)",
      "\u001b[1;32m<ipython-input-23-7d48eba1d2a6>\u001b[0m in \u001b[0;36m<module>\u001b[1;34m()\u001b[0m\n\u001b[0;32m     11\u001b[0m \u001b[0mdone\u001b[0m\u001b[1;33m(\u001b[0m\u001b[1;33m)\u001b[0m\u001b[1;33m\u001b[0m\u001b[0m\n\u001b[0;32m     12\u001b[0m \u001b[1;33m\u001b[0m\u001b[0m\n\u001b[1;32m---> 13\u001b[1;33m \u001b[0mexitonclick\u001b[0m\u001b[1;33m(\u001b[0m\u001b[1;33m)\u001b[0m\u001b[1;33m\u001b[0m\u001b[0m\n\u001b[0m",
      "\u001b[1;32mC:\\Users\\RICARDO\\Desktop\\WinPython\\python-3.6.5.amd64\\lib\\turtle.py\u001b[0m in \u001b[0;36mexitonclick\u001b[1;34m()\u001b[0m\n",
      "\u001b[1;31mTerminator\u001b[0m: "
     ]
    }
   ],
   "source": [
    "# dibujo de una estrella\n",
    "from turtle import *\n",
    "\n",
    "color('red', 'yellow')\n",
    "begin_fill()\n",
    "while True:\n",
    "    forward(200)\n",
    "    left(170)\n",
    "    if abs(pos()) < 1:\n",
    "        break\n",
    "end_fill()\n",
    "done()\n",
    "\n",
    "exitonclick()"
   ]
  },
  {
   "cell_type": "code",
   "execution_count": 24,
   "metadata": {},
   "outputs": [
    {
     "ename": "Terminator",
     "evalue": "",
     "output_type": "error",
     "traceback": [
      "\u001b[1;31m---------------------------------------------------------------------------\u001b[0m",
      "\u001b[1;31mTerminator\u001b[0m                                Traceback (most recent call last)",
      "\u001b[1;32m<ipython-input-24-a1e4ab97b0c0>\u001b[0m in \u001b[0;36m<module>\u001b[1;34m()\u001b[0m\n\u001b[0;32m     10\u001b[0m         \u001b[1;32mif\u001b[0m \u001b[0mturtle\u001b[0m\u001b[1;33m.\u001b[0m\u001b[0mdistance\u001b[0m\u001b[1;33m(\u001b[0m\u001b[0moriginal_xcor\u001b[0m\u001b[1;33m,\u001b[0m \u001b[0moriginal_ycor\u001b[0m\u001b[1;33m)\u001b[0m \u001b[1;33m>\u001b[0m \u001b[0mradius\u001b[0m\u001b[1;33m:\u001b[0m\u001b[1;33m\u001b[0m\u001b[0m\n\u001b[0;32m     11\u001b[0m             \u001b[1;32mbreak\u001b[0m\u001b[1;33m\u001b[0m\u001b[0m\n\u001b[1;32m---> 12\u001b[1;33m \u001b[0mexitonclick\u001b[0m\u001b[1;33m(\u001b[0m\u001b[1;33m)\u001b[0m\u001b[1;33m\u001b[0m\u001b[0m\n\u001b[0m",
      "\u001b[1;32mC:\\Users\\RICARDO\\Desktop\\WinPython\\python-3.6.5.amd64\\lib\\turtle.py\u001b[0m in \u001b[0;36mexitonclick\u001b[1;34m()\u001b[0m\n",
      "\u001b[1;31mTerminator\u001b[0m: "
     ]
    }
   ],
   "source": [
    "import turtle\n",
    "\n",
    "def draw_spiral(radius):\n",
    "    original_xcor = turtle.xcor()\n",
    "    original_ycor = turtle.ycor()\n",
    "    speed = 1\n",
    "    while True:\n",
    "        turtle.forward(speed)\n",
    "        turtle.left(10)\n",
    "        speed += 0.1\n",
    "        if turtle.distance(original_xcor, original_ycor) > radius:\n",
    "            break\n",
    "            \n",
    "exitonclick()"
   ]
  },
  {
   "cell_type": "code",
   "execution_count": 25,
   "metadata": {},
   "outputs": [],
   "source": [
    "draw_spiral(100)"
   ]
  },
  {
   "cell_type": "code",
   "execution_count": 13,
   "metadata": {},
   "outputs": [
    {
     "name": "stdout",
     "output_type": "stream",
     "text": [
      "[5, 7, 9, 11, 13, 15, 17, 19, 21, 23, 25, 27, 29, 31, 33, 35, 37, 39, 41, 43, 45, 47, 49, 51, 53, 55, 57, 59, 61, 63, 65, 67, 69]\n"
     ]
    }
   ],
   "source": [
    "from turtle import *\n",
    "\n",
    "\n",
    "setup(600, 400, 0, 0)\n",
    "title(\"ESPIRAL DE TORTUGUITAS AZULES\")\n",
    "bgcolor(\"lightgreen\")\n",
    "\n",
    "tortuga_1= turtle.Turtle()\n",
    "tortuga_1.color(\"blue\")\n",
    "tortuga_1.shape(\"turtle\")\n",
    "\n",
    "tortuga_1.up()                     # this is new\n",
    "for size in range(5,70, 2):    # start with size = 5 and grow by 2\n",
    "    tortuga_1.stamp()                # leave an impression on the canvas\n",
    "    tortuga_1.forward(size)          # move tortuga along\n",
    "    tortuga_1.right(24)              # and turn her\n",
    "\n",
    "print(list(range(5,70,2)))\n",
    "exitonclick()"
   ]
  },
  {
   "cell_type": "markdown",
   "metadata": {},
   "source": [
    "### Ejercicios \n",
    "\n",
    "http://interactivepython.org/runestone/static/thinkcspy/PythonTurtle/AFewMoreturtleMethodsandObservations.html"
   ]
  },
  {
   "cell_type": "code",
   "execution_count": 1,
   "metadata": {},
   "outputs": [],
   "source": [
    "# draw a hexagon\n",
    "import turtle\n",
    "\n",
    "wn = turtle.Screen()\n",
    "dijkstra = turtle.Turtle()\n",
    "\n",
    "for i in range(6):\n",
    "    dijkstra.forward(100)\n",
    "    dijkstra.left(360/6)\n",
    "\n",
    "wn.exitonclick()"
   ]
  },
  {
   "cell_type": "code",
   "execution_count": null,
   "metadata": {},
   "outputs": [],
   "source": []
  }
 ],
 "metadata": {
  "kernelspec": {
   "display_name": "Python 3",
   "language": "python",
   "name": "python3"
  },
  "language_info": {
   "codemirror_mode": {
    "name": "ipython",
    "version": 3
   },
   "file_extension": ".py",
   "mimetype": "text/x-python",
   "name": "python",
   "nbconvert_exporter": "python",
   "pygments_lexer": "ipython3",
   "version": "3.6.5"
  }
 },
 "nbformat": 4,
 "nbformat_minor": 2
}
