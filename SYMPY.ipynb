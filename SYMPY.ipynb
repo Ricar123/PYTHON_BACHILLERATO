{
 "cells": [
  {
   "cell_type": "markdown",
   "metadata": {},
   "source": [
    "https://relopezbriega.github.io/blog/2015/12/02/introduccion-al-calculo-con-python/"
   ]
  },
  {
   "cell_type": "markdown",
   "metadata": {},
   "source": [
    "#  LÍMITES"
   ]
  },
  {
   "cell_type": "markdown",
   "metadata": {},
   "source": [
    "## Dada la siguiente función: $y=x^2-x+2$, vamos a calcular el límite cuando x tiende a 2"
   ]
  },
  {
   "cell_type": "code",
   "execution_count": 115,
   "metadata": {},
   "outputs": [
    {
     "data": {
      "text/latex": [
       "$$\\lim_{x \\to 2^+}\\left(x^{2} - x + 2\\right)$$"
      ],
      "text/plain": [
       "     ⎛ 2        ⎞\n",
       " lim ⎝x  - x + 2⎠\n",
       "x─→2⁺            "
      ]
     },
     "execution_count": 115,
     "metadata": {},
     "output_type": "execute_result"
    }
   ],
   "source": [
    "# REPRESENTAMOS EL LÍMITE A TRAVÉS DE CÓDIGO\n",
    "from sympy import *\n",
    "x = Symbol('x') # Creando el simbolo x (aquí EN SYMPY si es necesario identificar la variable).\n",
    "Limit(x**2 - x + 2, x, 2) # Creando el objeto Limit\n"
   ]
  },
  {
   "cell_type": "code",
   "execution_count": 127,
   "metadata": {},
   "outputs": [
    {
     "data": {
      "text/latex": [
       "$$4$$"
      ],
      "text/plain": [
       "4"
      ]
     },
     "execution_count": 127,
     "metadata": {},
     "output_type": "execute_result"
    }
   ],
   "source": [
    "# Y PODEMOS SACAR EL CÁLCULO DIRECTO\n",
    "from sympy import *\n",
    "x = Symbol('x') # Creando el simbolo x (aquí EN SYMPY si es necesario identificar la variable).\n",
    "limit(x**2 - x + 2, x, 2) #en minúscula resuelve el Limite"
   ]
  },
  {
   "cell_type": "code",
   "execution_count": 129,
   "metadata": {},
   "outputs": [
    {
     "data": {
      "text/latex": [
       "$$\\infty$$"
      ],
      "text/plain": [
       "∞"
      ]
     },
     "execution_count": 129,
     "metadata": {},
     "output_type": "execute_result"
    }
   ],
   "source": [
    "# Y PODEMOS SACAR EL CÁLCULO CUANDO X TIENDE A INFINITO\n",
    "from sympy import *\n",
    "x = Symbol('x') # Creando el simbolo x (aquí EN SYMPY si es necesario identificar la variable).\n",
    "limit(x**2-x+2,x,S.Infinity) #en minúscula (limit) resuelve el Limite y Limit la representa"
   ]
  },
  {
   "cell_type": "code",
   "execution_count": 35,
   "metadata": {},
   "outputs": [
    {
     "data": {
      "text/html": [
       "<div>\n",
       "<style scoped>\n",
       "    .dataframe tbody tr th:only-of-type {\n",
       "        vertical-align: middle;\n",
       "    }\n",
       "\n",
       "    .dataframe tbody tr th {\n",
       "        vertical-align: top;\n",
       "    }\n",
       "\n",
       "    .dataframe thead th {\n",
       "        text-align: right;\n",
       "    }\n",
       "</style>\n",
       "<table border=\"1\" class=\"dataframe\">\n",
       "  <thead>\n",
       "    <tr style=\"text-align: right;\">\n",
       "      <th></th>\n",
       "      <th>x</th>\n",
       "      <th>f(x)</th>\n",
       "    </tr>\n",
       "  </thead>\n",
       "  <tbody>\n",
       "    <tr>\n",
       "      <th>0</th>\n",
       "      <td>1.000</td>\n",
       "      <td>2.000000</td>\n",
       "    </tr>\n",
       "    <tr>\n",
       "      <th>1</th>\n",
       "      <td>1.500</td>\n",
       "      <td>2.750000</td>\n",
       "    </tr>\n",
       "    <tr>\n",
       "      <th>2</th>\n",
       "      <td>1.900</td>\n",
       "      <td>3.710000</td>\n",
       "    </tr>\n",
       "    <tr>\n",
       "      <th>3</th>\n",
       "      <td>1.950</td>\n",
       "      <td>3.852500</td>\n",
       "    </tr>\n",
       "    <tr>\n",
       "      <th>4</th>\n",
       "      <td>1.990</td>\n",
       "      <td>3.970100</td>\n",
       "    </tr>\n",
       "    <tr>\n",
       "      <th>5</th>\n",
       "      <td>1.999</td>\n",
       "      <td>3.997001</td>\n",
       "    </tr>\n",
       "    <tr>\n",
       "      <th>6</th>\n",
       "      <td>2.001</td>\n",
       "      <td>4.003001</td>\n",
       "    </tr>\n",
       "    <tr>\n",
       "      <th>7</th>\n",
       "      <td>2.050</td>\n",
       "      <td>4.152500</td>\n",
       "    </tr>\n",
       "    <tr>\n",
       "      <th>8</th>\n",
       "      <td>2.100</td>\n",
       "      <td>4.310000</td>\n",
       "    </tr>\n",
       "    <tr>\n",
       "      <th>9</th>\n",
       "      <td>2.200</td>\n",
       "      <td>4.640000</td>\n",
       "    </tr>\n",
       "    <tr>\n",
       "      <th>10</th>\n",
       "      <td>2.500</td>\n",
       "      <td>5.750000</td>\n",
       "    </tr>\n",
       "    <tr>\n",
       "      <th>11</th>\n",
       "      <td>3.000</td>\n",
       "      <td>8.000000</td>\n",
       "    </tr>\n",
       "  </tbody>\n",
       "</table>\n",
       "</div>"
      ],
      "text/plain": [
       "        x      f(x)\n",
       "0   1.000  2.000000\n",
       "1   1.500  2.750000\n",
       "2   1.900  3.710000\n",
       "3   1.950  3.852500\n",
       "4   1.990  3.970100\n",
       "5   1.999  3.997001\n",
       "6   2.001  4.003001\n",
       "7   2.050  4.152500\n",
       "8   2.100  4.310000\n",
       "9   2.200  4.640000\n",
       "10  2.500  5.750000\n",
       "11  3.000  8.000000"
      ]
     },
     "execution_count": 35,
     "metadata": {},
     "output_type": "execute_result"
    }
   ],
   "source": [
    "# REPRESENTAMOS LOS VALORES DE LA FUNCIÓN POR TABLAS\n",
    "from numpy import *   # para trabajar mejor los vectores\n",
    "from pandas import *  # pra trabajar con tablas \n",
    "\n",
    "def f(x):\n",
    "    return x**2 - x + 2\n",
    "\n",
    "\n",
    "x = array([1, 1.5, 1.9, 1.95, 1.99, 1.999, 2.001, 2.05, 2.1, 2.2, 2.5, 3 ])\n",
    "y = f(x)\n",
    "tabla = DataFrame(list(zip(x, y)), columns=['x', 'f(x)'])\n",
    "tabla"
   ]
  },
  {
   "cell_type": "code",
   "execution_count": 51,
   "metadata": {},
   "outputs": [
    {
     "data": {
      "image/png": "[encoded data removed]",
      "text/plain": [
       "<Figure size 432x288 with 1 Axes>"
      ]
     },
     "metadata": {},
     "output_type": "display_data"
    }
   ],
   "source": [
    "# REPRESENTAMOS LA FUNCIÓN (LA \"PLOTEAMOS\")\n",
    "from matplotlib.pyplot import * \n",
    "from numpy import * \n",
    "from pandas import *\n",
    "\n",
    "def f(x):\n",
    "    return x**2 - x + 2\n",
    "\n",
    "grid()\n",
    "ylabel('f(x)')\n",
    "xlabel('x')\n",
    "title(\"Gráfico de $f(x)=x^2 -x + 2$\")\n",
    "x1= arange(-2, 5, 0.05)\n",
    "plot(x1, f(x1))\n",
    "scatter(2, 4, label=\"Límite cuando x tiende a 2\", color='r')\n",
    "legend()\n",
    "show()\n"
   ]
  },
  {
   "cell_type": "markdown",
   "metadata": {},
   "source": [
    "# DERIVADAS\n",
    "https://relopezbriega.github.io/blog/2015/12/02/introduccion-al-calculo-con-python/"
   ]
  },
  {
   "cell_type": "markdown",
   "metadata": {},
   "source": [
    "$f(x)=x^2-x+2$"
   ]
  },
  {
   "cell_type": "code",
   "execution_count": 95,
   "metadata": {},
   "outputs": [
    {
     "data": {
      "text/plain": [
       "2*x - 1"
      ]
     },
     "execution_count": 95,
     "metadata": {},
     "output_type": "execute_result"
    }
   ],
   "source": [
    "from sympy import *\n",
    "\n",
    "x = Symbol('x')\n",
    "fx = x**2 - x + 2\n",
    "dx= diff(fx, x) #guardamon en dx la derivada de fx\n",
    "dx   #representamos el valor de dx"
   ]
  },
  {
   "cell_type": "code",
   "execution_count": 58,
   "metadata": {},
   "outputs": [
    {
     "data": {
      "text/plain": [
       "2*x - 1"
      ]
     },
     "execution_count": 58,
     "metadata": {},
     "output_type": "execute_result"
    }
   ],
   "source": [
    "simplify(dx)  # simplifica el resultado cuando hay varios bloques de paréntesis"
   ]
  },
  {
   "cell_type": "code",
   "execution_count": 59,
   "metadata": {},
   "outputs": [
    {
     "data": {
      "text/plain": [
       "3"
      ]
     },
     "execution_count": 59,
     "metadata": {},
     "output_type": "execute_result"
    }
   ],
   "source": [
    "diff(fx, x).subs(x, 2)  # valor numérico de una derivada con x=1"
   ]
  },
  {
   "cell_type": "code",
   "execution_count": 60,
   "metadata": {},
   "outputs": [
    {
     "data": {
      "text/plain": [
       "2"
      ]
     },
     "execution_count": 60,
     "metadata": {},
     "output_type": "execute_result"
    }
   ],
   "source": [
    "simplify(diff(dx,x))  #calculamos la segunda derivada"
   ]
  },
  {
   "cell_type": "code",
   "execution_count": 98,
   "metadata": {},
   "outputs": [
    {
     "data": {
      "image/png": "[encoded data removed]",
      "text/plain": [
       "<Figure size 432x288 with 1 Axes>"
      ]
     },
     "metadata": {},
     "output_type": "display_data"
    }
   ],
   "source": [
    "# REPRESENTAMOS LA FUNCIÓN (LA \"PLOTEAMOS\")\n",
    "from matplotlib.pyplot import * \n",
    "from numpy import * \n",
    "from pandas import *\n",
    "\n",
    "def f(x):\n",
    "    return x**2 - x + 2\n",
    "def d(x):\n",
    "    return 2*x - 1\n",
    "\n",
    "grid()\n",
    "ylabel('f(x)')\n",
    "xlabel('x')\n",
    "title(\"Gráfico de $f(x)=x^2 -x + 2$ y su derivada\")\n",
    "x1= arange(-2, 5, 0.05)\n",
    "plot(x1, f(x1))\n",
    "plot(x1, d(x1))\n",
    "scatter(2, 3, label=\"derivada de fx cuando x=2\", color='r')\n",
    "legend()\n",
    "show()"
   ]
  },
  {
   "cell_type": "markdown",
   "metadata": {},
   "source": [
    "# INTEGRALES\n",
    "https://relopezbriega.github.io/blog/2015/12/02/introduccion-al-calculo-con-python/"
   ]
  },
  {
   "cell_type": "markdown",
   "metadata": {},
   "source": [
    "$f(x)=x^2-x+2$"
   ]
  },
  {
   "cell_type": "markdown",
   "metadata": {},
   "source": [
    "$ \\int (x^2 - x + 2 ) { dx}= (\\frac{x^3}{3}-\\frac{x^2}{2}+2)$ "
   ]
  },
  {
   "cell_type": "code",
   "execution_count": 76,
   "metadata": {},
   "outputs": [
    {
     "data": {
      "text/plain": [
       "x**3/3 - x**2/2 + 2*x"
      ]
     },
     "execution_count": 76,
     "metadata": {},
     "output_type": "execute_result"
    }
   ],
   "source": [
    "from sympy import *\n",
    "\n",
    "x = Symbol('x')\n",
    "fx = x**2 - x + 2\n",
    "Integral= integrate(fx, x) #guardamon en dx la derivada de fx\n",
    "Integral   #representamos el valor de dx\n",
    "\n"
   ]
  },
  {
   "cell_type": "code",
   "execution_count": 78,
   "metadata": {},
   "outputs": [
    {
     "data": {
      "text/plain": [
       "x*(2*x**2 - 3*x + 12)/6"
      ]
     },
     "execution_count": 78,
     "metadata": {},
     "output_type": "execute_result"
    }
   ],
   "source": [
    "simplify(Integral)"
   ]
  },
  {
   "cell_type": "code",
   "execution_count": 83,
   "metadata": {},
   "outputs": [
    {
     "data": {
      "text/plain": [
       "21/2"
      ]
     },
     "execution_count": 83,
     "metadata": {},
     "output_type": "execute_result"
    }
   ],
   "source": [
    "# Calculando integral definida para [0, 3]\n",
    "from sympy import *\n",
    "x = Symbol('x')\n",
    "fx = x**2 - x + 2\n",
    "Integral(fx, (x, 0, 3)).doit()"
   ]
  },
  {
   "cell_type": "code",
   "execution_count": 94,
   "metadata": {},
   "outputs": [
    {
     "data": {
      "image/png": "[encoded data removed]",
      "text/plain": [
       "<Figure size 432x288 with 1 Axes>"
      ]
     },
     "metadata": {},
     "output_type": "display_data"
    }
   ],
   "source": [
    "# REPRESENTAMOS LA FUNCIÓN (LA \"PLOTEAMOS\")\n",
    "from matplotlib.pyplot import * \n",
    "from numpy import * \n",
    "from pandas import *\n",
    "\n",
    "\n",
    "def f(x):\n",
    "    return x**2 - x + 2\n",
    "def d(x):\n",
    "    return 2*x - 1\n",
    "def i(x):\n",
    "    return x**3/3 - x**2/2+2\n",
    "\n",
    "grid()\n",
    "ylabel('f(x)')\n",
    "xlabel('x')\n",
    "title(\"Gráfico de $f(x)=x^2 -x + 2$ y su derivada\")\n",
    "x1= arange(-2, 5, 0.02)\n",
    "plot(x1, f(x1))\n",
    "plot(x1, d(x1))\n",
    "plot(x1, i(x1))\n",
    "scatter(2, 3, label=\"derivada de fx cuando x=2\", color='r')\n",
    "legend()\n",
    "show()"
   ]
  },
  {
   "cell_type": "code",
   "execution_count": null,
   "metadata": {},
   "outputs": [],
   "source": []
  }
 ],
 "metadata": {
  "kernelspec": {
   "display_name": "Python 3",
   "language": "python",
   "name": "python3"
  },
  "language_info": {
   "codemirror_mode": {
    "name": "ipython",
    "version": 3
   },
   "file_extension": ".py",
   "mimetype": "text/x-python",
   "name": "python",
   "nbconvert_exporter": "python",
   "pygments_lexer": "ipython3",
   "version": "3.6.5"
  }
 },
 "nbformat": 4,
 "nbformat_minor": 2
}
