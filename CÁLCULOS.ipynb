{
  "nbformat": 4,
  "nbformat_minor": 0,
  "metadata": {
    "colab": {
      "name": "CÁLCULOS.ipynb",
      "provenance": [],
      "include_colab_link": true
    },
    "kernelspec": {
      "name": "python3",
      "display_name": "Python 3"
    }
  },
  "cells": [
    {
      "cell_type": "markdown",
      "metadata": {
        "id": "view-in-github",
        "colab_type": "text"
      },
      "source": [
        "<a href=\"https://colab.research.google.com/github/Ricar123/PYTHON_BACHILLERATO/blob/master/C%C3%81LCULOS.ipynb\" target=\"_parent\"><img src=\"https://colab.research.google.com/assets/colab-badge.svg\" alt=\"Open In Colab\"/></a>"
      ]
    },
    {
      "cell_type": "markdown",
      "metadata": {
        "id": "uTAU9i-y-pmp",
        "colab_type": "text"
      },
      "source": [
        "\n",
        "https://relopezbriega.github.io/blog/2015/12/02/introduccion-al-calculo-con-python/"
      ]
    },
    {
      "cell_type": "markdown",
      "metadata": {
        "id": "mseyOYpHAB8i",
        "colab_type": "text"
      },
      "source": [
        "# **CÁLCULO CON PYTHON**\n",
        " El Cálculo es una rama muy importante de la Matemática moderna; tiene profundas raíces en problemas físicos y gran parte de su potencia y belleza derivan de la variedad de sus aplicaciones. Las subramas conocidas como Cálculo integral y Cálculo diferencial son instrumentos naturales y poderosos para atacar múltiples problemas que surgen en Física, Astronomía, Ingeniería, Química, Geología, Biología, y en otros campos de las ciencias. El Cálculo no sólo es un instrumento técnico, sino que contiene una colección de ideas fascinantes y atrayentes que han ocupado el pensamiento humano durante cientos de años. Estas ideas están relacionadas con la velocidad, el área, el volumen, la razón de crecimiento, la tangente a una línea, y demás.\n",
        " Para definir las Funciones en Python utilizamos la instrucción def. Así por ejemplo si quisiéramos definir a la Función f(x)=√(x+2) dentro de Python, lo podríamos hacer de la siguiente forma:\n"
      ]
    },
    {
      "cell_type": "code",
      "metadata": {
        "id": "Z6t6JEqs1Yze",
        "colab_type": "code",
        "outputId": "230f789e-02df-41ee-ec19-6e12547387b6",
        "colab": {
          "base_uri": "https://localhost:8080/",
          "height": 35
        }
      },
      "source": [
        "def f(x):\n",
        "    return sqrt(x + 2)\n",
        "f(3)"
      ],
      "execution_count": 0,
      "outputs": [
        {
          "output_type": "execute_result",
          "data": {
            "text/plain": [
              "2.23606797749979"
            ]
          },
          "metadata": {
            "tags": []
          },
          "execution_count": 45
        }
      ]
    },
    {
      "cell_type": "code",
      "metadata": {
        "id": "4YJnTBuIf__J",
        "colab_type": "code",
        "outputId": "fb44e438-7f10-4063-98a6-45e3fbe810f4",
        "colab": {
          "base_uri": "https://localhost:8080/",
          "height": 35
        }
      },
      "source": [
        "from sympy import *  # librería para usar funciones de cálculo con LÍMITES\n",
        "x = Symbol(\"x\") # Creando el simbolo x (aquí EN SYMPY si es necesario identificar la variable).\n",
        "limit(x**2 - x + 2, x, 2) # Creando el objeto Limit"
      ],
      "execution_count": 0,
      "outputs": [
        {
          "output_type": "execute_result",
          "data": {
            "text/plain": [
              "4"
            ]
          },
          "metadata": {
            "tags": []
          },
          "execution_count": 49
        }
      ]
    },
    {
      "cell_type": "code",
      "metadata": {
        "id": "P684H1gS46yt",
        "colab_type": "code",
        "outputId": "5dc48d97-3427-4a86-fe1b-52f8f5ddfc0b",
        "colab": {
          "base_uri": "https://localhost:8080/",
          "height": 238
        }
      },
      "source": [
        "from pandas import * # librería para usar TABLAS\n",
        "def f(x):\n",
        "    return (x*x)\n",
        "x = array([-2, -1, 0, 2, 4, 6])  # Creando el vector de valores de x\n",
        "y = f(x)\n",
        "tabla = DataFrame( list(zip(x, y)), columns=['x', 'f(x)'] )\n",
        "tabla"
      ],
      "execution_count": 0,
      "outputs": [
        {
          "output_type": "execute_result",
          "data": {
            "text/html": [
              "<div>\n",
              "<style scoped>\n",
              "    .dataframe tbody tr th:only-of-type {\n",
              "        vertical-align: middle;\n",
              "    }\n",
              "\n",
              "    .dataframe tbody tr th {\n",
              "        vertical-align: top;\n",
              "    }\n",
              "\n",
              "    .dataframe thead th {\n",
              "        text-align: right;\n",
              "    }\n",
              "</style>\n",
              "<table border=\"1\" class=\"dataframe\">\n",
              "  <thead>\n",
              "    <tr style=\"text-align: right;\">\n",
              "      <th></th>\n",
              "      <th>x</th>\n",
              "      <th>f(x)</th>\n",
              "    </tr>\n",
              "  </thead>\n",
              "  <tbody>\n",
              "    <tr>\n",
              "      <th>0</th>\n",
              "      <td>-2</td>\n",
              "      <td>4</td>\n",
              "    </tr>\n",
              "    <tr>\n",
              "      <th>1</th>\n",
              "      <td>-1</td>\n",
              "      <td>1</td>\n",
              "    </tr>\n",
              "    <tr>\n",
              "      <th>2</th>\n",
              "      <td>0</td>\n",
              "      <td>0</td>\n",
              "    </tr>\n",
              "    <tr>\n",
              "      <th>3</th>\n",
              "      <td>2</td>\n",
              "      <td>4</td>\n",
              "    </tr>\n",
              "    <tr>\n",
              "      <th>4</th>\n",
              "      <td>4</td>\n",
              "      <td>16</td>\n",
              "    </tr>\n",
              "    <tr>\n",
              "      <th>5</th>\n",
              "      <td>6</td>\n",
              "      <td>36</td>\n",
              "    </tr>\n",
              "  </tbody>\n",
              "</table>\n",
              "</div>"
            ],
            "text/plain": [
              "   x  f(x)\n",
              "0 -2     4\n",
              "1 -1     1\n",
              "2  0     0\n",
              "3  2     4\n",
              "4  4    16\n",
              "5  6    36"
            ]
          },
          "metadata": {
            "tags": []
          },
          "execution_count": 43
        }
      ]
    },
    {
      "cell_type": "code",
      "metadata": {
        "id": "zVMa9mEXeKiY",
        "colab_type": "code",
        "outputId": "1e18fa8d-3ff2-442b-98fe-c0a7690a6419",
        "colab": {
          "base_uri": "https://localhost:8080/",
          "height": 265
        }
      },
      "source": [
        "from matplotlib.pyplot import *   # librería para GRAFICAR\n",
        "def f(x):\n",
        "  return (x*x)\n",
        "x= arange (1,5,0.5)\n",
        "plot(x, f(x), label=\"y(x)=x^2\")\n",
        "legend()  # representa la etiqueta marcada antes\n",
        "grid()\n",
        "show()    # plotea el resultado"
      ],
      "execution_count": 0,
      "outputs": [
        {
          "output_type": "display_data",
          "data": {
            "image/png": "[encoded data removed]",
            "text/plain": [
              "<Figure size 432x288 with 1 Axes>"
            ]
          },
          "metadata": {
            "tags": []
          }
        }
      ]
    },
    {
      "cell_type": "code",
      "metadata": {
        "colab_type": "code",
        "outputId": "d0657897-a57e-4c75-cee4-c0ced2fdde9a",
        "id": "CUcOK1zWgQgQ",
        "colab": {
          "base_uri": "https://localhost:8080/",
          "height": 265
        }
      },
      "source": [
        "from matplotlib.pyplot import *\n",
        "plot([1, 2, 3, 4], [10, 15, 40, 45], color='lightblue', linewidth=5)\n",
        "scatter([0.3, 3.8, 1.2, 2.5], [11, 25, 9, 26], color='darkgreen', marker='^')\n",
        "grid()\n",
        "show()"
      ],
      "execution_count": 0,
      "outputs": [
        {
          "output_type": "display_data",
          "data": {
            "image/png": "[encoded data removed]",
            "text/plain": [
              "<Figure size 432x288 with 1 Axes>"
            ]
          },
          "metadata": {
            "tags": []
          }
        }
      ]
    },
    {
      "cell_type": "code",
      "metadata": {
        "id": "m37t0wR_hstn",
        "colab_type": "code",
        "outputId": "3fdad639-ebf1-4e49-acd2-cd6870d58bb6",
        "colab": {
          "base_uri": "https://localhost:8080/",
          "height": 299
        }
      },
      "source": [
        "# REPRESENTAMOS LA FUNCIÓN (LA \"PLOTEAMOS\")\n",
        "from matplotlib.pyplot import * \n",
        "# Para definir las Funciones en Python utilizamos la instrucción def. \n",
        "def f(x):\n",
        "    return x**2 - x + 2\n",
        "\n",
        "grid()\n",
        "ylabel('f(x)')\n",
        "xlabel('x')\n",
        "title(\"Gráfico de $f(x)=x^2 -x + 2$\")   # representación con LÁTEX\n",
        "x1= arange(-2, 5, 0.05)\n",
        "plot(x1, f(x1))\n",
        "scatter(2, 4, label=\"Límite cuando x tiende a 2\", color='r')  #representamos el punto (2,4)\n",
        "legend()\n",
        "show()\n"
      ],
      "execution_count": 0,
      "outputs": [
        {
          "output_type": "display_data",
          "data": {
            "image/png": "[encoded data removed]",
            "text/plain": [
              "<Figure size 432x288 with 1 Axes>"
            ]
          },
          "metadata": {
            "tags": []
          }
        }
      ]
    },
    {
      "cell_type": "code",
      "metadata": {
        "id": "6iPiVJv8HTYr",
        "colab_type": "code",
        "outputId": "1693c97d-873a-49ce-fece-23410f046c24",
        "colab": {
          "base_uri": "https://localhost:8080/",
          "height": 35
        }
      },
      "source": [
        "from sympy import * \n",
        "x = Symbol(\"x\") # Creando el simbolo x (aquí EN SYMPY si es necesario identificar la variable).\n",
        "f = x**3 + 2*x + 5\n",
        "d = Derivative(f, x).doit()\n",
        "d"
      ],
      "execution_count": 0,
      "outputs": [
        {
          "output_type": "execute_result",
          "data": {
            "text/plain": [
              "3*x**2 + 2"
            ]
          },
          "metadata": {
            "tags": []
          },
          "execution_count": 64
        }
      ]
    },
    {
      "cell_type": "code",
      "metadata": {
        "id": "m_U6dGAVIFln",
        "colab_type": "code",
        "outputId": "359347f1-cd8c-4252-81e3-d5aced5c740d",
        "colab": {
          "base_uri": "https://localhost:8080/",
          "height": 35
        }
      },
      "source": [
        "from sympy import *\n",
        "x = Symbol(\"x\")\n",
        "f = x**3 - 6*x\n",
        "integral = Integral(f, x).doit()\n",
        "integral\n",
        "\n"
      ],
      "execution_count": 0,
      "outputs": [
        {
          "output_type": "execute_result",
          "data": {
            "text/plain": [
              "x**4/4 - 3*x**2"
            ]
          },
          "metadata": {
            "tags": []
          },
          "execution_count": 65
        }
      ]
    },
    {
      "cell_type": "markdown",
      "metadata": {
        "id": "p0jB55pEI1Z2",
        "colab_type": "text"
      },
      "source": [
        "[RPOBABILIAD Y ESTADÍSTICA](https://relopezbriega.github.io/blog/2015/06/27/probabilidad-y-estadistica-con-python/)"
      ]
    },
    {
      "cell_type": "code",
      "metadata": {
        "id": "2gYdNs8dI8hj",
        "colab_type": "code",
        "outputId": "809ffd1b-2b77-4437-e21c-b150e40e0416",
        "colab": {
          "base_uri": "https://localhost:8080/",
          "height": 35
        }
      },
      "source": [
        "from numpy import * \n",
        "x= Symbol(\"x\") #recordar que con esta libraría hay que definir la variable\n",
        "random.seed(100)\n",
        "datos= random.rand(4,2)\n",
        "x"
      ],
      "execution_count": 0,
      "outputs": [
        {
          "output_type": "execute_result",
          "data": {
            "text/plain": [
              "0.46424473334496397"
            ]
          },
          "metadata": {
            "tags": []
          },
          "execution_count": 75
        }
      ]
    },
    {
      "cell_type": "code",
      "metadata": {
        "id": "t3cW9GqrLjXx",
        "colab_type": "code",
        "outputId": "391459d0-3212-4321-c33a-06a762f23f42",
        "colab": {
          "base_uri": "https://localhost:8080/",
          "height": 35
        }
      },
      "source": [
        "mean(datos)  # media aritmética desde librería numpy"
      ],
      "execution_count": 0,
      "outputs": [
        {
          "output_type": "execute_result",
          "data": {
            "text/plain": [
              "0.46424473334496397"
            ]
          },
          "metadata": {
            "tags": []
          },
          "execution_count": 77
        }
      ]
    },
    {
      "cell_type": "code",
      "metadata": {
        "id": "WNQk2nJALw_r",
        "colab_type": "code",
        "outputId": "6c2b13c8-5c4e-4dd4-cd3f-cbd81c9cb9ce",
        "colab": {
          "base_uri": "https://localhost:8080/",
          "height": 35
        }
      },
      "source": [
        "median(datos)  # mediana desde librería numpy"
      ],
      "execution_count": 0,
      "outputs": [
        {
          "output_type": "execute_result",
          "data": {
            "text/plain": [
              "0.48396126627004926"
            ]
          },
          "metadata": {
            "tags": []
          },
          "execution_count": 78
        }
      ]
    },
    {
      "cell_type": "code",
      "metadata": {
        "id": "0Qg-UZkBMFvK",
        "colab_type": "code",
        "outputId": "42938cd2-18c4-4251-88a6-b4c73b9ef582",
        "colab": {
          "base_uri": "https://localhost:8080/",
          "height": 35
        }
      },
      "source": [
        "var(datos) #varianza"
      ],
      "execution_count": 0,
      "outputs": [
        {
          "output_type": "execute_result",
          "data": {
            "text/plain": [
              "0.08614917386412636"
            ]
          },
          "metadata": {
            "tags": []
          },
          "execution_count": 79
        }
      ]
    }
  ]
}