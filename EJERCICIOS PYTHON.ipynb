{
 "cells": [
  {
   "cell_type": "markdown",
   "metadata": {},
   "source": [
    "## CONDICIONALES CON EDADES"
   ]
  },
  {
   "cell_type": "code",
   "execution_count": 2,
   "metadata": {},
   "outputs": [
    {
     "name": "stdout",
     "output_type": "stream",
     "text": [
      "Hola, ¿Cómo te llamas?\n",
      "RIC\n",
      "Hola, RIC, ¿Cuantos años tienes?\n",
      "15\n",
      "RIC, eres un adolescente\n"
     ]
    }
   ],
   "source": [
    "# CONDICIONALES CON EDADES\n",
    "# CONDICIONALES. Una respuesta a cada edad introducida\n",
    "print ('Hola, ¿Cómo te llamas?')\n",
    "nombre=input()\n",
    "print('Hola, '+nombre+', ¿Cuantos años tienes?')\n",
    "edad=input()\n",
    "edad=int(edad)\n",
    "if edad<13:\n",
    "    print(nombre+', eres un niño')\n",
    "if edad>=13 and edad<18:\n",
    "    print(nombre+', eres un adolescente')\n",
    "if edad>=18 and edad<30:\n",
    "    print(nombre+', eres un joven')\n",
    "if edad>=30 and edad<65:\n",
    "    print(nombre+', eres un adulto')\n",
    "if edad>=65:\n",
    "    print(nombre+', eres un jubilado')"
   ]
  },
  {
   "cell_type": "markdown",
   "metadata": {},
   "source": [
    "#### EJERCICIOS CON CONDICIONALES CON EDADES\n",
    "* Modifica los rangos y mensajes del programa de la edad.\n",
    "* Añade un mensaje que salga si la edad es mayor de 100 años y que diga \"Eres Matusalén\"\n",
    "* Haz un programa que de mensajes (eres un poco pequeño, tienes una estatura media, eres muy alto) sobre la altura que se introduzca.\n"
   ]
  },
  {
   "cell_type": "markdown",
   "metadata": {},
   "source": [
    "# CARA O CRUZ"
   ]
  },
  {
   "cell_type": "code",
   "execution_count": 1,
   "metadata": {},
   "outputs": [
    {
     "name": "stdout",
     "output_type": "stream",
     "text": [
      "¿Hola, como te llamas?\n",
      "RICAR\n",
      "RICAR, ¿quieres cara o cruz?\n",
      "cara\n",
      "¡Mala suerte, RICAR, ha salido cruz, has perdido!\n"
     ]
    }
   ],
   "source": [
    "# CARA O CRUZ\n",
    "# CONDICIONALES. Este juego es para adivinar si ha salido cara o cruz\n",
    "import random \n",
    "numero=random.randint(1,2)\n",
    "if numero==1:\n",
    "   lado='cara'\n",
    "if numero==2:\n",
    "   lado='cruz'\n",
    "print ('¿Hola, como te llamas?')\n",
    "nombre=input()\n",
    "print (nombre+', ¿quieres cara o cruz?')\n",
    "respuesta=input()\n",
    "if respuesta==lado:\n",
    "   print('¡Muy bien, '+nombre+', ha salido '+lado+', has acertado!')\n",
    "if respuesta!=lado:\n",
    "   print('¡Mala suerte, '+nombre+', ha salido '+lado+', has perdido!')"
   ]
  },
  {
   "cell_type": "markdown",
   "metadata": {},
   "source": [
    "#### EJERCICIO SOBRE \"CARA O CRUZ\":\n",
    "* Cambia los mensajes de bienvenida y de despedida.\n",
    "* Modifica el programa para que haya una tercera opción \"La monenda ha caido de canto\".\n",
    "* Haz un programa para adivinar la tirada de UN DADO DE SEIS CARAS. (Necesitas la sentencia variable=int(variable), que convierte un dato de tipo string en un dato de tipo integer  y/o la orden str(variable) que convierte un integer en una cadena (string)\n",
    "* Modifica el programa del apartado anterior (Python 6) para que, en vez de dar la pista de \"demasiado alto\" o \"demasiado bajo\", dé la pista \"caliente\", \"templado\" o \"frío\" según esté de cerca el número introducido respecto al número secreto? Seguramente necesitarás de la orden abs(x), que devuelve el valor absoluto (sin tener en cuenta el signo) de x.\n"
   ]
  },
  {
   "cell_type": "markdown",
   "metadata": {},
   "source": [
    "# ADIVINA UN NÚMERO"
   ]
  },
  {
   "cell_type": "code",
   "execution_count": null,
   "metadata": {},
   "outputs": [
    {
     "name": "stdout",
     "output_type": "stream",
     "text": [
      "¡Hola! ¿Cuál es tu nombre?\n"
     ]
    }
   ],
   "source": [
    "# ADIVINA UN NÚMERO. BÚSQUEDA BINARIA. \n",
    "# BUCLE. Este es un juego de adivinar el número\n",
    "import random\n",
    "intentos=0\n",
    "print('¡Hola! ¿Cuál es tu nombre?')\n",
    "nombre = input()\n",
    "numero=random.randint(1,20)\n",
    "print('Bueno, '+nombre+', piensa un número entre 1 y 20.')\n",
    "while intentos<6:\n",
    "    print ('¡Adivínalo! Tienes 6 intentos')\n",
    "    adivina=input()\n",
    "    adivina=int(adivina)\n",
    "    intentos=intentos+1\n",
    "    if adivina<numero:\n",
    "        print ('¡Demasiado pequeño!')\n",
    "    if adivina>numero:\n",
    "        print('¡Demasiado grande!')\n",
    "    if adivina==numero:\n",
    "        break\n",
    "if adivina==numero:\n",
    "    intentos=str(intentos)\n",
    "    print('Fabuloso, '+nombre+', acertaste el número en '+intentos+' intentos. ¡Estarás orgulloso-a!')\n",
    "if adivina!=numero:\n",
    "    numero=str(numero)\n",
    "    print('¡Qué fatalidad '+nombre+' ! Yo estaba pensando en el número '+numero)"
   ]
  },
  {
   "cell_type": "markdown",
   "metadata": {},
   "source": [
    "#### EJERCICIO SOBRE \"ADIVINA UN NÚMERO\"\n",
    "* Haz un trabajo sobre este código y explica el método de la Búsqueda Binaria y sus aplicaciones en la vida diaria.\n",
    "* Explica la diferencia entre un bucle WHILE y otro FOR.\n",
    "* Cambia los parámetros del juego, para que el número elegido esté entre 5 y 30, que se permita un número mayor o menor de intentos y cambia también los mensajes de felicitación y consolación.\n",
    "* Introduce las instrucciones precisas para que el programa informe al jugador/a de cuantos intentos lleva y cuantos le quedan, cada vez que este quiera adivinar.\n",
    "* Introduce una variable puntos que al comienzo tenga un valor determinado y que, cada vez que el jugador falle, se le reste una cantidad concreta de puntos. Al final del programa, el mensaje de felicitación o consolación debe informarle de cuantos puntos ha obtenido.\n",
    "* Haz un programa que calcule el índice de masa corporal (IMC) del jugador/a? \n",
    "    - Tendrá que pedir el peso en Kg y la altura en m, y luego calcular el índice con la fórmula: IMC=Kg/(m*m). \n",
    "    - Tienes que tener muy en cuenta las conversiones de tipos de datos con las funciones str() e int(). \n",
    "    -  Ten en cuenta también que como el peso y el IMC van a tener decimales debemos utilizar la orden float() que sirve para indicar que es un número con decimales.\n",
    "    -  Debes hacer que el IMC salga con sólo 2 decimales; utiliza para ello la orden round(cantidad, nº de decimales)\n",
    "\n"
   ]
  },
  {
   "cell_type": "markdown",
   "metadata": {},
   "source": [
    "# QUINIELA"
   ]
  },
  {
   "cell_type": "code",
   "execution_count": 2,
   "metadata": {},
   "outputs": [
    {
     "name": "stdout",
     "output_type": "stream",
     "text": [
      "Este es el resultado de la quiniela. ¡Seguro que acierto!\n",
      "Partido 1. El resultado será 1\n",
      "Partido 2. El resultado será X\n",
      "Partido 3. El resultado será X\n",
      "Partido 4. El resultado será X\n",
      "Partido 5. El resultado será X\n",
      "Partido 6. El resultado será 2\n",
      "Partido 7. El resultado será 2\n",
      "Partido 8. El resultado será X\n",
      "Partido 9. El resultado será 1\n",
      "Partido 10. El resultado será X\n",
      "Partido 11. El resultado será X\n",
      "Partido 12. El resultado será X\n",
      "Partido 13. El resultado será 2\n",
      "Partido 14. El resultado será 1\n",
      "Partido 15. El resultado será 2\n"
     ]
    }
   ],
   "source": [
    "# QUINIELA\n",
    "# BUCLE. Generar el resultado de la quiniela\n",
    "print ('Este es el resultado de la quiniela. ¡Seguro que acierto!')\n",
    "import random \n",
    "for i in range(1,16):\n",
    "    numero=random.randint(1,3)\n",
    "    if numero ==1:\n",
    "        resultado='1'\n",
    "    if numero ==2:\n",
    "        resultado='2'\n",
    "    if numero ==3:\n",
    "        resultado='X'\n",
    "    print('Partido '+ str(i)+'. El resultado será '+resultado)"
   ]
  },
  {
   "cell_type": "markdown",
   "metadata": {},
   "source": [
    "#### EJERCICIOS SOBRE QUINIELAS\n",
    "* Modifica el programa para que salgan el doble de 1 que de X y 2 ya que habitualmente es más común que gane el equipo de casa.\n",
    "* Diseña un programa que sirva para que el jugador pueda hacer cuantas tiradas de dados quiera, con dados del número de caras que el jugador desee. Después el programa deberá informar al jugador de la puntuación obtenida en cada tirada. El programa deberá saludar al jugador y dirigirse a él por su nombre\". Este sería el resultado del programa:\n"
   ]
  },
  {
   "cell_type": "markdown",
   "metadata": {},
   "source": [
    "# GENERADOR DE FRASES"
   ]
  },
  {
   "cell_type": "code",
   "execution_count": 3,
   "metadata": {},
   "outputs": [
    {
     "name": "stdout",
     "output_type": "stream",
     "text": [
      "Voy a decirte algo de Luis\n",
      "\n",
      "Luis escucha a Kevin\n",
      "\n",
      "¿Quieres que te diga otra cosa? (Escribe sí o no)\n",
      "NO\n",
      "¡Hasta luego!\n"
     ]
    }
   ],
   "source": [
    "# GENERADOR DE FRASES\n",
    "# MATRICES Y FUNCIONES. Generador automático de frases\n",
    "import random\n",
    "import time\n",
    "personas=['Juan','Luis','Irene','Kevin','Adriana']\n",
    "verbos=['ama','odia','no entiende','insulta','sonrie','escucha']\n",
    "def escogePalabra(palabraLista):\n",
    "   índice=random.randint(0,len(palabraLista)-1)\n",
    "   return palabraLista[índice]\n",
    "\n",
    "otrojuego='sí'\n",
    "    \n",
    "while otrojuego=='sí':    \n",
    "    persona=escogePalabra(personas)\n",
    "    persona2=escogePalabra(personas)\n",
    "    verbo=escogePalabra(verbos)\n",
    "    print('Voy a decirte algo de '+persona)\n",
    "    time.sleep(1)\n",
    "    print()\n",
    "    print(persona+ ' '+verbo+ ' a ', end='')\n",
    "    time.sleep(2)\n",
    "    print(persona2)\n",
    "    time.sleep(2)\n",
    "    print()\n",
    "    print('¿Quieres que te diga otra cosa? (Escribe sí o no)')\n",
    "    otrojuego=input()\n",
    "    if otrojuego=='sí':\n",
    "       continue \n",
    "    if otrojuego=='no':\n",
    "       break\n",
    "\n",
    "print('¡Hasta luego!') "
   ]
  },
  {
   "cell_type": "markdown",
   "metadata": {},
   "source": [
    "#### EJERCICIOS DEL GENERADOR DE FRASES\n",
    "* Cambia los valores de los personas y verbos de las matrices del programa.\n",
    "* Pon las órdenes necesarias para evitar que persona y persona2 sean la misma,\n",
    "* Dibuja el flujograma del programa. Utiliza por ejemplo LOS GRÁFICOS DE WORD. \n",
    "* Diseña un programa que permita pasar de dolares a euros y viceversa utilizando funciones.\n",
    "        Debe preguntar si quieres pasar de euros a dolares o de dolares a euros.\n",
    "        El resultado debe tener 2 decimales (orden round(número, decimales))\n",
    "        Ten cuidado con los números y las cadenas. Recuerda la orden str(número)\n",
    "        Después de hacer el cálculo nos debe decir que si queremos hacer otro.\n",
    "        Aquí ves el resultado que tiene que dar:\n"
   ]
  },
  {
   "cell_type": "markdown",
   "metadata": {},
   "source": [
    "# JUEGO DE COLORES EN INGLÉS"
   ]
  },
  {
   "cell_type": "code",
   "execution_count": 5,
   "metadata": {},
   "outputs": [
    {
     "name": "stdout",
     "output_type": "stream",
     "text": [
      "¡A ver qué tal sabes los colores en inglés!\n",
      "¿Cómo se dice en inglés negro (escribe en minúsculas)?\n",
      "black\n",
      "¡Correcto!\n",
      "¿Cómo se dice en inglés blanco (escribe en minúsculas)?\n",
      "d\n",
      "¡Has fallado!\n",
      "¿Cómo se dice en inglés rojo (escribe en minúsculas)?\n",
      "d\n",
      "¡Has fallado!\n",
      "¿Cómo se dice en inglés verde (escribe en minúsculas)?\n",
      "d\n",
      "¡Has fallado!\n",
      "¿Cómo se dice en inglés amarillo (escribe en minúsculas)?\n",
      "d\n",
      "¡Has fallado!\n",
      "¿Cómo se dice en inglés azul (escribe en minúsculas)?\n",
      "d\n",
      "¡Has fallado!\n",
      "¿Cómo se dice en inglés rosa (escribe en minúsculas)?\n",
      "d\n",
      "¡Has fallado!\n",
      "¿Cómo se dice en inglés gris (escribe en minúsculas)?\n",
      "d\n",
      "¡Has fallado!\n",
      "¿Cómo se dice en inglés naranja (escribe en minúsculas)?\n",
      "d\n",
      "¡Has fallado!\n",
      "Has acertado 1 de 9 intentos\n"
     ]
    }
   ],
   "source": [
    "# Colores en inglés\n",
    "colores=['negro','blanco','rojo','verde','amarillo','azul','rosa','gris','naranja']\n",
    "colors=['black','white','red','green','yellow','blue','pink','grey','orange']\n",
    "print ('¡A ver qué tal sabes los colores en inglés!')\n",
    "aciertos=0\n",
    "for i in range(0,9):\n",
    "    print('¿Cómo se dice en inglés '+colores[i]+' (escribe en minúsculas)?')\n",
    "    dice_jugador=input()\n",
    "    if dice_jugador==colors[i]:\n",
    "       print ('¡Correcto!')\n",
    "       aciertos=aciertos+1\n",
    "    else:\n",
    "       print ('¡Has fallado!')\n",
    "print ('Has acertado '+ str(aciertos)+' de 9 intentos')"
   ]
  },
  {
   "cell_type": "markdown",
   "metadata": {},
   "source": [
    "#### EJERCICIO DE JUEGO DE COLORES EN INGLÉS\n",
    "* Modifica el programa de los colores para que calcule el % de aciertos. Debe también indicar en los colores que se contesten de manera errónea lo que ha dicho el usurio y cual sería la respuesta correcta.\n",
    "* Modifica el programa de los colores para que sirva para otro tipo de preguntas. Por ejemplo capitales de países, ríos que pasan por una ciudad,...\n",
    "* Modifica el programa de los colores para que el ordenador haga preguntas que tengan 4 posibles respuestas (a, b, c, y d) y el jugador debe indicar la correcta.\n",
    "* Crea un programa para jugar a piedra papel o tijera. Habrá 2 jugadores. Deberán jugar 5 partidas.\n",
    "* Modifica el programa para jugar a piedra papel o tijera. En este caso habrá un único jugador que puede elegir lo que quiere y juega contra el ordenador. Deberán jugar 6 partidas.\n"
   ]
  },
  {
   "cell_type": "code",
   "execution_count": 1,
   "metadata": {},
   "outputs": [
    {
     "name": "stdout",
     "output_type": "stream",
     "text": [
      "¿Como se llama el jugador 1?\n",
      "RI\n",
      "¿Como se llama el jugador 2?\n",
      "ANA\n",
      "RI ha sacado el cinco de espadas. ANA ha sacado el dos de oros\n",
      "Ha ganado RI\n",
      "RI ha sacado el tres de bastos. ANA ha sacado el cuatro de oros\n",
      "Ha ganado RI\n",
      "RI ha sacado el caballo de oros. ANA ha sacado el caballo de espadas\n",
      "No gana nadie\n",
      "RI ha sacado el tres de bastos. ANA ha sacado el caballo de copas\n",
      "Ha ganado RI\n",
      "RI ha sacado el tres de espadas. ANA ha sacado el caballo de copas\n",
      "Ha ganado RI\n",
      "RI ha ganado 4 veces y ANA ha ganado 0 veces\n"
     ]
    }
   ],
   "source": [
    "#Este juego es el de la carta más valiosa\n",
    "#juegan 2 jugadore y gana el mejor de 5 tiradas\n",
    "\n",
    "import random\n",
    "import time\n",
    "print ('¿Como se llama el jugador 1?')\n",
    "nombre0=input()\n",
    "print ('¿Como se llama el jugador 2?')\n",
    "nombre1=input()\n",
    "gana0=0\n",
    "gana1=0\n",
    "x=1\n",
    "while x<6:\n",
    "   x=x+1\n",
    "   número=[0,0]\n",
    "   palo=[0,0]\n",
    "   númeroletras=[0,0]\n",
    "   paloletras=[0,0]\n",
    "   for i in range(0,2):\n",
    "      número[i]=random.randint(1,10)\n",
    "      palo[i]=random.randint(1,4)\n",
    "      if número[i]==1:\n",
    "         númeroletras[i]='el dos'\n",
    "      if número[i]==2:\n",
    "         númeroletras[i]='el cuatro'\n",
    "      if número[i]==3:\n",
    "         númeroletras[i]='el cinco'\n",
    "      if número[i]==4:\n",
    "         númeroletras[i]='el seis'\n",
    "      if número[i]==5:\n",
    "         númeroletras[i]='el siete'\n",
    "      if número[i]==6:\n",
    "         númeroletras[i]='la sota'\n",
    "      if número[i]==7:\n",
    "         númeroletras[i]='el caballo'\n",
    "      if número[i]==8:\n",
    "         númeroletras[i]='el rey'\n",
    "      if número[i]==9:\n",
    "         númeroletras[i]='el tres'\n",
    "      if número[i]==10:\n",
    "         númeroletras[i]='el as'\n",
    "      if palo[i]==1:\n",
    "         paloletras[i]='oros'\n",
    "      if palo[i]==2:\n",
    "         paloletras[i]='copas'\n",
    "      if palo[i]==3:\n",
    "         paloletras[i]='espadas'\n",
    "      if palo[i]==4:\n",
    "         paloletras[i]='bastos'\n",
    "\n",
    "   print(nombre0+' ha sacado '+númeroletras[0]+' de '+paloletras[0]+'. '+nombre1+' ha sacado '+númeroletras[1]+' de '+paloletras[1]);\n",
    "   if número[0]>número[1]:\n",
    "       gana0=gana0+1\n",
    "       print ('Ha ganado '+ nombre0)\n",
    "   if número[1]>número[0]:\n",
    "       gana0=gana0+1\n",
    "       print ('Ha ganado '+ nombre1)\n",
    "   if número[0]==número[1]:\n",
    "       print ('No gana nadie')\n",
    "   time.sleep(5)\n",
    "print (nombre0+ ' ha ganado '+ str(gana0)+' veces y '+nombre1+' ha ganado '+ str(gana1)+' veces')"
   ]
  },
  {
   "cell_type": "code",
   "execution_count": null,
   "metadata": {},
   "outputs": [],
   "source": []
  }
 ],
 "metadata": {
  "kernelspec": {
   "display_name": "Python 3",
   "language": "python",
   "name": "python3"
  },
  "language_info": {
   "codemirror_mode": {
    "name": "ipython",
    "version": 3
   },
   "file_extension": ".py",
   "mimetype": "text/x-python",
   "name": "python",
   "nbconvert_exporter": "python",
   "pygments_lexer": "ipython3",
   "version": "3.6.5"
  }
 },
 "nbformat": 4,
 "nbformat_minor": 2
}
