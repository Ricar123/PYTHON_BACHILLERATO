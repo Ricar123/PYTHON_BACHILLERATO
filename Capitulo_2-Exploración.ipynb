{
 "cells": [
  {
   "cell_type": "markdown",
   "metadata": {},
   "source": [
    "Algunas exploraciones y resúmenes\n",
    "=================================\n",
    "\n",
    "En general cuando se tienen algo de información, una vez que se carga lo que se hace es explorarla. Esto desde mi práctica es al inicio conocer el tipo de varibles, rangos, missing values, etc. Después hacer un poco de exploración gráfica para ir conociendo las posibles relaciones entre variables, en caso de tratar de construir algún modelo o para hacer algunas modificaciones entre los datos. En lo personal, pienso que primero uno debe de jugar un poco con los datos y luego empezar a preguntarse cosas.\n",
    "\n",
    "Objetivo\n",
    "--------\n",
    "\n",
    "*Cargo datos relacionados con los ingresos proporcionados por SHCP, se eligen algunas columnas para trabajar la información y se exploran las relaciones entre los montos registrados por mes, año, mes-año y año-sector. La intención es responder las siguientes preguntas sencillas:*\n",
    "\n",
    "  1. *¿En qué año se registró un mayor monto?*\n",
    "  2. *¿En qué mes se tienen la media más alta de monto?*\n",
    "  3. *¿En qué año y mes se registran los mayores montos?*\n",
    "  4. *¿En qué año y sector se registran los mayores montos?*\n",
    "\n",
    "Datos\n",
    "-----\n",
    "\n",
    "Para conocer los detalles de los datos usados en el ejemplo se puede consultar información en el  link siguiente:\n",
    "   * [http://catalogo.datos.gob.mx/dataset/estadisticas-oportunas-de-finanzas-publicas](http://catalogo.datos.gob.mx/dataset/estadisticas-oportunas-de-finanzas-publicas)"
   ]
  },
  {
   "cell_type": "code",
   "execution_count": 26,
   "metadata": {},
   "outputs": [],
   "source": [
    "#Se prepara el entorno de trabajo\n",
    "%matplotlib inline\n",
    "import matplotlib\n",
    "import numpy as np\n",
    "import matplotlib.pyplot as plt\n",
    "import seaborn as sns\n",
    "import pandas as pd\n",
    "\n",
    "#matplotlib.style.use('ggplot') se puede correr este código para usar gráficos del tipo de ggplot2 en R\n",
    "plt.rcParams['figure.figsize']=(20,7)\n",
    "# -*- coding: utf-8 -*-"
   ]
  },
  {
   "cell_type": "code",
   "execution_count": 34,
   "metadata": {},
   "outputs": [],
   "source": [
    "#Se cargan los datos desde un directorio\n",
    "Ingresos=pd.read_csv('/Datos/Ingreso.csv')"
   ]
  },
  {
   "cell_type": "code",
   "execution_count": 35,
   "metadata": {},
   "outputs": [
    {
     "data": {
      "text/html": [
       "<div>\n",
       "<table border=\"1\" class=\"dataframe\">\n",
       "  <thead>\n",
       "    <tr style=\"text-align: right;\">\n",
       "      <th></th>\n",
       "      <th>CICLO</th>\n",
       "      <th>MES</th>\n",
       "      <th>CLAVE_DE_CONCEPTO</th>\n",
       "      <th>NOMBRE</th>\n",
       "      <th>TEMA</th>\n",
       "      <th>SUBTEMA</th>\n",
       "      <th>SECTOR</th>\n",
       "      <th>AMBITO</th>\n",
       "      <th>TIPO_DE_INFORMACION</th>\n",
       "      <th>BASE_DE_REGISTRO</th>\n",
       "      <th>UNIDAD_DE_MEDIDA</th>\n",
       "      <th>PERIODO_INICIO</th>\n",
       "      <th>PERIODO_FINAL</th>\n",
       "      <th>FRECUENCIA</th>\n",
       "      <th>DESC_DIFUSION</th>\n",
       "      <th>MONTO</th>\n",
       "    </tr>\n",
       "  </thead>\n",
       "  <tbody>\n",
       "    <tr>\n",
       "      <th>0</th>\n",
       "      <td>2011</td>\n",
       "      <td>Enero</td>\n",
       "      <td>XAB2120</td>\n",
       "      <td>Ingresos petroleros del Gobierno Federal</td>\n",
       "      <td>Estad�sticas de Finanzas P�blicas</td>\n",
       "      <td>Ingreso</td>\n",
       "      <td>Sector P�blico Federal Presupuestario</td>\n",
       "      <td>Federal</td>\n",
       "      <td>Flujo</td>\n",
       "      <td>Pagado</td>\n",
       "      <td>Miles de Pesos</td>\n",
       "      <td>1990.01</td>\n",
       "      <td>2014.12</td>\n",
       "      <td>Mensual</td>\n",
       "      <td>30 d�as despu�s del cierre del mes de referencia</td>\n",
       "      <td>71395961.0</td>\n",
       "    </tr>\n",
       "    <tr>\n",
       "      <th>1</th>\n",
       "      <td>2011</td>\n",
       "      <td>Febrero</td>\n",
       "      <td>XAB2120</td>\n",
       "      <td>Ingresos petroleros del Gobierno Federal</td>\n",
       "      <td>Estad�sticas de Finanzas P�blicas</td>\n",
       "      <td>Ingreso</td>\n",
       "      <td>Sector P�blico Federal Presupuestario</td>\n",
       "      <td>Federal</td>\n",
       "      <td>Flujo</td>\n",
       "      <td>Pagado</td>\n",
       "      <td>Miles de Pesos</td>\n",
       "      <td>1990.01</td>\n",
       "      <td>2014.12</td>\n",
       "      <td>Mensual</td>\n",
       "      <td>30 d�as despu�s del cierre del mes de referencia</td>\n",
       "      <td>54388829.0</td>\n",
       "    </tr>\n",
       "    <tr>\n",
       "      <th>2</th>\n",
       "      <td>2011</td>\n",
       "      <td>Marzo</td>\n",
       "      <td>XAB2120</td>\n",
       "      <td>Ingresos petroleros del Gobierno Federal</td>\n",
       "      <td>Estad�sticas de Finanzas P�blicas</td>\n",
       "      <td>Ingreso</td>\n",
       "      <td>Sector P�blico Federal Presupuestario</td>\n",
       "      <td>Federal</td>\n",
       "      <td>Flujo</td>\n",
       "      <td>Pagado</td>\n",
       "      <td>Miles de Pesos</td>\n",
       "      <td>1990.01</td>\n",
       "      <td>2014.12</td>\n",
       "      <td>Mensual</td>\n",
       "      <td>30 d�as despu�s del cierre del mes de referencia</td>\n",
       "      <td>57029277.0</td>\n",
       "    </tr>\n",
       "    <tr>\n",
       "      <th>3</th>\n",
       "      <td>2011</td>\n",
       "      <td>Abril</td>\n",
       "      <td>XAB2120</td>\n",
       "      <td>Ingresos petroleros del Gobierno Federal</td>\n",
       "      <td>Estad�sticas de Finanzas P�blicas</td>\n",
       "      <td>Ingreso</td>\n",
       "      <td>Sector P�blico Federal Presupuestario</td>\n",
       "      <td>Federal</td>\n",
       "      <td>Flujo</td>\n",
       "      <td>Pagado</td>\n",
       "      <td>Miles de Pesos</td>\n",
       "      <td>1990.01</td>\n",
       "      <td>2014.12</td>\n",
       "      <td>Mensual</td>\n",
       "      <td>30 d�as despu�s del cierre del mes de referencia</td>\n",
       "      <td>78204810.0</td>\n",
       "    </tr>\n",
       "    <tr>\n",
       "      <th>4</th>\n",
       "      <td>2011</td>\n",
       "      <td>Mayo</td>\n",
       "      <td>XAB2120</td>\n",
       "      <td>Ingresos petroleros del Gobierno Federal</td>\n",
       "      <td>Estad�sticas de Finanzas P�blicas</td>\n",
       "      <td>Ingreso</td>\n",
       "      <td>Sector P�blico Federal Presupuestario</td>\n",
       "      <td>Federal</td>\n",
       "      <td>Flujo</td>\n",
       "      <td>Pagado</td>\n",
       "      <td>Miles de Pesos</td>\n",
       "      <td>1990.01</td>\n",
       "      <td>2014.12</td>\n",
       "      <td>Mensual</td>\n",
       "      <td>30 d�as despu�s del cierre del mes de referencia</td>\n",
       "      <td>76701991.0</td>\n",
       "    </tr>\n",
       "  </tbody>\n",
       "</table>\n",
       "</div>"
      ],
      "text/plain": [
       "   CICLO      MES CLAVE_DE_CONCEPTO                                    NOMBRE  \\\n",
       "0   2011    Enero           XAB2120  Ingresos petroleros del Gobierno Federal   \n",
       "1   2011  Febrero           XAB2120  Ingresos petroleros del Gobierno Federal   \n",
       "2   2011    Marzo           XAB2120  Ingresos petroleros del Gobierno Federal   \n",
       "3   2011    Abril           XAB2120  Ingresos petroleros del Gobierno Federal   \n",
       "4   2011     Mayo           XAB2120  Ingresos petroleros del Gobierno Federal   \n",
       "\n",
       "                                TEMA  SUBTEMA  \\\n",
       "0  Estad�sticas de Finanzas P�blicas  Ingreso   \n",
       "1  Estad�sticas de Finanzas P�blicas  Ingreso   \n",
       "2  Estad�sticas de Finanzas P�blicas  Ingreso   \n",
       "3  Estad�sticas de Finanzas P�blicas  Ingreso   \n",
       "4  Estad�sticas de Finanzas P�blicas  Ingreso   \n",
       "\n",
       "                                  SECTOR   AMBITO TIPO_DE_INFORMACION  \\\n",
       "0  Sector P�blico Federal Presupuestario  Federal               Flujo   \n",
       "1  Sector P�blico Federal Presupuestario  Federal               Flujo   \n",
       "2  Sector P�blico Federal Presupuestario  Federal               Flujo   \n",
       "3  Sector P�blico Federal Presupuestario  Federal               Flujo   \n",
       "4  Sector P�blico Federal Presupuestario  Federal               Flujo   \n",
       "\n",
       "  BASE_DE_REGISTRO UNIDAD_DE_MEDIDA  PERIODO_INICIO  PERIODO_FINAL FRECUENCIA  \\\n",
       "0           Pagado   Miles de Pesos         1990.01        2014.12    Mensual   \n",
       "1           Pagado   Miles de Pesos         1990.01        2014.12    Mensual   \n",
       "2           Pagado   Miles de Pesos         1990.01        2014.12    Mensual   \n",
       "3           Pagado   Miles de Pesos         1990.01        2014.12    Mensual   \n",
       "4           Pagado   Miles de Pesos         1990.01        2014.12    Mensual   \n",
       "\n",
       "                                      DESC_DIFUSION       MONTO  \n",
       "0  30 d�as despu�s del cierre del mes de referencia  71395961.0  \n",
       "1  30 d�as despu�s del cierre del mes de referencia  54388829.0  \n",
       "2  30 d�as despu�s del cierre del mes de referencia  57029277.0  \n",
       "3  30 d�as despu�s del cierre del mes de referencia  78204810.0  \n",
       "4  30 d�as despu�s del cierre del mes de referencia  76701991.0  "
      ]
     },
     "execution_count": 35,
     "metadata": {},
     "output_type": "execute_result"
    }
   ],
   "source": [
    "Ingresos.head()"
   ]
  },
  {
   "cell_type": "code",
   "execution_count": 25,
   "metadata": {},
   "outputs": [
    {
     "data": {
      "text/plain": [
       "(209108, 16)"
      ]
     },
     "execution_count": 25,
     "metadata": {},
     "output_type": "execute_result"
    }
   ],
   "source": [
    "#Cantidad de filas y columnas.\n",
    "Ingresos.shape"
   ]
  },
  {
   "cell_type": "code",
   "execution_count": 5,
   "metadata": {},
   "outputs": [
    {
     "name": "stdout",
     "output_type": "stream",
     "text": [
      "<class 'pandas.core.frame.DataFrame'>\n",
      "RangeIndex: 209108 entries, 0 to 209107\n",
      "Data columns (total 16 columns):\n",
      "CICLO                  209108 non-null int64\n",
      "MES                    209108 non-null object\n",
      "CLAVE_DE_CONCEPTO      209108 non-null object\n",
      "NOMBRE                 209024 non-null object\n",
      "TEMA                   209108 non-null object\n",
      "SUBTEMA                209108 non-null object\n",
      "SECTOR                 209108 non-null object\n",
      "AMBITO                 209108 non-null object\n",
      "TIPO_DE_INFORMACION    209108 non-null object\n",
      "BASE_DE_REGISTRO       209108 non-null object\n",
      "UNIDAD_DE_MEDIDA       209108 non-null object\n",
      "PERIODO_INICIO         209108 non-null float64\n",
      "PERIODO_FINAL          209108 non-null float64\n",
      "FRECUENCIA             209108 non-null object\n",
      "DESC_DIFUSION          209108 non-null object\n",
      "MONTO                  179144 non-null float64\n",
      "dtypes: float64(3), int64(1), object(12)\n",
      "memory usage: 25.5+ MB\n"
     ]
    }
   ],
   "source": [
    "#Descripción en general de las variables\n",
    "Ingresos.info()"
   ]
  },
  {
   "cell_type": "code",
   "execution_count": 6,
   "metadata": {
    "scrolled": true
   },
   "outputs": [
    {
     "data": {
      "text/plain": [
       "CICLO                    int64\n",
       "MES                     object\n",
       "CLAVE_DE_CONCEPTO       object\n",
       "NOMBRE                  object\n",
       "TEMA                    object\n",
       "SUBTEMA                 object\n",
       "SECTOR                  object\n",
       "AMBITO                  object\n",
       "TIPO_DE_INFORMACION     object\n",
       "BASE_DE_REGISTRO        object\n",
       "UNIDAD_DE_MEDIDA        object\n",
       "PERIODO_INICIO         float64\n",
       "PERIODO_FINAL          float64\n",
       "FRECUENCIA              object\n",
       "DESC_DIFUSION           object\n",
       "MONTO                  float64\n",
       "dtype: object"
      ]
     },
     "execution_count": 6,
     "metadata": {},
     "output_type": "execute_result"
    }
   ],
   "source": [
    "#Con dtypes es facil ver el tipo de dato que se tienen en las variables\n",
    "Ingresos.dtypes"
   ]
  },
  {
   "cell_type": "code",
   "execution_count": 36,
   "metadata": {},
   "outputs": [],
   "source": [
    "#Se seleccionan las columnas que yo considero  más importates. En este caso Ciclo, Mes, Nombre, Tema, Sector\n",
    "# y Monto, son a mi parecer los más relevantes.\n",
    "#Si solo se deseara elegir una sola columna, se usaría Ingresos['Nombre de la columna']\n",
    "Ingresos_2=Ingresos[['CICLO','MES','NOMBRE','TEMA','SECTOR','MONTO']]"
   ]
  },
  {
   "cell_type": "code",
   "execution_count": 37,
   "metadata": {},
   "outputs": [
    {
     "data": {
      "text/html": [
       "<div>\n",
       "<table border=\"1\" class=\"dataframe\">\n",
       "  <thead>\n",
       "    <tr style=\"text-align: right;\">\n",
       "      <th></th>\n",
       "      <th>CICLO</th>\n",
       "      <th>MES</th>\n",
       "      <th>NOMBRE</th>\n",
       "      <th>TEMA</th>\n",
       "      <th>SECTOR</th>\n",
       "      <th>MONTO</th>\n",
       "    </tr>\n",
       "  </thead>\n",
       "  <tbody>\n",
       "    <tr>\n",
       "      <th>0</th>\n",
       "      <td>2011</td>\n",
       "      <td>Enero</td>\n",
       "      <td>Ingresos petroleros del Gobierno Federal</td>\n",
       "      <td>Estad�sticas de Finanzas P�blicas</td>\n",
       "      <td>Sector P�blico Federal Presupuestario</td>\n",
       "      <td>71395961.0</td>\n",
       "    </tr>\n",
       "    <tr>\n",
       "      <th>1</th>\n",
       "      <td>2011</td>\n",
       "      <td>Febrero</td>\n",
       "      <td>Ingresos petroleros del Gobierno Federal</td>\n",
       "      <td>Estad�sticas de Finanzas P�blicas</td>\n",
       "      <td>Sector P�blico Federal Presupuestario</td>\n",
       "      <td>54388829.0</td>\n",
       "    </tr>\n",
       "    <tr>\n",
       "      <th>2</th>\n",
       "      <td>2011</td>\n",
       "      <td>Marzo</td>\n",
       "      <td>Ingresos petroleros del Gobierno Federal</td>\n",
       "      <td>Estad�sticas de Finanzas P�blicas</td>\n",
       "      <td>Sector P�blico Federal Presupuestario</td>\n",
       "      <td>57029277.0</td>\n",
       "    </tr>\n",
       "    <tr>\n",
       "      <th>3</th>\n",
       "      <td>2011</td>\n",
       "      <td>Abril</td>\n",
       "      <td>Ingresos petroleros del Gobierno Federal</td>\n",
       "      <td>Estad�sticas de Finanzas P�blicas</td>\n",
       "      <td>Sector P�blico Federal Presupuestario</td>\n",
       "      <td>78204810.0</td>\n",
       "    </tr>\n",
       "    <tr>\n",
       "      <th>4</th>\n",
       "      <td>2011</td>\n",
       "      <td>Mayo</td>\n",
       "      <td>Ingresos petroleros del Gobierno Federal</td>\n",
       "      <td>Estad�sticas de Finanzas P�blicas</td>\n",
       "      <td>Sector P�blico Federal Presupuestario</td>\n",
       "      <td>76701991.0</td>\n",
       "    </tr>\n",
       "  </tbody>\n",
       "</table>\n",
       "</div>"
      ],
      "text/plain": [
       "   CICLO      MES                                    NOMBRE  \\\n",
       "0   2011    Enero  Ingresos petroleros del Gobierno Federal   \n",
       "1   2011  Febrero  Ingresos petroleros del Gobierno Federal   \n",
       "2   2011    Marzo  Ingresos petroleros del Gobierno Federal   \n",
       "3   2011    Abril  Ingresos petroleros del Gobierno Federal   \n",
       "4   2011     Mayo  Ingresos petroleros del Gobierno Federal   \n",
       "\n",
       "                                TEMA                                 SECTOR  \\\n",
       "0  Estad�sticas de Finanzas P�blicas  Sector P�blico Federal Presupuestario   \n",
       "1  Estad�sticas de Finanzas P�blicas  Sector P�blico Federal Presupuestario   \n",
       "2  Estad�sticas de Finanzas P�blicas  Sector P�blico Federal Presupuestario   \n",
       "3  Estad�sticas de Finanzas P�blicas  Sector P�blico Federal Presupuestario   \n",
       "4  Estad�sticas de Finanzas P�blicas  Sector P�blico Federal Presupuestario   \n",
       "\n",
       "        MONTO  \n",
       "0  71395961.0  \n",
       "1  54388829.0  \n",
       "2  57029277.0  \n",
       "3  78204810.0  \n",
       "4  76701991.0  "
      ]
     },
     "execution_count": 37,
     "metadata": {},
     "output_type": "execute_result"
    }
   ],
   "source": [
    "Ingresos_2.head()"
   ]
  },
  {
   "cell_type": "markdown",
   "metadata": {},
   "source": [
    "Con la muestra de datos que se define en Ingresos_2, la idea es procesarla y explorar los datos. Esto de manera sencilla implica conocer los tipos de variables, que ya se hizo con el comando *info()*. Pero lo que se puede buscar es hacer un análisis exploratorio sencillo. Esto tanto de manera gráfica, como de manera de estruturas de datos. Para revisar las posibles relaciones entre los montos y los años o alguna otra variable, se hace uso de **agrupaciones**. Con esto se hace cierto resumen entre las variables."
   ]
  },
  {
   "cell_type": "code",
   "execution_count": 8,
   "metadata": {},
   "outputs": [],
   "source": [
    "#Para responder ¿cuál es el año con mayor monto registrado? se hace la siguente agrupación.\n",
    "Grupo_1=Ingresos_2.groupby('CICLO')"
   ]
  },
  {
   "cell_type": "code",
   "execution_count": 9,
   "metadata": {},
   "outputs": [
    {
     "data": {
      "text/plain": [
       "CICLO\n",
       "2011    34532\n",
       "2012    35072\n",
       "2013    35132\n",
       "2014    34700\n",
       "2015    34836\n",
       "2016    34836\n",
       "dtype: int64"
      ]
     },
     "execution_count": 9,
     "metadata": {},
     "output_type": "execute_result"
    }
   ],
   "source": [
    "#La cantidad de registros para cada año\n",
    "Grupo_1.size()"
   ]
  },
  {
   "cell_type": "code",
   "execution_count": 10,
   "metadata": {},
   "outputs": [
    {
     "data": {
      "text/html": [
       "<div>\n",
       "<table border=\"1\" class=\"dataframe\">\n",
       "  <thead>\n",
       "    <tr style=\"text-align: right;\">\n",
       "      <th></th>\n",
       "      <th>MONTO</th>\n",
       "    </tr>\n",
       "    <tr>\n",
       "      <th>CICLO</th>\n",
       "      <th></th>\n",
       "    </tr>\n",
       "  </thead>\n",
       "  <tbody>\n",
       "    <tr>\n",
       "      <th>2011</th>\n",
       "      <td>3.780491e+11</td>\n",
       "    </tr>\n",
       "    <tr>\n",
       "      <th>2012</th>\n",
       "      <td>4.242216e+11</td>\n",
       "    </tr>\n",
       "    <tr>\n",
       "      <th>2013</th>\n",
       "      <td>4.393173e+11</td>\n",
       "    </tr>\n",
       "    <tr>\n",
       "      <th>2014</th>\n",
       "      <td>4.581749e+11</td>\n",
       "    </tr>\n",
       "    <tr>\n",
       "      <th>2015</th>\n",
       "      <td>4.703271e+11</td>\n",
       "    </tr>\n",
       "    <tr>\n",
       "      <th>2016</th>\n",
       "      <td>4.263203e+10</td>\n",
       "    </tr>\n",
       "  </tbody>\n",
       "</table>\n",
       "</div>"
      ],
      "text/plain": [
       "              MONTO\n",
       "CICLO              \n",
       "2011   3.780491e+11\n",
       "2012   4.242216e+11\n",
       "2013   4.393173e+11\n",
       "2014   4.581749e+11\n",
       "2015   4.703271e+11\n",
       "2016   4.263203e+10"
      ]
     },
     "execution_count": 10,
     "metadata": {},
     "output_type": "execute_result"
    }
   ],
   "source": [
    "Grupo_1.sum()"
   ]
  },
  {
   "cell_type": "markdown",
   "metadata": {},
   "source": [
    "La misma idea se puede hacer con respecto a los meses para conocer como se comportan los montos. Esto ayuda a responder la pregunta, *¿qué mes tiene la media más alta en montos?"
   ]
  },
  {
   "cell_type": "code",
   "execution_count": 11,
   "metadata": {
    "collapsed": true
   },
   "outputs": [],
   "source": [
    "Grupo_2=Ingresos_2.groupby('MES')"
   ]
  },
  {
   "cell_type": "code",
   "execution_count": 12,
   "metadata": {},
   "outputs": [
    {
     "data": {
      "text/plain": [
       "MES\n",
       "Abril         17511\n",
       "Agosto        17383\n",
       "Diciembre     17383\n",
       "Enero         17511\n",
       "Febrero       17511\n",
       "Julio         17383\n",
       "Junio         17383\n",
       "Marzo         17511\n",
       "Mayo          17383\n",
       "Noviembre     17383\n",
       "Octubre       17383\n",
       "Septiembre    17383\n",
       "dtype: int64"
      ]
     },
     "execution_count": 12,
     "metadata": {},
     "output_type": "execute_result"
    }
   ],
   "source": [
    "#La cantidad de registros en cada mes\n",
    "Grupo_2.size()"
   ]
  },
  {
   "cell_type": "code",
   "execution_count": 13,
   "metadata": {},
   "outputs": [
    {
     "data": {
      "text/html": [
       "<div>\n",
       "<table border=\"1\" class=\"dataframe\">\n",
       "  <thead>\n",
       "    <tr style=\"text-align: right;\">\n",
       "      <th></th>\n",
       "      <th>CICLO</th>\n",
       "      <th>MONTO</th>\n",
       "    </tr>\n",
       "    <tr>\n",
       "      <th>MES</th>\n",
       "      <th></th>\n",
       "      <th></th>\n",
       "    </tr>\n",
       "  </thead>\n",
       "  <tbody>\n",
       "    <tr>\n",
       "      <th>Abril</th>\n",
       "      <td>2013.496031</td>\n",
       "      <td>1.205833e+07</td>\n",
       "    </tr>\n",
       "    <tr>\n",
       "      <th>Agosto</th>\n",
       "      <td>2013.503365</td>\n",
       "      <td>1.082641e+07</td>\n",
       "    </tr>\n",
       "    <tr>\n",
       "      <th>Diciembre</th>\n",
       "      <td>2013.503365</td>\n",
       "      <td>1.550864e+07</td>\n",
       "    </tr>\n",
       "    <tr>\n",
       "      <th>Enero</th>\n",
       "      <td>2013.496031</td>\n",
       "      <td>1.421048e+07</td>\n",
       "    </tr>\n",
       "    <tr>\n",
       "      <th>Febrero</th>\n",
       "      <td>2013.496031</td>\n",
       "      <td>1.108835e+07</td>\n",
       "    </tr>\n",
       "    <tr>\n",
       "      <th>Julio</th>\n",
       "      <td>2013.503365</td>\n",
       "      <td>1.227927e+07</td>\n",
       "    </tr>\n",
       "    <tr>\n",
       "      <th>Junio</th>\n",
       "      <td>2013.503365</td>\n",
       "      <td>1.269322e+07</td>\n",
       "    </tr>\n",
       "    <tr>\n",
       "      <th>Marzo</th>\n",
       "      <td>2013.496031</td>\n",
       "      <td>1.222004e+07</td>\n",
       "    </tr>\n",
       "    <tr>\n",
       "      <th>Mayo</th>\n",
       "      <td>2013.503365</td>\n",
       "      <td>1.099283e+07</td>\n",
       "    </tr>\n",
       "    <tr>\n",
       "      <th>Noviembre</th>\n",
       "      <td>2013.503365</td>\n",
       "      <td>1.265846e+07</td>\n",
       "    </tr>\n",
       "    <tr>\n",
       "      <th>Octubre</th>\n",
       "      <td>2013.503365</td>\n",
       "      <td>1.164529e+07</td>\n",
       "    </tr>\n",
       "    <tr>\n",
       "      <th>Septiembre</th>\n",
       "      <td>2013.503365</td>\n",
       "      <td>1.169692e+07</td>\n",
       "    </tr>\n",
       "  </tbody>\n",
       "</table>\n",
       "</div>"
      ],
      "text/plain": [
       "                  CICLO         MONTO\n",
       "MES                                  \n",
       "Abril       2013.496031  1.205833e+07\n",
       "Agosto      2013.503365  1.082641e+07\n",
       "Diciembre   2013.503365  1.550864e+07\n",
       "Enero       2013.496031  1.421048e+07\n",
       "Febrero     2013.496031  1.108835e+07\n",
       "Julio       2013.503365  1.227927e+07\n",
       "Junio       2013.503365  1.269322e+07\n",
       "Marzo       2013.496031  1.222004e+07\n",
       "Mayo        2013.503365  1.099283e+07\n",
       "Noviembre   2013.503365  1.265846e+07\n",
       "Octubre     2013.503365  1.164529e+07\n",
       "Septiembre  2013.503365  1.169692e+07"
      ]
     },
     "execution_count": 13,
     "metadata": {},
     "output_type": "execute_result"
    }
   ],
   "source": [
    "Grupo_2.mean()"
   ]
  },
  {
   "cell_type": "markdown",
   "metadata": {},
   "source": [
    "Lo que se observa del grupo anterior es que al ver la media, muestra los valores para MONTO y CICLO. La cuestion es que CICLO es tomada como una variable numérica cuando se cargan los datos y al hacer la agrupación respecto a los meses muestra la media de las variables numéricas. Para que solo se muestren los valores de la suma de los montos, se hace del siguiente modo:"
   ]
  },
  {
   "cell_type": "code",
   "execution_count": 14,
   "metadata": {},
   "outputs": [
    {
     "data": {
      "text/plain": [
       "MES\n",
       "Abril         1.205833e+07\n",
       "Agosto        1.082641e+07\n",
       "Diciembre     1.550864e+07\n",
       "Enero         1.421048e+07\n",
       "Febrero       1.108835e+07\n",
       "Julio         1.227927e+07\n",
       "Junio         1.269322e+07\n",
       "Marzo         1.222004e+07\n",
       "Mayo          1.099283e+07\n",
       "Noviembre     1.265846e+07\n",
       "Octubre       1.164529e+07\n",
       "Septiembre    1.169692e+07\n",
       "Name: MONTO, dtype: float64"
      ]
     },
     "execution_count": 14,
     "metadata": {},
     "output_type": "execute_result"
    }
   ],
   "source": [
    "Grupo_2.mean()['MONTO']"
   ]
  },
  {
   "cell_type": "code",
   "execution_count": 15,
   "metadata": {},
   "outputs": [
    {
     "data": {
      "text/plain": [
       "MES\n",
       "Diciembre    1.550864e+07\n",
       "Name: MONTO, dtype: float64"
      ]
     },
     "execution_count": 15,
     "metadata": {},
     "output_type": "execute_result"
    }
   ],
   "source": [
    "#Si uno desea saber cual es el mes con la media de montos mayor, basta elegir el máximo de los valores de las medias al\n",
    "#ordenarlas. En este caso corresponde al mes de Diciembre. \n",
    "Grupo_2['MONTO'].mean().sort_values()[-1:]"
   ]
  },
  {
   "cell_type": "code",
   "execution_count": 16,
   "metadata": {},
   "outputs": [],
   "source": [
    "#Agrupamos la información por años y mes para conocer como se comportan los montos \n",
    "Grupo_3=Ingresos_2.groupby(['CICLO','MES'])"
   ]
  },
  {
   "cell_type": "code",
   "execution_count": 17,
   "metadata": {},
   "outputs": [
    {
     "data": {
      "text/html": [
       "<div>\n",
       "<table border=\"1\" class=\"dataframe\">\n",
       "  <thead>\n",
       "    <tr style=\"text-align: right;\">\n",
       "      <th></th>\n",
       "      <th></th>\n",
       "      <th>MONTO</th>\n",
       "    </tr>\n",
       "    <tr>\n",
       "      <th>CICLO</th>\n",
       "      <th>MES</th>\n",
       "      <th></th>\n",
       "    </tr>\n",
       "  </thead>\n",
       "  <tbody>\n",
       "    <tr>\n",
       "      <th rowspan=\"12\" valign=\"top\">2011</th>\n",
       "      <th>Abril</th>\n",
       "      <td>3.109748e+10</td>\n",
       "    </tr>\n",
       "    <tr>\n",
       "      <th>Agosto</th>\n",
       "      <td>2.865291e+10</td>\n",
       "    </tr>\n",
       "    <tr>\n",
       "      <th>Diciembre</th>\n",
       "      <td>4.339038e+10</td>\n",
       "    </tr>\n",
       "    <tr>\n",
       "      <th>Enero</th>\n",
       "      <td>3.394312e+10</td>\n",
       "    </tr>\n",
       "    <tr>\n",
       "      <th>Febrero</th>\n",
       "      <td>2.747139e+10</td>\n",
       "    </tr>\n",
       "    <tr>\n",
       "      <th>Julio</th>\n",
       "      <td>2.988121e+10</td>\n",
       "    </tr>\n",
       "    <tr>\n",
       "      <th>Junio</th>\n",
       "      <td>3.179959e+10</td>\n",
       "    </tr>\n",
       "    <tr>\n",
       "      <th>Marzo</th>\n",
       "      <td>3.074575e+10</td>\n",
       "    </tr>\n",
       "    <tr>\n",
       "      <th>Mayo</th>\n",
       "      <td>2.748545e+10</td>\n",
       "    </tr>\n",
       "    <tr>\n",
       "      <th>Noviembre</th>\n",
       "      <td>3.389238e+10</td>\n",
       "    </tr>\n",
       "    <tr>\n",
       "      <th>Octubre</th>\n",
       "      <td>2.888867e+10</td>\n",
       "    </tr>\n",
       "    <tr>\n",
       "      <th>Septiembre</th>\n",
       "      <td>3.080078e+10</td>\n",
       "    </tr>\n",
       "    <tr>\n",
       "      <th rowspan=\"12\" valign=\"top\">2012</th>\n",
       "      <th>Abril</th>\n",
       "      <td>3.525511e+10</td>\n",
       "    </tr>\n",
       "    <tr>\n",
       "      <th>Agosto</th>\n",
       "      <td>3.074125e+10</td>\n",
       "    </tr>\n",
       "    <tr>\n",
       "      <th>Diciembre</th>\n",
       "      <td>3.896561e+10</td>\n",
       "    </tr>\n",
       "    <tr>\n",
       "      <th>Enero</th>\n",
       "      <td>4.130349e+10</td>\n",
       "    </tr>\n",
       "    <tr>\n",
       "      <th>Febrero</th>\n",
       "      <td>3.419770e+10</td>\n",
       "    </tr>\n",
       "    <tr>\n",
       "      <th>Julio</th>\n",
       "      <td>3.589384e+10</td>\n",
       "    </tr>\n",
       "    <tr>\n",
       "      <th>Junio</th>\n",
       "      <td>3.663400e+10</td>\n",
       "    </tr>\n",
       "    <tr>\n",
       "      <th>Marzo</th>\n",
       "      <td>3.726697e+10</td>\n",
       "    </tr>\n",
       "    <tr>\n",
       "      <th>Mayo</th>\n",
       "      <td>3.163785e+10</td>\n",
       "    </tr>\n",
       "    <tr>\n",
       "      <th>Noviembre</th>\n",
       "      <td>3.746925e+10</td>\n",
       "    </tr>\n",
       "    <tr>\n",
       "      <th>Octubre</th>\n",
       "      <td>3.345142e+10</td>\n",
       "    </tr>\n",
       "    <tr>\n",
       "      <th>Septiembre</th>\n",
       "      <td>3.140516e+10</td>\n",
       "    </tr>\n",
       "    <tr>\n",
       "      <th rowspan=\"6\" valign=\"top\">2013</th>\n",
       "      <th>Abril</th>\n",
       "      <td>3.890359e+10</td>\n",
       "    </tr>\n",
       "    <tr>\n",
       "      <th>Agosto</th>\n",
       "      <td>3.072361e+10</td>\n",
       "    </tr>\n",
       "    <tr>\n",
       "      <th>Diciembre</th>\n",
       "      <td>4.927575e+10</td>\n",
       "    </tr>\n",
       "    <tr>\n",
       "      <th>Enero</th>\n",
       "      <td>3.962627e+10</td>\n",
       "    </tr>\n",
       "    <tr>\n",
       "      <th>Febrero</th>\n",
       "      <td>3.413998e+10</td>\n",
       "    </tr>\n",
       "    <tr>\n",
       "      <th>Julio</th>\n",
       "      <td>3.426500e+10</td>\n",
       "    </tr>\n",
       "    <tr>\n",
       "      <th>...</th>\n",
       "      <th>...</th>\n",
       "      <td>...</td>\n",
       "    </tr>\n",
       "    <tr>\n",
       "      <th rowspan=\"6\" valign=\"top\">2014</th>\n",
       "      <th>Junio</th>\n",
       "      <td>3.898481e+10</td>\n",
       "    </tr>\n",
       "    <tr>\n",
       "      <th>Marzo</th>\n",
       "      <td>3.805636e+10</td>\n",
       "    </tr>\n",
       "    <tr>\n",
       "      <th>Mayo</th>\n",
       "      <td>3.418820e+10</td>\n",
       "    </tr>\n",
       "    <tr>\n",
       "      <th>Noviembre</th>\n",
       "      <td>3.812035e+10</td>\n",
       "    </tr>\n",
       "    <tr>\n",
       "      <th>Octubre</th>\n",
       "      <td>3.783762e+10</td>\n",
       "    </tr>\n",
       "    <tr>\n",
       "      <th>Septiembre</th>\n",
       "      <td>3.699763e+10</td>\n",
       "    </tr>\n",
       "    <tr>\n",
       "      <th rowspan=\"12\" valign=\"top\">2015</th>\n",
       "      <th>Abril</th>\n",
       "      <td>3.621140e+10</td>\n",
       "    </tr>\n",
       "    <tr>\n",
       "      <th>Agosto</th>\n",
       "      <td>3.489823e+10</td>\n",
       "    </tr>\n",
       "    <tr>\n",
       "      <th>Diciembre</th>\n",
       "      <td>5.274221e+10</td>\n",
       "    </tr>\n",
       "    <tr>\n",
       "      <th>Enero</th>\n",
       "      <td>4.635147e+10</td>\n",
       "    </tr>\n",
       "    <tr>\n",
       "      <th>Febrero</th>\n",
       "      <td>3.264979e+10</td>\n",
       "    </tr>\n",
       "    <tr>\n",
       "      <th>Julio</th>\n",
       "      <td>3.962429e+10</td>\n",
       "    </tr>\n",
       "    <tr>\n",
       "      <th>Junio</th>\n",
       "      <td>4.026281e+10</td>\n",
       "    </tr>\n",
       "    <tr>\n",
       "      <th>Marzo</th>\n",
       "      <td>3.989799e+10</td>\n",
       "    </tr>\n",
       "    <tr>\n",
       "      <th>Mayo</th>\n",
       "      <td>3.557104e+10</td>\n",
       "    </tr>\n",
       "    <tr>\n",
       "      <th>Noviembre</th>\n",
       "      <td>4.112573e+10</td>\n",
       "    </tr>\n",
       "    <tr>\n",
       "      <th>Octubre</th>\n",
       "      <td>3.561610e+10</td>\n",
       "    </tr>\n",
       "    <tr>\n",
       "      <th>Septiembre</th>\n",
       "      <td>3.537609e+10</td>\n",
       "    </tr>\n",
       "    <tr>\n",
       "      <th rowspan=\"12\" valign=\"top\">2016</th>\n",
       "      <th>Abril</th>\n",
       "      <td>0.000000e+00</td>\n",
       "    </tr>\n",
       "    <tr>\n",
       "      <th>Agosto</th>\n",
       "      <td>0.000000e+00</td>\n",
       "    </tr>\n",
       "    <tr>\n",
       "      <th>Diciembre</th>\n",
       "      <td>0.000000e+00</td>\n",
       "    </tr>\n",
       "    <tr>\n",
       "      <th>Enero</th>\n",
       "      <td>4.263203e+10</td>\n",
       "    </tr>\n",
       "    <tr>\n",
       "      <th>Febrero</th>\n",
       "      <td>0.000000e+00</td>\n",
       "    </tr>\n",
       "    <tr>\n",
       "      <th>Julio</th>\n",
       "      <td>0.000000e+00</td>\n",
       "    </tr>\n",
       "    <tr>\n",
       "      <th>Junio</th>\n",
       "      <td>0.000000e+00</td>\n",
       "    </tr>\n",
       "    <tr>\n",
       "      <th>Marzo</th>\n",
       "      <td>0.000000e+00</td>\n",
       "    </tr>\n",
       "    <tr>\n",
       "      <th>Mayo</th>\n",
       "      <td>0.000000e+00</td>\n",
       "    </tr>\n",
       "    <tr>\n",
       "      <th>Noviembre</th>\n",
       "      <td>0.000000e+00</td>\n",
       "    </tr>\n",
       "    <tr>\n",
       "      <th>Octubre</th>\n",
       "      <td>0.000000e+00</td>\n",
       "    </tr>\n",
       "    <tr>\n",
       "      <th>Septiembre</th>\n",
       "      <td>0.000000e+00</td>\n",
       "    </tr>\n",
       "  </tbody>\n",
       "</table>\n",
       "<p>72 rows × 1 columns</p>\n",
       "</div>"
      ],
      "text/plain": [
       "                         MONTO\n",
       "CICLO MES                     \n",
       "2011  Abril       3.109748e+10\n",
       "      Agosto      2.865291e+10\n",
       "      Diciembre   4.339038e+10\n",
       "      Enero       3.394312e+10\n",
       "      Febrero     2.747139e+10\n",
       "      Julio       2.988121e+10\n",
       "      Junio       3.179959e+10\n",
       "      Marzo       3.074575e+10\n",
       "      Mayo        2.748545e+10\n",
       "      Noviembre   3.389238e+10\n",
       "      Octubre     2.888867e+10\n",
       "      Septiembre  3.080078e+10\n",
       "2012  Abril       3.525511e+10\n",
       "      Agosto      3.074125e+10\n",
       "      Diciembre   3.896561e+10\n",
       "      Enero       4.130349e+10\n",
       "      Febrero     3.419770e+10\n",
       "      Julio       3.589384e+10\n",
       "      Junio       3.663400e+10\n",
       "      Marzo       3.726697e+10\n",
       "      Mayo        3.163785e+10\n",
       "      Noviembre   3.746925e+10\n",
       "      Octubre     3.345142e+10\n",
       "      Septiembre  3.140516e+10\n",
       "2013  Abril       3.890359e+10\n",
       "      Agosto      3.072361e+10\n",
       "      Diciembre   4.927575e+10\n",
       "      Enero       3.962627e+10\n",
       "      Febrero     3.413998e+10\n",
       "      Julio       3.426500e+10\n",
       "...                        ...\n",
       "2014  Junio       3.898481e+10\n",
       "      Marzo       3.805636e+10\n",
       "      Mayo        3.418820e+10\n",
       "      Noviembre   3.812035e+10\n",
       "      Octubre     3.783762e+10\n",
       "      Septiembre  3.699763e+10\n",
       "2015  Abril       3.621140e+10\n",
       "      Agosto      3.489823e+10\n",
       "      Diciembre   5.274221e+10\n",
       "      Enero       4.635147e+10\n",
       "      Febrero     3.264979e+10\n",
       "      Julio       3.962429e+10\n",
       "      Junio       4.026281e+10\n",
       "      Marzo       3.989799e+10\n",
       "      Mayo        3.557104e+10\n",
       "      Noviembre   4.112573e+10\n",
       "      Octubre     3.561610e+10\n",
       "      Septiembre  3.537609e+10\n",
       "2016  Abril       0.000000e+00\n",
       "      Agosto      0.000000e+00\n",
       "      Diciembre   0.000000e+00\n",
       "      Enero       4.263203e+10\n",
       "      Febrero     0.000000e+00\n",
       "      Julio       0.000000e+00\n",
       "      Junio       0.000000e+00\n",
       "      Marzo       0.000000e+00\n",
       "      Mayo        0.000000e+00\n",
       "      Noviembre   0.000000e+00\n",
       "      Octubre     0.000000e+00\n",
       "      Septiembre  0.000000e+00\n",
       "\n",
       "[72 rows x 1 columns]"
      ]
     },
     "execution_count": 17,
     "metadata": {},
     "output_type": "execute_result"
    }
   ],
   "source": [
    "#Vemos el valor de la suma de los montos\n",
    "Grupo_3.sum()"
   ]
  },
  {
   "cell_type": "markdown",
   "metadata": {},
   "source": [
    "Para elegir los 5 registros con los montos más alta, hacemos la siguiente selección al Grupo_3"
   ]
  },
  {
   "cell_type": "code",
   "execution_count": 18,
   "metadata": {},
   "outputs": [
    {
     "data": {
      "text/html": [
       "<div>\n",
       "<table border=\"1\" class=\"dataframe\">\n",
       "  <thead>\n",
       "    <tr style=\"text-align: right;\">\n",
       "      <th></th>\n",
       "      <th></th>\n",
       "      <th>MONTO</th>\n",
       "    </tr>\n",
       "    <tr>\n",
       "      <th>CICLO</th>\n",
       "      <th>MES</th>\n",
       "      <th></th>\n",
       "    </tr>\n",
       "  </thead>\n",
       "  <tbody>\n",
       "    <tr>\n",
       "      <th>2011</th>\n",
       "      <th>Diciembre</th>\n",
       "      <td>4.339038e+10</td>\n",
       "    </tr>\n",
       "    <tr>\n",
       "      <th>2014</th>\n",
       "      <th>Enero</th>\n",
       "      <td>4.492645e+10</td>\n",
       "    </tr>\n",
       "    <tr>\n",
       "      <th>2015</th>\n",
       "      <th>Enero</th>\n",
       "      <td>4.635147e+10</td>\n",
       "    </tr>\n",
       "    <tr>\n",
       "      <th>2013</th>\n",
       "      <th>Diciembre</th>\n",
       "      <td>4.927575e+10</td>\n",
       "    </tr>\n",
       "    <tr>\n",
       "      <th>2015</th>\n",
       "      <th>Diciembre</th>\n",
       "      <td>5.274221e+10</td>\n",
       "    </tr>\n",
       "  </tbody>\n",
       "</table>\n",
       "</div>"
      ],
      "text/plain": [
       "                        MONTO\n",
       "CICLO MES                    \n",
       "2011  Diciembre  4.339038e+10\n",
       "2014  Enero      4.492645e+10\n",
       "2015  Enero      4.635147e+10\n",
       "2013  Diciembre  4.927575e+10\n",
       "2015  Diciembre  5.274221e+10"
      ]
     },
     "execution_count": 18,
     "metadata": {},
     "output_type": "execute_result"
    }
   ],
   "source": [
    "Grupo_3.sum().sort_values(by='MONTO')[-5:]"
   ]
  },
  {
   "cell_type": "code",
   "execution_count": 38,
   "metadata": {},
   "outputs": [
    {
     "data": {
      "text/html": [
       "<div>\n",
       "<table border=\"1\" class=\"dataframe\">\n",
       "  <thead>\n",
       "    <tr style=\"text-align: right;\">\n",
       "      <th></th>\n",
       "      <th></th>\n",
       "      <th>MONTO</th>\n",
       "    </tr>\n",
       "    <tr>\n",
       "      <th>CICLO</th>\n",
       "      <th>SECTOR</th>\n",
       "      <th></th>\n",
       "    </tr>\n",
       "  </thead>\n",
       "  <tbody>\n",
       "    <tr>\n",
       "      <th>2011</th>\n",
       "      <th>Sector Empresas P�blicas no Financieras</th>\n",
       "      <td>4.722913e+10</td>\n",
       "    </tr>\n",
       "    <tr>\n",
       "      <th>2012</th>\n",
       "      <th>Sector Empresas P�blicas no Financieras</th>\n",
       "      <td>5.019576e+10</td>\n",
       "    </tr>\n",
       "    <tr>\n",
       "      <th>2013</th>\n",
       "      <th>Sector Empresas P�blicas no Financieras</th>\n",
       "      <td>5.140025e+10</td>\n",
       "    </tr>\n",
       "    <tr>\n",
       "      <th>2014</th>\n",
       "      <th>Sector Empresas P�blicas no Financieras</th>\n",
       "      <td>5.362222e+10</td>\n",
       "    </tr>\n",
       "    <tr>\n",
       "      <th>2015</th>\n",
       "      <th>Sector Empresas P�blicas no Financieras</th>\n",
       "      <td>5.406087e+10</td>\n",
       "    </tr>\n",
       "    <tr>\n",
       "      <th>2011</th>\n",
       "      <th>Gobierno Federal Presupuestario</th>\n",
       "      <td>5.994559e+10</td>\n",
       "    </tr>\n",
       "    <tr>\n",
       "      <th>2014</th>\n",
       "      <th>Gobierno Federal Presupuestario</th>\n",
       "      <td>7.525293e+10</td>\n",
       "    </tr>\n",
       "    <tr>\n",
       "      <th>2015</th>\n",
       "      <th>Gobierno Federal Presupuestario</th>\n",
       "      <td>7.563693e+10</td>\n",
       "    </tr>\n",
       "    <tr>\n",
       "      <th>2013</th>\n",
       "      <th>Gobierno Federal Presupuestario</th>\n",
       "      <td>7.751201e+10</td>\n",
       "    </tr>\n",
       "    <tr>\n",
       "      <th>2012</th>\n",
       "      <th>Gobierno Federal Presupuestario</th>\n",
       "      <td>7.990447e+10</td>\n",
       "    </tr>\n",
       "    <tr>\n",
       "      <th>2011</th>\n",
       "      <th>Sector P�blico Federal Presupuestario</th>\n",
       "      <td>1.431428e+11</td>\n",
       "    </tr>\n",
       "    <tr>\n",
       "      <th>2012</th>\n",
       "      <th>Sector P�blico Federal Presupuestario</th>\n",
       "      <td>1.545113e+11</td>\n",
       "    </tr>\n",
       "    <tr>\n",
       "      <th>2013</th>\n",
       "      <th>Sector P�blico Federal Presupuestario</th>\n",
       "      <td>1.661146e+11</td>\n",
       "    </tr>\n",
       "    <tr>\n",
       "      <th>2014</th>\n",
       "      <th>Sector P�blico Federal Presupuestario</th>\n",
       "      <td>1.751456e+11</td>\n",
       "    </tr>\n",
       "    <tr>\n",
       "      <th>2015</th>\n",
       "      <th>Sector P�blico Federal Presupuestario</th>\n",
       "      <td>1.773238e+11</td>\n",
       "    </tr>\n",
       "  </tbody>\n",
       "</table>\n",
       "</div>"
      ],
      "text/plain": [
       "                                                      MONTO\n",
       "CICLO SECTOR                                               \n",
       "2011  Sector Empresas P�blicas no Financieras  4.722913e+10\n",
       "2012  Sector Empresas P�blicas no Financieras  5.019576e+10\n",
       "2013  Sector Empresas P�blicas no Financieras  5.140025e+10\n",
       "2014  Sector Empresas P�blicas no Financieras  5.362222e+10\n",
       "2015  Sector Empresas P�blicas no Financieras  5.406087e+10\n",
       "2011  Gobierno Federal Presupuestario          5.994559e+10\n",
       "2014  Gobierno Federal Presupuestario          7.525293e+10\n",
       "2015  Gobierno Federal Presupuestario          7.563693e+10\n",
       "2013  Gobierno Federal Presupuestario          7.751201e+10\n",
       "2012  Gobierno Federal Presupuestario          7.990447e+10\n",
       "2011  Sector P�blico Federal Presupuestario    1.431428e+11\n",
       "2012  Sector P�blico Federal Presupuestario    1.545113e+11\n",
       "2013  Sector P�blico Federal Presupuestario    1.661146e+11\n",
       "2014  Sector P�blico Federal Presupuestario    1.751456e+11\n",
       "2015  Sector P�blico Federal Presupuestario    1.773238e+11"
      ]
     },
     "execution_count": 38,
     "metadata": {},
     "output_type": "execute_result"
    }
   ],
   "source": [
    "#Se puede revisar como se comporta por CICLO y SECTOR, elegimos los 15 registros con valor más \n",
    "# alto en la suma de su MONTO\n",
    "Ingresos_2.groupby(['CICLO','SECTOR']).sum().sort_values(by='MONTO')[-15:]"
   ]
  },
  {
   "cell_type": "code",
   "execution_count": 20,
   "metadata": {},
   "outputs": [
    {
     "data": {
      "text/plain": [
       "<matplotlib.axes._subplots.AxesSubplot at 0x7fd478f536d0>"
      ]
     },
     "execution_count": 20,
     "metadata": {},
     "output_type": "execute_result"
    },
    {
     "data": {
      "image/png": "[encoded data removed]",
      "text/plain": [
       "<matplotlib.figure.Figure at 0x7fd4a8057a50>"
      ]
     },
     "metadata": {},
     "output_type": "display_data"
    }
   ],
   "source": [
    "#Graficamos el resultado anterior.\n",
    "Ingresos_2.groupby(['CICLO','SECTOR']).sum().sort_values(by='MONTO')[-15:].plot(kind='bar')"
   ]
  },
  {
   "cell_type": "markdown",
   "metadata": {},
   "source": [
    "Los anteriores ejemplos, muestran como resolver preguntas sencillas donde se involugra algun variable categórica y su relación con otra numérica. Se pueden hacer agrupaciones más sofisticadas, donde se buscar ver la relación de más de 2 variables; ejemplo de Ciclo, Mes y Sector. "
   ]
  },
  {
   "cell_type": "markdown",
   "metadata": {},
   "source": [
    "Un poco de exploración gráfica\n",
    "------------------------------\n",
    "\n",
    "Lo que se puede hacer con los ejemplos anteriores; las agrupaciones, es mostrar ejemplos de como explorar gráficamente las muestras de datos procesadas y los datos originales. La única finalidad de las siguientes gráficas es explorar el comportamiento de los datos, sin tener una pregunta a investigar de manera inicial."
   ]
  },
  {
   "cell_type": "code",
   "execution_count": 23,
   "metadata": {},
   "outputs": [
    {
     "data": {
      "text/html": [
       "<div>\n",
       "<table border=\"1\" class=\"dataframe\">\n",
       "  <thead>\n",
       "    <tr style=\"text-align: right;\">\n",
       "      <th></th>\n",
       "      <th>size</th>\n",
       "      <th>sum</th>\n",
       "      <th>max</th>\n",
       "      <th>min</th>\n",
       "    </tr>\n",
       "    <tr>\n",
       "      <th>CICLO</th>\n",
       "      <th></th>\n",
       "      <th></th>\n",
       "      <th></th>\n",
       "      <th></th>\n",
       "    </tr>\n",
       "  </thead>\n",
       "  <tbody>\n",
       "    <tr>\n",
       "      <th>2011</th>\n",
       "      <td>34532.0</td>\n",
       "      <td>3.780491e+11</td>\n",
       "      <td>9.642056e+08</td>\n",
       "      <td>-341516616.0</td>\n",
       "    </tr>\n",
       "    <tr>\n",
       "      <th>2012</th>\n",
       "      <td>35072.0</td>\n",
       "      <td>4.242216e+11</td>\n",
       "      <td>9.177154e+08</td>\n",
       "      <td>-260758053.0</td>\n",
       "    </tr>\n",
       "    <tr>\n",
       "      <th>2013</th>\n",
       "      <td>35132.0</td>\n",
       "      <td>4.393173e+11</td>\n",
       "      <td>1.108259e+09</td>\n",
       "      <td>-286257468.0</td>\n",
       "    </tr>\n",
       "    <tr>\n",
       "      <th>2014</th>\n",
       "      <td>34700.0</td>\n",
       "      <td>4.581749e+11</td>\n",
       "      <td>9.641380e+08</td>\n",
       "      <td>-337658441.0</td>\n",
       "    </tr>\n",
       "    <tr>\n",
       "      <th>2015</th>\n",
       "      <td>34836.0</td>\n",
       "      <td>4.703271e+11</td>\n",
       "      <td>6.798122e+08</td>\n",
       "      <td>-188056208.5</td>\n",
       "    </tr>\n",
       "    <tr>\n",
       "      <th>2016</th>\n",
       "      <td>34836.0</td>\n",
       "      <td>4.263203e+10</td>\n",
       "      <td>5.136199e+08</td>\n",
       "      <td>-99285802.0</td>\n",
       "    </tr>\n",
       "  </tbody>\n",
       "</table>\n",
       "</div>"
      ],
      "text/plain": [
       "          size           sum           max          min\n",
       "CICLO                                                  \n",
       "2011   34532.0  3.780491e+11  9.642056e+08 -341516616.0\n",
       "2012   35072.0  4.242216e+11  9.177154e+08 -260758053.0\n",
       "2013   35132.0  4.393173e+11  1.108259e+09 -286257468.0\n",
       "2014   34700.0  4.581749e+11  9.641380e+08 -337658441.0\n",
       "2015   34836.0  4.703271e+11  6.798122e+08 -188056208.5\n",
       "2016   34836.0  4.263203e+10  5.136199e+08  -99285802.0"
      ]
     },
     "execution_count": 23,
     "metadata": {},
     "output_type": "execute_result"
    }
   ],
   "source": [
    "Grupo_1['MONTO'].agg([np.size,sum,max,min])\n"
   ]
  },
  {
   "cell_type": "code",
   "execution_count": 25,
   "metadata": {},
   "outputs": [
    {
     "data": {
      "text/plain": [
       "<matplotlib.axes._subplots.AxesSubplot at 0x7f099f884410>"
      ]
     },
     "execution_count": 25,
     "metadata": {},
     "output_type": "execute_result"
    },
    {
     "data": {
      "image/png": "[encoded data removed]",
      "text/plain": [
       "<matplotlib.figure.Figure at 0x7f099fa0f1d0>"
      ]
     },
     "metadata": {},
     "output_type": "display_data"
    }
   ],
   "source": [
    "#El comportamiento entre máximo y mínimos\n",
    "Grupo_1['MONTO'].agg([max,min]).plot(kind='bar')"
   ]
  },
  {
   "cell_type": "code",
   "execution_count": 29,
   "metadata": {},
   "outputs": [
    {
     "data": {
      "text/html": [
       "<div>\n",
       "<table border=\"1\" class=\"dataframe\">\n",
       "  <thead>\n",
       "    <tr style=\"text-align: right;\">\n",
       "      <th></th>\n",
       "      <th>max</th>\n",
       "      <th>min</th>\n",
       "      <th>mean</th>\n",
       "    </tr>\n",
       "    <tr>\n",
       "      <th>MES</th>\n",
       "      <th></th>\n",
       "      <th></th>\n",
       "      <th></th>\n",
       "    </tr>\n",
       "  </thead>\n",
       "  <tbody>\n",
       "    <tr>\n",
       "      <th>Abril</th>\n",
       "      <td>1.108259e+09</td>\n",
       "      <td>-2.300844e+08</td>\n",
       "      <td>1.205833e+07</td>\n",
       "    </tr>\n",
       "    <tr>\n",
       "      <th>Agosto</th>\n",
       "      <td>5.026589e+08</td>\n",
       "      <td>-8.345890e+07</td>\n",
       "      <td>1.082641e+07</td>\n",
       "    </tr>\n",
       "    <tr>\n",
       "      <th>Diciembre</th>\n",
       "      <td>6.864657e+08</td>\n",
       "      <td>-3.415166e+08</td>\n",
       "      <td>1.550864e+07</td>\n",
       "    </tr>\n",
       "    <tr>\n",
       "      <th>Enero</th>\n",
       "      <td>9.641380e+08</td>\n",
       "      <td>-1.205653e+08</td>\n",
       "      <td>1.421048e+07</td>\n",
       "    </tr>\n",
       "    <tr>\n",
       "      <th>Febrero</th>\n",
       "      <td>9.480823e+08</td>\n",
       "      <td>-1.968601e+08</td>\n",
       "      <td>1.108835e+07</td>\n",
       "    </tr>\n",
       "    <tr>\n",
       "      <th>Julio</th>\n",
       "      <td>5.650079e+08</td>\n",
       "      <td>-1.261375e+08</td>\n",
       "      <td>1.227927e+07</td>\n",
       "    </tr>\n",
       "    <tr>\n",
       "      <th>Junio</th>\n",
       "      <td>6.197584e+08</td>\n",
       "      <td>-2.472895e+08</td>\n",
       "      <td>1.269322e+07</td>\n",
       "    </tr>\n",
       "    <tr>\n",
       "      <th>Marzo</th>\n",
       "      <td>9.436177e+08</td>\n",
       "      <td>-1.655531e+08</td>\n",
       "      <td>1.222004e+07</td>\n",
       "    </tr>\n",
       "    <tr>\n",
       "      <th>Mayo</th>\n",
       "      <td>4.968499e+08</td>\n",
       "      <td>-8.317165e+07</td>\n",
       "      <td>1.099283e+07</td>\n",
       "    </tr>\n",
       "    <tr>\n",
       "      <th>Noviembre</th>\n",
       "      <td>5.312716e+08</td>\n",
       "      <td>-1.554836e+08</td>\n",
       "      <td>1.265846e+07</td>\n",
       "    </tr>\n",
       "    <tr>\n",
       "      <th>Octubre</th>\n",
       "      <td>5.186832e+08</td>\n",
       "      <td>-1.132878e+08</td>\n",
       "      <td>1.164529e+07</td>\n",
       "    </tr>\n",
       "    <tr>\n",
       "      <th>Septiembre</th>\n",
       "      <td>5.238891e+08</td>\n",
       "      <td>-7.581542e+07</td>\n",
       "      <td>1.169692e+07</td>\n",
       "    </tr>\n",
       "  </tbody>\n",
       "</table>\n",
       "</div>"
      ],
      "text/plain": [
       "                     max           min          mean\n",
       "MES                                                 \n",
       "Abril       1.108259e+09 -2.300844e+08  1.205833e+07\n",
       "Agosto      5.026589e+08 -8.345890e+07  1.082641e+07\n",
       "Diciembre   6.864657e+08 -3.415166e+08  1.550864e+07\n",
       "Enero       9.641380e+08 -1.205653e+08  1.421048e+07\n",
       "Febrero     9.480823e+08 -1.968601e+08  1.108835e+07\n",
       "Julio       5.650079e+08 -1.261375e+08  1.227927e+07\n",
       "Junio       6.197584e+08 -2.472895e+08  1.269322e+07\n",
       "Marzo       9.436177e+08 -1.655531e+08  1.222004e+07\n",
       "Mayo        4.968499e+08 -8.317165e+07  1.099283e+07\n",
       "Noviembre   5.312716e+08 -1.554836e+08  1.265846e+07\n",
       "Octubre     5.186832e+08 -1.132878e+08  1.164529e+07\n",
       "Septiembre  5.238891e+08 -7.581542e+07  1.169692e+07"
      ]
     },
     "execution_count": 29,
     "metadata": {},
     "output_type": "execute_result"
    }
   ],
   "source": [
    "#Se explora como se comporta la agrupación por mes por medio de una gráfica de barras.\n",
    "Grupo_2['MONTO'].agg([max,min,np.mean])"
   ]
  },
  {
   "cell_type": "code",
   "execution_count": 38,
   "metadata": {},
   "outputs": [
    {
     "data": {
      "text/plain": [
       "<matplotlib.axes._subplots.AxesSubplot at 0x7f099ef80bd0>"
      ]
     },
     "execution_count": 38,
     "metadata": {},
     "output_type": "execute_result"
    },
    {
     "data": {
      "image/png": "[encoded data removed]",
      "text/plain": [
       "<matplotlib.figure.Figure at 0x7f099f2fac90>"
      ]
     },
     "metadata": {},
     "output_type": "display_data"
    }
   ],
   "source": [
    "#Los datos originales, permiten explorar gráficamente como se relacionan los valors de los montos con respecto a los meses.\n",
    "sns.barplot(data=Ingresos_2,x=\"MES\",y=\"MONTO\",palette=\"PRGn\")"
   ]
  },
  {
   "cell_type": "code",
   "execution_count": 61,
   "metadata": {},
   "outputs": [
    {
     "data": {
      "text/plain": [
       "<matplotlib.axes._subplots.AxesSubplot at 0x7f09996ce5d0>"
      ]
     },
     "execution_count": 61,
     "metadata": {},
     "output_type": "execute_result"
    },
    {
     "data": {
      "image/png": "[encoded data removed]",
      "text/plain": [
       "<matplotlib.figure.Figure at 0x7f099871d310>"
      ]
     },
     "metadata": {},
     "output_type": "display_data"
    }
   ],
   "source": [
    "#También se puede explorar con los datos agrupados por Año-Mes el comportamiento de los máximos, mínimos y la media de los montos \n",
    "\n",
    "Grupo_3['MONTO'].agg([max,min,np.mean]).plot(title='Comportamiento de la suma de los Montos')"
   ]
  },
  {
   "cell_type": "markdown",
   "metadata": {
    "collapsed": true
   },
   "source": [
    "**Nota**: Los anteriores ejemplos solo muestran como hacer agrupaciones para concentrar información con respecto alga o algunas variables, esto ayuda hacer una exploración sencilla sobre los datos. Se pueden hacer más fina la exploración y procesamiento, pero no es la intención del ejemplo. Las preguntas que se responden no son para nada cosas sofisticadas y los gráficos que agrego son solo a manera de ejemplos de qué tipo de gráficos construir con el tipo de datos que se cargaron, esto gráficos se pueden adherir algun reporte para visualizar el tipo de respuestas a las preguntas; ¿cuál fue el mes con mayor media de ingresos?, ¿en qué año y mes se registan los máximos mas altos en los ingresos?, etc.\n",
    "\n",
    "Para mayor detalle de las propiedades del módulo Pandas la recomendación es consultar la página oficial\n",
    "  * http://pandas.pydata.org/"
   ]
  }
 ],
 "metadata": {
  "kernelspec": {
   "display_name": "Python 3",
   "language": "python",
   "name": "python3"
  },
  "language_info": {
   "codemirror_mode": {
    "name": "ipython",
    "version": 3
   },
   "file_extension": ".py",
   "mimetype": "text/x-python",
   "name": "python",
   "nbconvert_exporter": "python",
   "pygments_lexer": "ipython3",
   "version": "3.7.0"
  }
 },
 "nbformat": 4,
 "nbformat_minor": 1
}
