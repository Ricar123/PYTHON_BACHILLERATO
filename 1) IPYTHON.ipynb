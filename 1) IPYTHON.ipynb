{
 "cells": [
  {
   "cell_type": "markdown",
   "metadata": {},
   "source": [
    " #   <center><span style=color:red>IPYTHON-NOTEBOOK</span> </center>   "
   ]
  },
  {
   "cell_type": "markdown",
   "metadata": {},
   "source": [
    "## LA EDICIÓN INTERECTIVA  \"IPYTHON\"\n",
    "\n",
    "En lugar del intérprete Python habitual (IDLE) existe una **consola interactiva** denominada **IPython** con una serie de características muy interesantes que facilitan el trabajo con el intérprete:\n",
    "\n",
    "**AUTOCOMPLETADO**. Con la tecla de TABULACIÓNón cuando empezamos a escribir las primeras letras.\n",
    "\n",
    "\n",
    "**EL OPERAROR DE INTERROGACIÓN ?**. Puesto al final de cada instrucción nos dá una breve información de la misma, así como acceso al historial de entradas recientes con las flecha arriba. \n",
    "\n",
    "**PROMPT**. En Python el prompt es del tipo **>>>** y en IPhyton cambia por la numeración automática según las entradas y salidas que se van codificando: **IN[] o OUT[]**\n",
    "\n",
    "\n",
    "Cada vez que realizamos una entrada el número va aumentando:\n",
    "\n",
    "In [1]: 23*2 \n",
    "\n",
    "Out[1]: 46\n",
    "\n",
    "Si como ocurre en este caso, nuestra entrada produce una salida **Out[1]: 46**, podemos usar la numeración asignada para reutilizar el dato mediante la variable **_1**, que hace referencia al valor almacenado en la salida [1]: \n",
    "\n",
    "In [2]: _1 + 15 \n",
    "\n",
    "Out[2]: 61\n",
    " \n",
    "Además, esta consola pone a nuestra disposición comandos del entorno **(cd, ls,... etc.)** que nos permiten movernos por el árbol de directorios desde dentro de la consola, y comandos especiales, conocidos como **FUNCIONES MÁGICAS  (magic functions)** que proveen de funcionalidades especiales a la consola. Estos comandos comienzan por el carácter **%** aunque si no interfieren con otros nombres dentro del entorno se puede prescindir de este carácter e invocar sólo el nombre del comando. Entre los más útiles está el comando **RUN** con el que podemos ejecutar desde la consola un script de órdenes. Por ejemplo, para ejecutar el creado anteriormente:\n",
    "\n",
    "``` python\n",
    "In [5]: run hola.py \n",
    "Hola Mundo \n",
    "```\n",
    "\n",
    "\n",
    "El lector puede probar a escribir **% ** y pulsar el tabulador para ver un listado de las funciones mágicas disponibles.\n",
    "\n",
    "También  se puede obtener ayuda de las instrucciones de notebook, usando: \n",
    ">help(modulos) \n",
    ">help(math) \n",
    ">dir(math)\n"
   ]
  },
  {
   "cell_type": "markdown",
   "metadata": {},
   "source": [
    "## JUPYTER-NOTEBOOK\n",
    "\n",
    "Jupyter Notebook Online para trabajar con IPython NoteBook: http://jupyter.org/try\n",
    "\n",
    "Edición online bajo un NAVEGADOR para acceder a un árbol de directorios donde editar ficheros \"notebook\" de extensión IPYNB que podrán ser importados o exportados desde el propio navegador. \n",
    "\n",
    "CREAR UN NOTEBOOK\n",
    "Si no disponemos de un notebook previo, podemos crear uno nuevo pulsando sobre el desplegable **NEW** (arriba a la derecha), eligiendo el tipo deseado, en nuestro caso **Python 3**. Esto abre automáticamente una nueva ventana del navegador a la vez que crea un nuevo fichero Untitled, con extensión .ipynb en la carpeta donde nos encontremos,  pinchando sobre el nombre que aparece en la  parte superior del menú podremos cambiarlo.\n",
    "\n",
    "El concepto básico del entorno Jupyter son las **CELDAS**, que son cuadros donde insertar texto que puede admitir diferentes formatos de entrada que pueden seleccionarse a través del menú desplegable del centro de la barra de herramientas. \n",
    "Básicamente nos interesan las **CELDAS TIPO CODE**, que contendrán código en lenguaje Python, y que aparecerán **NUMERADAS** como en la consola IPython, y **CELDAS TIPO MARKDOWN**, en las que podemos escribir texto marcado por este tipo de lenguaje, o incluso texto en **FORMATO LaTeX**, que nos permite añadir información contextual al código que estemos escribiendo.\n",
    "\n",
    "#### La ayuda:\n",
    "```python\n",
    "?\n",
    "objeto_desconocido?\n",
    "help(objeto_desconocido)\n",
    "dir(objeto_desconocido)\n",
    "*int*?\n",
    "%quickref\n",
    "objeto_desconocido<TAB>\n",
    "\n",
    "POR EJEMPLO:\n",
    "```"
   ]
  },
  {
   "cell_type": "code",
   "execution_count": 1,
   "metadata": {},
   "outputs": [
    {
     "name": "stdout",
     "output_type": "stream",
     "text": [
      "Help on built-in function cos in module math:\n",
      "\n",
      "cos(...)\n",
      "    cos(x)\n",
      "    \n",
      "    Return the cosine of x (measured in radians).\n",
      "\n"
     ]
    }
   ],
   "source": [
    "import math\n",
    "help(math.cos)"
   ]
  },
  {
   "cell_type": "markdown",
   "metadata": {},
   "source": [
    "#### EL MENÚ DE JUPYTER\n",
    "A cada celda podemos cliclear RUN o  pulsar SHIFT+ENTER para la ejecución del contenido de la celda.\n",
    "\n",
    "En  la parte superior tenemos  un menú donde por ejemplo con **File>Make a Copy**  podemos hacer una copia  de nuestro notebook, y con **File>DownLoad**   podremos exportar nuestro notebook a un posible archivo  **.py**  donde  las celdas con **markdown** se transformarán en comentarios dentro del nuevo código  fuente. También podremos exportarlo  a **HTML o PDF**. Y podemos abrir un archivo que contenga texto plano bajo la extensión .txt (FILE>NEW>)\n",
    "\n",
    "#### ENTRADA Y SALIDA DE LA APLICACIÓN\n",
    "\n",
    "Para cerrar un notebook usaremos la opción del menú **File Close and Halt** . Para cerrar completamente el entorno debemos volver a la terminal desde la que ejecutamos la orden jupyter-notebook y pulsar **CTRL + C** ; a continuación se nos pedirá confirmación para detener el servicio, que habrá que hacer pulsando  YES . Si por error hemos cerrado la ventana Home del navegador podemos recuperarla en la dirección http://localhost:8888\n",
    "\n",
    "Si ya disponemos de un notebook  y queremos seguir trabajando sobre él, podemos abrirlo desde la ventana **Home** del navegador moviéndonos en el árbol de directorios hasta encontrarlo.Para poder cargar un notebook que no esté accesible de este modo, debemos usar el botón de **Upload** que nos permitirá localizar en nuestro ordenador el fichero adecuado.\n",
    "\n",
    "En el entorno Jupyter Notebook, **pulsando el tabulador después de escribir objetos** nos aparece un menú desplegable que nos muestra los **atributos y funciones accesibles al objeto**.\n"
   ]
  },
  {
   "cell_type": "markdown",
   "metadata": {},
   "source": [
    "## PYTHON COMO CALCULADORA \n",
    "En vez de trabajar co Jupyter se puede optar por este editor online que incorpora una autoayuda paso a paso en cada instrucción: http://pythontutor.com/\n"
   ]
  },
  {
   "cell_type": "code",
   "execution_count": 8,
   "metadata": {},
   "outputs": [
    {
     "data": {
      "text/plain": [
       "15"
      ]
     },
     "execution_count": 8,
     "metadata": {},
     "output_type": "execute_result"
    }
   ],
   "source": [
    "12+3"
   ]
  },
  {
   "cell_type": "code",
   "execution_count": 11,
   "metadata": {},
   "outputs": [
    {
     "data": {
      "text/plain": [
       "33"
      ]
     },
     "execution_count": 11,
     "metadata": {},
     "output_type": "execute_result"
    }
   ],
   "source": [
    "_+6  # el guión hace refenrencia a la última celda (ojo hay que ejecutarla esa celda previamente)"
   ]
  },
  {
   "cell_type": "code",
   "execution_count": 2,
   "metadata": {},
   "outputs": [],
   "source": [
    "5+5;  #añadiendo el punto  y coma final  se almacena en la celda la instrucción"
   ]
  },
  {
   "cell_type": "code",
   "execution_count": 6,
   "metadata": {},
   "outputs": [
    {
     "data": {
      "text/plain": [
       "10"
      ]
     },
     "execution_count": 6,
     "metadata": {},
     "output_type": "execute_result"
    }
   ],
   "source": [
    "_"
   ]
  },
  {
   "cell_type": "code",
   "execution_count": 9,
   "metadata": {},
   "outputs": [
    {
     "data": {
      "text/plain": [
       "21"
      ]
     },
     "execution_count": 9,
     "metadata": {},
     "output_type": "execute_result"
    }
   ],
   "source": [
    "Out[2]"
   ]
  },
  {
   "cell_type": "markdown",
   "metadata": {},
   "source": [
    "## El uso de las funciones mágicas en Python\n",
    " Las funciones mágicas son una serie de comandos que  se ejecutan una vez puesto delante el carácter **%** o  los dos caractéres **%%**"
   ]
  },
  {
   "cell_type": "code",
   "execution_count": 2,
   "metadata": {},
   "outputs": [],
   "source": [
    "%magic"
   ]
  },
  {
   "cell_type": "code",
   "execution_count": 3,
   "metadata": {},
   "outputs": [
    {
     "name": "stderr",
     "output_type": "stream",
     "text": [
      "UsageError: %%HTML is a cell magic, but the cell body is empty.\n"
     ]
    }
   ],
   "source": [
    "%%HTML"
   ]
  },
  {
   "cell_type": "code",
   "execution_count": 12,
   "metadata": {},
   "outputs": [
    {
     "name": "stderr",
     "output_type": "stream",
     "text": [
      "UsageError: %%javascript is a cell magic, but the cell body is empty.\n"
     ]
    }
   ],
   "source": [
    "%%javascript"
   ]
  },
  {
   "cell_type": "code",
   "execution_count": 14,
   "metadata": {},
   "outputs": [
    {
     "name": "stdout",
     "output_type": "stream",
     "text": [
      "557 ns ± 3.09 ns per loop (mean ± std. dev. of 7 runs, 1000000 loops each)\n"
     ]
    }
   ],
   "source": [
    "%timeit list(range(10))"
   ]
  },
  {
   "cell_type": "markdown",
   "metadata": {},
   "source": [
    "## En esta web podemos encontrar un vasto contenido para aprender a programar con Python interactivo paso a paso:\n",
    "\n",
    "http://interactivepython.org/runestone/static/thinkcspy/index.html\n",
    "\n",
    "http://interactivepython.org/runestone/static/everyday/index.html"
   ]
  },
  {
   "cell_type": "code",
   "execution_count": null,
   "metadata": {},
   "outputs": [],
   "source": []
  }
 ],
 "metadata": {
  "kernelspec": {
   "display_name": "Python 3",
   "language": "python",
   "name": "python3"
  },
  "language_info": {
   "codemirror_mode": {
    "name": "ipython",
    "version": 3
   },
   "file_extension": ".py",
   "mimetype": "text/x-python",
   "name": "python",
   "nbconvert_exporter": "python",
   "pygments_lexer": "ipython3",
   "version": "3.6.5"
  }
 },
 "nbformat": 4,
 "nbformat_minor": 2
}
