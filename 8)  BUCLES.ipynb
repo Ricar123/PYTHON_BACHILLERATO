{
 "cells": [
  {
   "cell_type": "markdown",
   "metadata": {},
   "source": [
    "[Python for Developers](http://ricardoduarte.github.io/python-for-developers/#content)\n",
    "===================================\n",
    "\n",
    "\n",
    "BUBLES Y FUNCIONES\n",
    "=============================\n",
    "_____________________________\n",
    "\n",
    "Los bucles (Loops) son estructuras de repetición,  generalmente usadas para procesar una colección de datos,  como líneas de un fichero o registros d euna base de datos que deben ser procesadas bajo el mismo  bloque de códigos.\n",
    "\n",
    "For\n",
    "---\n",
    "Es la instrucción que se usa para indicar una estructura de  repetición. Sus argumentos son dinámicos y secuenciales  bajo el nombre de ITERACIÓN. Las iteraciones son estructuas que permiten  iterar, por ej. acceder a los valores de una colección de elementos secuencialmente. \n",
    "\n",
    "![Loop Example](bpyfd_diags3.png)\n",
    "\n",
    "During the execution of a *for* loop, the reference points to an element in the sequence. At each iteration, the reference is updated, in order for the *for* code block to process the corresponding element.\n",
    "\n",
    "The clause *break* stops the loop and *continue* passes it to the next iteration. The code inside the `else` is executed at the end of the loop, except if the loop has been interrupted by *break*.\n",
    "\n",
    "Syntax:\n",
    "\n",
    "    for <reference> in <sequence>:\n",
    "        <code block>\n",
    "        continue\n",
    "        break\n",
    "    else:\n",
    "        <code block>\n",
    "            \n",
    "Example:"
   ]
  },
  {
   "cell_type": "code",
   "execution_count": 9,
   "metadata": {},
   "outputs": [
    {
     "name": "stdout",
     "output_type": "stream",
     "text": [
      "4950\n"
     ]
    }
   ],
   "source": [
    "# Sum 0 to 99\n",
    "s = 0\n",
    "for x in range(1, 100):\n",
    "    s = s + x\n",
    "print (s)"
   ]
  },
  {
   "cell_type": "markdown",
   "metadata": {},
   "source": [
    "### BUCLES CON FOR ( la iteración) :\n",
    "\n",
    "http://www.pythondiario.com/search?q=for\n",
    "\n",
    "El bucle recorre un **objeto iterable**, como una lista, una tupla o un generador, y por cada elemento del iterable ejecuta el **bloque** de código interno. Se define con la palabra clave **for** seguida de un nombre de **variable**, seguido de **in**, seguido del **iterable**, y finalmente el **bloque de código interno**. En cada **iteración**, el elemento siguiente del iterable se asigna al nombre de variable especificado: \n",
    "\n",
    "```python\n",
    ">>> lista = [\"a\", \"b\", \"c\"]\n",
    ">>> for i in lista: # Iteramos sobre una lista, que es iterable\n",
    "        print (i)\n",
    "...\n",
    "a\n",
    "b\n",
    "c\n",
    "...\n",
    ">>> cadena = \"abcdef\"\n",
    ">>> for i in cadena: # Iteramos sobre una cadena, que también es iterable\n",
    "        print (i,end=\",\") # Añadiendo una coma al final hacemos que no introduzca un salto de línea, sino un espacio\n",
    "...\n",
    "a b c d e f\n",
    "\n",
    "```"
   ]
  },
  {
   "cell_type": "code",
   "execution_count": 7,
   "metadata": {},
   "outputs": [
    {
     "name": "stdout",
     "output_type": "stream",
     "text": [
      "1,2,3,4,5,6,7,8,9,"
     ]
    }
   ],
   "source": [
    "for contador in range(1,10):\n",
    "    print(contador,end=\",\")"
   ]
  },
  {
   "cell_type": "markdown",
   "metadata": {},
   "source": [
    "La función `range()`\n",
    " Si  se necesita iterar sobre una secuencia de números, es apropiado utilizar la función integrada range() que genera una lista conteniendo progresiones aritméticas:"
   ]
  },
  {
   "cell_type": "code",
   "execution_count": 4,
   "metadata": {},
   "outputs": [
    {
     "data": {
      "text/plain": [
       "range(0, 10)"
      ]
     },
     "execution_count": 4,
     "metadata": {},
     "output_type": "execute_result"
    }
   ],
   "source": [
    "range(10)   #lista de números en progresión aritmética"
   ]
  },
  {
   "cell_type": "code",
   "execution_count": 98,
   "metadata": {},
   "outputs": [
    {
     "name": "stdout",
     "output_type": "stream",
     "text": [
      "El cubo de 1 es 1.\n",
      "El cubo de 2 es 8.\n",
      "El cubo de 3 es 27.\n",
      "El cubo de 4 es 64.\n",
      "El cubo de 5 es 125.\n"
     ]
    }
   ],
   "source": [
    "for  n in range(1,6):\n",
    "    print (\"El cubo de %d es %d.\" % (n, n**3))\n"
   ]
  },
  {
   "cell_type": "markdown",
   "metadata": {},
   "source": [
    "Para iterar sobre índices de una lista,  se pueden combinar `range()` y  `len()` así (aunque en la mayoria  de los casos se utiliza la función `enumerate()`):"
   ]
  },
  {
   "cell_type": "code",
   "execution_count": 6,
   "metadata": {},
   "outputs": [
    {
     "name": "stdout",
     "output_type": "stream",
     "text": [
      "1 María\n",
      "2 Juan\n",
      "3 Manolo\n",
      "4 Raquel\n"
     ]
    }
   ],
   "source": [
    "a=[\"María\", \"Juan\", \"Manolo\",\"Raquel\"]\n",
    "for i in  range(len(a)):\n",
    "    print (i+1,a[i])"
   ]
  },
  {
   "cell_type": "code",
   "execution_count": 9,
   "metadata": {},
   "outputs": [
    {
     "name": "stdout",
     "output_type": "stream",
     "text": [
      "Pick up the stack\n",
      "Pick up the steck\n",
      "Pick up the stick\n",
      "Pick up the stock\n",
      "Pick up the stuck\n"
     ]
    }
   ],
   "source": [
    "for  x in ['a', 'e', 'i', 'o', 'u']:    \n",
    "    word  =  \"st\" + x + \"ck\"\n",
    "    print  (\"Pick up the\", word)\n"
   ]
  },
  {
   "cell_type": "code",
   "execution_count": 27,
   "metadata": {},
   "outputs": [
    {
     "name": "stdout",
     "output_type": "stream",
     "text": [
      "1^3=1\n",
      "2^3=8\n",
      "3^3=27\n",
      "4^3=64\n",
      "5^3=125\n"
     ]
    }
   ],
   "source": [
    "for  n in range(1,6):\n",
    "        print (\"%d^3=%d\" %(n, n**3))\n"
   ]
  },
  {
   "cell_type": "code",
   "execution_count": 18,
   "metadata": {},
   "outputs": [
    {
     "name": "stdout",
     "output_type": "stream",
     "text": [
      "1,2,3,4,5,6,7,8,9,10,"
     ]
    }
   ],
   "source": [
    "#FOR lista de números\n",
    "for i in range(1,11):\n",
    "    print(i,end=\",\")"
   ]
  },
  {
   "cell_type": "markdown",
   "metadata": {},
   "source": [
    "## Distintas formas de representación con distintos formatos:"
   ]
  },
  {
   "cell_type": "code",
   "execution_count": 4,
   "metadata": {},
   "outputs": [
    {
     "name": "stdout",
     "output_type": "stream",
     "text": [
      "1 1 1\n",
      "2 4 8\n",
      "3 9 27\n",
      "4 16 64\n",
      "5 25 125\n",
      "6 36 216\n",
      "7 49 343\n",
      "8 64 512\n",
      "9 81 729\n",
      "10 100 1000\n"
     ]
    }
   ],
   "source": [
    "for x in range(1,11):\n",
    "     print (x,x*x,x*x*x)"
   ]
  },
  {
   "cell_type": "code",
   "execution_count": 24,
   "metadata": {},
   "outputs": [
    {
     "name": "stdout",
     "output_type": "stream",
     "text": [
      "   1    1    1\n",
      "   2    4    8\n",
      "   3    9   27\n",
      "   4   16   64\n",
      "   5   25  125\n",
      "   6   36  216\n",
      "   7   49  343\n",
      "   8   64  512\n",
      "   9   81  729\n",
      "  10  100 1000\n"
     ]
    }
   ],
   "source": [
    "for x in range(1,11):\n",
    "     print (\"%4d %4d %4d\" %(x,x*x,x*x*x))\n",
    "       "
   ]
  },
  {
   "cell_type": "code",
   "execution_count": 29,
   "metadata": {},
   "outputs": [
    {
     "name": "stdout",
     "output_type": "stream",
     "text": [
      "   1    1    1\n",
      "   2    4    8\n",
      "   3    9   27\n",
      "   4   16   64\n",
      "   5   25  125\n",
      "   6   36  216\n",
      "   7   49  343\n",
      "   8   64  512\n",
      "   9   81  729\n",
      "  10  100 1000\n"
     ]
    }
   ],
   "source": [
    "for x in range(1,11):\n",
    "     print (repr(x).rjust(4),(repr(x*x).rjust(4)),repr(x*x*x).rjust(4))"
   ]
  },
  {
   "cell_type": "code",
   "execution_count": null,
   "metadata": {},
   "outputs": [],
   "source": [
    "For x in range(1,11):\n",
    "     print (repr(x),rjust(2), )"
   ]
  },
  {
   "cell_type": "code",
   "execution_count": 8,
   "metadata": {},
   "outputs": [
    {
     "name": "stdout",
     "output_type": "stream",
     "text": [
      "78.5398105\n"
     ]
    }
   ],
   "source": [
    "# Calcula el área de una circunferencia.\n",
    "radio = 5\n",
    "area = 3.14159242 * radio ** 2\n",
    "print(area)"
   ]
  },
  {
   "cell_type": "code",
   "execution_count": 6,
   "metadata": {},
   "outputs": [
    {
     "name": "stdout",
     "output_type": "stream",
     "text": [
      "9,8,7,6,5,4,3,2,1,0,....Hasta la vista, Baby.\n"
     ]
    }
   ],
   "source": [
    "# FOR \"sayonara baby!!!\"\"\n",
    "num=10\n",
    "for i in range(1,num+1):\n",
    "     print(num-i,end=\",\")\n",
    "print(\"....Hasta la vista, Baby.\")  #un poco de humor"
   ]
  },
  {
   "cell_type": "code",
   "execution_count": 2,
   "metadata": {},
   "outputs": [
    {
     "name": "stdout",
     "output_type": "stream",
     "text": [
      "contando en 2 en 2:  1\n",
      "contando en 2 en 2:  3\n",
      "contando en 2 en 2:  5\n",
      "contando en 2 en 2:  7\n",
      "contando en 2 en 2:  9\n"
     ]
    }
   ],
   "source": [
    "for j in range(1,11,2):  #range tambien se puede usar de una forma no consecutiva\n",
    "    print(\"contando en 2 en 2: \",j)"
   ]
  },
  {
   "cell_type": "code",
   "execution_count": 14,
   "metadata": {},
   "outputs": [
    {
     "name": "stdout",
     "output_type": "stream",
     "text": [
      "10,9,8,7,6,5,4,3,2,1,"
     ]
    }
   ],
   "source": [
    "for num in range(10,0,-1):\n",
    "    print(num,end=\",\")"
   ]
  },
  {
   "cell_type": "markdown",
   "metadata": {},
   "source": [
    "En  ocasiones, queremos saber tanto el elemento como su índice asociado sobre el que estamos iterando. Para ello usaremos **enumerate**"
   ]
  },
  {
   "cell_type": "code",
   "execution_count": 107,
   "metadata": {},
   "outputs": [
    {
     "name": "stdout",
     "output_type": "stream",
     "text": [
      "0 -  H\n",
      "1 -  O\n",
      "2 -  L\n",
      "3 -  A\n"
     ]
    }
   ],
   "source": [
    "a=\"HOLA\"\n",
    "for posición,letra in enumerate(a):\n",
    "    print (posición,\"- \",letra)"
   ]
  },
  {
   "cell_type": "markdown",
   "metadata": {},
   "source": [
    "En python se puede salir del bucle `for` mediante la sentencia `break` y pasar a la iteración  siguiente con la sentencia `continue`"
   ]
  },
  {
   "cell_type": "code",
   "execution_count": 109,
   "metadata": {},
   "outputs": [
    {
     "name": "stdout",
     "output_type": "stream",
     "text": [
      "1,2,3,4,"
     ]
    }
   ],
   "source": [
    "a=[1,2,3,4,0,3,5]\n",
    "for i in a:\n",
    "    if i==0:\n",
    "        break\n",
    "    print (i,end=\",\") \n",
    "    "
   ]
  },
  {
   "cell_type": "code",
   "execution_count": 110,
   "metadata": {},
   "outputs": [
    {
     "name": "stdout",
     "output_type": "stream",
     "text": [
      "1,2,3,4,3,5,"
     ]
    }
   ],
   "source": [
    "a=[1,2,3,4,0,3,5]\n",
    "for i in a:\n",
    "    if i==0:\n",
    "        continue\n",
    "    print (i,end=\",\") \n",
    "    "
   ]
  },
  {
   "cell_type": "markdown",
   "metadata": {},
   "source": [
    "EJERCICIO: Escribe un programa que utilice un bucle para crear una lista de números del 1 al 100 y luego la muestre."
   ]
  },
  {
   "cell_type": "markdown",
   "metadata": {},
   "source": [
    "EJERCICIO: Escribe un programa que a partir de una tupla cualquiera, obtenga una lista con todos sus elementos."
   ]
  },
  {
   "cell_type": "markdown",
   "metadata": {},
   "source": [
    "EJERCICIO: Escribe un programa que represente los números múltiplos de 7 entre el 1 y el 1000. Utiliza range(1001) dentro  del bucle for con los if necesarios.  Después haz lo mismo empleando  un  range con tres parámetros."
   ]
  },
  {
   "cell_type": "markdown",
   "metadata": {},
   "source": [
    "El lazo for no solo permite la sentencia range, puede iterar sobre una sencuencia de elementos, nombrando por ejemplo: una cadena de caracteres, funciones, listas, etc. For también permite continue y break."
   ]
  },
  {
   "cell_type": "code",
   "execution_count": 99,
   "metadata": {},
   "outputs": [
    {
     "name": "stdout",
     "output_type": "stream",
     "text": [
      "Letra: J\n",
      "Letra: U\n",
      "Letra: N\n",
      "i\n",
      "Letra: O\n",
      "Letra: R\n"
     ]
    }
   ],
   "source": [
    "for letter in \"JUNIOR\":\n",
    "    if letter==\"I\":\n",
    "        print(\"i\")\n",
    "    else:\n",
    "        print(\"Letra:\", letter)"
   ]
  },
  {
   "cell_type": "code",
   "execution_count": 14,
   "metadata": {},
   "outputs": [
    {
     "name": "stdout",
     "output_type": "stream",
     "text": [
      "1 1\n",
      "2 1\n",
      "3 1\n",
      "4 1\n"
     ]
    }
   ],
   "source": [
    "# FOR pareja de números\n",
    "for i in range(1,5):\n",
    "    for j in range(1,2):\n",
    "        print(i,j)"
   ]
  },
  {
   "cell_type": "code",
   "execution_count": 12,
   "metadata": {},
   "outputs": [
    {
     "name": "stdout",
     "output_type": "stream",
     "text": [
      "19\n"
     ]
    }
   ],
   "source": [
    "# FUNCIÓN MÁXIMO DE DOS NÚMEROS. \n",
    "# Definir una función max() que tome como argumento dos números y devuelva el mayor de ellos. \n",
    "# Es cierto que python tiene una función max() incorporada, pero hacerla nosotros mismos es un muy buen ejercicio.\n",
    "\n",
    "def max (n1, n2):\n",
    "    if n1 < n2:\n",
    "        print (n2)\n",
    "    elif n2 < n1:\n",
    "        print (n1)\n",
    "    else:\n",
    "        print (\"Son iguales\")\n",
    "max(3,19)\n",
    "\n",
    "#Aclaro que uso el print para llamar a la función de la manera max(8, 5).También se puede usar return.\n"
   ]
  },
  {
   "cell_type": "code",
   "execution_count": 11,
   "metadata": {},
   "outputs": [
    {
     "name": "stdout",
     "output_type": "stream",
     "text": [
      "55\n"
     ]
    }
   ],
   "source": [
    "# FUNCIÓN MÁXIMO DE TRES NÚMEROS. \n",
    "# Definir una función max_de_tres(), que tome tres números como argumentos y devuelva el mayor de ellos.\n",
    "def max(n1,n2,n3):\n",
    "    if n1>n2 and n1>n3:\n",
    "        print (n1)\n",
    "    elif n2>n1 and n2>n3:\n",
    "        print (n2)\n",
    "    elif n3 > n1 and n3>n2:\n",
    "        print (n3)\n",
    "    else:\n",
    "        print (\"Son iguales\")\n",
    "max(23,3,55)\n",
    "\n",
    "#Otra vez uso el print en ves del return. \n",
    "#Dependiendo para que lo necesitemos se usa uno u el otro. \n",
    "#En este caso solo quiero mostrar por pantalla cual es el mayor de los 3 números.\n"
   ]
  },
  {
   "cell_type": "code",
   "execution_count": 10,
   "metadata": {},
   "outputs": [
    {
     "data": {
      "text/plain": [
       "6"
      ]
     },
     "execution_count": 10,
     "metadata": {},
     "output_type": "execute_result"
    }
   ],
   "source": [
    "# FUNCIÓN LONGITUD DE UNA CADENA DE DATOS\n",
    "# Definir una función que calcule la longitud de una lista o una cadena dada.\n",
    "# Es cierto que python tiene la función len() incorporada, pero hacer su algoritmo resulta un buen  ejercicio.\n",
    "def largo_cadena (lista):\n",
    "    cont = 0\n",
    "    for i in lista:\n",
    "        cont += 1\n",
    "    return cont\n",
    "largo_cadena(\"toledo\")\n",
    "\n",
    "# En este ejercicio utilizo return en vez de print. \n",
    "#Para ver el resultado tendríamos que llamar la función de la manera: \n",
    "# print largo_cadena ([1,2,3,4]) o print largo_cadena (\"hola\")\n"
   ]
  },
  {
   "cell_type": "code",
   "execution_count": 9,
   "metadata": {},
   "outputs": [
    {
     "data": {
      "text/plain": [
       "True"
      ]
     },
     "execution_count": 9,
     "metadata": {},
     "output_type": "execute_result"
    }
   ],
   "source": [
    "# COMPARANDO DOS LISTAS con FOR\n",
    "# Definir una función superposicion() que tome dos listas y devuelva True si tienen al menos 1 miembro en común\n",
    "# o devuelva False de lo contrario. Escribir la función usando el bucle for anidado.\n",
    "def superposicion (lista1, lista2):\n",
    "    for i in lista1:\n",
    "        for x in lista2:\n",
    "            if i == x:\n",
    "                return True\n",
    "    return False\n",
    "superposicion([1,2,3,],[3,4,5])"
   ]
  },
  {
   "cell_type": "code",
   "execution_count": 15,
   "metadata": {},
   "outputs": [
    {
     "data": {
      "text/plain": [
       "7"
      ]
     },
     "execution_count": 15,
     "metadata": {},
     "output_type": "execute_result"
    }
   ],
   "source": [
    "# MÁXIMO DE UN  LISTA con FUNCIÓN y con FOR.  \n",
    "# Escribir una función max_in_list() que tome una lista de números y devuelva el mas grande.\n",
    "#La función max() ya viene incorporada en python, pero vamos a diseñar un algoritmo\n",
    "def max_in_lista(lista):\n",
    "    inicio = 0\n",
    "    for i in lista:\n",
    "        if i > inicio:   #cuidado  con la tabulación despues de dos puntos\n",
    "            inicio = i   #aquí también requiere sangrado por ir después de dos puntos\n",
    "    return inicio\n",
    "max_in_lista([1,3,5,3,2,7,2])\n"
   ]
  },
  {
   "cell_type": "code",
   "execution_count": 19,
   "metadata": {},
   "outputs": [
    {
     "data": {
      "text/plain": [
       "'listados'"
      ]
     },
     "execution_count": 19,
     "metadata": {},
     "output_type": "execute_result"
    }
   ],
   "source": [
    "#LA PALABRA MÁS LARGA\n",
    "#Escribir una función mas_larga() que tome una lista de palabras y devuelva la más larga. \n",
    "def mas_larga(lista):\n",
    "    mas_larga = \"\"\n",
    "    for i in lista:\n",
    "        if len(i) > len(mas_larga):\n",
    "            mas_larga = i\n",
    "    return mas_larga\n",
    "mas_larga([\"casa\",\"comida\",\"listados\"])"
   ]
  },
  {
   "cell_type": "code",
   "execution_count": 20,
   "metadata": {},
   "outputs": [
    {
     "name": "stdout",
     "output_type": "stream",
     "text": [
      "comida\n"
     ]
    }
   ],
   "source": [
    "#PALABRAS CON MÁS DE UN CARÁCTER\n",
    "# Escribir una función filtrar_palabras() que tome una lista de palabras y un entero n,\n",
    "# y devuelva las palabras que tengan más de n caracteres.\n",
    "def filtrar_palabras(lista, n):\n",
    "    for i in lista:\n",
    "        if len(i) > n:\n",
    "            print (i)\n",
    "filtrar_palabras([\"casa\",\"comida\",\"hogar\"],5)\n"
   ]
  },
  {
   "cell_type": "code",
   "execution_count": 28,
   "metadata": {},
   "outputs": [
    {
     "name": "stdout",
     "output_type": "stream",
     "text": [
      "La cadena tiene 2 mayuscula/s\n"
     ]
    }
   ],
   "source": [
    "#CUENTA EL NÚMERO DE MAYÚSCULAS\n",
    "# Escribir un programa que le diga al usuario que ingrese una cadena.\n",
    "#El programa tiene que evaluar la cadena y decir cuántas letras mayúsculas tiene.\n",
    "def c_mayusculas (cadena):\n",
    "    cont = 0\n",
    "    for i in cadena:\n",
    "        if i != i.lower(): #Recordar que lower() convierte una cadena en minúsculas\n",
    "            cont += 1\n",
    "    print  (\"La cadena tiene\", cont, \"mayuscula/s\")\n",
    "c_mayusculas(\"Holas, Sofía: ¿que  tal estás?\")"
   ]
  },
  {
   "cell_type": "code",
   "execution_count": 14,
   "metadata": {},
   "outputs": [
    {
     "name": "stdout",
     "output_type": "stream",
     "text": [
      "3 es un número primo\n",
      "4 No es primo porque es igual a 2 * 2\n",
      "5 es un número primo\n",
      "5 es un número primo\n",
      "5 es un número primo\n",
      "6 No es primo porque es igual a 2 * 3\n",
      "7 es un número primo\n",
      "7 es un número primo\n",
      "7 es un número primo\n",
      "7 es un número primo\n",
      "7 es un número primo\n",
      "8 No es primo porque es igual a 2 * 4\n",
      "9 es un número primo\n",
      "9 No es primo porque es igual a 3 * 3\n"
     ]
    }
   ],
   "source": [
    "# númereros primos  hasta el 10\n",
    "for  numero in  range(2,10):\n",
    "    for x in range(2,numero):\n",
    "        if numero % x==0:\n",
    "            print (numero,\"No es primo porque es igual a: \", x, \"*\", int(numero/x))\n",
    "            break\n",
    "        else:\n",
    "            print (numero, \"es un número primo\")"
   ]
  },
  {
   "cell_type": "markdown",
   "metadata": {},
   "source": [
    "# BUCLES CON WHILE\n",
    "\n",
    "http://www.pythondiario.com/search?q=while\n",
    "\n",
    "http://infohost.nmt.edu/tcc/help/pubs/lang/pytut/while-stmt.html\n",
    "\n",
    "The code block inside the while loop is repeated while the loop condition is evaluated as true.Syntax:\n",
    "\n",
    "`\n",
    "while <condition>:\n",
    "    <code block>\n",
    "    continue\n",
    "    break\n",
    "else:\n",
    "    <code block>\n",
    "`\n",
    "\n",
    "The while loop is appropriate when there is no way to determine how many iterations will occur and there is a sequence to follow.\n",
    "\n",
    "El bucle **while** evalúa una condición y, si es verdadera, ejecuta el **bloque de código interno**. Continúa evaluando y ejecutando mientras la condición sea verdadera. Se define con la palabra clave while seguida de la condición, y a continuación el bloque de código interno: \n",
    "```python\n",
    ">>> numero = 0\n",
    ">>> while numero < 10:\n",
    "        print numero,\n",
    "        numero += 1  #un buen programador modificará las variables de control al finalizar el ciclo while\n",
    "...\n",
    "0 1 2 3 4 5 6 7 8 9\n",
    "```"
   ]
  },
  {
   "cell_type": "code",
   "execution_count": 10,
   "metadata": {},
   "outputs": [
    {
     "name": "stdout",
     "output_type": "stream",
     "text": [
      "4950\n"
     ]
    }
   ],
   "source": [
    "# Sum 0 to 99\n",
    "s = 0\n",
    "x = 1\n",
    "\n",
    "while x < 100:\n",
    "    s = s + x\n",
    "    x = x + 1\n",
    "print (s)"
   ]
  },
  {
   "cell_type": "code",
   "execution_count": 29,
   "metadata": {},
   "outputs": [
    {
     "name": "stdout",
     "output_type": "stream",
     "text": [
      "La variable j todav\u0013\u0010a es negativa\n",
      "La variable j todav\u0013\u0010a es negativa\n",
      "La variable j todav\u0013\u0010a es negativa\n",
      "La variable j todav\u0013\u0010a es negativa\n",
      "La variable j todav\u0013\u0010a es negativa\n"
     ]
    }
   ],
   "source": [
    "j=-5\n",
    "while j<0:\n",
    "    print('La variable j todav\u0013\u0010a es negativa')\n",
    "    j=j+1"
   ]
  },
  {
   "cell_type": "code",
   "execution_count": 29,
   "metadata": {},
   "outputs": [
    {
     "name": "stdout",
     "output_type": "stream",
     "text": [
      "1,2,3,4,5,6,7,8,9,10,"
     ]
    }
   ],
   "source": [
    "count=1\n",
    "while count<=10:\n",
    "    print(count,end=\",\")\n",
    "    count+=1"
   ]
  },
  {
   "cell_type": "code",
   "execution_count": 38,
   "metadata": {},
   "outputs": [
    {
     "name": "stdout",
     "output_type": "stream",
     "text": [
      "1, 2, 4, 8, 16, 32, 64, "
     ]
    }
   ],
   "source": [
    "i = 1\n",
    "while i < 100:\n",
    "     print (i,end=\", \")\n",
    "     i = i * 2\n"
   ]
  },
  {
   "cell_type": "code",
   "execution_count": 17,
   "metadata": {},
   "outputs": [
    {
     "name": "stdout",
     "output_type": "stream",
     "text": [
      "## Calcule su promedio##\n",
      "Ingrese número: 10\n",
      "Ingrese número : 2\n",
      "Ingrese número : 5\n",
      "Ingrese número : 4\n",
      "Ingrese número : 5\n",
      "Ingrese número : 4\n",
      "Ingrese número : -1\n",
      "\n",
      "El promedio de  6 números es:  5.0\n"
     ]
    }
   ],
   "source": [
    "## WHILE promedio de varios números introducidos hasta meter -1\n",
    "print(\"## Calcule su promedio##\")\n",
    "suma=0;cont=0;prom=0\n",
    "num=int(input(\"Ingrese número: \"))\n",
    "while num!=-1:\n",
    "    suma+=num\n",
    "    cont+=1\n",
    "    num=int(input(\"Ingrese número : \"))\n",
    "prom=suma/cont\n",
    "print(\"\\nEl promedio de \", cont,\"números es: \", prom)"
   ]
  },
  {
   "cell_type": "markdown",
   "metadata": {},
   "source": [
    "### FUNCIONES\n",
    "\n",
    "http://infohost.nmt.edu/tcc/help/pubs/lang/pytut/def.html\n",
    "\n",
    "Python permite definir  funciones con una sintánxis muy sencilla, tras la palabra reservada `def`se escribe el nombre de la función, después entre paréntesis el nombre de los parámetros y luego dos puntos. Las líneas que se escriban a continuación formarán el `bloque`de la función que deberá ir  obligatoriamente  sangrada (mejor con `TAB`) "
   ]
  },
  {
   "cell_type": "code",
   "execution_count": 113,
   "metadata": {},
   "outputs": [],
   "source": [
    "def fun(x):\n",
    "    if(x>0):\n",
    "        return print(\"El número  es mayor que 0\")\n",
    "    else:\n",
    "        return print(\"El número es igual a 0\")"
   ]
  },
  {
   "cell_type": "code",
   "execution_count": 114,
   "metadata": {},
   "outputs": [
    {
     "name": "stdout",
     "output_type": "stream",
     "text": [
      "El número  es mayor que 0\n"
     ]
    }
   ],
   "source": [
    "fun(5)"
   ]
  },
  {
   "cell_type": "code",
   "execution_count": 5,
   "metadata": {},
   "outputs": [],
   "source": [
    "def frutería(kilos_Frutas, tipo_Fruta):   #ojo con las mayúsculas\n",
    "    print (\"Hoy tenemos %d kilos de %s recién cogidas.\" % (kilos_Frutas, tipo_Fruta))\n"
   ]
  },
  {
   "cell_type": "code",
   "execution_count": 6,
   "metadata": {},
   "outputs": [
    {
     "name": "stdout",
     "output_type": "stream",
     "text": [
      "Hoy tenemos 20 kilos de peras recién cogidas.\n"
     ]
    }
   ],
   "source": [
    "frutería(20,\"peras\")"
   ]
  },
  {
   "cell_type": "code",
   "execution_count": 15,
   "metadata": {},
   "outputs": [],
   "source": [
    "# una función con retorno de un valor concreto\n",
    "def al_cuadrado(x):\n",
    "    \"\"\" \n",
    "        Esta función devuelve el cuadrado de un número (información obtenida con shift+tab sobre la instrucción)\n",
    "        Parámetros:\n",
    "        ===================\n",
    "        x int\n",
    "        \n",
    "        return x**2\n",
    "    \"\"\"\n",
    "    return (x**2)\n"
   ]
  },
  {
   "cell_type": "code",
   "execution_count": 13,
   "metadata": {},
   "outputs": [
    {
     "data": {
      "text/plain": [
       "400"
      ]
     },
     "execution_count": 13,
     "metadata": {},
     "output_type": "execute_result"
    }
   ],
   "source": [
    "al_cuadrado(20)"
   ]
  },
  {
   "cell_type": "code",
   "execution_count": 14,
   "metadata": {},
   "outputs": [],
   "source": [
    "al_cuadrado?"
   ]
  },
  {
   "cell_type": "code",
   "execution_count": 128,
   "metadata": {},
   "outputs": [],
   "source": [
    "def suma(x, y = 2):\n",
    "    return x + y # Retornar la suma del valor de la variable \"x\" y el valor de \"y\"\n"
   ]
  },
  {
   "cell_type": "code",
   "execution_count": 129,
   "metadata": {},
   "outputs": [
    {
     "data": {
      "text/plain": [
       "12"
      ]
     },
     "execution_count": 129,
     "metadata": {},
     "output_type": "execute_result"
    }
   ],
   "source": [
    "suma(10)"
   ]
  },
  {
   "cell_type": "code",
   "execution_count": 130,
   "metadata": {},
   "outputs": [
    {
     "data": {
      "text/plain": [
       "30"
      ]
     },
     "execution_count": 130,
     "metadata": {},
     "output_type": "execute_result"
    }
   ],
   "source": [
    "suma(10,20) #ahora el valor de y se ver forzado a cambiar de valor"
   ]
  },
  {
   "cell_type": "markdown",
   "metadata": {},
   "source": [
    "Otra forma de escribir una función en Python es utilizando la instrucción `lambda` en vez de `def`. Esta otra forma es más escueta pero menos utilizada:"
   ]
  },
  {
   "cell_type": "code",
   "execution_count": null,
   "metadata": {},
   "outputs": [],
   "source": [
    "suma = lambda x, y: x + y"
   ]
  },
  {
   "cell_type": "code",
   "execution_count": 131,
   "metadata": {},
   "outputs": [
    {
     "data": {
      "text/plain": [
       "30"
      ]
     },
     "execution_count": 131,
     "metadata": {},
     "output_type": "execute_result"
    }
   ],
   "source": [
    "suma(10,20)"
   ]
  },
  {
   "cell_type": "code",
   "execution_count": 1,
   "metadata": {},
   "outputs": [],
   "source": [
    "def factorial(x):\n",
    "    assert x >= 0 and x % 1 == 0, \"x debe ser un entero mayor o igual a 0.\"\n",
    "    if x == 0:\n",
    "        return 1\n",
    "    else:\n",
    "        return x * factorial(x - 1)"
   ]
  },
  {
   "cell_type": "code",
   "execution_count": 2,
   "metadata": {},
   "outputs": [
    {
     "data": {
      "text/plain": [
       "3628800"
      ]
     },
     "execution_count": 2,
     "metadata": {},
     "output_type": "execute_result"
    }
   ],
   "source": [
    "factorial(10)"
   ]
  },
  {
   "cell_type": "markdown",
   "metadata": {},
   "source": [
    "Algunas funciones predefinidas:"
   ]
  },
  {
   "cell_type": "code",
   "execution_count": 116,
   "metadata": {},
   "outputs": [
    {
     "data": {
      "text/plain": [
       "10"
      ]
     },
     "execution_count": 116,
     "metadata": {},
     "output_type": "execute_result"
    }
   ],
   "source": [
    "x=-10\n",
    "x=abs(x)\n",
    "x"
   ]
  },
  {
   "cell_type": "code",
   "execution_count": 117,
   "metadata": {},
   "outputs": [
    {
     "data": {
      "text/plain": [
       "10.0"
      ]
     },
     "execution_count": 117,
     "metadata": {},
     "output_type": "execute_result"
    }
   ],
   "source": [
    "float(x)"
   ]
  },
  {
   "cell_type": "code",
   "execution_count": 119,
   "metadata": {},
   "outputs": [
    {
     "data": {
      "text/plain": [
       "7"
      ]
     },
     "execution_count": 119,
     "metadata": {},
     "output_type": "execute_result"
    }
   ],
   "source": [
    "a=[5,2,3,4,7]\n",
    "max(a)"
   ]
  },
  {
   "cell_type": "code",
   "execution_count": 121,
   "metadata": {},
   "outputs": [
    {
     "data": {
      "text/plain": [
       "97"
      ]
     },
     "execution_count": 121,
     "metadata": {},
     "output_type": "execute_result"
    }
   ],
   "source": [
    "ord(\"a\")  #devuelve el código ASCII del carácter"
   ]
  },
  {
   "cell_type": "code",
   "execution_count": 122,
   "metadata": {},
   "outputs": [
    {
     "data": {
      "text/plain": [
       "8"
      ]
     },
     "execution_count": 122,
     "metadata": {},
     "output_type": "execute_result"
    }
   ],
   "source": [
    "pow(2,3)"
   ]
  },
  {
   "cell_type": "code",
   "execution_count": 15,
   "metadata": {},
   "outputs": [],
   "source": [
    "from math import *  # importamos el métdo raiz del objeto math\n",
    "def  hipotenusa(x,y):\n",
    "    h=sqrt(x**2+y**2)\n",
    "    return h   "
   ]
  },
  {
   "cell_type": "code",
   "execution_count": 16,
   "metadata": {},
   "outputs": [
    {
     "data": {
      "text/plain": [
       "5.830951894845301"
      ]
     },
     "execution_count": 16,
     "metadata": {},
     "output_type": "execute_result"
    }
   ],
   "source": [
    "hipotenusa(3,5)"
   ]
  },
  {
   "cell_type": "code",
   "execution_count": 14,
   "metadata": {},
   "outputs": [
    {
     "data": {
      "text/plain": [
       "5.830951894845301"
      ]
     },
     "execution_count": 14,
     "metadata": {},
     "output_type": "execute_result"
    }
   ],
   "source": [
    "from math import *   # en  este caso podemos obtener la función hipotenusa del objeto math\n",
    "hypot(3,5)"
   ]
  },
  {
   "cell_type": "code",
   "execution_count": null,
   "metadata": {},
   "outputs": [],
   "source": []
  }
 ],
 "metadata": {
  "kernelspec": {
   "display_name": "Python 3",
   "language": "python",
   "name": "python3"
  },
  "language_info": {
   "codemirror_mode": {
    "name": "ipython",
    "version": 3
   },
   "file_extension": ".py",
   "mimetype": "text/x-python",
   "name": "python",
   "nbconvert_exporter": "python",
   "pygments_lexer": "ipython3",
   "version": "3.6.5"
  }
 },
 "nbformat": 4,
 "nbformat_minor": 2
}
