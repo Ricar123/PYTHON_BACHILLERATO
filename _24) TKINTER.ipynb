{
 "cells": [
  {
   "cell_type": "markdown",
   "metadata": {},
   "source": [
    "### LIBRERÍAS\n",
    "Las librerias mas relevantes en el area de ciencias son:\n",
    "\n",
    "• SciPy: agrupa funciones relevantes para el calculo numerico.\n",
    "\n",
    "• NumPy: proporciona funciones específicas para el calculo numerico vectorial y matricial.\n",
    "\n",
    "• SymPy: agrupa las funciones necesarias para el calculo simbolico.\n",
    "\n",
    "• Matplotlib: contiene herramientas para la elaboracion de graficos 2D y 3D\n",
    "(semejante a la generacion de graficos en MATLAB).\n",
    "\n",
    "• Mayavi: libreria específica para la creacion de graficos 3D.\n",
    "\n",
    "• Pandas: libreria especializada en la manipulacion y analisis de datos.\n",
    "\n",
    "Aparte de estas librerias, destacamos PyLab, parte de la librerIa Matplotlib, que\n",
    "proporciona un entorno muy parecido a MATLAB, lo que facilita enormemente la\n",
    "transicion desde este programa comercial a la computaci\u0013on cientifica con Python"
   ]
  },
  {
   "cell_type": "markdown",
   "metadata": {},
   "source": [
    "### THINKER\n",
    "\n",
    "¿Os preguntareis que es Tkinter?Es una librería orientada a diseñar la interfaz gráfica para aplicaciones de escritorio hecho a través del lenguaje de programación python.\n",
    "\n",
    "\n",
    "¿Y para que sirve? Pues sirve para crear las ventanas tan útiles a nivel visual que ves en el escritorio de tu ordenador, facilitando la vida del usuario.\n",
    "\n",
    "\n",
    "\n",
    "https://www.tutorialspoint.com/python/python_gui_programming.htm\n",
    "\n",
    "Python es un lenguaje multiplataforma y el gran reto de estos lenguajes es ofrecer una forma unificada de solucionar problemas en cualquier sistema operativo.\n",
    "Debido a que esto es complejo a causa de las peculiaridades de cada sistema, los programadores decidieron integrar ya una librería existente de código abierto denominada Tk, en ves de desarrollar un módulo propio para manejar la parte gráfica en python. Así nació Tkinter una interfaz “puente” que ya se encontraba soportada en plataformas UNIX y Windows.\n",
    "#### Widgets en Tkinter\n",
    "Representan los componentes gráficos en las interfaces y se gestionan firmando jerarquías:\n",
    "-Tk : contenedor raíz, no tiene tamaño propio ( se adapta ).\n",
    "\n",
    "-Frame : contenedor de otros widgets , tamaño propio y se puede  colocar en cualquier posición de otro contenedor.\n",
    "\n",
    "-Label : etiqueta donde podemos mostrar un texto estático.\n",
    "\n",
    "-Entry : campo de texto sencillo.\n",
    "\n",
    "-Text : campo de texto multilinea ( descripciones, comentarios … )\n",
    "\n",
    "-Button : botón con un texto, donde el usuario puede hacer clic\n",
    "\n",
    "-Radiobutton : botón radial que se usa en conjunto , para marcar una opción.\n",
    "\n",
    "-Checkbutton : botón cuadrado que se puede marcar con un tick\n",
    "\n",
    "-Menu : estructura de botones centrados en la composición de menús superiores.\n",
    "\n",
    "-Boxes y Dialogs : ventanas emergentes que permiten mostrar información al usuario o ofrecer una forma gráfica de interactuar con el S.O.\n",
    "\n",
    "Para completar las librerías consultar la web de Mexico:\n",
    "\n",
    "http://infohost.nmt.edu/tcc/help/pubs/tkinter/web/index.html"
   ]
  },
  {
   "cell_type": "code",
   "execution_count": 1,
   "metadata": {},
   "outputs": [],
   "source": [
    "from tkinter import *   # Importamos todo el  modulo \n",
    "ventana = Tk()  # creamos un objeto llamado ventana de la clase Tk, que viene a ser la función que las genera\n",
    "# inicialmente la ventana es de 100x100\n",
    "etiqueta =Label(ventana,text=\".....mi primera etiqueta\")\n",
    "etiqueta.grid(row=20, column=100) #ahora la ventana queda ajustada al ancho x alto de la etiqueta a representar\n",
    "\n",
    "ventana.mainloop()"
   ]
  },
  {
   "cell_type": "code",
   "execution_count": 2,
   "metadata": {},
   "outputs": [],
   "source": [
    "from tkinter import *  \n",
    "\n",
    "ventana = Tk()\n",
    "\n",
    "ventana.mainloop()"
   ]
  },
  {
   "cell_type": "code",
   "execution_count": 3,
   "metadata": {},
   "outputs": [],
   "source": [
    "from tkinter import *   # Importamos modulo \n",
    "ventana = Tk()  # creamos un objeto llamado ventana de la clase Tk, que viene a ser la función que las genera\n",
    "lienzo= Canvas(ventana,width=\"600\",height=\"500\") #creamos un lienzo con ese objeto y con estas medidas\n",
    "lienzo.create_polygon(10,10,100,10,100,110,fill=\"blue\",outline=\"black\") #generamos en el lienzo un polígono\n",
    "lienzo.pack() #representamos el polígono en el lienzo\n",
    "etiqueta = Label(ventana,text=\"HOLA,....Click aquí.\") #ahora vamos a crear una etiqueta\n",
    "etiqueta.pack()  # nuevamente representamos la etiqueta en el lienzo\n",
    "ventana.mainloop() # repetimos el objeto para que permanezca en la pantalla de nuestro ordenador continuamente"
   ]
  },
  {
   "cell_type": "code",
   "execution_count": 4,
   "metadata": {},
   "outputs": [],
   "source": [
    "from tkinter import *   # Importamos modulo \n",
    "ventana = Tk()  # creamos un objeto llamado ventana de la clase Tk, que viene a ser la función que las genera\n",
    "lienzo= Canvas(ventana,width=\"600\",height=\"500\") #creamos un lienzo con ese objeto y con estas medidas\n",
    "lienzo.create_polygon(10,10,100,10,100,110,fill=\"#ff00ff\",outline=\"#aabbcc\") #generamos en el lienzo un polígono\n",
    "lienzo.pack() #representamos el polígono en el lienzo\n",
    "etiqueta = Label(ventana,text=\"HOLA,....Click aquí.\") #ahora vamos a crear una etiqueta\n",
    "etiqueta.pack()  # nuevamente representamos la etiqueta en el lienzo\n",
    "ventana.mainloop() # repetimos el objeto para que permanezca en la pantalla de nuestro ordenador continuamente"
   ]
  },
  {
   "cell_type": "code",
   "execution_count": 5,
   "metadata": {},
   "outputs": [],
   "source": [
    "from tkinter import *\n",
    "\n",
    "ventana=Tk()  #definimos un objeto de la clase Tk\n",
    "lienzo=Canvas(ventana,width=300, height=210, bg='white') #definimos un objeto de la clase lienzo con argumento de la clase Tk\n",
    "lienzo.create_arc(10,10,200,100,exten=180,style=ARC) #sobre lienzo dibujamos un arco, style puede ser arc, chord, reslice\n",
    "\n",
    "lienzo.create_arc(50,50,300,200,exten=140,style=CHORD) \n",
    "#sobre lienzo dibujamos un arco, style puede ser ARC,CHORD, RESLICE\n",
    "\n",
    "xy = 10, 10, 190, 190\n",
    "lienzo.create_arc(xy, start=0, extent=270, fill='gray60')    #extent son los grados del arco\n",
    "\n",
    "lienzo.create_oval(10, 10, 200, 200, width=5, fill='blue')\n",
    "lienzo.create_rectangle(10, 10, 200, 200, width=5, fill='red')\n",
    "lienzo.create_line(0, 200, 200, 0, width=10, fill='green')\n",
    "lienzo.create_arc(10, 10, 190, 190, start=270, extent=90, fill='gray90')\n",
    "\n",
    "\n",
    "lienzo.pack()   #cargamos el dibujo en el canvas\n",
    "\n",
    "ventana.mainloop()  # mantenemos un bucle de refresco continuo"
   ]
  },
  {
   "cell_type": "code",
   "execution_count": null,
   "metadata": {},
   "outputs": [],
   "source": [
    "import tkinter as tk\n",
    "\n",
    "ventana = tk.Tk()\n",
    "lienzo = tk.Canvas(ventana, width=200, height=200, borderwidth=0, highlightthickness=0, bg=\"black\")\n",
    "lienzo.grid()\n",
    "\n",
    "def _create_circle(self, x, y, r, **kwargs):\n",
    "    return self.create_oval(x-r, y-r, x+r, y+r, **kwargs)\n",
    "tk.Canvas.create_circle = _create_circle\n",
    "\n",
    "def _create_circle_arc(self, x, y, r, **kwargs):\n",
    "    if \"start\" in kwargs and \"end\" in kwargs:\n",
    "        kwargs[\"extent\"] = kwargs[\"end\"] - kwargs[\"start\"]\n",
    "        del kwargs[\"end\"]\n",
    "    return self.create_arc(x-r, y-r, x+r, y+r, **kwargs)\n",
    "tk.Canvas.create_circle_arc = _create_circle_arc\n",
    "\n",
    "lienzo.create_circle(100, 120, 50, fill=\"blue\", outline=\"#DDD\", width=4)\n",
    "lienzo.create_circle_arc(100, 120, 48, fill=\"green\", outline=\"\", start=275, end=305)\n",
    "lienzo.create_circle_arc(100, 120, 45, style=\"arc\", outline=\"white\", width=6, start=270-25, end=270+25)\n",
    "lienzo.create_circle(150, 40, 20, fill=\"#BBB\", outline=\"\")\n",
    "\n",
    "ventana.wm_title(\"Circles and Arcs\")\n",
    "ventana.mainloop()"
   ]
  },
  {
   "cell_type": "code",
   "execution_count": 12,
   "metadata": {},
   "outputs": [],
   "source": [
    "from tkinter import * # Importamos modulo \n",
    "import random\n",
    "ventana = Tk()  # creamos un objeto llamado ventana de la clase Tk, que viene a ser la función que las genera\n",
    "lienzo= Canvas(ventana,width=\"400\",height=\"400\") #creamos un lienzo con ese objeto y con estas medidas\n",
    "def rectangulo_aleatorio(ancho,alto,color):\n",
    "    x0=random.randrange(ancho)\n",
    "    y0=random.randrange(alto)\n",
    "    x1=random.randrange(x0+random.randrange(ancho))\n",
    "    y1=random.randrange(y0+random.randrange(alto))\n",
    "    r=lienzo.create_rectangle(x0,y0,x1,y1,fill=color)\n",
    "    lienzo.pack()\n",
    "    return r\n",
    "\n",
    "lienzo.create_polygon(10,10,100,10,100,110,fill=\"blue\",outline=\"black\") #generamos en el lienzo un polígono\n",
    "lienzo.pack() #representamos el polígono en el lienzo\n",
    "etiqueta = Label(ventana,text=\"HOLA,....Click aquí.\") #ahora vamos a crear una etiqueta\n",
    "etiqueta.pack()  # nuevamente representamos la etiqueta en el lienzo\n",
    "\n",
    "rectangulo_aleatorio(400,400,\"red\")\n",
    "ventana.mainloop() # repetimos el objeto para que permanezca en la pantalla de nuestro ordenador continuamente\n"
   ]
  },
  {
   "cell_type": "code",
   "execution_count": 13,
   "metadata": {},
   "outputs": [],
   "source": [
    "from tkinter import *\n",
    "app = Tk()\n",
    "lienzo=Canvas(app,width=\"400\",height=\"400\")\n",
    "app.title(\"Aplicacion grafica en python\")\n",
    "lienzo.pack()\n",
    "etiqueta = Label(app, text=\"Hola mundo!!!\")\n",
    "etiqueta.pack()\n",
    "boton = Button(app, text=\"OK!!\")\n",
    "boton.pack()\n",
    "app.mainloop() "
   ]
  },
  {
   "cell_type": "code",
   "execution_count": 14,
   "metadata": {},
   "outputs": [],
   "source": [
    "# ANIMACIÓN. Desplaza un triángulo horizontalmente\n",
    "from tkinter import *\n",
    "\n",
    "ventana=Tk()\n",
    "lienzo=Canvas(ventana,width=600,heigh=400)  #ojo Canvas primera con mayúscula\n",
    "lienzo.create_polygon(10,10,10,60,35,35)\n",
    "lienzo.pack()\n",
    "\n",
    "import time\n",
    "for x in range(0,80):\n",
    "    lienzo.move(1,6,3)  #mueve el objeto \"1\", seis píxele con una inclinación de \"3\"\n",
    "    ventana.update()\n",
    "    time.sleep(0.05) #velocidad del movimiento (desplazamiento)\n",
    "\n",
    "ventana.mainloop() #imprescindible para mantener el ciclo y el control del objeto y poder cerrar bien la aplicación."
   ]
  },
  {
   "cell_type": "code",
   "execution_count": 16,
   "metadata": {},
   "outputs": [],
   "source": [
    "# EVENTOS (interacción) con Tkinter\n",
    "# ej. al apretar tecla..acción \"mover\"  (videotutoria nº52)\n",
    "def mover_triángulo(evento):\n",
    "    lienzo.move(1,5,3)"
   ]
  },
  {
   "cell_type": "markdown",
   "metadata": {},
   "source": [
    "Está sencilla aplicación tendrá una etiqueta, un botón y un campo para ingresar texto. El campo de texto solo espera números y al dar clic en OK devolverá el número ingresado multiplicado por 5. En caso de no ingresar un número devolverá una excepción.\n",
    "\n",
    "http://www.pythondiario.com/2014/11/aplicaciones-graficas-con-tkinter-en.html"
   ]
  },
  {
   "cell_type": "code",
   "execution_count": 17,
   "metadata": {},
   "outputs": [],
   "source": [
    "import sys\n",
    "from tkinter import *\n",
    " \n",
    "def hacer_click():\n",
    " try:\n",
    "  _valor = int(entrada_texto.get())\n",
    "  _valor = _valor * 5\n",
    "  etiqueta.config(text=_valor)\n",
    " except ValueError:\n",
    "  etiqueta.config(text=\"Introduce un numero!\")\n",
    " \n",
    " \n",
    "app = Tk()\n",
    "app.title(\"Mi segunda App Grafica\")\n",
    " \n",
    "#Ventana Principal\n",
    "vp = Frame(app)\n",
    "vp.grid(column=0, row=0, padx=(50,50), pady=(10,10))\n",
    "vp.columnconfigure(0, weight=1)\n",
    "vp.rowconfigure(0, weight=1)\n",
    " \n",
    "etiqueta = Label(vp, text=\"Valor\")\n",
    "etiqueta.grid(column=2, row=2, sticky=(W,E))\n",
    " \n",
    "boton = Button(vp, text=\"OK!\", command=hacer_click)\n",
    "boton.grid(column=1, row=1)\n",
    " \n",
    "valor = \"\"\n",
    "entrada_texto = Entry(vp, width=10, textvariable=valor)\n",
    "entrada_texto.grid(column=2, row=1)\n",
    " \n",
    "app.mainloop()\n"
   ]
  },
  {
   "cell_type": "code",
   "execution_count": null,
   "metadata": {},
   "outputs": [],
   "source": [
    "# ahora creaeremos una ventana con lista de nombres\n",
    "from tkinter import *           # Importamos el módulo Tkinter\n",
    "root = Tk()                     # Creamos la ventana de fondo\n",
    "                                # Creamos una lista con nombres\n",
    "li = 'Diego Matias Martin Carla Lorena Roberto'.split()\n",
    "listb = Listbox(root)           # Creamos un Widgets Listbox\n",
    "for item in li:                 # Insertamos los nombres de la lista en el Listbox\n",
    "    listb.insert(0,item)\n",
    " \n",
    "listb.pack()                    # Hacemos el pack del widget\n",
    "root.mainloop()                 # Ejecutamos el bucle"
   ]
  },
  {
   "cell_type": "code",
   "execution_count": 18,
   "metadata": {},
   "outputs": [],
   "source": [
    "# Ahora crearemos una ventana con un botón. Al presionar el botón saldrá una etiqueta diciendo \n",
    "# que hemos apretado el botón (este cambiará al color azul).\n",
    "from tkinter import *\n",
    " \n",
    " \n",
    "def Call(): # Definimos la funcion\n",
    "        lab= Label(root, text = 'Usted presiono\\nel boton')\n",
    "        lab.pack()\n",
    "        boton['bg'] = 'blue' # Al presionar queda azul\n",
    "        boton['fg'] = 'white' # Si pasamos el Mouse queda blanco\n",
    " \n",
    "root = Tk() # Ventana de fondo\n",
    "root.geometry('100x110+350+70') # Geometría de la ventana\n",
    "boton = Button(root, text = 'Presionar', command = Call) \n",
    "boton.pack()\n",
    " \n",
    "root.mainloop()"
   ]
  },
  {
   "cell_type": "code",
   "execution_count": 19,
   "metadata": {},
   "outputs": [
    {
     "name": "stdout",
     "output_type": "stream",
     "text": [
      "11\n"
     ]
    }
   ],
   "source": [
    "from tkinter import *\n",
    "def close_window():\n",
    "    global entry\n",
    "    entry = E.get()\n",
    "    root.destroy()\n",
    "    print(entry)\n",
    "\n",
    "root = Tk()\n",
    "E = Entry(root)\n",
    "E.pack(anchor = CENTER)\n",
    "B = Button(root, text = \"OK\", command = close_window)\n",
    "B.pack(anchor = S)\n",
    "root.mainloop()\n"
   ]
  },
  {
   "cell_type": "code",
   "execution_count": null,
   "metadata": {},
   "outputs": [],
   "source": []
  }
 ],
 "metadata": {
  "kernelspec": {
   "display_name": "Python 3",
   "language": "python",
   "name": "python3"
  },
  "language_info": {
   "codemirror_mode": {
    "name": "ipython",
    "version": 3
   },
   "file_extension": ".py",
   "mimetype": "text/x-python",
   "name": "python",
   "nbconvert_exporter": "python",
   "pygments_lexer": "ipython3",
   "version": "3.6.5"
  }
 },
 "nbformat": 4,
 "nbformat_minor": 2
}
