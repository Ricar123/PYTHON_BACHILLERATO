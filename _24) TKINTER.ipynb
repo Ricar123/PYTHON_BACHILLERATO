{
 "cells": [
  {
   "cell_type": "markdown",
   "metadata": {},
   "source": [
    "### THINKER\n",
    "\n",
    "Tkinter es una librería orientada a diseñar la interfaz gráfica para aplicaciones de escritorio hecho a través del lenguaje de programación python. ¿Y para que sirve? Pues sirve para crear las ventanas tan útiles a nivel visual que ves en el escritorio de tu ordenador, facilitando la vida del usuario.\n",
    "\n",
    "https://www.tutorialspoint.com/python/python_gui_programming.htm\n",
    "\n",
    "\n",
    "#### Widgets en Tkinter\n",
    "Representan los componentes gráficos en las interfaces y se gestionan firmando jerarquías:\n",
    "    - Tk : contenedor raíz, no tiene tamaño propio ( se adapta ).\n",
    "    - Frame : contenedor de otros widgets , tamaño propio y se puede  colocar en cualquier posición de otro contenedor.\n",
    "    - Label : etiqueta donde podemos mostrar un texto estático.\n",
    "    - Entry : campo de texto sencillo.\n",
    "    - Text : campo de texto multilinea ( descripciones, comentarios … )\n",
    "    - Button : botón con un texto, donde el usuario puede hacer clic\n",
    "    - Radiobutton : botón radial que se usa en conjunto , para marcar una opción.\n",
    "    - Checkbutton : botón cuadrado que se puede marcar con un tick\n",
    "    - Menu : estructura de botones centrados en la composición de menús superiores.\n",
    "    - Boxes y Dialogs : ventanas emergentes que permiten mostrar información al usuario o ofrecer una forma gráfica de interactuar con el S.O.\n",
    "Para completar las librerías consultar la web de Mexico:\n",
    "\n",
    "http://infohost.nmt.edu/tcc/help/pubs/tkinter/web/index.html"
   ]
  },
  {
   "cell_type": "code",
   "execution_count": 11,
   "metadata": {},
   "outputs": [],
   "source": [
    "# MI PRIMERA VENTANA BÁSICA\n",
    "from tkinter import *\n",
    "ventana = Tk()  # definimos la ventana principal o raiz que contendrá todo lo demás\n",
    "ventana.title(\"Mi Primeara VENTANA\")\n",
    "ventana.mainloop() #necesario para mantener la ventana abierta y no se cierre rápidamente"
   ]
  },
  {
   "cell_type": "code",
   "execution_count": 31,
   "metadata": {},
   "outputs": [],
   "source": [
    "# MI PRIMERA ETIQUETA EN UNA VENTANA\n",
    "from tkinter import *\n",
    "ventana = Tk()\n",
    "ventana.title(\"MI PRIMERA VENTANA\")\n",
    "ventana.geometry(\"400x100\")\n",
    "# Ahora definimos el objeto etiqueta dentro del objeto ventana (de la clase Tk)\n",
    "etiqueta = Label(ventana, text=\"MI PRIMERA ETIQUETA\",font=(\"Arial Bold\", 20))\n",
    "etiqueta.place(x=10,y=10) #representamos la etiqueta y la situamos\n",
    "ventana.mainloop()"
   ]
  },
  {
   "cell_type": "code",
   "execution_count": 40,
   "metadata": {},
   "outputs": [],
   "source": [
    "# ENMARCADO UTILIZANDO GRID, a base de filas y columnas\n",
    "from tkinter import *\n",
    "ventana = Tk()\n",
    "ventana.geometry(\"200x200\")\n",
    "for fila in range(3):\n",
    "   for columna in range(4):\n",
    "       etiqueta=Label(ventana,text='   F%s/C%s  '%(fila,columna),borderwidth=1)\n",
    "       etiqueta.grid(row=fila,column=columna)\n",
    "ventana.mainloop(  )"
   ]
  },
  {
   "cell_type": "code",
   "execution_count": 49,
   "metadata": {},
   "outputs": [],
   "source": [
    "# DIBUJAMOS UN POLÍGONO USANDO UN LIENZO PARA DIBUJAR DENTRO DE LA VENTANA\n",
    "from tkinter import *  \n",
    "ventana = Tk() \n",
    "ventana.geometry(\"300x300\")\n",
    "# Ahora definimos un objeto tipo etiqueta dentro de la ventana\n",
    "etiqueta = Label(ventana,text=\"MI PRIMER POLÍGONO\") #generamos una etiqueta\n",
    "etiqueta.place(x=100,y=50)  # representamos la etiqueta en el lienzo\n",
    "# Ahora definimos un objeto tipo lienzo para dibujar dentro de la vventana\n",
    "lienzo= Canvas(ventana,width=\"300\",height=\"300\") #lienzo del objeto ventana con medidas concretas\n",
    "lienzo.create_polygon(10,10,100,10,100,110,fill=\"blue\",outline=\"black\") #genera un polígono\n",
    "lienzo.place(x=100,y=100) #representamos el polígono en el lienzo\n",
    "\n",
    "ventana.mainloop() # repetimos el objeto para que permanezca continuamente"
   ]
  },
  {
   "cell_type": "code",
   "execution_count": 50,
   "metadata": {},
   "outputs": [],
   "source": [
    "# DIBUJAMOS VARIOS OBJETOS DE COLORES USANDO UN LIENZO DENTRO DE LA VENTANA\n",
    "from tkinter import *\n",
    "ventana=Tk()  #definimos ventana como un objeto de la clase Tk\n",
    "# ahora definimos el objeto lienzo para dibujar dentro de la ventana\n",
    "lienzo=Canvas(ventana,width=400, height=250, bg='white') #Definimos un objeto tipo \"lienzo\" con propiedades de Tk\n",
    "#ahora vamos a crear varios dibujos (objetos de lienzo)\n",
    "lienzo.create_arc(10,10,200,100,exten=180,style=ARC) #sobre lienzo dibujamos un arco\n",
    "lienzo.create_arc(50,50,300,200,exten=140,style=CHORD) # otro tipo\n",
    "#sobre lienzo dibujamos un arco, style puede ser ARC,CHORD, RESLICE\n",
    "xy = 10, 10, 190, 190 #otra forma de usar las coordenadas \n",
    "lienzo.create_arc(xy, start=0, extent=270, fill='gray60') #extent son los grados del arco\n",
    "lienzo.create_oval(10, 10, 200, 200, width=5, fill='blue')\n",
    "lienzo.create_rectangle(10, 10, 200, 200, width=5, fill='red')\n",
    "lienzo.create_line(0, 200, 200, 0, width=10, fill='green')\n",
    "lienzo.create_arc(10, 10, 190, 190, start=270, extent=90, fill='gray90')\n",
    "lienzo.pack()   #cargamos los objetos en el canvas todos juntos como un paquete\n",
    "ventana.mainloop()  # mantenemos un bucle de refresco continuo"
   ]
  },
  {
   "cell_type": "code",
   "execution_count": 51,
   "metadata": {},
   "outputs": [],
   "source": [
    "# DIBUJA RECTÁNGULOS ALEATORIAMENTE USANDO UNA FUNCIÓN.\n",
    "from tkinter import * # Importamos modulo \n",
    "from random import * \n",
    "\n",
    "ventana = Tk()  \n",
    "lienzo= Canvas(ventana,width=\"400\",height=\"400\") \n",
    "def rectangulo_aleatorio(ancho,alto,color):\n",
    "    # ahora generamos los parámetros aleatoriamente\n",
    "    x0=randrange(ancho)\n",
    "    y0=randrange(alto)\n",
    "    x1=randrange(x0+randrange(ancho))\n",
    "    y1=randrange(y0+randrange(alto))\n",
    "    # ahora definimos el dibujo con esos parámetros\n",
    "    lienzo.create_rectangle(x0,y0,x1,y1,fill=color)\n",
    "    # ahora representamos ese dibujo ya definido antes\n",
    "    lienzo.pack()\n",
    "    \n",
    "# ahora usamos la función para dibujar \n",
    "for i in range(5):\n",
    "    rectangulo_aleatorio(400,400,\"red\")\n",
    "    \n",
    "ventana.mainloop() # repetimos el objeto para mantener el dibujo en la ventana y que esta no se cierre\n",
    "# ejecuta y cierra varias veces este programa para ver distinos rectángulos representados aleatoriamente"
   ]
  },
  {
   "cell_type": "code",
   "execution_count": 52,
   "metadata": {},
   "outputs": [],
   "source": [
    "# BOTON\n",
    "from tkinter import *\n",
    "ventana = Tk()\n",
    "ventana.title(\"BOTONES\")\n",
    "ventana.geometry(\"400x400\")\n",
    "etiqueta = Label(ventana, text=\"HOLA MUNDO!\")\n",
    "etiqueta.place(x=150,y=10)\n",
    "boton = Button(ventana, text=\"MI PRIMER BOTON\",bg=\"orange\", fg=\"red\")\n",
    "boton.place(height=50, width=100, x=150,y=150)\n",
    "ventana.mainloop() "
   ]
  },
  {
   "cell_type": "code",
   "execution_count": 61,
   "metadata": {},
   "outputs": [],
   "source": [
    "# BOTON con UN EVENTO ASOCIADO\n",
    "from tkinter import *\n",
    "# definimos objeto ventana dentro de la clase Tk\n",
    "ventana = Tk()\n",
    "ventana.title(\"BOTONES\")\n",
    "ventana.geometry(\"300x300\")\n",
    "# definimos objeto etiqueta dentro del objeto ventana\n",
    "etiqueta = Label(ventana, text=\"HOLA MUNDO!\")\n",
    "etiqueta.place(x=100, y=10)\n",
    "# generamos una funcion  \n",
    "def clicleado():\n",
    "    #etiqueta.configure(text=\"Button was clicked !!\")\n",
    "    etiqueta2 = Label(ventana, text=\"CLICLEADO!\")\n",
    "    etiqueta2.place(x=100, y=100)\n",
    "# definimos un objeto botón dentro del objeto ventana con varios parámetros\n",
    "boton = Button(ventana, text=\"MI PRIMER BOTON\",bg=\"yellow\",fg=\"black\",command=clicleado)\n",
    "boton.place(x=100, y=50)\n",
    "ventana.mainloop() "
   ]
  },
  {
   "cell_type": "code",
   "execution_count": 76,
   "metadata": {},
   "outputs": [],
   "source": [
    "# ENTRADA DE DATOS Y BOTÓN DE ACEPTAR\n",
    "from tkinter import *\n",
    "# definimos objeto ventana dentro de la clase Tk\n",
    "ventana = Tk()\n",
    "ventana.title(\"BOTONES\")\n",
    "ventana.geometry(\"400x300\")\n",
    "# definimos objeto etiqueta dentro del objeto ventana\n",
    "etiqueta1 = Label(ventana, text=\"HOLA MUNDO!\", width=20)\n",
    "etiqueta1.place(x=150, y=10)\n",
    "etiqueta2 = Label(ventana, text=\"¿Cuál es tu nombre?\", width=20)\n",
    "etiqueta2.place(x=0, y=100)\n",
    "# definimos objeto de entrada de texto\n",
    "texto1 = Entry(ventana,width=40)\n",
    "texto1.place(x=150, y=100)\n",
    "# generamos una funcion  \n",
    "def clicleado():\n",
    "    respuesta = \"Bienvenido, \" + texto1.get()\n",
    "    etiqueta3=Label(ventana,text=\"Hola... \"+respuesta,width=40)\n",
    "    etiqueta3.place(x=150, y=200)\n",
    "# definimos un objeto botón dentro del objeto ventana con varios parámetros\n",
    "boton = Button(ventana, text=\"ACEPTAR\",width=20,bg=\"black\",fg=\"red\",command=clicleado)\n",
    "boton.place(x=150,y=120)\n",
    "ventana.mainloop() "
   ]
  },
  {
   "cell_type": "code",
   "execution_count": 78,
   "metadata": {},
   "outputs": [],
   "source": [
    "# ANIMACIÓN. Desplaza un triángulo horizontalmente\n",
    "from tkinter import *\n",
    "\n",
    "ventana=Tk()\n",
    "lienzo=Canvas(ventana,width=600,heigh=400)  #ojo Canvas primera con mayúscula\n",
    "lienzo.create_polygon(10,10,10,60,35,35)\n",
    "lienzo.pack()\n",
    "\n",
    "import time\n",
    "for x in range(0,80):\n",
    "    lienzo.move(1,6,3)  #mueve el objeto \"1\", seis píxele con una inclinación de \"3\"\n",
    "    ventana.update()\n",
    "    time.sleep(0.05) #velocidad del movimiento (desplazamiento)\n",
    "\n",
    "ventana.mainloop() #imprescindible para mantener el ciclo y el control del objeto y poder cerrar bien la aplicación."
   ]
  },
  {
   "cell_type": "markdown",
   "metadata": {},
   "source": [
    "Está sencilla aplicación tendrá una etiqueta, un botón y un campo para ingresar texto. El campo de texto solo espera números y al dar clic en OK devolverá el número ingresado multiplicado por 5. En caso de no ingresar un número devolverá una excepción.\n",
    "\n",
    "http://www.pythondiario.com/2014/11/aplicaciones-graficas-con-tkinter-en.html"
   ]
  },
  {
   "cell_type": "code",
   "execution_count": 79,
   "metadata": {},
   "outputs": [],
   "source": [
    "# BOTÓN QUE CAMBIA DE COLOR AL PRESIONAR\n",
    "from tkinter import *\n",
    "ventana=Tk() # ventana de fondo\n",
    "ventana.geometry('300x300') # Geometría de la ventana\n",
    "def clicleado(): # Definimos la funcion\n",
    "        etiqueta= Label(ventana, text = 'Usted presiono\\nel boton') #con cambio le linea \"\\n\"\n",
    "        etiqueta.pack()\n",
    "        boton['bg'] = 'blue' # fondo azul al cliclear\n",
    "        boton['fg'] = 'white' # texto blanco al cliclear\n",
    "boton = Button(ventana, text = 'Presionar', command = clicleado) \n",
    "boton.pack()\n",
    "ventana.mainloop()"
   ]
  },
  {
   "cell_type": "code",
   "execution_count": 80,
   "metadata": {},
   "outputs": [],
   "source": [
    "# BOTÓN Y SALIDA CON CÁLCULO MATEMÁTICO\n",
    "import sys\n",
    "from tkinter import *\n",
    "ventana = Tk()\n",
    "ventana.title(\"Mi App Grafica\")\n",
    "ventana.geometry(\"300x300\")\n",
    "#Ventana Principal \n",
    "vp = Frame(ventana)\n",
    "vp.grid(column=0, row=0, padx=(100,100), pady=(100,100))\n",
    "vp.columnconfigure(0, weight=1)\n",
    "vp.rowconfigure(0, weight=1)\n",
    "# etiqueta dentro de la vp\n",
    "etiqueta = Label(vp, text=\"Valor\")\n",
    "etiqueta.grid(column=2, row=2, sticky=(W,E))\n",
    "# definimos la función de clicleado\n",
    "def hacer_click():\n",
    " try:\n",
    "  valor = int(entrada_texto.get())\n",
    "  valor = valor * 5\n",
    "  etiqueta.config(text=valor)\n",
    " except ValueError:\n",
    "  etiqueta.config(text=\"DEBES Introducir un numero!\")\n",
    "# creamos el boton\n",
    "boton = Button(vp, text=\"OK!\", command=hacer_click)\n",
    "boton.grid(column=1, row=1)\n",
    "valor = \"\"\n",
    "entrada_texto = Entry(vp, width=10, textvariable=valor)\n",
    "entrada_texto.grid(column=2, row=1)\n",
    "\n",
    "ventana.mainloop()"
   ]
  },
  {
   "cell_type": "code",
   "execution_count": 81,
   "metadata": {},
   "outputs": [],
   "source": [
    "# ahora creaeremos una ventana con lista de nombres\n",
    "from tkinter import *           # Importamos el módulo Tkinter\n",
    "root = Tk()                     # Creamos la ventana de fondo\n",
    "                                # Creamos una lista con nombres\n",
    "li = 'Diego Matias Martin Carla Lorena Roberto'.split()\n",
    "listb = Listbox(root)           # Creamos un Widgets Listbox\n",
    "for item in li:                 # Insertamos los nombres de la lista en el Listbox\n",
    "    listb.insert(0,item)\n",
    " \n",
    "listb.pack()                    # Hacemos el pack del widget\n",
    "root.mainloop()                 # Ejecutamos el bucle"
   ]
  },
  {
   "cell_type": "code",
   "execution_count": 82,
   "metadata": {},
   "outputs": [
    {
     "name": "stdout",
     "output_type": "stream",
     "text": [
      "50\n"
     ]
    }
   ],
   "source": [
    "from tkinter import *\n",
    "def close_window():\n",
    "    global entry\n",
    "    entry = E.get()\n",
    "    root.destroy()\n",
    "    print(entry)\n",
    "\n",
    "root = Tk()\n",
    "E = Entry(root)\n",
    "E.pack(anchor = CENTER)\n",
    "B = Button(root, text = \"OK\", command = close_window)\n",
    "B.pack(anchor = S)\n",
    "root.mainloop()\n"
   ]
  },
  {
   "cell_type": "code",
   "execution_count": 94,
   "metadata": {},
   "outputs": [],
   "source": [
    "# TRABAJAR CON VARIOS MARCOS\n",
    "from tkinter import *\n",
    "# from tkinter import ttk\n",
    "ventana = Tk()\n",
    "ventana.geometry(\"300x300\")\n",
    "# declaramos el objeto tablas dentro de ventana\n",
    "tablas = ttk.Notebook(ventana) \n",
    "tab1 = Frame(tablas) # definimos el primer marco\n",
    "tab2 = Frame(tablas) # definmos el segundo marco\n",
    "tablas.add(tab1, text='First')\n",
    "tablas.add(tab2, text='Second')\n",
    "#declaramos el objeto etiqueta dentro de los marcos y ahora no dentro de la ventana\n",
    "etiqueta1 = Label(tab1, text= 'label1')\n",
    "etiqueta1.grid(column=0, row=0)\n",
    "etiqueta2 = Label(tab2, text= 'label2')\n",
    "etiqueta2.grid(column=0, row=0)\n",
    "\n",
    "tablas.pack(expand=1, fill='both')\n",
    "ventana.mainloop()"
   ]
  },
  {
   "cell_type": "code",
   "execution_count": null,
   "metadata": {},
   "outputs": [],
   "source": []
  }
 ],
 "metadata": {
  "kernelspec": {
   "display_name": "Python 3",
   "language": "python",
   "name": "python3"
  },
  "language_info": {
   "codemirror_mode": {
    "name": "ipython",
    "version": 3
   },
   "file_extension": ".py",
   "mimetype": "text/x-python",
   "name": "python",
   "nbconvert_exporter": "python",
   "pygments_lexer": "ipython3",
   "version": "3.6.5"
  }
 },
 "nbformat": 4,
 "nbformat_minor": 2
}
