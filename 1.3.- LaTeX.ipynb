{
 "cells": [
  {
   "cell_type": "markdown",
   "metadata": {},
   "source": [
    "# <center><span style=color:red>EL EDITOR LaTeX</span></center>\n",
    "\n",
    "\n",
    "- https://es.wikipedia.org/wiki/LaTeX\n",
    "\n",
    "Gracias a la cortesía de MathJax podemos implementar un texto enriquecido con expresiones matemácias a nuestros programas.\n",
    "\n",
    "$Este \\ texto \\ es \\ \\LaTeX$\n",
    "\n",
    "Este texto utiliza  código python para escribir L<sup>A</sup>T<sub>E</sub>X\n",
    "\n",
    "Este texto utiliza HTML para escribir centrado: \n",
    "<center><h1><i>L<sup>A</sup>T<sub>E</sub>X</i><h1></center>\n",
    "\n",
    " \n",
    "\n",
    "Python permite utilizar LaTeX para incluir expresiones matemáticas, usilizando las funciones mágicas, bien en la misma línea a través de la simple `$`, como por ejemplo: $e^{i\\pi} + 1 = 0$  o como por ejemplo: $\\int maht$. O usar la doble `$$` para representar expresiones matemáticas en línas independientes y centradas:\n",
    "\n",
    "$$e^x=\\sum_{i=0}^\\infty \\frac{1}{i!}x^i$$\n",
    "\n",
    "$e$\n",
    "\n",
    "Para que las figuras ejecutadas en el notebook aparezcan en el mismo documento y no en una ventana aparte\n",
    "es necesario utilizar el comando **inline** al comienzo del notebook:\n",
    "%pylab inline\n",
    "\n",
    "Ejemplos sencillos:\n",
    "http://detexify.kirelabs.org/classify.html\n",
    "\n",
    "\n",
    "- $x + y$\n",
    "- $x \\times y$\n",
    "- $x * y$\n",
    "- $x/y$\n",
    "- $x \\div y$\n",
    "- $\\frac{x}{y}$\n",
    "- $\\pi \\approx 3.1416$\n",
    "- $ {1 \\over 0} \\neq \\infty$\n",
    "- $ 0<x>1$\n",
    "- $ 0 \\leq x \\geq 1$\n",
    "- $ frac{1}{2x}$\n",
    "- $f(x,y)=x^2+x^{1 \\over y}$ç\n",
    "- $f(X,n)=X_n+X_{n-1}$\n",
    "- $f(x)= \\sqrt[3]{(2+x)}+ \\sqrt[2]{x-1}$\n",
    "- $\\log_{10} x=1$\n",
    "- $\\sum \\limits^{\\infty}_{x=1} {1 \\over x} = 2$\n",
    "- $\\prod \\limits^{\\infty}_{i=1} {x_i-1}$\n",
    "- $\\max (S)= \\max \\limits_{i:x_i \\in {S}} X_i $\n",
    "\n",
    "\n",
    "- $\\frac {n!}{k!(n-k)!}={n \\choose k} $\n",
    "\n",
    "\n",
    "- $ \\lim \\limits_{x \\to 0^+} {1 \\over 0} = \\infty $\n",
    "\n",
    "\n",
    "- $ \\int \\limits^b_a {2x \\,dx}$\n",
    "\n",
    "\n",
    "- $f(x)= \n",
    "\\left\\{ \n",
    "    \\begin(array){l} \n",
    "    \\end(array) \n",
    "\\right.$\n",
    "\n",
    "- $f(x)= \\left( \\begin(array){ll} 0 & \\mbox{if  } x = 0 \\\\ {1 \\over x} & \\mboox{if  } x \\neq 0 \\end(array)\\right.$"
   ]
  },
  {
   "cell_type": "markdown",
   "metadata": {},
   "source": [
    "\\begin{align}\n",
    "E &= mc^2 \\\\\n",
    "m &= \\frac{m_0}{\\sqrt{1-\\frac{v^2}{c^2}}}\n",
    "\\end{align}\n",
    "\n"
   ]
  },
  {
   "cell_type": "code",
   "execution_count": 1,
   "metadata": {},
   "outputs": [
    {
     "data": {
      "text/plain": [
       "0.5"
      ]
     },
     "execution_count": 1,
     "metadata": {},
     "output_type": "execute_result"
    }
   ],
   "source": [
    "# Alfabeto Griego\n",
    "α=1   #tipeando \\alpha y clicleando con la tecla de tabulación\n",
    "β=2   #\\beta\n",
    "λ=3   #\\lambda\n",
    "Λ=4    #\\Lambda\n",
    "Ε=3    #\\Epsilon\n",
    "κ=1    #kappa\n",
    "σ=1    #sigma\n",
    "Σ=1    #Sigma\n",
    "\n",
    "α/β"
   ]
  },
  {
   "cell_type": "markdown",
   "metadata": {},
   "source": [
    "\n",
    "\\begin{equation}\\sum_{n=1}^{\\infty}\\frac{x^n}{n!}\\end{equation}"
   ]
  },
  {
   "cell_type": "markdown",
   "metadata": {},
   "source": [
    "\\begin{equation}               {n \\choose r} = \\frac{n!}{r! (n - r)!}         \\end{equation}"
   ]
  },
  {
   "cell_type": "markdown",
   "metadata": {},
   "source": [
    "\\begin{equation}\\int^{+\\infty}_{-\\infty}e^{\\frac{1}{2}(ax^2 + bx)} dx\\end{equation}"
   ]
  },
  {
   "cell_type": "markdown",
   "metadata": {},
   "source": [
    "\\begin{equation}     \\begin{pmatrix}\\alpha & \\cdots & \\beta^{*}\\\\\n",
    "\\vdots & \\ddots & \\vdots \\\\\n",
    "\\gamma^{*} & \\cdots & \\delta \\end{pmatrix}                                                            \\end{equation}"
   ]
  },
  {
   "cell_type": "markdown",
   "metadata": {},
   "source": [
    "#### El uso de LaTeX dentro del código de Python"
   ]
  },
  {
   "cell_type": "code",
   "execution_count": 7,
   "metadata": {},
   "outputs": [
    {
     "name": "stdout",
     "output_type": "stream",
     "text": [
      "\\includegraphics[scale=0.5]{function}\n"
     ]
    },
    {
     "data": {
      "image/png": "[encoded data removed]",
      "text/plain": [
       "<Figure size 432x288 with 1 Axes>"
      ]
     },
     "metadata": {},
     "output_type": "display_data"
    }
   ],
   "source": [
    "# LaTeX dentro del gráfico\n",
    "import matplotlib.path as mpath\n",
    "import matplotlib.patches as mpatches\n",
    "import matplotlib.pyplot as plt\n",
    "from pylab import *\n",
    "from matplotlib.path import Path\n",
    "import matplotlib.patches as patches\n",
    "\n",
    "t = arange(-10, 10, 0.1)\n",
    "\n",
    "ll = 20. + t * 0.25\n",
    "l1 = 15. - t * 0.125\n",
    "l2 = 10 + 0.0*t\n",
    "l3 = 1.0*t\n",
    "plot(t, ll, lw=2.5, label =\"$d_{1}^{}(t)$\")\n",
    "plot(t, l1, lw=2.5, label =\"$d_{2}^{}(t)$\")\n",
    "plot(t, l2, lw=2.5, label =\"$d_{3}^{}$\")\n",
    "plot(t, l3, lw=2.5, label =\"$d_{4}^{}(t)$\")\n",
    "\n",
    "xlabel('Tiempo [T]',fontsize=18)\n",
    "ylabel('Distancia [L]',fontsize=18)\n",
    "legend(loc=4,fontsize=18)\n",
    "grid(True)\n",
    "savefig(\"function.pdf\")\n",
    "print (r'\\includegraphics[scale=0.5]{function}')\n",
    "\n",
    "# Este es un comentario\n",
    "\n",
    "\n"
   ]
  },
  {
   "cell_type": "code",
   "execution_count": 8,
   "metadata": {},
   "outputs": [
    {
     "data": {
      "text/latex": [
       "$$F(k) = \\int_{-\\infty}^{\\infty} f(x) e^{2\\pi i k} dx$$"
      ],
      "text/plain": [
       "<IPython.core.display.Math object>"
      ]
     },
     "execution_count": 8,
     "metadata": {},
     "output_type": "execute_result"
    }
   ],
   "source": [
    "# Otra forma de utilizar LaTeX es con el objeto de math\n",
    "from IPython.display import Math\n",
    "Math(r'F(k) = \\int_{-\\infty}^{\\infty} f(x) e^{2\\pi i k} dx')"
   ]
  },
  {
   "cell_type": "code",
   "execution_count": 10,
   "metadata": {},
   "outputs": [
    {
     "data": {
      "text/latex": [
       "\\begin{eqnarray}\n",
       "\\nabla \\times \\vec{\\mathbf{B}} -\\, \\frac1c\\, \\frac{\\partial\\vec{\\mathbf{E}}}{\\partial t} & = \\frac{4\\pi}{c}\\vec{\\mathbf{j}} \\\\\n",
       "\\nabla \\cdot \\vec{\\mathbf{E}} & = 4 \\pi \\rho \\\\\n",
       "\\nabla \\times \\vec{\\mathbf{E}}\\, +\\, \\frac1c\\, \\frac{\\partial\\vec{\\mathbf{B}}}{\\partial t} & = \\vec{\\mathbf{0}} \\\\\n",
       "\\nabla \\cdot \\vec{\\mathbf{B}} & = 0 \n",
       "\\end{eqnarray}"
      ],
      "text/plain": [
       "<IPython.core.display.Latex object>"
      ]
     },
     "execution_count": 10,
     "metadata": {},
     "output_type": "execute_result"
    }
   ],
   "source": [
    "# O también como una propia  Class con su módulo `eqnarray`\n",
    "from IPython.display import Latex\n",
    "Latex(r\"\"\"\\begin{eqnarray}\n",
    "\\nabla \\times \\vec{\\mathbf{B}} -\\, \\frac1c\\, \\frac{\\partial\\vec{\\mathbf{E}}}{\\partial t} & = \\frac{4\\pi}{c}\\vec{\\mathbf{j}} \\\\\n",
    "\\nabla \\cdot \\vec{\\mathbf{E}} & = 4 \\pi \\rho \\\\\n",
    "\\nabla \\times \\vec{\\mathbf{E}}\\, +\\, \\frac1c\\, \\frac{\\partial\\vec{\\mathbf{B}}}{\\partial t} & = \\vec{\\mathbf{0}} \\\\\n",
    "\\nabla \\cdot \\vec{\\mathbf{B}} & = 0 \n",
    "\\end{eqnarray}\"\"\")"
   ]
  },
  {
   "cell_type": "code",
   "execution_count": null,
   "metadata": {},
   "outputs": [],
   "source": []
  }
 ],
 "metadata": {
  "kernelspec": {
   "display_name": "Python 3",
   "language": "python",
   "name": "python3"
  },
  "language_info": {
   "codemirror_mode": {
    "name": "ipython",
    "version": 3
   },
   "file_extension": ".py",
   "mimetype": "text/x-python",
   "name": "python",
   "nbconvert_exporter": "python",
   "pygments_lexer": "ipython3",
   "version": "3.6.5"
  }
 },
 "nbformat": 4,
 "nbformat_minor": 2
}
