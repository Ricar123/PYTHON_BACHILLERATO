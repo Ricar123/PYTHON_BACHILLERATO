{
 "cells": [
  {
   "cell_type": "code",
   "execution_count": 7,
   "metadata": {},
   "outputs": [
    {
     "name": "stdout",
     "output_type": "stream",
     "text": [
      "ñed nod satse odot ed sam ohcum y... samelborp sol ed odarepsesed satse omoc saloh\n"
     ]
    }
   ],
   "source": [
    "# ENTRADA DE DATOS Y BOTÓN DE ACEPTAR\n",
    "from tkinter import *\n",
    "# definimos objeto ventana dentro de la clase Tk\n",
    "ventana = Tk()\n",
    "ventana.title(\"\")\n",
    "ventana.geometry(\"600x300\")\n",
    "# definimos objeto etiqueta dentro del objeto ventana\n",
    "etiqueta1 = Label(ventana, text=\"HOLA MUNDO!\", width=20)\n",
    "etiqueta1.place(x=150, y=10)\n",
    "etiqueta2 = Label(ventana, text=\"¿Dime una pequeña frase?\", width=40)\n",
    "etiqueta2.place(x=0, y=110)\n",
    "# definimos objeto de entrada de texto\n",
    "entrada= Entry(ventana,width=80)\n",
    "entrada.place(x=10,y=150)\n",
    "\n",
    "# generamos una funcion  \n",
    "def clicleado():\n",
    "    cadena= entrada.get()\n",
    "    print(inversa(cadena))\n",
    "    etiqueta3 = Label(ventana, text=inversa(cadena), width=80)\n",
    "    etiqueta3.place(x=30, y=200)\n",
    "    \n",
    "def inversa (cadena):\n",
    "    invertida = \"\"\n",
    "    cont = len(cadena)\n",
    "    indice = -1\n",
    "    while cont >= 1:\n",
    "        invertida += cadena[indice]\n",
    "        indice = indice + (-1)\n",
    "        cont -= 1\n",
    "    return invertida     \n",
    "    \n",
    "# definimos un objeto botón dentro del objeto ventana con varios parámetros\n",
    "boton = Button(ventana, text=\"INVERTIR FRASE\",width=20,bg=\"black\",fg=\"red\",command=clicleado)\n",
    "boton.place(x=150,y=180)\n",
    "ventana.mainloop()"
   ]
  },
  {
   "cell_type": "code",
   "execution_count": null,
   "metadata": {},
   "outputs": [],
   "source": []
  }
 ],
 "metadata": {
  "kernelspec": {
   "display_name": "Python 3",
   "language": "python",
   "name": "python3"
  },
  "language_info": {
   "codemirror_mode": {
    "name": "ipython",
    "version": 3
   },
   "file_extension": ".py",
   "mimetype": "text/x-python",
   "name": "python",
   "nbconvert_exporter": "python",
   "pygments_lexer": "ipython3",
   "version": "3.7.0"
  }
 },
 "nbformat": 4,
 "nbformat_minor": 2
}
